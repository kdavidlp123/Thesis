{
 "cells": [
  {
   "cell_type": "code",
   "execution_count": 1,
   "id": "2ec84212",
   "metadata": {},
   "outputs": [],
   "source": [
    "import cv2\n",
    "import numpy as np\n",
    "import pandas as pd\n",
    "import os\n",
    "import glob\n",
    "import json\n",
    "import copy\n",
    "# import albumentations as A\n",
    "import random\n",
    "import imgaug as ia\n",
    "import imgaug.augmenters as iaa\n",
    "from imgaug.augmentables.bbs import BoundingBox, BoundingBoxesOnImage\n",
    "import imageio\n",
    "from imgaug.augmentables.batches import Batch\n",
    "from PIL import Image"
   ]
  },
  {
   "cell_type": "code",
   "execution_count": 2,
   "id": "26aae392",
   "metadata": {},
   "outputs": [],
   "source": [
    "aug = iaa.SomeOf(3,[\n",
    "    iaa.MultiplyBrightness((0.6, 1.5)),\n",
    "    iaa.GaussianBlur(sigma=(0, 3.0)),\n",
    "    iaa.LogContrast(gain=(0.8, 1.0)),\n",
    "    iaa.Affine(rotate=(-20, 20), mode = \"edge\"),\n",
    "    iaa.CoarseDropout((0.1, 0.3), size_percent=(0.01, 0.03), per_channel=0.2),   \n",
    "], random_order=True)"
   ]
  },
  {
   "cell_type": "code",
   "execution_count": 3,
   "id": "d22b4ec0",
   "metadata": {},
   "outputs": [],
   "source": [
    "data_aug = \"../dataset/data_aug\"\n",
    "data_aug_json = \"../dataset/data_aug_json\"\n",
    "if not os.path.isdir(data_aug):\n",
    "    os.makedirs(data_aug)\n",
    "if not os.path.isdir(data_aug_json):\n",
    "    os.makedirs(data_aug_json)\n"
   ]
  },
  {
   "cell_type": "code",
   "execution_count": 4,
   "id": "6761263a",
   "metadata": {},
   "outputs": [
    {
     "name": "stderr",
     "output_type": "stream",
     "text": [
      "C:\\Users\\user\\anaconda3\\envs\\eardetection\\lib\\site-packages\\ipykernel_launcher.py:12: DeprecationWarning: Starting with ImageIO v3 the behavior of this function will switch to that of iio.v3.imread. To keep the current behavior (and make this warning disappear) use `import imageio.v2 as imageio` or call `imageio.v2.imread` directly.\n",
      "  if sys.path[0] == \"\":\n"
     ]
    }
   ],
   "source": [
    "img_aug_bbox ={}\n",
    "img_path = \"../dataset/train_set\"\n",
    "total_imgs = os.listdir(\"../dataset/train_set\")\n",
    "total_imgs = sorted(total_imgs, key= lambda s : int(os.path.splitext(os.path.basename(s))[0]), reverse = False)\n",
    "\n",
    "with open(\"../dataset/train_set_json/bbox.json\",\"r\") as bbox_file:\n",
    "    bbox = json.load(bbox_file)\n",
    "\n",
    "aug_index = 0\n",
    "\n",
    "for i in range(0, len(total_imgs)):\n",
    "    img = imageio.imread(os.path.join(img_path, total_imgs[i]))\n",
    "    x,y,w,h = tuple(bbox[str(i)])\n",
    "    bb = BoundingBox(x,y,x+w,y+h)\n",
    "    bb_ = BoundingBoxesOnImage([bb], shape=img.shape)\n",
    "    for j in range(0 ,4):\n",
    "        image_aug, bbs_aug = aug(image=img, bounding_boxes=bb_)\n",
    "        int_xyxy = [int(x) for x in bbs_aug.to_xyxy_array()[0]]\n",
    "        if int_xyxy[0] < 0:\n",
    "            int_xyxy[0] = 0\n",
    "        if int_xyxy[1] < 0:\n",
    "            int_xyxy[1] = 0\n",
    "        if int_xyxy[2] > 539 :\n",
    "            int_xyxy[2] = 539\n",
    "        if int_xyxy[3] > 959:\n",
    "            int_xyxy[3] = 959\n",
    "        aug_x, aug_y, auug_w, aug_h = int_xyxy[0], int_xyxy[1], int_xyxy[2] - int_xyxy[0], int_xyxy[3] - int_xyxy[1]\n",
    "        \n",
    "        img_aug_bbox[aug_index] = [aug_x, aug_y, auug_w, aug_h]\n",
    "        imageio.imwrite(os.path.join( data_aug, \"{index}.png\".format(index = aug_index)),image_aug)\n",
    "        \n",
    "        aug_index += 1\n",
    "        \n",
    "with open(os.path.join( data_aug_json, \"bbox.json\"),\"w\") as img_aug_bbox_file:\n",
    "    json.dump( img_aug_bbox, img_aug_bbox_file, indent=4)"
   ]
  },
  {
   "cell_type": "code",
   "execution_count": null,
   "id": "05ed1d88",
   "metadata": {},
   "outputs": [],
   "source": []
  }
 ],
 "metadata": {
  "kernelspec": {
   "display_name": "Python 3 (ipykernel)",
   "language": "python",
   "name": "python3"
  },
  "language_info": {
   "codemirror_mode": {
    "name": "ipython",
    "version": 3
   },
   "file_extension": ".py",
   "mimetype": "text/x-python",
   "name": "python",
   "nbconvert_exporter": "python",
   "pygments_lexer": "ipython3",
   "version": "3.7.16"
  }
 },
 "nbformat": 4,
 "nbformat_minor": 5
}
