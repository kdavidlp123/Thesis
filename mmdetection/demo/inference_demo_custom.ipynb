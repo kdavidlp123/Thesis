{
 "cells": [
  {
   "cell_type": "code",
   "execution_count": 1,
   "metadata": {},
   "outputs": [],
   "source": [
    "from mmdet.apis import init_detector, inference_detector\n",
    "from mmdet.utils import register_all_modules\n",
    "from mmdet.registry import VISUALIZERS\n",
    "import mmcv\n",
    "import json\n",
    "import os"
   ]
  },
  {
   "cell_type": "code",
   "execution_count": 2,
   "metadata": {},
   "outputs": [],
   "source": [
    "config_file = '../configs/rtmdet/rtmdet_nano_320-8xb32_coco-ear.py'\n",
    "checkpoint_file = '../work_dirs/rtmdet_nano_320-8xb32_coco-ear/epoch_120.pth'"
   ]
  },
  {
   "cell_type": "code",
   "execution_count": 3,
   "metadata": {},
   "outputs": [
    {
     "name": "stdout",
     "output_type": "stream",
     "text": [
      "Loads checkpoint by local backend from path: ../work_dirs/rtmdet_nano_320-8xb32_coco-ear/epoch_120.pth\n",
      "12/17 03:53:56 - mmengine - \u001b[5m\u001b[4m\u001b[33mWARNING\u001b[0m - configs/_base_/datasets/custom.py is not a meta file, simply parsed as meta information\n"
     ]
    }
   ],
   "source": [
    "#Register all modules in mmdet into the registries\n",
    "register_all_modules()\n",
    "# build the model from a config file and a checkpoint file\n",
    "model = init_detector(config_file, checkpoint_file, device='cuda:0')  # or device='cpu'"
   ]
  },
  {
   "cell_type": "code",
   "execution_count": 4,
   "metadata": {},
   "outputs": [],
   "source": [
    "degrees = ['15cm_0mm_0deg', '15cm_25mm_5deg', '15cm_50mm_10deg', '20cm_0mm_0deg', '20cm_25mm_5deg', '20cm_50mm_10deg']"
   ]
  },
  {
   "cell_type": "code",
   "execution_count": null,
   "metadata": {},
   "outputs": [],
   "source": [
    "bboxes = \"../../keypoint/attached/5_mmdet_bboxes_json\"\n",
    "return_to_ori_size = \"../../keypoint/attached/4_return_to_ori_size\"\n",
    "\n",
    "for name in os.listdir(return_to_ori_size):\n",
    "    bboxes_name = os.path.join(bboxes, name)\n",
    "    return_to_ori_size_name = os.path.join(return_to_ori_size, name)\n",
    "    \n",
    "    for deg in degrees:\n",
    "\n",
    "        \n",
    "        bboxes_name_deg = os.path.join(bboxes_name, deg)\n",
    "        return_to_ori_size_name_deg = os.path.join(return_to_ori_size_name, deg)\n",
    "        \n",
    "        total_bbox = {}\n",
    "        if not os.path.isdir(bboxes_name_deg):\n",
    "            os.makedirs(bboxes_name_deg)\n",
    "        imgs = os.listdir(return_to_ori_size_name_deg)\n",
    "        \n",
    "        for i in range(0, len(imgs)):\n",
    "            img = mmcv.imread(os.path.join(return_to_ori_size_name_deg, \"{index}.png\".format(index = i)), channel_order='rgb')\n",
    "            result = inference_detector(model, img)\n",
    "            bbox = result.pred_instances.bboxes[0]\n",
    "            total_bbox[i] = [ int(bbox[0]), int(bbox[1]), int(bbox[2])-int(bbox[0]), int(bbox[3])-int(bbox[1]) ]\n",
    "        with open(os.path.join(bboxes_name_deg, \"bbox.json\"), \"w\") as bbox_file:\n",
    "            json.dump(total_bbox, bbox_file, indent = 4)"
   ]
  },
  {
   "cell_type": "code",
   "execution_count": 5,
   "metadata": {},
   "outputs": [
    {
     "name": "stdout",
     "output_type": "stream",
     "text": [
      "<DetDataSample(\n",
      "\n",
      "    META INFORMATION\n",
      "    img_path: None\n",
      "    img_id: 0\n",
      "    pad_shape: (320, 320)\n",
      "    img_shape: (320, 320)\n",
      "    batch_input_shape: (320, 320)\n",
      "    scale_factor: (0.3333333333333333, 0.3333333333333333)\n",
      "    ori_shape: (960, 540)\n",
      "\n",
      "    DATA FIELDS\n",
      "    gt_instances: <InstanceData(\n",
      "        \n",
      "            META INFORMATION\n",
      "        \n",
      "            DATA FIELDS\n",
      "        ) at 0x1a4b13b9190>\n",
      "    ignored_instances: <InstanceData(\n",
      "        \n",
      "            META INFORMATION\n",
      "        \n",
      "            DATA FIELDS\n",
      "        ) at 0x1a4b13b9280>\n",
      "    pred_instances: <InstanceData(\n",
      "        \n",
      "            META INFORMATION\n",
      "        \n",
      "            DATA FIELDS\n",
      "            bboxes: tensor([[123.6888, 392.5228, 428.4899, 847.3812],\n",
      "                        [  0.0000, 355.7614,  35.3550, 851.8730]], device='cuda:0')\n",
      "            labels: tensor([0, 0], device='cuda:0')\n",
      "            scores: tensor([0.8865, 0.0582], device='cuda:0')\n",
      "        ) at 0x1a4b13b9070>\n",
      ") at 0x1a4ffdce550>\n"
     ]
    }
   ],
   "source": [
    "# test a single image\n",
    "img = mmcv.imread( '../demo/0.png', channel_order='rgb')\n",
    "result = inference_detector(model, img)\n",
    "print(result)"
   ]
  },
  {
   "cell_type": "code",
   "execution_count": 11,
   "metadata": {},
   "outputs": [
    {
     "name": "stdout",
     "output_type": "stream",
     "text": [
      "80\n"
     ]
    }
   ],
   "source": [
    "print(int(result.pred_instances.bboxes[0][0]))"
   ]
  },
  {
   "cell_type": "markdown",
   "metadata": {},
   "source": [
    "# 客製化"
   ]
  },
  {
   "cell_type": "code",
   "execution_count": 7,
   "metadata": {},
   "outputs": [
    {
     "name": "stdout",
     "output_type": "stream",
     "text": [
      "cather\n",
      "daniel\n",
      "dominic\n",
      "jack\n",
      "jakaria\n",
      "jimmy\n",
      "sam\n",
      "vicky\n",
      "wayne\n"
     ]
    }
   ],
   "source": [
    "bboxes = \"../../keypoint/free/5_mmdet_bboxes_json\"\n",
    "return_to_ori_size = \"../../keypoint/free/4_return_to_ori_size\"\n",
    "\n",
    "for name in os.listdir(return_to_ori_size):\n",
    "    print(name)\n",
    "    bboxes_name = os.path.join(bboxes, name)\n",
    "    return_to_ori_size_name = os.path.join(return_to_ori_size, name)\n",
    "    \n",
    "    for deg in degrees:\n",
    "\n",
    "        \n",
    "        bboxes_name_deg = os.path.join(bboxes_name, deg)\n",
    "        return_to_ori_size_name_deg = os.path.join(return_to_ori_size_name, deg)\n",
    "        \n",
    "        total_bbox = {}\n",
    "        if not os.path.isdir(bboxes_name_deg):\n",
    "            os.makedirs(bboxes_name_deg)\n",
    "        imgs = os.listdir(return_to_ori_size_name_deg)\n",
    "        \n",
    "        for i in range(0, len(imgs)):\n",
    "            img = mmcv.imread(os.path.join(return_to_ori_size_name_deg, \"{index}.png\".format(index = i)), channel_order='rgb')\n",
    "            result = inference_detector(model, img)\n",
    "            bbox = result.pred_instances.bboxes[0]\n",
    "            total_bbox[i] = [ int(bbox[0]), int(bbox[1]), int(bbox[2])-int(bbox[0]), int(bbox[3])-int(bbox[1]) ]\n",
    "        with open(os.path.join(bboxes_name_deg, \"bbox.json\"), \"w\") as bbox_file:\n",
    "            json.dump(total_bbox, bbox_file, indent = 4)"
   ]
  },
  {
   "cell_type": "code",
   "execution_count": null,
   "metadata": {},
   "outputs": [],
   "source": []
  }
 ],
 "metadata": {
  "kernelspec": {
   "display_name": "Python 3 (ipykernel)",
   "language": "python",
   "name": "python3"
  },
  "language_info": {
   "codemirror_mode": {
    "name": "ipython",
    "version": 3
   },
   "file_extension": ".py",
   "mimetype": "text/x-python",
   "name": "python",
   "nbconvert_exporter": "python",
   "pygments_lexer": "ipython3",
   "version": "3.8.16"
  },
  "pycharm": {
   "stem_cell": {
    "cell_type": "raw",
    "metadata": {
     "collapsed": false
    },
    "source": []
   }
  },
  "vscode": {
   "interpreter": {
    "hash": "26395be4d8bd6f462fe6992ade267d864a329fc5ba918775a7fc2edf93f1463b"
   }
  }
 },
 "nbformat": 4,
 "nbformat_minor": 4
}
