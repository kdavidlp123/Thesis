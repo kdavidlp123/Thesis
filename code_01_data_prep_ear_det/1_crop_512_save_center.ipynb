{
 "cells": [
  {
   "cell_type": "code",
   "execution_count": 1,
   "id": "2ec84212",
   "metadata": {},
   "outputs": [],
   "source": [
    "import cv2\n",
    "import numpy as np\n",
    "import pandas as pd\n",
    "import os\n",
    "import glob\n",
    "import json\n",
    "import copy"
   ]
  },
  {
   "cell_type": "code",
   "execution_count": 2,
   "id": "6860e4b0",
   "metadata": {},
   "outputs": [],
   "source": [
    "degrees = ['15cm_0mm_0deg', '15cm_25mm_5deg', '15cm_50mm_10deg', '20cm_0mm_0deg', '20cm_25mm_5deg', '20cm_50mm_10deg']"
   ]
  },
  {
   "cell_type": "markdown",
   "id": "fa12f425",
   "metadata": {},
   "source": [
    "# 存(512, 512)的中心點"
   ]
  },
  {
   "cell_type": "code",
   "execution_count": 3,
   "id": "87b823f2",
   "metadata": {},
   "outputs": [
    {
     "name": "stdout",
     "output_type": "stream",
     "text": [
      "271 548\n",
      "270 587\n",
      "270 634\n",
      "268 557\n",
      "272 583\n",
      "272 551\n",
      "269 531\n"
     ]
    },
    {
     "ename": "IndexError",
     "evalue": "list index out of range",
     "output_type": "error",
     "traceback": [
      "\u001b[1;31m---------------------------------------------------------------------------\u001b[0m",
      "\u001b[1;31mIndexError\u001b[0m                                Traceback (most recent call last)",
      "Cell \u001b[1;32mIn[3], line 52\u001b[0m\n\u001b[0;32m     47\u001b[0m     \u001b[38;5;28;01melse\u001b[39;00m:\n\u001b[0;32m     48\u001b[0m         \u001b[38;5;28;01mbreak\u001b[39;00m\n\u001b[1;32m---> 52\u001b[0m _512_size_center \u001b[38;5;241m=\u001b[39m [\u001b[43mx_y\u001b[49m\u001b[43m[\u001b[49m\u001b[38;5;241;43m0\u001b[39;49m\u001b[43m]\u001b[49m[\u001b[38;5;241m0\u001b[39m], x_y[\u001b[38;5;241m0\u001b[39m][\u001b[38;5;241m1\u001b[39m]]\n\u001b[0;32m     53\u001b[0m crop_512_center_json_name_deg \u001b[38;5;241m=\u001b[39m os\u001b[38;5;241m.\u001b[39mpath\u001b[38;5;241m.\u001b[39mjoin(crop_512_center_json_name,deg)\n\u001b[0;32m     55\u001b[0m \u001b[38;5;28;01mif\u001b[39;00m \u001b[38;5;129;01mnot\u001b[39;00m os\u001b[38;5;241m.\u001b[39mpath\u001b[38;5;241m.\u001b[39misdir(crop_512_center_json_name_deg):\n",
      "\u001b[1;31mIndexError\u001b[0m: list index out of range"
     ]
    }
   ],
   "source": [
    "names = os.listdir(\"../0_original_video\")\n",
    "    \n",
    "def on_EVENT_LBUTTONDOWN(event, x, y, flags, param):\n",
    "        if event == cv2.EVENT_LBUTTONDOWN:\n",
    "            xy = \"%d,%d\" % (x, y)\n",
    "            if x_y :\n",
    "                x_y.pop(0)\n",
    "                x_y.append((x, y))\n",
    "            else:\n",
    "                x_y.append((x, y))\n",
    "            frame = show_frame.copy()    \n",
    "            cv2.rectangle(frame, (x - 256, y - 256) , (x + 256, y + 256), (255, 0, 0), 1)\n",
    "            cv2.imshow(\"image\", frame)   \n",
    "            print(x, y)\n",
    "            \n",
    "\n",
    "\n",
    "\n",
    "for name in names:\n",
    "    video_name= \"../0_original_video/{names}\".format(names=name)\n",
    "    crop_512_center_json_name = \"../1_crop_512_center_json/{names}\".format(names=name)\n",
    "    \n",
    "    for deg in os.listdir(video_name):\n",
    "        video_name_deg = os.path.join(video_name,deg)\n",
    "        resized_video = glob.glob(os.path.join(video_name_deg, \"resize.mp4\"))\n",
    "        cap = cv2.VideoCapture(resized_video[0])\n",
    "\n",
    "        rval, frame = cap.read()\n",
    "        cv2.line(frame, (270, 0), (270, frame.shape[0]), (0, 0, 255), 1)\n",
    "        cv2.imshow(\"image\", frame)\n",
    "        x_y = []\n",
    "\n",
    "        frame_count = 0\n",
    "        \n",
    "        while True:\n",
    "            ret, frame = cap.read()\n",
    "            if not ret:\n",
    "                print(\"Cannot receive frame\")\n",
    "                break\n",
    "            show_frame = frame.copy()\n",
    "            if frame_count == 0:                                                #讀第一張frame用來框512區域\n",
    "                cv2.line(show_frame, (270, 0), (270, 960), (0, 0, 255), 1)\n",
    "                cv2.imshow(\"image\", show_frame)\n",
    "                cv2.setMouseCallback(\"image\", on_EVENT_LBUTTONDOWN)\n",
    "                cv2.waitKey(0)\n",
    "                frame_count += 1\n",
    "            else:\n",
    "                break\n",
    "\n",
    "\n",
    "\n",
    "        _512_size_center = [x_y[0][0], x_y[0][1]]\n",
    "        crop_512_center_json_name_deg = os.path.join(crop_512_center_json_name,deg)\n",
    "\n",
    "        if not os.path.isdir(crop_512_center_json_name_deg):\n",
    "            os.makedirs(crop_512_center_json_name_deg)   \n",
    "        \n",
    "\n",
    "\n",
    "        with open(os.path.join(crop_512_center_json_name_deg, \"512_size_center.json\"), \"w\") as center_file:\n",
    "            json.dump(_512_size_center, center_file, indent = 4)\n",
    "\n",
    "        cap.release()\n",
    "    cv2.destroyAllWindows()"
   ]
  }
 ],
 "metadata": {
  "kernelspec": {
   "display_name": "Python 3 (ipykernel)",
   "language": "python",
   "name": "python3"
  },
  "language_info": {
   "codemirror_mode": {
    "name": "ipython",
    "version": 3
   },
   "file_extension": ".py",
   "mimetype": "text/x-python",
   "name": "python",
   "nbconvert_exporter": "python",
   "pygments_lexer": "ipython3",
   "version": "3.8.16"
  }
 },
 "nbformat": 4,
 "nbformat_minor": 5
}
