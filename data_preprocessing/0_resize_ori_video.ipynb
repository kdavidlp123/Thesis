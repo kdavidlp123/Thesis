{
 "cells": [
  {
   "cell_type": "code",
   "execution_count": 2,
   "id": "2ec84212",
   "metadata": {},
   "outputs": [],
   "source": [
    "import cv2\n",
    "import numpy as np\n",
    "import pandas as pd\n",
    "import os\n",
    "import glob\n",
    "import json\n",
    "import copy"
   ]
  },
  {
   "cell_type": "code",
   "execution_count": 3,
   "id": "6860e4b0",
   "metadata": {},
   "outputs": [],
   "source": [
    "degrees = ['15cm_0mm_0deg', '15cm_25mm_5deg', '15cm_50mm_10deg', '20cm_0mm_0deg', '20cm_25mm_5deg', '20cm_50mm_10deg']"
   ]
  },
  {
   "cell_type": "markdown",
   "id": "6ca3e4ce",
   "metadata": {},
   "source": [
    "# Resize video to (540,960)"
   ]
  },
  {
   "cell_type": "code",
   "execution_count": 5,
   "id": "233cb105",
   "metadata": {},
   "outputs": [
    {
     "name": "stdout",
     "output_type": "stream",
     "text": [
      "Cannot receive frame\n",
      "Cannot receive frame\n",
      "Cannot receive frame\n",
      "Cannot receive frame\n",
      "Cannot receive frame\n",
      "Cannot receive frame\n",
      "Cannot receive frame\n",
      "Cannot receive frame\n",
      "Cannot receive frame\n",
      "Cannot receive frame\n",
      "Cannot receive frame\n",
      "Cannot receive frame\n",
      "Cannot receive frame\n",
      "Cannot receive frame\n",
      "Cannot receive frame\n",
      "Cannot receive frame\n",
      "Cannot receive frame\n",
      "Cannot receive frame\n",
      "Cannot receive frame\n",
      "Cannot receive frame\n",
      "Cannot receive frame\n",
      "Cannot receive frame\n",
      "Cannot receive frame\n",
      "Cannot receive frame\n",
      "Cannot receive frame\n",
      "Cannot receive frame\n",
      "Cannot receive frame\n",
      "Cannot receive frame\n",
      "Cannot receive frame\n",
      "Cannot receive frame\n",
      "Cannot receive frame\n",
      "Cannot receive frame\n",
      "Cannot receive frame\n",
      "Cannot receive frame\n",
      "Cannot receive frame\n",
      "Cannot receive frame\n",
      "Cannot receive frame\n",
      "Cannot receive frame\n",
      "Cannot receive frame\n",
      "Cannot receive frame\n",
      "Cannot receive frame\n",
      "Cannot receive frame\n",
      "Cannot receive frame\n",
      "Cannot receive frame\n",
      "Cannot receive frame\n",
      "Cannot receive frame\n",
      "Cannot receive frame\n",
      "Cannot receive frame\n"
     ]
    }
   ],
   "source": [
    "names = os.listdir(\"../0_original_video\")\n",
    "for name in names:\n",
    "    video_name= \"../0_original_video/{names}\".format(names=name)\n",
    "    for deg in degrees:\n",
    "        video_name_deg = os.path.join(video_name,deg)\n",
    "        video = glob.glob(os.path.join(video_name_deg, \"2023*.mp4\"))\n",
    "        cap = cv2.VideoCapture(video[0])\n",
    "\n",
    "\n",
    "        fourcc = cv2.VideoWriter_fourcc('X','2','6','4')         \n",
    "        out = cv2.VideoWriter(os.path.join(video_name_deg,'resize.mp4'), fourcc, 50.0, (540,  960))  \n",
    "        if not cap.isOpened():\n",
    "            print(\"Cannot open camera\")\n",
    "            exit()\n",
    "        while True:\n",
    "            ret, frame = cap.read()\n",
    "            if not ret:\n",
    "                print(\"Cannot receive frame\")\n",
    "                break\n",
    "            keyName = cv2.waitKey(1)\n",
    "            if keyName == ord('q'):\n",
    "                    break\n",
    "\n",
    "            frame = cv2.resize(frame,(540,960))\n",
    "            out.write(frame)       \n",
    "            cv2.imshow('oxxostudio', frame)\n",
    "\n",
    "        cap.release()\n",
    "        out.release()      # 釋放資源\n",
    "        cv2.destroyAllWindows()"
   ]
  }
 ],
 "metadata": {
  "kernelspec": {
   "display_name": "Python 3 (ipykernel)",
   "language": "python",
   "name": "python3"
  },
  "language_info": {
   "codemirror_mode": {
    "name": "ipython",
    "version": 3
   },
   "file_extension": ".py",
   "mimetype": "text/x-python",
   "name": "python",
   "nbconvert_exporter": "python",
   "pygments_lexer": "ipython3",
   "version": "3.8.16"
  }
 },
 "nbformat": 4,
 "nbformat_minor": 5
}
