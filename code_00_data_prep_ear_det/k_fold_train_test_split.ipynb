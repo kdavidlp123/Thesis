{
 "cells": [
  {
   "cell_type": "code",
   "execution_count": 1,
   "id": "1df92987",
   "metadata": {},
   "outputs": [],
   "source": [
    "import os\n",
    "import json\n",
    "import glob\n",
    "import shutil\n",
    "import cv2"
   ]
  },
  {
   "cell_type": "code",
   "execution_count": 2,
   "id": "49373099",
   "metadata": {},
   "outputs": [],
   "source": [
    "with open(r\"D:\\thesis_acu\\experiment\\keypoint_experiment\\code\\k_fold\\total_img_annotation\\training.json\", \"r\") as f_total:\n",
    "    total_annotations = json.load(f_total)"
   ]
  },
  {
   "cell_type": "code",
   "execution_count": 3,
   "id": "9af5d0c8",
   "metadata": {},
   "outputs": [],
   "source": [
    "training = {}\n",
    "training[\"info\"] = {}\n",
    "training[\"info\"][\"year\"] = 2022\n",
    "training[\"info\"][\"version\"] = \"1\"\n",
    "training[\"info\"][\"description\"] = \"for resnet backbone\"\n",
    "training[\"licenses\"] = []\n",
    "training[\"licenses\"].append({\"id\" : 0, \"name\" : \"no\", \"url\" : \"null\"})\n",
    "training[\"images\"] = []\n",
    "training[\"annotations\"] = []"
   ]
  },
  {
   "cell_type": "code",
   "execution_count": 4,
   "id": "a60980b6",
   "metadata": {},
   "outputs": [],
   "source": [
    "test = {}\n",
    "test[\"info\"] = {}\n",
    "test[\"info\"][\"year\"] = 2022\n",
    "test[\"info\"][\"version\"] = \"1\"\n",
    "test[\"info\"][\"description\"] = \"for resnet backbone\"\n",
    "test[\"licenses\"] = []\n",
    "test[\"licenses\"].append({\"id\" : 0, \"name\" : \"no\", \"url\" : \"null\"})\n",
    "test[\"images\"] = []\n",
    "test[\"annotations\"] = []"
   ]
  },
  {
   "cell_type": "code",
   "execution_count": 5,
   "id": "f371181c",
   "metadata": {},
   "outputs": [],
   "source": [
    "total_img = os.listdir(r\"D:\\thesis_acu\\experiment\\keypoint_experiment\\code\\k_fold\\total_img\")\n",
    "total_img = sorted(total_img, key = lambda s : int(os.path.splitext(os.path.basename(s))[0][9:]), reverse=False)\n",
    "\n",
    "\n",
    "for i in range(0,len(total_img)-300):\n",
    "    src = r\"D:\\thesis_acu\\experiment\\keypoint_experiment\\code\\k_fold\\total_img\\training_{index_0}.png\".format(index_0 = str(i))\n",
    "    dst = r\"D:\\thesis_acu\\experiment\\keypoint_experiment\\code\\k_fold\\train\\{file_name}.png\".format(file_name = \"training_\" + str(i))\n",
    "    shutil.copyfile(src, dst)\n",
    "\n",
    "    training[\"images\"].append(total_annotations[\"images\"][i])\n",
    "    training[\"annotations\"].append(total_annotations[\"annotations\"][i])\n",
    "training[\"categories\"] = total_annotations[\"categories\"]\n",
    "with open(r\"D:\\thesis_acu\\experiment\\keypoint_experiment\\code\\k_fold\\train_annotation\\training.json\", \"w\") as f_training:\n",
    "    json.dump(training, f_training, indent = 4)"
   ]
  },
  {
   "cell_type": "code",
   "execution_count": 6,
   "id": "9485c94e",
   "metadata": {},
   "outputs": [],
   "source": [
    "total_img = os.listdir(r\"D:\\thesis_acu\\experiment\\keypoint_experiment\\code\\k_fold\\total_img\")\n",
    "total_img = sorted(total_img, key = lambda s : int(os.path.splitext(os.path.basename(s))[0][9:]), reverse=False)\n",
    "\n",
    "test_index = 0\n",
    "for i in range(len(total_img)-300, len(total_img)):\n",
    "    src = r\"D:\\thesis_acu\\experiment\\keypoint_experiment\\code\\k_fold\\total_img\\training_{index_0}.png\".format(index_0 = str(i))\n",
    "    dst = r\"D:\\thesis_acu\\experiment\\keypoint_experiment\\code\\k_fold\\test\\{file_name}.png\".format(file_name = \"test_\" + str(test_index))\n",
    "    shutil.copyfile(src, dst)\n",
    "\n",
    "    total_annotations[\"images\"][i][\"id\"] = test_index\n",
    "    total_annotations[\"images\"][i][\"file_name\"] = \"test_\" + str(test_index) + \".png\"\n",
    "    \n",
    "    total_annotations[\"annotations\"][i][\"image_id\"] = test_index\n",
    "    total_annotations[\"annotations\"][i][\"id\"] = test_index\n",
    "    \n",
    "    test[\"images\"].append(total_annotations[\"images\"][i])\n",
    "    test[\"annotations\"].append(total_annotations[\"annotations\"][i])\n",
    "    \n",
    "    test_index += 1\n",
    "test[\"categories\"] = total_annotations[\"categories\"]\n",
    "with open(r\"D:\\thesis_acu\\experiment\\keypoint_experiment\\code\\k_fold\\test_annotation\\test.json\", \"w\") as f_test:\n",
    "    json.dump(test, f_test, indent = 4)"
   ]
  },
  {
   "cell_type": "code",
   "execution_count": null,
   "id": "de7df227",
   "metadata": {},
   "outputs": [],
   "source": []
  }
 ],
 "metadata": {
  "kernelspec": {
   "display_name": "Python 3 (ipykernel)",
   "language": "python",
   "name": "python3"
  },
  "language_info": {
   "codemirror_mode": {
    "name": "ipython",
    "version": 3
   },
   "file_extension": ".py",
   "mimetype": "text/x-python",
   "name": "python",
   "nbconvert_exporter": "python",
   "pygments_lexer": "ipython3",
   "version": "3.7.16"
  }
 },
 "nbformat": 4,
 "nbformat_minor": 5
}
