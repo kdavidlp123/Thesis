{
 "cells": [
  {
   "cell_type": "code",
   "execution_count": 1,
   "id": "10ca7a66",
   "metadata": {},
   "outputs": [],
   "source": [
    "import os\n",
    "import json\n",
    "import glob\n",
    "import numpy as np\n",
    "import pandas as pd"
   ]
  },
  {
   "cell_type": "code",
   "execution_count": 2,
   "id": "b062037d",
   "metadata": {},
   "outputs": [],
   "source": [
    "class ground_truth():\n",
    "    def __init__(self, src, dst):\n",
    "        self.src = src\n",
    "        self.dst = dst\n",
    "        self.ear_types = [\"free\",\"attached\"]\n",
    "        self.degrees = ['15cm_0mm_0deg', '15cm_25mm_5deg', '15cm_50mm_10deg',\n",
    "                        '20cm_0mm_0deg', '20cm_25mm_5deg', '20cm_50mm_10deg']\n",
    "    \n",
    "    def read_json(self, fpath1):\n",
    "        with open(fpath1, \"r\") as file:\n",
    "            f = json.load(file)\n",
    "        return f\n",
    "     \n",
    "    def generate_gt_csv(self):   #generate gt.csv\n",
    "        \n",
    "        for ear_type in self.ear_types:\n",
    "            names = os.listdir(os.path.join(\"..\", self.src, ear_type, \"2_json\"))\n",
    "            for name in names:\n",
    "                for deg in self.degrees:\n",
    "                    kpt_json = os.path.join(\"..\", self.src, ear_type, \"2_json\", name, deg, \"keypoint_location.json\")\n",
    "                    visible_json = os.path.join(\"..\", self.src, ear_type, \"2_json\", name, deg, \"visible.json\")\n",
    "                    \n",
    "                    kpts_coordinates = self.read_json(kpt_json)\n",
    "                    kpts_visibles = self.read_json(visible_json)\n",
    "                    \n",
    "                    gt_df = pd.DataFrame()\n",
    "                    for i in range(0 ,len(kpts_coordinates)):\n",
    "                        kpt_c = kpts_coordinates[\"frame_\"+str(i)]\n",
    "                        kpt_v = kpts_visibles[\"frame_\"+str(i)]\n",
    "                        kpts_pd = {}\n",
    "                        for j in range(0,len(kpt_c)):\n",
    "                            x, y = kpt_c[str(j)][\"keypoint_location\"]\n",
    "                            v = kpt_v[str(j)][\"visible\"]\n",
    "                            kpts_pd[j] = str(x)+\",\"+str(y)+\",\"+str(v)\n",
    "                        ser = pd.DataFrame(data=kpts_pd, index = [i])\n",
    "                        gt_df = pd.concat([gt_df, ser])\n",
    "                        \n",
    "                    if not os.path.isdir(os.path.join(\"..\", self.dst, ear_type, name, deg)):\n",
    "                        os.makedirs(os.path.join(\"..\", self.dst, ear_type, name, deg))\n",
    "                    gt_df.to_csv(os.path.join(\"..\", self.dst, ear_type, name, deg, \"gt.csv\"))\n",
    "        \n",
    "        \n",
    "        \n",
    "        \n",
    "                    "
   ]
  },
  {
   "cell_type": "code",
   "execution_count": 3,
   "id": "e0691ec3",
   "metadata": {},
   "outputs": [],
   "source": [
    "if __name__ == '__main__':\n",
    "    A = ground_truth(\"keypoint\", \"ground_truth\")\n",
    "    A.generate_gt_csv()\n"
   ]
  }
 ],
 "metadata": {
  "kernelspec": {
   "display_name": "Python 3 (ipykernel)",
   "language": "python",
   "name": "python3"
  },
  "language_info": {
   "codemirror_mode": {
    "name": "ipython",
    "version": 3
   },
   "file_extension": ".py",
   "mimetype": "text/x-python",
   "name": "python",
   "nbconvert_exporter": "python",
   "pygments_lexer": "ipython3",
   "version": "3.8.16"
  }
 },
 "nbformat": 4,
 "nbformat_minor": 5
}
