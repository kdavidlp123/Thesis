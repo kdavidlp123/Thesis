{
 "cells": [
  {
   "cell_type": "code",
   "execution_count": 1,
   "id": "adb22068",
   "metadata": {},
   "outputs": [],
   "source": [
    "import cv2\n",
    "import numpy as np\n",
    "import pandas as pd\n",
    "import os\n",
    "import glob\n",
    "import json\n",
    "import copy\n",
    "import shutil\n",
    "import random\n",
    "import zipfile"
   ]
  },
  {
   "cell_type": "code",
   "execution_count": 2,
   "id": "7f68687d",
   "metadata": {},
   "outputs": [],
   "source": [
    "degrees = ['15cm_0mm_0deg', '15cm_25mm_5deg', '15cm_50mm_10deg', '20cm_0mm_0deg', '20cm_25mm_5deg', '20cm_50mm_10deg']"
   ]
  },
  {
   "cell_type": "code",
   "execution_count": 3,
   "id": "f4008bdd",
   "metadata": {},
   "outputs": [],
   "source": [
    "train_set = \"../dataset/train_set\"\n",
    "data_aug = \"../dataset/data_aug\"\n",
    "\n",
    "imgs = os.listdir(train_set)\n",
    "aug_imgs = os.listdir(data_aug)\n",
    "aug_imgs = sorted(aug_imgs, key= lambda s : int(os.path.splitext(os.path.basename(s))[0]), reverse = False)\n",
    "\n",
    "with open(\"../dataset/data_aug_json/bbox.json\", \"r\") as aug_json:\n",
    "    aug_bbs = json.load(aug_json)\n",
    "    \n",
    "with open(\"../dataset/train_set_json/bbox.json\", \"r\") as train_set_json:\n",
    "    train_bbs = json.load(train_set_json)\n",
    "\n",
    "\n",
    "for i in range(0, len(aug_imgs)):\n",
    "    src = os.path.join(data_aug, aug_imgs[i])\n",
    "    dst = os.path.join(train_set, \"{index}.png\".format(index = len(imgs) + i))\n",
    "    os.rename(src, dst)\n",
    "    \n",
    "    train_bbs[str(len(imgs) + i)] = aug_bbs[str(i)].copy()\n",
    "    \n",
    "with open(\"../dataset/train_set_json/bbox.json\", \"w\") as train_set_json:\n",
    "    json.dump(train_bbs, train_set_json, indent=4)\n",
    "\n",
    "    \n",
    "\n"
   ]
  },
  {
   "cell_type": "code",
   "execution_count": 4,
   "id": "347f5d1b",
   "metadata": {},
   "outputs": [],
   "source": [
    "train_set = \"../dataset/train_set\"\n",
    "training_set = \"../dataset/training_set\" \n",
    "training_set_json = \"../dataset/training_set_json\"\n",
    "\n",
    "if not os.path.isdir(training_set_json):\n",
    "    os.makedirs(training_set_json)\n",
    "if not os.path.isdir(training_set):\n",
    "    os.makedirs(training_set)\n",
    "    \n",
    "index_train = list(range(len(os.listdir(train_set))))\n",
    "random.seed(0) \n",
    "random.shuffle(index_train)\n",
    "\n",
    "new_training_set_json = {}\n",
    "\n",
    "with open(\"../dataset/train_set_json/bbox.json\", \"r\") as training_set_json:\n",
    "    training_set_bbs = json.load(training_set_json)\n",
    "\n",
    "\n",
    "for i in range(0, len(index_train)):\n",
    "    src = os.path.join(train_set, \"{index_src}.png\".format(index_src = index_train[i]))\n",
    "    dst = os.path.join(training_set, \"{index_dst}.png\".format(index_dst = i))\n",
    "    os.rename(src, dst)\n",
    "    \n",
    "    new_training_set_json[i] = training_set_bbs[str(index_train[i])]\n",
    "\n",
    "with open(\"../dataset/training_set_json/bbox.json\", \"w\") as training_set_json:\n",
    "    json.dump(new_training_set_json, training_set_json, indent=4) "
   ]
  },
  {
   "cell_type": "code",
   "execution_count": null,
   "id": "582724b5",
   "metadata": {},
   "outputs": [],
   "source": []
  }
 ],
 "metadata": {
  "kernelspec": {
   "display_name": "Python 3 (ipykernel)",
   "language": "python",
   "name": "python3"
  },
  "language_info": {
   "codemirror_mode": {
    "name": "ipython",
    "version": 3
   },
   "file_extension": ".py",
   "mimetype": "text/x-python",
   "name": "python",
   "nbconvert_exporter": "python",
   "pygments_lexer": "ipython3",
   "version": "3.7.16"
  }
 },
 "nbformat": 4,
 "nbformat_minor": 5
}
