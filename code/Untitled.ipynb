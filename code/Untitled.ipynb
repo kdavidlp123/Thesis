{
 "cells": [
  {
   "cell_type": "code",
   "execution_count": 1,
   "id": "f49c7dd2",
   "metadata": {},
   "outputs": [
    {
     "name": "stdout",
     "output_type": "stream",
     "text": [
      "['D:\\\\Thesis\\\\code', 'C:\\\\rdkit-Release_2020_03_6', 'C:\\\\Users\\\\user\\\\anaconda3\\\\envs\\\\openmmlab\\\\python38.zip', 'C:\\\\Users\\\\user\\\\anaconda3\\\\envs\\\\openmmlab\\\\DLLs', 'C:\\\\Users\\\\user\\\\anaconda3\\\\envs\\\\openmmlab\\\\lib', 'C:\\\\Users\\\\user\\\\anaconda3\\\\envs\\\\openmmlab', '', 'C:\\\\Users\\\\user\\\\AppData\\\\Roaming\\\\Python\\\\Python38\\\\site-packages', 'D:\\\\Thesis\\\\mmpose', 'C:\\\\Users\\\\user\\\\anaconda3\\\\envs\\\\openmmlab\\\\lib\\\\site-packages', 'd:\\\\mmpose', 'd:\\\\mmdetection', 'C:\\\\Users\\\\user\\\\anaconda3\\\\envs\\\\openmmlab\\\\lib\\\\site-packages\\\\win32', 'C:\\\\Users\\\\user\\\\anaconda3\\\\envs\\\\openmmlab\\\\lib\\\\site-packages\\\\win32\\\\lib', 'C:\\\\Users\\\\user\\\\anaconda3\\\\envs\\\\openmmlab\\\\lib\\\\site-packages\\\\Pythonwin']\n"
     ]
    }
   ],
   "source": [
    "import sys\n",
    "print(sys.path)"
   ]
  },
  {
   "cell_type": "code",
   "execution_count": null,
   "id": "28f78416",
   "metadata": {},
   "outputs": [],
   "source": []
  }
 ],
 "metadata": {
  "kernelspec": {
   "display_name": "Python 3 (ipykernel)",
   "language": "python",
   "name": "python3"
  },
  "language_info": {
   "codemirror_mode": {
    "name": "ipython",
    "version": 3
   },
   "file_extension": ".py",
   "mimetype": "text/x-python",
   "name": "python",
   "nbconvert_exporter": "python",
   "pygments_lexer": "ipython3",
   "version": "3.8.16"
  }
 },
 "nbformat": 4,
 "nbformat_minor": 5
}
