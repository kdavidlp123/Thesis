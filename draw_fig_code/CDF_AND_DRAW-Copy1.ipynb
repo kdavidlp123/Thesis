{
 "cells": [
  {
   "cell_type": "code",
   "execution_count": 1,
   "id": "e80f3d2b",
   "metadata": {},
   "outputs": [],
   "source": [
    "import os\n",
    "import json\n",
    "import glob\n",
    "import shutil\n",
    "from math import dist\n",
    "import numpy as np\n",
    "import matplotlib.pyplot as plt\n",
    "import pandas as pd\n",
    "from matplotlib.font_manager import FontProperties"
   ]
  },
  {
   "cell_type": "code",
   "execution_count": 2,
   "id": "ed3e9618",
   "metadata": {},
   "outputs": [],
   "source": [
    "class CDF():\n",
    "    def __init__(self, src):\n",
    "        self.src = src\n",
    "        self.ear_types = [\"free\",\"attached\"]\n",
    "        self.degrees = ['15cm_0mm_0deg', '15cm_25mm_5deg', '15cm_50mm_10deg',\n",
    "                        '20cm_0mm_0deg', '20cm_25mm_5deg', '20cm_50mm_10deg']\n",
    "        self.acupoints_name = [\"HX6(肛門)\", \"HX3(尿道)\", \"HX1(耳中)\", \"TF4(神門)\", \"AH9(腰柢椎)\", \"AH11(胸椎)\", \"CO5(十二指腸)\", \n",
    "                               \"CO4(胃)\", \"CO3(賁門)\", \"CO14(肺)\", \"CO15(心)\", \"CO18(內分泌)\", \"HX2(輪2)\", \"AT2(緣中)\", \n",
    "                               \"LO8(扁桃體)\", \"LO1(牙)\" , \"LO2(舌)\", \"LO3(頷)\", \"LO4(垂前)\", \"LO5(眼)\", \"LO6(內耳)\"]\n",
    "        self.cm = {\"cather\":4.72, \"daniel\":4.74, \"dominic\":3.9, \"jack\":3.91, \"jakaria\":4.20, \"jimmy\":4.60, \"vicky\":4.69, \"wayne\":4.75,\n",
    "                   \"gaby\":4.05, \"matt\":5.0, \"toby\":4.26, \"wendy\":4.14, \"willy\":4.51}\n",
    "    def read_error_csv(self, fpath1):\n",
    "        error_np = pd.read_csv(fpath1, index_col = 0).to_numpy()\n",
    "        return error_np\n",
    "    def cal_CDF(self):\n",
    "        final = {}\n",
    "        for ear_type in self.ear_types:\n",
    "            final[ear_type] ={}\n",
    "            total = []\n",
    "            names = os.listdir(os.path.join(\"..\", self.src, ear_type, \"result\"))\n",
    "            for name in names:\n",
    "                for deg in self.degrees:\n",
    "                    error_np = self.read_error_csv(os.path.join(\"..\", self.src, ear_type, \"result\", name, \"error\", deg, \"error.csv\"))\n",
    "                    interval = len(error_np) / 3\n",
    "                    index = [0, int(interval), int(interval*2), len(error_np)-1]\n",
    "                    for i in index:\n",
    "                        total.append(error_np[i])\n",
    "            total = np.array(total)\n",
    "            total = total.reshape(-1)\n",
    "            sorted_total = np.sort(total*10)\n",
    "            cumulative_prob_total = np.arange(1, len(total) + 1) / len(total)\n",
    "            final[ear_type][\"sorted_error\"] = sorted_total\n",
    "            final[ear_type][\"cumulative_prob\"] = cumulative_prob_total\n",
    "        return final     "
   ]
  },
  {
   "cell_type": "code",
   "execution_count": 3,
   "id": "1202a124",
   "metadata": {},
   "outputs": [],
   "source": [
    "class CDF_Draw():\n",
    "    def __init__(self, CDF_0, CDF_1):\n",
    "        self.CDF_0 = CDF_0\n",
    "        self.CDF_1 = CDF_1\n",
    "        \n",
    "    def Draw_one_CDF(self, title, label):\n",
    "        for ear_type in self.CDF_0.ear_types:\n",
    "            plt.plot(self.CDF_0.cal_CDF()[ear_type][\"sorted_error\"], self.CDF_0.cal_CDF()[ear_type][\"cumulative_prob\"], label=\"The result of {label_}\".format(label_ = label))\n",
    "            plt.xlim(0, 10)\n",
    "            plt.ylim(0, 1.1)\n",
    "            plt.xlabel(\"mm\")\n",
    "            plt.ylabel(\"Probability\")\n",
    "            plt.title(title)\n",
    "            plt.legend()\n",
    "            plt.show()\n",
    "#             if not os.path.isdir(os.path.join(\"../mmpose/k_fold\", \"CDF\", ear_type)):\n",
    "#                 os.makedirs(os.path.join(\"../mmpose/k_fold\", \"CDF\", ear_type))\n",
    "#             plt.savefig(os.path.join(\"../mmpose/k_fold\", \"CDF\", ear_type, 'CDF.png').format(index = 0))\n",
    "            \n",
    "    def Draw_two_CDF(self, title, label_0, label_1):\n",
    "        for ear_type in self.CDF_0.ear_types:\n",
    "            plt.plot(self.CDF_0.cal_CDF()[ear_type][\"sorted_error\"], self.CDF_0.cal_CDF()[ear_type][\"cumulative_prob\"], label=\"The result of {label_}\".format(label_ = label_0))\n",
    "            plt.plot(self.CDF_1.cal_CDF()[ear_type][\"sorted_error\"], self.CDF_1.cal_CDF()[ear_type][\"cumulative_prob\"], label=\"The result of {label_}\".format(label_ = label_1))\n",
    "            plt.xlim(0, 10)\n",
    "            plt.ylim(0, 1.1)\n",
    "            plt.xlabel(\"mm\")\n",
    "            plt.ylabel(\"Probability\")\n",
    "            plt.title(title)\n",
    "            plt.legend()\n",
    "            if not os.path.isdir(os.path.join(\"..\", \"figure\", \"diff_inpainting_way\", \"CDF\")):\n",
    "                os.makedirs(os.path.join(\"..\", \"figure\", \"diff_inpainting_way\", \"CDF\"))\n",
    "            plt.savefig(os.path.join(\"..\", \"figure\", \"diff_inpainting_way\", \"CDF\", 'CDF_{ear_type}.png'.format(ear_type = ear_type)))\n",
    "            plt.show()\n",
    "            "
   ]
  },
  {
   "cell_type": "code",
   "execution_count": 5,
   "id": "6db63a33",
   "metadata": {},
   "outputs": [],
   "source": [
    "A = CDF(\"MAT_inpainting\")\n",
    "B = CDF(\"traditional_inpainting\")\n",
    "C = CDF_Draw(A, B)\n",
    "C.Draw_one_CDF(\"123\",\"321\")\n",
    "C.Draw_two_CDF(\"CDF Comparison of Different Inpainting Methods\",\"MAT\",\"OPENCV\")"
   ]
  },
  {
   "cell_type": "code",
   "execution_count": null,
   "id": "a71ddcc3",
   "metadata": {},
   "outputs": [],
   "source": []
  },
  {
   "cell_type": "code",
   "execution_count": null,
   "id": "ee2b383f",
   "metadata": {},
   "outputs": [],
   "source": []
  }
 ],
 "metadata": {
  "kernelspec": {
   "display_name": "Python 3 (ipykernel)",
   "language": "python",
   "name": "python3"
  },
  "language_info": {
   "codemirror_mode": {
    "name": "ipython",
    "version": 3
   },
   "file_extension": ".py",
   "mimetype": "text/x-python",
   "name": "python",
   "nbconvert_exporter": "python",
   "pygments_lexer": "ipython3",
   "version": "3.8.16"
  }
 },
 "nbformat": 4,
 "nbformat_minor": 5
}
