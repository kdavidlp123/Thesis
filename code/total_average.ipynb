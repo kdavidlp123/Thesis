{
 "cells": [
  {
   "cell_type": "code",
   "execution_count": 1,
   "id": "cdf1c8cc",
   "metadata": {},
   "outputs": [],
   "source": [
    "import os\n",
    "import json\n",
    "import glob\n",
    "import shutil\n",
    "import cv2\n",
    "from math import dist\n",
    "import numpy as np\n",
    "import matplotlib.pyplot as plt\n",
    "import pandas as pd"
   ]
  },
  {
   "cell_type": "code",
   "execution_count": 2,
   "id": "0a525ab4",
   "metadata": {},
   "outputs": [],
   "source": [
    "degrees = ['15cm_0mm_0deg', '15cm_25mm_5deg', '15cm_50mm_10deg', '20cm_0mm_0deg', '20cm_25mm_5deg', '20cm_50mm_10deg']"
   ]
  },
  {
   "cell_type": "code",
   "execution_count": 3,
   "id": "bdecf797",
   "metadata": {},
   "outputs": [],
   "source": [
    "occlusion_result = \"../9_occlusion_result\"\n",
    "occlusion_error = \"../9_occlusion_localization_error\"\n",
    "occlusion_image= \"../9_occlusion_image\""
   ]
  },
  {
   "cell_type": "code",
   "execution_count": 3,
   "id": "cea9502a",
   "metadata": {},
   "outputs": [],
   "source": [
    "result = \"../mmpose/k_fold/result\"\n",
    "ear_types=[\"free\",\"attached\"]"
   ]
  },
  {
   "cell_type": "code",
   "execution_count": 5,
   "id": "fa3fd7e1",
   "metadata": {},
   "outputs": [
    {
     "name": "stdout",
     "output_type": "stream",
     "text": [
      "1.8399361680630517\n",
      "1.738921259203489\n"
     ]
    }
   ],
   "source": [
    "for ear_type in ear_types:\n",
    "    sum_eight_people = []\n",
    "    names = os.listdir(os.path.join(result, ear_type))\n",
    "    for name in names:\n",
    "        for deg in degrees:\n",
    "            error_file = glob.glob(os.path.join(result, ear_type, name, \"error\",deg,\"*.csv\"))[0]\n",
    "            error_df = pd.read_csv(error_file, index_col = 0)\n",
    "    #         error_df.iloc[:,:14].to_numpy()\n",
    "#             sum_eight_people.append(error_df.iloc[:,:].to_numpy())\n",
    "            sum_eight_people.append(error_df.to_numpy())\n",
    "\n",
    "\n",
    "\n",
    "    x = sum_eight_people[0]\n",
    "    for i in range(1, len(sum_eight_people)):\n",
    "        x = np.concatenate((x, sum_eight_people[i]), axis=0)\n",
    "\n",
    "    x = np.nanmean(x, axis=0)*10\n",
    "    x = np.nanmean(x, axis=0)\n",
    "    print(x)\n",
    "\n",
    "          \n",
    "        \n",
    "        "
   ]
  },
  {
   "cell_type": "markdown",
   "id": "945aaa26",
   "metadata": {},
   "source": [
    "# Localization error"
   ]
  },
  {
   "cell_type": "code",
   "execution_count": 8,
   "id": "4a526e96",
   "metadata": {},
   "outputs": [
    {
     "name": "stdout",
     "output_type": "stream",
     "text": [
      "1.8366839075303905\n",
      "1.7595623522420187\n"
     ]
    }
   ],
   "source": [
    "for ear_type in ear_types:\n",
    "    total = []\n",
    "    names = os.listdir(os.path.join(result, ear_type))\n",
    "    for deg in degrees:\n",
    "        angles_mean = []\n",
    "        angles_std = []\n",
    "        for i in range(0, 4):\n",
    "\n",
    "            sum_eight_people = []\n",
    "\n",
    "            for name in names:\n",
    "                error_file = glob.glob(os.path.join(result, ear_type, name, \"error\",deg,\"*.csv\"))[0]\n",
    "                error_df = pd.read_csv(error_file, index_col = 0)\n",
    "\n",
    "                interval = len(error_df) / 3\n",
    "                temp = list(range(len(error_df)))\n",
    "                index = [temp[0]] + [temp[int(interval)]] + [temp[int(interval*2)]] +[temp[-1]]\n",
    "\n",
    "                sum_eight_people.append(error_df.iloc[index[i],:].to_numpy())\n",
    "\n",
    "            sum_eight_people = np.array(sum_eight_people)\n",
    "\n",
    "            angles_mean.append(np.nanmean(sum_eight_people)*10)\n",
    "            angles_std.append(np.nanstd(sum_eight_people)*10)\n",
    "        total.append(angles_mean)\n",
    "\n",
    "    total = np.array(total)\n",
    "    print(np.nanmean(total))\n",
    "        \n",
    "    \n",
    "    \n",
    "        \n",
    "        \n",
    "                \n",
    "        \n",
    "        "
   ]
  },
  {
   "cell_type": "markdown",
   "id": "4130384e",
   "metadata": {},
   "source": [
    "# Occlusion localization error"
   ]
  },
  {
   "cell_type": "code",
   "execution_count": 6,
   "id": "75588420",
   "metadata": {},
   "outputs": [
    {
     "name": "stdout",
     "output_type": "stream",
     "text": [
      "1.4659416066234139\n"
     ]
    }
   ],
   "source": [
    "sum_eight_people = []\n",
    "for name in names:\n",
    "    for deg in degrees:\n",
    "        error_file = glob.glob(os.path.join(occlusion_error, name,deg,\"*.csv\"))[0]\n",
    "        error_df = pd.read_csv(error_file, index_col = 0)\n",
    "\n",
    "        sum_eight_people.append(error_df.to_numpy())\n",
    "\n",
    "        \n",
    "\n",
    "x = sum_eight_people[0]\n",
    "for i in range(1, len(sum_eight_people)):\n",
    "    x = np.concatenate((x, sum_eight_people[i]), axis=0)\n",
    "\n",
    "x = np.nanmean(x, axis=0)*10\n",
    "x = np.nanmean(x, axis=0)\n",
    "print(x)"
   ]
  },
  {
   "cell_type": "code",
   "execution_count": null,
   "id": "435bedb9",
   "metadata": {},
   "outputs": [],
   "source": []
  }
 ],
 "metadata": {
  "kernelspec": {
   "display_name": "Python 3 (ipykernel)",
   "language": "python",
   "name": "python3"
  },
  "language_info": {
   "codemirror_mode": {
    "name": "ipython",
    "version": 3
   },
   "file_extension": ".py",
   "mimetype": "text/x-python",
   "name": "python",
   "nbconvert_exporter": "python",
   "pygments_lexer": "ipython3",
   "version": "3.8.16"
  }
 },
 "nbformat": 4,
 "nbformat_minor": 5
}
