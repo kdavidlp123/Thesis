{
 "cells": [
  {
   "cell_type": "code",
   "execution_count": 1,
   "id": "2bedfc7e",
   "metadata": {},
   "outputs": [],
   "source": [
    "import os\n",
    "import json\n",
    "import glob\n",
    "import shutil\n",
    "import cv2\n",
    "from math import dist\n",
    "import numpy as np\n",
    "import matplotlib.pyplot as plt\n",
    "import math"
   ]
  },
  {
   "cell_type": "code",
   "execution_count": 2,
   "id": "2c196a9b",
   "metadata": {},
   "outputs": [],
   "source": [
    "gt_json_path = r\"D:\\mmpose\\result\\daniel\\5_test_json\\test.json\""
   ]
  },
  {
   "cell_type": "code",
   "execution_count": 13,
   "id": "cd962f19",
   "metadata": {
    "scrolled": false
   },
   "outputs": [],
   "source": [
    "pred_json_path = r\"D:\\mmpose\\result\\daniel\\test_0.json\""
   ]
  },
  {
   "cell_type": "code",
   "execution_count": 14,
   "id": "1d2c6de0",
   "metadata": {},
   "outputs": [],
   "source": [
    "with open(gt_json_path, \"r\") as gt_f:\n",
    "    gt_json = json.load(gt_f)\n",
    "with open(pred_json_path, \"r\") as pred_f:\n",
    "    pred_json = json.load(pred_f) \n",
    "    \n",
    "gt = gt_json[\"annotations\"][0][\"keypoints\"] \n",
    "pre = pred_json[\"instance_info\"][0][\"keypoints\"]"
   ]
  },
  {
   "cell_type": "code",
   "execution_count": 10,
   "id": "07e7e6c0",
   "metadata": {},
   "outputs": [],
   "source": [
    "# img = cv2.imread(r\"D:\\mmpose\\result\\daniel\\5_test_img\\test_0.png\")\n",
    "# for i in range(0,21):\n",
    "#     gt_kpt = (gt[3*i], gt[3*i + 1])\n",
    "#     pre_kpt = (round(pre[i][0]), round(pre[i][1]))\n",
    "# #     cv2.circle(img, gt_kpt, 3, (255, 0, 0), -1)\n",
    "#     cv2.circle(img, pre_kpt, 3, (0, 0, 255), -1)\n",
    "    \n",
    "# cv2.imshow('My Image', img)\n",
    "# cv2.imwrite(r\"D:\\pred.jpg\", img)\n",
    "# cv2.waitKey(0)\n",
    "# cv2.destroyAllWindows()"
   ]
  },
  {
   "cell_type": "code",
   "execution_count": 2,
   "id": "1782252d",
   "metadata": {},
   "outputs": [],
   "source": [
    "mask_path = r\"D:\\keypoint\\free\\2_json\\daniel\\15cm_0mm_0deg\\mask.json\""
   ]
  },
  {
   "cell_type": "code",
   "execution_count": 4,
   "id": "c9b460b0",
   "metadata": {},
   "outputs": [
    {
     "name": "stdout",
     "output_type": "stream",
     "text": [
      "Cannot receive frame\n"
     ]
    }
   ],
   "source": [
    "# img = cv2.imread(r\"D:\\mmpose\\result\\daniel\\5_test_img\\test_0.png\")\n",
    "\n",
    "\n",
    "if not os.path.exists(\"../9_visualization\"):\n",
    "    os.makedirs(\"../9_visualization\")   \n",
    "\n",
    "\n",
    "with open(mask_path, \"r\") as mask:\n",
    "    mask_json = json.load(mask)\n",
    "# video = glob.glob(os.path.join(\"D:\\keypoint\\free\\0_original_video\\daniel\\15cm_0mm_0deg\", \"resize.mp4\"))\n",
    "red_color = (0, 0, 255)\n",
    "\n",
    "cap = cv2.VideoCapture(r\"D:\\keypoint\\free\\0_original_video\\daniel\\15cm_0mm_0deg\\resize.mp4\")\n",
    "count = 0\n",
    "\n",
    "\n",
    "if not cap.isOpened():\n",
    "    print(\"Cannot open camera\")\n",
    "    exit()\n",
    "while True:\n",
    "    ret, frame = cap.read()\n",
    "    if not ret:\n",
    "        print(\"Cannot receive frame\")\n",
    "        break\n",
    "    frame_json = mask_json[\"frame_\"+str(count)]\n",
    "    for i in range(0, len(frame_json)):\n",
    "        x1, y1 = frame_json[str(i)][\"left_top\"]\n",
    "        x2, y2 = frame_json[str(i)][\"right_bot\"]\n",
    "        cv2.rectangle(frame, (x1, y1), (x2, y2), red_color, 3, cv2.LINE_AA)\n",
    "    \n",
    "    \n",
    "    \n",
    "    cv2.imshow('My Image', frame[534-256:534+256, 269-256:269+256,])\n",
    "    cv2.imwrite(\"../9_visualization/\" + \"{index}.png\".format(index=count), frame[534-256:534+256, 269-256:269+256,])\n",
    "    count+=1\n",
    "\n",
    "cap.release()\n",
    "cv2.waitKey(0)\n",
    "cv2.destroyAllWindows()\n",
    "\n",
    "\n",
    "\n",
    "\n",
    "\n",
    " # BGR\n",
    "# for i in range(0, len(frame_0)):\n",
    "#     x1, y1 = frame_0[str(i)][\"left_top\"]\n",
    "#     x2, y2 = frame_0[str(i)][\"right_bot\"]\n",
    "#     cv2.rectangle(frame, (x1, y1), (x2, y2), red_color, 3, cv2.LINE_AA)\n",
    "\n"
   ]
  },
  {
   "cell_type": "code",
   "execution_count": 3,
   "id": "e9df4807",
   "metadata": {},
   "outputs": [
    {
     "data": {
      "text/plain": [
       "True"
      ]
     },
     "execution_count": 3,
     "metadata": {},
     "output_type": "execute_result"
    }
   ],
   "source": [
    "video = glob.glob(os.path.join(\"../0_original_video/daniel/15cm_0mm_0deg\", \"resize.mp4\"))\n",
    "\n",
    "        \n",
    "cap = cv2.VideoCapture(video[0])\n",
    "\n",
    "ret, frame = cap.read()\n",
    "\n",
    "cap.release()\n",
    "cv2.destroyAllWindows()\n",
    "cv2.imwrite(\"example.png\", frame)"
   ]
  },
  {
   "cell_type": "code",
   "execution_count": 4,
   "id": "42184b7a",
   "metadata": {},
   "outputs": [
    {
     "name": "stdout",
     "output_type": "stream",
     "text": [
      "47.21383392455217\n"
     ]
    }
   ],
   "source": [
    "x=math.dist((198,758),(373,480))\n",
    "y=math.dist((188,437),(172,))\n",
    "print((y/x)*44.5)"
   ]
  },
  {
   "cell_type": "code",
   "execution_count": null,
   "id": "3a393bc0",
   "metadata": {},
   "outputs": [],
   "source": [
    "names = ['daniel']\n",
    "for name in names:\n",
    "    jsons_name = os.path.join(jsons,name)\n",
    "    video_name= \"../0_original_video/{names}\".format(names=name)\n",
    "    \n",
    "    for deg in degrees:\n",
    "        jsons_name_deg = os.path.join(jsons_name, deg)\n",
    "        if not os.path.isdir(jsons_name_deg):\n",
    "            os.makedirs(jsons_name_deg)\n",
    "    \n",
    "        video_name_deg = os.path.join(video_name,deg)\n",
    "        video = glob.glob(os.path.join(video_name_deg, \"resize.mp4\"))\n",
    "#         count = 0\n",
    "        mask_2_point = {}                 #裝每個frame追蹤的左上點和右下點\n",
    "        visible = {}                      #看針灸點是否可見\n",
    "        acupoint_location = {} \n",
    "        \n",
    "\n",
    "        \n",
    "\n",
    "        set_all_tracker_flag = False\n",
    "        for j in range(0,7):\n",
    "\n",
    "            tracker_list = []\n",
    "            tracker_success = []\n",
    "            for i in range(0, 3):\n",
    "                tracker = cv2.TrackerCSRT_create()   \n",
    "                tracker_list.append(tracker)\n",
    "                tracker_success.append(1)\n",
    "            set_all_tracker_flag = False  #第一個FRAME先暫停，並框ROI用的FLAG\n",
    "            colors = [(255,0,0)]\n",
    "\n",
    "            cap = cv2.VideoCapture(video[0])            # 讀取某個影片\n",
    "            \n",
    "            temp = 0\n",
    "            \n",
    "        if not cap.isOpened():\n",
    "            print(\"Cannot open camera\")\n",
    "            exit()\n",
    "\n",
    "        while True:\n",
    "            ret, frame = cap.read()"
   ]
  }
 ],
 "metadata": {
  "kernelspec": {
   "display_name": "Python 3 (ipykernel)",
   "language": "python",
   "name": "python3"
  },
  "language_info": {
   "codemirror_mode": {
    "name": "ipython",
    "version": 3
   },
   "file_extension": ".py",
   "mimetype": "text/x-python",
   "name": "python",
   "nbconvert_exporter": "python",
   "pygments_lexer": "ipython3",
   "version": "3.8.16"
  }
 },
 "nbformat": 4,
 "nbformat_minor": 5
}
