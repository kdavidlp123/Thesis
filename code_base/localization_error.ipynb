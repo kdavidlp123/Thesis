{
 "cells": [
  {
   "cell_type": "code",
   "execution_count": 1,
   "id": "e80f3d2b",
   "metadata": {},
   "outputs": [],
   "source": [
    "import os\n",
    "import json\n",
    "import glob\n",
    "import shutil\n",
    "from math import dist\n",
    "import numpy as np\n",
    "import matplotlib.pyplot as plt\n",
    "import pandas as pd\n",
    "from matplotlib.font_manager import FontProperties\n",
    "from _info_ import ear_types, degrees, acupoints_name, cm\n",
    "from _common_ import split_xy_xyv"
   ]
  },
  {
   "cell_type": "code",
   "execution_count": 4,
   "id": "b9e4bee4",
   "metadata": {},
   "outputs": [],
   "source": [
    "class errors_csv():\n",
    "    def __init__(self, data_folder):\n",
    "        self.data_folder = data_folder\n",
    "        \n",
    "    def read_gt_error_csv(self, fpath1):\n",
    "        df = pd.read_csv(fpath1, index_col = 0)\n",
    "        return df\n",
    "                \n",
    "    def generate(self):\n",
    "        for ear_type in ear_types:\n",
    "            names = os.listdir(os.path.join(\"..\", self.data_folder, ear_type, \"result\"))\n",
    "            for name in names:\n",
    "                for deg in degrees:\n",
    "                    gt = os.path.join(\"..\", \"ground_truth\", ear_type, name , deg, \"gt.csv\")\n",
    "                    pred = os.path.join(\"..\", self.data_folder, ear_type, \"result\", name, \"pred\", deg, \"pred.csv\")\n",
    "\n",
    "                    gt_df = self.read_gt_error_csv(gt)\n",
    "                    pred_df = self.read_gt_error_csv(pred)\n",
    "\n",
    "                    error_df = pd.DataFrame(columns=gt_df.columns, index = gt_df.index)\n",
    "\n",
    "                    assert len(gt_df) == len(pred_df), \"different frames\"\n",
    "                    for i in range(0, len(gt_df)):\n",
    "                        \n",
    "                        scale0_x, scale0_y, scale0_v= split_xy_xyv(gt_df.iloc[i,0])\n",
    "                        scale11_x, scale11_y, scale11_v = split_xy_xyv(gt_df.iloc[i,11])\n",
    "\n",
    "                        scale = cm[name] / dist((scale0_x, scale0_y), (scale11_x, scale11_y))\n",
    "\n",
    "                        for j in range(0, len(gt_df.columns)):\n",
    "                            gt_x, gt_y, gt_v = split_xy_xyv(gt_df.iloc[i,j])\n",
    "\n",
    "                            if gt_v == \"2\":\n",
    "                                pred_x, pred_y = split_xy_xyv(pred_df.iloc[i,j])\n",
    "                                error_df.iloc[i,j] = scale * dist((gt_x, gt_y), (pred_x, pred_y))\n",
    "\n",
    "                    error_path = os.path.join(\"..\", self.data_folder, ear_type, \"result\", name, \"error\",deg)\n",
    "                    if not os.path.isdir(error_path):\n",
    "                        os.makedirs(error_path)\n",
    "                    error_df.to_csv(os.path.join(error_path, \"error.csv\"))\n",
    "                        "
   ]
  },
  {
   "cell_type": "code",
   "execution_count": 5,
   "id": "9d3c90ae",
   "metadata": {},
   "outputs": [],
   "source": [
    "if __name__ == '__main__':\n",
    "    A = errors_csv(\"without_bbox\")\n",
    "    A.generate()"
   ]
  },
  {
   "cell_type": "code",
   "execution_count": null,
   "id": "cc4c1c66",
   "metadata": {},
   "outputs": [],
   "source": []
  }
 ],
 "metadata": {
  "kernelspec": {
   "display_name": "Python 3 (ipykernel)",
   "language": "python",
   "name": "python3"
  },
  "language_info": {
   "codemirror_mode": {
    "name": "ipython",
    "version": 3
   },
   "file_extension": ".py",
   "mimetype": "text/x-python",
   "name": "python",
   "nbconvert_exporter": "python",
   "pygments_lexer": "ipython3",
   "version": "3.8.16"
  }
 },
 "nbformat": 4,
 "nbformat_minor": 5
}
