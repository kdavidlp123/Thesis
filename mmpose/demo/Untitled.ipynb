{
 "cells": [
  {
   "cell_type": "code",
   "execution_count": 1,
   "id": "ea5f147d",
   "metadata": {},
   "outputs": [
    {
     "name": "stderr",
     "output_type": "stream",
     "text": [
      "usage: ipykernel_launcher.py [-h] [--input INPUT] [--show] [--output-root OUTPUT_ROOT] [--save-predictions]\n",
      "                             [--device DEVICE] [--det-cat-id DET_CAT_ID] [--bbox-thr BBOX_THR] [--nms-thr NMS_THR]\n",
      "                             [--kpt-thr KPT_THR] [--draw-heatmap] [--show-kpt-idx]\n",
      "                             [--skeleton-style {mmpose,openpose}] [--radius RADIUS] [--thickness THICKNESS]\n",
      "                             [--show-interval SHOW_INTERVAL] [--alpha ALPHA] [--draw-bbox]\n",
      "                             det_config det_checkpoint pose_config pose_checkpoint\n",
      "ipykernel_launcher.py: error: the following arguments are required: det_checkpoint, pose_config, pose_checkpoint\n"
     ]
    },
    {
     "ename": "SystemExit",
     "evalue": "2",
     "output_type": "error",
     "traceback": [
      "An exception has occurred, use %tb to see the full traceback.\n",
      "\u001b[1;31mSystemExit\u001b[0m\u001b[1;31m:\u001b[0m 2\n"
     ]
    },
    {
     "name": "stderr",
     "output_type": "stream",
     "text": [
      "C:\\Users\\user\\anaconda3\\envs\\openmmlab\\lib\\site-packages\\IPython\\core\\interactiveshell.py:3516: UserWarning: To exit: use 'exit', 'quit', or Ctrl-D.\n",
      "  warn(\"To exit: use 'exit', 'quit', or Ctrl-D.\", stacklevel=1)\n"
     ]
    }
   ],
   "source": [
    "# Copyright (c) OpenMMLab. All rights reserved.\n",
    "import mimetypes\n",
    "import os\n",
    "import time\n",
    "from argparse import ArgumentParser\n",
    "\n",
    "import cv2\n",
    "import json_tricks as json\n",
    "import mmcv\n",
    "import mmengine\n",
    "import numpy as np\n",
    "\n",
    "from mmpose.apis import inference_topdown\n",
    "from mmpose.apis import init_model as init_pose_estimator\n",
    "from mmpose.evaluation.functional import nms\n",
    "from mmpose.registry import VISUALIZERS\n",
    "from mmpose.structures import merge_data_samples, split_instances\n",
    "from mmpose.utils import adapt_mmdet_pipeline\n",
    "\n",
    "try:\n",
    "    from mmdet.apis import inference_detector, init_detector\n",
    "    has_mmdet = True\n",
    "except (ImportError, ModuleNotFoundError):\n",
    "    has_mmdet = False\n",
    "\n",
    "\n",
    "def process_one_image(args,\n",
    "                      img,\n",
    "                      detector,\n",
    "                      pose_estimator,\n",
    "                      visualizer=None,\n",
    "                      show_interval=0):\n",
    "    \"\"\"Visualize predicted keypoints (and heatmaps) of one image.\"\"\"\n",
    "    print(args)\n",
    "    # predict bbox\n",
    "    det_result = inference_detector(detector, img)\n",
    "    pred_instance = det_result.pred_instances.cpu().numpy()\n",
    "    bboxes = np.concatenate(\n",
    "        (pred_instance.bboxes, pred_instance.scores[:, None]), axis=1)\n",
    "    bboxes = bboxes[np.logical_and(pred_instance.labels == args.det_cat_id,\n",
    "                                   pred_instance.scores > args.bbox_thr)]\n",
    "    bboxes = bboxes[nms(bboxes, args.nms_thr), :4]\n",
    "\n",
    "    # predict keypoints\n",
    "    pose_results = inference_topdown(pose_estimator, img, bboxes)\n",
    "    data_samples = merge_data_samples(pose_results)\n",
    "\n",
    "    # show the results\n",
    "    if isinstance(img, str):\n",
    "        img = mmcv.imread(img, channel_order='rgb')\n",
    "    elif isinstance(img, np.ndarray):\n",
    "        img = mmcv.bgr2rgb(img)\n",
    "\n",
    "    if visualizer is not None:\n",
    "        visualizer.add_datasample(\n",
    "            'result',\n",
    "            img,\n",
    "            data_sample=data_samples,\n",
    "            draw_gt=False,\n",
    "            draw_heatmap=args.draw_heatmap,\n",
    "            draw_bbox=args.draw_bbox,\n",
    "            show_kpt_idx=args.show_kpt_idx,\n",
    "            skeleton_style=args.skeleton_style,\n",
    "            show=args.show,\n",
    "            wait_time=show_interval,\n",
    "            kpt_thr=args.kpt_thr)\n",
    "\n",
    "    # if there is no instance detected, return None\n",
    "    return data_samples.get('pred_instances', None)\n",
    "\n",
    "\n",
    "def main():\n",
    "    \"\"\"Visualize the demo images.\n",
    "\n",
    "    Using mmdet to detect the human.\n",
    "    \"\"\"\n",
    "    parser = ArgumentParser()\n",
    "    parser.add_argument('det_config', help='Config file for detection')\n",
    "    parser.add_argument('det_checkpoint', help='Checkpoint file for detection')\n",
    "    parser.add_argument('pose_config', help='Config file for pose')\n",
    "    parser.add_argument('pose_checkpoint', help='Checkpoint file for pose')\n",
    "    parser.add_argument(\n",
    "        '--input', type=str, default='', help='Image/Video file')\n",
    "    parser.add_argument(\n",
    "        '--show',\n",
    "        action='store_true',\n",
    "        default=False,\n",
    "        help='whether to show img')\n",
    "    parser.add_argument(\n",
    "        '--output-root',\n",
    "        type=str,\n",
    "        default='',\n",
    "        help='root of the output img file. '\n",
    "        'Default not saving the visualization images.')\n",
    "    parser.add_argument(\n",
    "        '--save-predictions',\n",
    "        action='store_true',\n",
    "        default=False,\n",
    "        help='whether to save predicted results')\n",
    "    parser.add_argument(\n",
    "        '--device', default='cuda:0', help='Device used for inference')\n",
    "    parser.add_argument(\n",
    "        '--det-cat-id',\n",
    "        type=int,\n",
    "        default=0,\n",
    "        help='Category id for bounding box detection model')\n",
    "    parser.add_argument(\n",
    "        '--bbox-thr',\n",
    "        type=float,\n",
    "        default=0.3,\n",
    "        help='Bounding box score threshold')\n",
    "    parser.add_argument(\n",
    "        '--nms-thr',\n",
    "        type=float,\n",
    "        default=0.3,\n",
    "        help='IoU threshold for bounding box NMS')\n",
    "    parser.add_argument(\n",
    "        '--kpt-thr',\n",
    "        type=float,\n",
    "        default=0.3,\n",
    "        help='Visualizing keypoint thresholds')\n",
    "    parser.add_argument(\n",
    "        '--draw-heatmap',\n",
    "        action='store_true',\n",
    "        default=False,\n",
    "        help='Draw heatmap predicted by the model')\n",
    "    parser.add_argument(\n",
    "        '--show-kpt-idx',\n",
    "        action='store_true',\n",
    "        default=False,\n",
    "        help='Whether to show the index of keypoints')\n",
    "    parser.add_argument(\n",
    "        '--skeleton-style',\n",
    "        default='mmpose',\n",
    "        type=str,\n",
    "        choices=['mmpose', 'openpose'],\n",
    "        help='Skeleton style selection')\n",
    "    parser.add_argument(\n",
    "        '--radius',\n",
    "        type=int,\n",
    "        default=3,\n",
    "        help='Keypoint radius for visualization')\n",
    "    parser.add_argument(\n",
    "        '--thickness',\n",
    "        type=int,\n",
    "        default=1,\n",
    "        help='Link thickness for visualization')\n",
    "    parser.add_argument(\n",
    "        '--show-interval', type=int, default=0, help='Sleep seconds per frame')\n",
    "    parser.add_argument(\n",
    "        '--alpha', type=float, default=0.8, help='The transparency of bboxes')\n",
    "    parser.add_argument(\n",
    "        '--draw-bbox', action='store_true', help='Draw bboxes of instances')\n",
    "\n",
    "    assert has_mmdet, 'Please install mmdet to run the demo.'\n",
    "\n",
    "    args = parser.parse_args()\n",
    "\n",
    "    assert args.show or (args.output_root != '')\n",
    "    assert args.input != ''\n",
    "    assert args.det_config is not None\n",
    "    assert args.det_checkpoint is not None\n",
    "\n",
    "    output_file = None\n",
    "    if args.output_root:\n",
    "        mmengine.mkdir_or_exist(args.output_root)\n",
    "        output_file = os.path.join(args.output_root,\n",
    "                                   os.path.basename(args.input))\n",
    "        if args.input == 'webcam':\n",
    "            output_file += '.mp4'\n",
    "\n",
    "    if args.save_predictions:\n",
    "        assert args.output_root != ''\n",
    "        args.pred_save_path = f'{args.output_root}/results_' \\\n",
    "            f'{os.path.splitext(os.path.basename(args.input))[0]}.json'\n",
    "\n",
    "    # build detector\n",
    "    detector = init_detector(\n",
    "        args.det_config, args.det_checkpoint, device=args.device)\n",
    "    detector.cfg = adapt_mmdet_pipeline(detector.cfg)\n",
    "\n",
    "    # build pose estimator\n",
    "    pose_estimator = init_pose_estimator(\n",
    "        args.pose_config,\n",
    "        args.pose_checkpoint,\n",
    "        device=args.device,\n",
    "        cfg_options=dict(\n",
    "            model=dict(test_cfg=dict(output_heatmaps=args.draw_heatmap))))\n",
    "\n",
    "    # build visualizer\n",
    "    pose_estimator.cfg.visualizer.radius = args.radius\n",
    "    pose_estimator.cfg.visualizer.alpha = args.alpha\n",
    "    pose_estimator.cfg.visualizer.line_width = args.thickness\n",
    "    visualizer = VISUALIZERS.build(pose_estimator.cfg.visualizer)\n",
    "    # the dataset_meta is loaded from the checkpoint and\n",
    "    # then pass to the model in init_pose_estimator\n",
    "    visualizer.set_dataset_meta(\n",
    "        pose_estimator.dataset_meta, skeleton_style=args.skeleton_style)\n",
    "\n",
    "    if args.input == 'webcam':\n",
    "        input_type = 'webcam'\n",
    "    else:\n",
    "        input_type = mimetypes.guess_type(args.input)[0].split('/')[0]\n",
    "\n",
    "    if input_type == 'image':\n",
    "\n",
    "        # inference\n",
    "        pred_instances = process_one_image(args, args.input, detector,\n",
    "                                           pose_estimator, visualizer)\n",
    "        print(pred_instances[0])\n",
    "        if args.save_predictions:\n",
    "            pred_instances_list = split_instances(pred_instances)\n",
    "\n",
    "        if output_file:\n",
    "            img_vis = visualizer.get_image()\n",
    "            mmcv.imwrite(mmcv.rgb2bgr(img_vis), output_file)\n",
    "\n",
    "    elif input_type in ['webcam', 'video']:\n",
    "\n",
    "        if args.input == 'webcam':\n",
    "            cap = cv2.VideoCapture(0)\n",
    "        else:\n",
    "            cap = cv2.VideoCapture(args.input)\n",
    "\n",
    "        video_writer = None\n",
    "        pred_instances_list = []\n",
    "        frame_idx = 0\n",
    "\n",
    "        while cap.isOpened():\n",
    "            success, frame = cap.read()\n",
    "            frame_idx += 1\n",
    "\n",
    "            if not success:\n",
    "                break\n",
    "\n",
    "            # topdown pose estimation\n",
    "            pred_instances = process_one_image(args, frame, detector,\n",
    "                                               pose_estimator, visualizer,\n",
    "                                               0.001)\n",
    "\n",
    "            if args.save_predictions:\n",
    "                # save prediction results\n",
    "                pred_instances_list.append(\n",
    "                    dict(\n",
    "                        frame_id=frame_idx,\n",
    "                        instances=split_instances(pred_instances)))\n",
    "\n",
    "            # output videos\n",
    "            if output_file:\n",
    "                frame_vis = visualizer.get_image()\n",
    "\n",
    "                if video_writer is None:\n",
    "                    fourcc = cv2.VideoWriter_fourcc(*'mp4v')\n",
    "                    # the size of the image with visualization may vary\n",
    "                    # depending on the presence of heatmaps\n",
    "                    video_writer = cv2.VideoWriter(\n",
    "                        output_file,\n",
    "                        fourcc,\n",
    "                        25,  # saved fps\n",
    "                        (frame_vis.shape[1], frame_vis.shape[0]))\n",
    "\n",
    "                video_writer.write(mmcv.rgb2bgr(frame_vis))\n",
    "\n",
    "            # press ESC to exit\n",
    "            if cv2.waitKey(5) & 0xFF == 27:\n",
    "                break\n",
    "\n",
    "            time.sleep(args.show_interval)\n",
    "\n",
    "        if video_writer:\n",
    "            video_writer.release()\n",
    "\n",
    "        cap.release()\n",
    "\n",
    "    else:\n",
    "        args.save_predictions = False\n",
    "        raise ValueError(\n",
    "            f'file {os.path.basename(args.input)} has invalid format.')\n",
    "\n",
    "    if args.save_predictions:\n",
    "        with open(args.pred_save_path, 'w') as f:\n",
    "            json.dump(\n",
    "                dict(\n",
    "                    meta_info=pose_estimator.dataset_meta,\n",
    "                    instance_info=pred_instances_list),\n",
    "                f,\n",
    "                indent='\\t')\n",
    "        print(f'predictions have been saved at {args.pred_save_path}')\n",
    "\n",
    "\n",
    "if __name__ == '__main__':\n",
    "    main()\n"
   ]
  },
  {
   "cell_type": "code",
   "execution_count": 6,
   "id": "891e2dfe",
   "metadata": {},
   "outputs": [],
   "source": [
    "import mimetypes\n",
    "import os\n",
    "import time\n",
    "from argparse import ArgumentParser\n",
    "\n",
    "import cv2\n",
    "import json_tricks as json\n",
    "import mmcv\n",
    "import mmengine\n",
    "import numpy as np\n",
    "\n",
    "from mmpose.apis import inference_topdown\n",
    "from mmpose.apis import init_model as init_pose_estimator\n",
    "from mmpose.evaluation.functional import nms\n",
    "from mmpose.registry import VISUALIZERS\n",
    "from mmpose.structures import merge_data_samples, split_instances\n",
    "from mmpose.utils import adapt_mmdet_pipeline\n",
    "from mmdet.apis import inference_detector, init_detector"
   ]
  },
  {
   "cell_type": "code",
   "execution_count": 16,
   "id": "3d584767",
   "metadata": {},
   "outputs": [],
   "source": [
    "def process_one_image(\n",
    "                      img,\n",
    "                      detector,\n",
    "                      pose_estimator,\n",
    "                      visualizer=None,\n",
    "                      show_interval=0):\n",
    "    \"\"\"Visualize predicted keypoints (and heatmaps) of one image.\"\"\"\n",
    "\n",
    "    # predict bbox\n",
    "    det_result = inference_detector(detector, img)\n",
    "    pred_instance = det_result.pred_instances.cpu().numpy()\n",
    "    bboxes = np.concatenate(\n",
    "        (pred_instance.bboxes, pred_instance.scores[:, None]), axis=1)\n",
    "    bboxes = bboxes[np.logical_and(pred_instance.labels == 0, pred_instance.scores > 0.3)]   #(pred_instance.labels == args.det_cat_id,pred_instance.scores > args.bbox_thr)\n",
    "    bboxes = bboxes[nms(bboxes, 0.3), :4]\n",
    "\n",
    "    # predict keypoints\n",
    "    pose_results = inference_topdown(pose_estimator, img, bboxes)\n",
    "    data_samples = merge_data_samples(pose_results)\n",
    "    \n",
    "\n",
    "\n",
    "    if visualizer is not None:\n",
    "        visualizer.add_datasample(\n",
    "            'result',\n",
    "            img,\n",
    "            data_sample=data_samples,\n",
    "            draw_gt=False,\n",
    "            draw_heatmap=False,\n",
    "            draw_bbox=True,\n",
    "            show_kpt_idx=True,\n",
    "            skeleton_style=\"mmpose\",\n",
    "            show=False,\n",
    "            wait_time=show_interval,\n",
    "            kpt_thr=0.3)\n",
    "\n",
    "    # if there is no instance detected, return None\n",
    "    return data_samples.get('pred_instances', None)"
   ]
  },
  {
   "cell_type": "code",
   "execution_count": 5,
   "id": "5a9d7440",
   "metadata": {},
   "outputs": [
    {
     "name": "stdout",
     "output_type": "stream",
     "text": [
      "Loads checkpoint by local backend from path: D:\\mmdetection\\work_dirs\\custom_model\\epoch_12.pth\n"
     ]
    }
   ],
   "source": [
    "#python demo/topdown_demo_with_mmdet.py --input S__14442525.jpg --output-root work_dirs --save-predictions --draw-bbox D:\\mmdetection\\configs\\faster_rcnn\\custom_model.py  D:\\mmdetection\\work_dirs\\custom_model\\epoch_12.pth configs\\body_2d_keypoint\\topdown_heatmap\\coco\\td-hm_res152_8xb32-210e_coco-384x288.py training_log/epoch_30.pth\n",
    "\n",
    "\n",
    "detector = init_detector(\n",
    "        r\"D:\\mmdetection\\configs\\faster_rcnn\\custom_model.py\", \n",
    "        r\"D:\\mmdetection\\work_dirs\\custom_model\\epoch_12.pth\",\n",
    "        device=\"cuda:0\")\n",
    "detector.cfg = adapt_mmdet_pipeline(detector.cfg)"
   ]
  },
  {
   "cell_type": "code",
   "execution_count": 6,
   "id": "24411fcf",
   "metadata": {},
   "outputs": [
    {
     "name": "stdout",
     "output_type": "stream",
     "text": [
      "Loads checkpoint by local backend from path: D:\\mmpose\\training_log\\epoch_30.pth\n"
     ]
    }
   ],
   "source": [
    "pose_estimator = init_pose_estimator(\n",
    "        r\"D:\\mmpose\\configs\\body_2d_keypoint\\topdown_heatmap\\coco\\td-hm_res152_8xb32-210e_coco-384x288.py\",\n",
    "        r\"D:\\mmpose\\training_log\\epoch_30.pth\",\n",
    "        device=\"cuda:0\",\n",
    "        )\n"
   ]
  },
  {
   "cell_type": "code",
   "execution_count": 20,
   "id": "a88871f7",
   "metadata": {},
   "outputs": [
    {
     "name": "stdout",
     "output_type": "stream",
     "text": [
      "TopdownPoseEstimator(\n",
      "  (data_preprocessor): PoseDataPreprocessor()\n",
      "  (backbone): ResNet(\n",
      "    (conv1): Conv2d(3, 64, kernel_size=(7, 7), stride=(2, 2), padding=(3, 3), bias=False)\n",
      "    (bn1): BatchNorm2d(64, eps=1e-05, momentum=0.1, affine=True, track_running_stats=True)\n",
      "    (relu): ReLU(inplace=True)\n",
      "    (maxpool): MaxPool2d(kernel_size=3, stride=2, padding=1, dilation=1, ceil_mode=False)\n",
      "    (layer1): ResLayer(\n",
      "      (0): Bottleneck(\n",
      "        (conv1): Conv2d(64, 64, kernel_size=(1, 1), stride=(1, 1), bias=False)\n",
      "        (bn1): BatchNorm2d(64, eps=1e-05, momentum=0.1, affine=True, track_running_stats=True)\n",
      "        (conv2): Conv2d(64, 64, kernel_size=(3, 3), stride=(1, 1), padding=(1, 1), bias=False)\n",
      "        (bn2): BatchNorm2d(64, eps=1e-05, momentum=0.1, affine=True, track_running_stats=True)\n",
      "        (conv3): Conv2d(64, 256, kernel_size=(1, 1), stride=(1, 1), bias=False)\n",
      "        (bn3): BatchNorm2d(256, eps=1e-05, momentum=0.1, affine=True, track_running_stats=True)\n",
      "        (relu): ReLU(inplace=True)\n",
      "        (downsample): Sequential(\n",
      "          (0): Conv2d(64, 256, kernel_size=(1, 1), stride=(1, 1), bias=False)\n",
      "          (1): BatchNorm2d(256, eps=1e-05, momentum=0.1, affine=True, track_running_stats=True)\n",
      "        )\n",
      "      )\n",
      "      (1): Bottleneck(\n",
      "        (conv1): Conv2d(256, 64, kernel_size=(1, 1), stride=(1, 1), bias=False)\n",
      "        (bn1): BatchNorm2d(64, eps=1e-05, momentum=0.1, affine=True, track_running_stats=True)\n",
      "        (conv2): Conv2d(64, 64, kernel_size=(3, 3), stride=(1, 1), padding=(1, 1), bias=False)\n",
      "        (bn2): BatchNorm2d(64, eps=1e-05, momentum=0.1, affine=True, track_running_stats=True)\n",
      "        (conv3): Conv2d(64, 256, kernel_size=(1, 1), stride=(1, 1), bias=False)\n",
      "        (bn3): BatchNorm2d(256, eps=1e-05, momentum=0.1, affine=True, track_running_stats=True)\n",
      "        (relu): ReLU(inplace=True)\n",
      "      )\n",
      "      (2): Bottleneck(\n",
      "        (conv1): Conv2d(256, 64, kernel_size=(1, 1), stride=(1, 1), bias=False)\n",
      "        (bn1): BatchNorm2d(64, eps=1e-05, momentum=0.1, affine=True, track_running_stats=True)\n",
      "        (conv2): Conv2d(64, 64, kernel_size=(3, 3), stride=(1, 1), padding=(1, 1), bias=False)\n",
      "        (bn2): BatchNorm2d(64, eps=1e-05, momentum=0.1, affine=True, track_running_stats=True)\n",
      "        (conv3): Conv2d(64, 256, kernel_size=(1, 1), stride=(1, 1), bias=False)\n",
      "        (bn3): BatchNorm2d(256, eps=1e-05, momentum=0.1, affine=True, track_running_stats=True)\n",
      "        (relu): ReLU(inplace=True)\n",
      "      )\n",
      "    )\n",
      "    (layer2): ResLayer(\n",
      "      (0): Bottleneck(\n",
      "        (conv1): Conv2d(256, 128, kernel_size=(1, 1), stride=(1, 1), bias=False)\n",
      "        (bn1): BatchNorm2d(128, eps=1e-05, momentum=0.1, affine=True, track_running_stats=True)\n",
      "        (conv2): Conv2d(128, 128, kernel_size=(3, 3), stride=(2, 2), padding=(1, 1), bias=False)\n",
      "        (bn2): BatchNorm2d(128, eps=1e-05, momentum=0.1, affine=True, track_running_stats=True)\n",
      "        (conv3): Conv2d(128, 512, kernel_size=(1, 1), stride=(1, 1), bias=False)\n",
      "        (bn3): BatchNorm2d(512, eps=1e-05, momentum=0.1, affine=True, track_running_stats=True)\n",
      "        (relu): ReLU(inplace=True)\n",
      "        (downsample): Sequential(\n",
      "          (0): Conv2d(256, 512, kernel_size=(1, 1), stride=(2, 2), bias=False)\n",
      "          (1): BatchNorm2d(512, eps=1e-05, momentum=0.1, affine=True, track_running_stats=True)\n",
      "        )\n",
      "      )\n",
      "      (1): Bottleneck(\n",
      "        (conv1): Conv2d(512, 128, kernel_size=(1, 1), stride=(1, 1), bias=False)\n",
      "        (bn1): BatchNorm2d(128, eps=1e-05, momentum=0.1, affine=True, track_running_stats=True)\n",
      "        (conv2): Conv2d(128, 128, kernel_size=(3, 3), stride=(1, 1), padding=(1, 1), bias=False)\n",
      "        (bn2): BatchNorm2d(128, eps=1e-05, momentum=0.1, affine=True, track_running_stats=True)\n",
      "        (conv3): Conv2d(128, 512, kernel_size=(1, 1), stride=(1, 1), bias=False)\n",
      "        (bn3): BatchNorm2d(512, eps=1e-05, momentum=0.1, affine=True, track_running_stats=True)\n",
      "        (relu): ReLU(inplace=True)\n",
      "      )\n",
      "      (2): Bottleneck(\n",
      "        (conv1): Conv2d(512, 128, kernel_size=(1, 1), stride=(1, 1), bias=False)\n",
      "        (bn1): BatchNorm2d(128, eps=1e-05, momentum=0.1, affine=True, track_running_stats=True)\n",
      "        (conv2): Conv2d(128, 128, kernel_size=(3, 3), stride=(1, 1), padding=(1, 1), bias=False)\n",
      "        (bn2): BatchNorm2d(128, eps=1e-05, momentum=0.1, affine=True, track_running_stats=True)\n",
      "        (conv3): Conv2d(128, 512, kernel_size=(1, 1), stride=(1, 1), bias=False)\n",
      "        (bn3): BatchNorm2d(512, eps=1e-05, momentum=0.1, affine=True, track_running_stats=True)\n",
      "        (relu): ReLU(inplace=True)\n",
      "      )\n",
      "      (3): Bottleneck(\n",
      "        (conv1): Conv2d(512, 128, kernel_size=(1, 1), stride=(1, 1), bias=False)\n",
      "        (bn1): BatchNorm2d(128, eps=1e-05, momentum=0.1, affine=True, track_running_stats=True)\n",
      "        (conv2): Conv2d(128, 128, kernel_size=(3, 3), stride=(1, 1), padding=(1, 1), bias=False)\n",
      "        (bn2): BatchNorm2d(128, eps=1e-05, momentum=0.1, affine=True, track_running_stats=True)\n",
      "        (conv3): Conv2d(128, 512, kernel_size=(1, 1), stride=(1, 1), bias=False)\n",
      "        (bn3): BatchNorm2d(512, eps=1e-05, momentum=0.1, affine=True, track_running_stats=True)\n",
      "        (relu): ReLU(inplace=True)\n",
      "      )\n",
      "      (4): Bottleneck(\n",
      "        (conv1): Conv2d(512, 128, kernel_size=(1, 1), stride=(1, 1), bias=False)\n",
      "        (bn1): BatchNorm2d(128, eps=1e-05, momentum=0.1, affine=True, track_running_stats=True)\n",
      "        (conv2): Conv2d(128, 128, kernel_size=(3, 3), stride=(1, 1), padding=(1, 1), bias=False)\n",
      "        (bn2): BatchNorm2d(128, eps=1e-05, momentum=0.1, affine=True, track_running_stats=True)\n",
      "        (conv3): Conv2d(128, 512, kernel_size=(1, 1), stride=(1, 1), bias=False)\n",
      "        (bn3): BatchNorm2d(512, eps=1e-05, momentum=0.1, affine=True, track_running_stats=True)\n",
      "        (relu): ReLU(inplace=True)\n",
      "      )\n",
      "      (5): Bottleneck(\n",
      "        (conv1): Conv2d(512, 128, kernel_size=(1, 1), stride=(1, 1), bias=False)\n",
      "        (bn1): BatchNorm2d(128, eps=1e-05, momentum=0.1, affine=True, track_running_stats=True)\n",
      "        (conv2): Conv2d(128, 128, kernel_size=(3, 3), stride=(1, 1), padding=(1, 1), bias=False)\n",
      "        (bn2): BatchNorm2d(128, eps=1e-05, momentum=0.1, affine=True, track_running_stats=True)\n",
      "        (conv3): Conv2d(128, 512, kernel_size=(1, 1), stride=(1, 1), bias=False)\n",
      "        (bn3): BatchNorm2d(512, eps=1e-05, momentum=0.1, affine=True, track_running_stats=True)\n",
      "        (relu): ReLU(inplace=True)\n",
      "      )\n",
      "      (6): Bottleneck(\n",
      "        (conv1): Conv2d(512, 128, kernel_size=(1, 1), stride=(1, 1), bias=False)\n",
      "        (bn1): BatchNorm2d(128, eps=1e-05, momentum=0.1, affine=True, track_running_stats=True)\n",
      "        (conv2): Conv2d(128, 128, kernel_size=(3, 3), stride=(1, 1), padding=(1, 1), bias=False)\n",
      "        (bn2): BatchNorm2d(128, eps=1e-05, momentum=0.1, affine=True, track_running_stats=True)\n",
      "        (conv3): Conv2d(128, 512, kernel_size=(1, 1), stride=(1, 1), bias=False)\n",
      "        (bn3): BatchNorm2d(512, eps=1e-05, momentum=0.1, affine=True, track_running_stats=True)\n",
      "        (relu): ReLU(inplace=True)\n",
      "      )\n",
      "      (7): Bottleneck(\n",
      "        (conv1): Conv2d(512, 128, kernel_size=(1, 1), stride=(1, 1), bias=False)\n",
      "        (bn1): BatchNorm2d(128, eps=1e-05, momentum=0.1, affine=True, track_running_stats=True)\n",
      "        (conv2): Conv2d(128, 128, kernel_size=(3, 3), stride=(1, 1), padding=(1, 1), bias=False)\n",
      "        (bn2): BatchNorm2d(128, eps=1e-05, momentum=0.1, affine=True, track_running_stats=True)\n",
      "        (conv3): Conv2d(128, 512, kernel_size=(1, 1), stride=(1, 1), bias=False)\n",
      "        (bn3): BatchNorm2d(512, eps=1e-05, momentum=0.1, affine=True, track_running_stats=True)\n",
      "        (relu): ReLU(inplace=True)\n",
      "      )\n",
      "    )\n",
      "    (layer3): ResLayer(\n",
      "      (0): Bottleneck(\n",
      "        (conv1): Conv2d(512, 256, kernel_size=(1, 1), stride=(1, 1), bias=False)\n",
      "        (bn1): BatchNorm2d(256, eps=1e-05, momentum=0.1, affine=True, track_running_stats=True)\n",
      "        (conv2): Conv2d(256, 256, kernel_size=(3, 3), stride=(2, 2), padding=(1, 1), bias=False)\n",
      "        (bn2): BatchNorm2d(256, eps=1e-05, momentum=0.1, affine=True, track_running_stats=True)\n",
      "        (conv3): Conv2d(256, 1024, kernel_size=(1, 1), stride=(1, 1), bias=False)\n",
      "        (bn3): BatchNorm2d(1024, eps=1e-05, momentum=0.1, affine=True, track_running_stats=True)\n",
      "        (relu): ReLU(inplace=True)\n",
      "        (downsample): Sequential(\n",
      "          (0): Conv2d(512, 1024, kernel_size=(1, 1), stride=(2, 2), bias=False)\n",
      "          (1): BatchNorm2d(1024, eps=1e-05, momentum=0.1, affine=True, track_running_stats=True)\n",
      "        )\n",
      "      )\n",
      "      (1): Bottleneck(\n",
      "        (conv1): Conv2d(1024, 256, kernel_size=(1, 1), stride=(1, 1), bias=False)\n",
      "        (bn1): BatchNorm2d(256, eps=1e-05, momentum=0.1, affine=True, track_running_stats=True)\n",
      "        (conv2): Conv2d(256, 256, kernel_size=(3, 3), stride=(1, 1), padding=(1, 1), bias=False)\n",
      "        (bn2): BatchNorm2d(256, eps=1e-05, momentum=0.1, affine=True, track_running_stats=True)\n",
      "        (conv3): Conv2d(256, 1024, kernel_size=(1, 1), stride=(1, 1), bias=False)\n",
      "        (bn3): BatchNorm2d(1024, eps=1e-05, momentum=0.1, affine=True, track_running_stats=True)\n",
      "        (relu): ReLU(inplace=True)\n",
      "      )\n",
      "      (2): Bottleneck(\n",
      "        (conv1): Conv2d(1024, 256, kernel_size=(1, 1), stride=(1, 1), bias=False)\n",
      "        (bn1): BatchNorm2d(256, eps=1e-05, momentum=0.1, affine=True, track_running_stats=True)\n",
      "        (conv2): Conv2d(256, 256, kernel_size=(3, 3), stride=(1, 1), padding=(1, 1), bias=False)\n",
      "        (bn2): BatchNorm2d(256, eps=1e-05, momentum=0.1, affine=True, track_running_stats=True)\n",
      "        (conv3): Conv2d(256, 1024, kernel_size=(1, 1), stride=(1, 1), bias=False)\n",
      "        (bn3): BatchNorm2d(1024, eps=1e-05, momentum=0.1, affine=True, track_running_stats=True)\n",
      "        (relu): ReLU(inplace=True)\n",
      "      )\n",
      "      (3): Bottleneck(\n",
      "        (conv1): Conv2d(1024, 256, kernel_size=(1, 1), stride=(1, 1), bias=False)\n",
      "        (bn1): BatchNorm2d(256, eps=1e-05, momentum=0.1, affine=True, track_running_stats=True)\n",
      "        (conv2): Conv2d(256, 256, kernel_size=(3, 3), stride=(1, 1), padding=(1, 1), bias=False)\n",
      "        (bn2): BatchNorm2d(256, eps=1e-05, momentum=0.1, affine=True, track_running_stats=True)\n",
      "        (conv3): Conv2d(256, 1024, kernel_size=(1, 1), stride=(1, 1), bias=False)\n",
      "        (bn3): BatchNorm2d(1024, eps=1e-05, momentum=0.1, affine=True, track_running_stats=True)\n",
      "        (relu): ReLU(inplace=True)\n",
      "      )\n",
      "      (4): Bottleneck(\n",
      "        (conv1): Conv2d(1024, 256, kernel_size=(1, 1), stride=(1, 1), bias=False)\n",
      "        (bn1): BatchNorm2d(256, eps=1e-05, momentum=0.1, affine=True, track_running_stats=True)\n",
      "        (conv2): Conv2d(256, 256, kernel_size=(3, 3), stride=(1, 1), padding=(1, 1), bias=False)\n",
      "        (bn2): BatchNorm2d(256, eps=1e-05, momentum=0.1, affine=True, track_running_stats=True)\n",
      "        (conv3): Conv2d(256, 1024, kernel_size=(1, 1), stride=(1, 1), bias=False)\n",
      "        (bn3): BatchNorm2d(1024, eps=1e-05, momentum=0.1, affine=True, track_running_stats=True)\n",
      "        (relu): ReLU(inplace=True)\n",
      "      )\n",
      "      (5): Bottleneck(\n",
      "        (conv1): Conv2d(1024, 256, kernel_size=(1, 1), stride=(1, 1), bias=False)\n",
      "        (bn1): BatchNorm2d(256, eps=1e-05, momentum=0.1, affine=True, track_running_stats=True)\n",
      "        (conv2): Conv2d(256, 256, kernel_size=(3, 3), stride=(1, 1), padding=(1, 1), bias=False)\n",
      "        (bn2): BatchNorm2d(256, eps=1e-05, momentum=0.1, affine=True, track_running_stats=True)\n",
      "        (conv3): Conv2d(256, 1024, kernel_size=(1, 1), stride=(1, 1), bias=False)\n",
      "        (bn3): BatchNorm2d(1024, eps=1e-05, momentum=0.1, affine=True, track_running_stats=True)\n",
      "        (relu): ReLU(inplace=True)\n",
      "      )\n",
      "      (6): Bottleneck(\n",
      "        (conv1): Conv2d(1024, 256, kernel_size=(1, 1), stride=(1, 1), bias=False)\n",
      "        (bn1): BatchNorm2d(256, eps=1e-05, momentum=0.1, affine=True, track_running_stats=True)\n",
      "        (conv2): Conv2d(256, 256, kernel_size=(3, 3), stride=(1, 1), padding=(1, 1), bias=False)\n",
      "        (bn2): BatchNorm2d(256, eps=1e-05, momentum=0.1, affine=True, track_running_stats=True)\n",
      "        (conv3): Conv2d(256, 1024, kernel_size=(1, 1), stride=(1, 1), bias=False)\n",
      "        (bn3): BatchNorm2d(1024, eps=1e-05, momentum=0.1, affine=True, track_running_stats=True)\n",
      "        (relu): ReLU(inplace=True)\n",
      "      )\n",
      "      (7): Bottleneck(\n",
      "        (conv1): Conv2d(1024, 256, kernel_size=(1, 1), stride=(1, 1), bias=False)\n",
      "        (bn1): BatchNorm2d(256, eps=1e-05, momentum=0.1, affine=True, track_running_stats=True)\n",
      "        (conv2): Conv2d(256, 256, kernel_size=(3, 3), stride=(1, 1), padding=(1, 1), bias=False)\n",
      "        (bn2): BatchNorm2d(256, eps=1e-05, momentum=0.1, affine=True, track_running_stats=True)\n",
      "        (conv3): Conv2d(256, 1024, kernel_size=(1, 1), stride=(1, 1), bias=False)\n",
      "        (bn3): BatchNorm2d(1024, eps=1e-05, momentum=0.1, affine=True, track_running_stats=True)\n",
      "        (relu): ReLU(inplace=True)\n",
      "      )\n",
      "      (8): Bottleneck(\n",
      "        (conv1): Conv2d(1024, 256, kernel_size=(1, 1), stride=(1, 1), bias=False)\n",
      "        (bn1): BatchNorm2d(256, eps=1e-05, momentum=0.1, affine=True, track_running_stats=True)\n",
      "        (conv2): Conv2d(256, 256, kernel_size=(3, 3), stride=(1, 1), padding=(1, 1), bias=False)\n",
      "        (bn2): BatchNorm2d(256, eps=1e-05, momentum=0.1, affine=True, track_running_stats=True)\n",
      "        (conv3): Conv2d(256, 1024, kernel_size=(1, 1), stride=(1, 1), bias=False)\n",
      "        (bn3): BatchNorm2d(1024, eps=1e-05, momentum=0.1, affine=True, track_running_stats=True)\n",
      "        (relu): ReLU(inplace=True)\n",
      "      )\n",
      "      (9): Bottleneck(\n",
      "        (conv1): Conv2d(1024, 256, kernel_size=(1, 1), stride=(1, 1), bias=False)\n",
      "        (bn1): BatchNorm2d(256, eps=1e-05, momentum=0.1, affine=True, track_running_stats=True)\n",
      "        (conv2): Conv2d(256, 256, kernel_size=(3, 3), stride=(1, 1), padding=(1, 1), bias=False)\n",
      "        (bn2): BatchNorm2d(256, eps=1e-05, momentum=0.1, affine=True, track_running_stats=True)\n",
      "        (conv3): Conv2d(256, 1024, kernel_size=(1, 1), stride=(1, 1), bias=False)\n",
      "        (bn3): BatchNorm2d(1024, eps=1e-05, momentum=0.1, affine=True, track_running_stats=True)\n",
      "        (relu): ReLU(inplace=True)\n",
      "      )\n",
      "      (10): Bottleneck(\n",
      "        (conv1): Conv2d(1024, 256, kernel_size=(1, 1), stride=(1, 1), bias=False)\n",
      "        (bn1): BatchNorm2d(256, eps=1e-05, momentum=0.1, affine=True, track_running_stats=True)\n",
      "        (conv2): Conv2d(256, 256, kernel_size=(3, 3), stride=(1, 1), padding=(1, 1), bias=False)\n",
      "        (bn2): BatchNorm2d(256, eps=1e-05, momentum=0.1, affine=True, track_running_stats=True)\n",
      "        (conv3): Conv2d(256, 1024, kernel_size=(1, 1), stride=(1, 1), bias=False)\n",
      "        (bn3): BatchNorm2d(1024, eps=1e-05, momentum=0.1, affine=True, track_running_stats=True)\n",
      "        (relu): ReLU(inplace=True)\n",
      "      )\n",
      "      (11): Bottleneck(\n",
      "        (conv1): Conv2d(1024, 256, kernel_size=(1, 1), stride=(1, 1), bias=False)\n",
      "        (bn1): BatchNorm2d(256, eps=1e-05, momentum=0.1, affine=True, track_running_stats=True)\n",
      "        (conv2): Conv2d(256, 256, kernel_size=(3, 3), stride=(1, 1), padding=(1, 1), bias=False)\n",
      "        (bn2): BatchNorm2d(256, eps=1e-05, momentum=0.1, affine=True, track_running_stats=True)\n",
      "        (conv3): Conv2d(256, 1024, kernel_size=(1, 1), stride=(1, 1), bias=False)\n",
      "        (bn3): BatchNorm2d(1024, eps=1e-05, momentum=0.1, affine=True, track_running_stats=True)\n",
      "        (relu): ReLU(inplace=True)\n",
      "      )\n",
      "      (12): Bottleneck(\n",
      "        (conv1): Conv2d(1024, 256, kernel_size=(1, 1), stride=(1, 1), bias=False)\n",
      "        (bn1): BatchNorm2d(256, eps=1e-05, momentum=0.1, affine=True, track_running_stats=True)\n",
      "        (conv2): Conv2d(256, 256, kernel_size=(3, 3), stride=(1, 1), padding=(1, 1), bias=False)\n",
      "        (bn2): BatchNorm2d(256, eps=1e-05, momentum=0.1, affine=True, track_running_stats=True)\n",
      "        (conv3): Conv2d(256, 1024, kernel_size=(1, 1), stride=(1, 1), bias=False)\n",
      "        (bn3): BatchNorm2d(1024, eps=1e-05, momentum=0.1, affine=True, track_running_stats=True)\n",
      "        (relu): ReLU(inplace=True)\n",
      "      )\n",
      "      (13): Bottleneck(\n",
      "        (conv1): Conv2d(1024, 256, kernel_size=(1, 1), stride=(1, 1), bias=False)\n",
      "        (bn1): BatchNorm2d(256, eps=1e-05, momentum=0.1, affine=True, track_running_stats=True)\n",
      "        (conv2): Conv2d(256, 256, kernel_size=(3, 3), stride=(1, 1), padding=(1, 1), bias=False)\n",
      "        (bn2): BatchNorm2d(256, eps=1e-05, momentum=0.1, affine=True, track_running_stats=True)\n",
      "        (conv3): Conv2d(256, 1024, kernel_size=(1, 1), stride=(1, 1), bias=False)\n",
      "        (bn3): BatchNorm2d(1024, eps=1e-05, momentum=0.1, affine=True, track_running_stats=True)\n",
      "        (relu): ReLU(inplace=True)\n",
      "      )\n",
      "      (14): Bottleneck(\n",
      "        (conv1): Conv2d(1024, 256, kernel_size=(1, 1), stride=(1, 1), bias=False)\n",
      "        (bn1): BatchNorm2d(256, eps=1e-05, momentum=0.1, affine=True, track_running_stats=True)\n",
      "        (conv2): Conv2d(256, 256, kernel_size=(3, 3), stride=(1, 1), padding=(1, 1), bias=False)\n",
      "        (bn2): BatchNorm2d(256, eps=1e-05, momentum=0.1, affine=True, track_running_stats=True)\n",
      "        (conv3): Conv2d(256, 1024, kernel_size=(1, 1), stride=(1, 1), bias=False)\n",
      "        (bn3): BatchNorm2d(1024, eps=1e-05, momentum=0.1, affine=True, track_running_stats=True)\n",
      "        (relu): ReLU(inplace=True)\n",
      "      )\n",
      "      (15): Bottleneck(\n",
      "        (conv1): Conv2d(1024, 256, kernel_size=(1, 1), stride=(1, 1), bias=False)\n",
      "        (bn1): BatchNorm2d(256, eps=1e-05, momentum=0.1, affine=True, track_running_stats=True)\n",
      "        (conv2): Conv2d(256, 256, kernel_size=(3, 3), stride=(1, 1), padding=(1, 1), bias=False)\n",
      "        (bn2): BatchNorm2d(256, eps=1e-05, momentum=0.1, affine=True, track_running_stats=True)\n",
      "        (conv3): Conv2d(256, 1024, kernel_size=(1, 1), stride=(1, 1), bias=False)\n",
      "        (bn3): BatchNorm2d(1024, eps=1e-05, momentum=0.1, affine=True, track_running_stats=True)\n",
      "        (relu): ReLU(inplace=True)\n",
      "      )\n",
      "      (16): Bottleneck(\n",
      "        (conv1): Conv2d(1024, 256, kernel_size=(1, 1), stride=(1, 1), bias=False)\n",
      "        (bn1): BatchNorm2d(256, eps=1e-05, momentum=0.1, affine=True, track_running_stats=True)\n",
      "        (conv2): Conv2d(256, 256, kernel_size=(3, 3), stride=(1, 1), padding=(1, 1), bias=False)\n",
      "        (bn2): BatchNorm2d(256, eps=1e-05, momentum=0.1, affine=True, track_running_stats=True)\n",
      "        (conv3): Conv2d(256, 1024, kernel_size=(1, 1), stride=(1, 1), bias=False)\n",
      "        (bn3): BatchNorm2d(1024, eps=1e-05, momentum=0.1, affine=True, track_running_stats=True)\n",
      "        (relu): ReLU(inplace=True)\n",
      "      )\n",
      "      (17): Bottleneck(\n",
      "        (conv1): Conv2d(1024, 256, kernel_size=(1, 1), stride=(1, 1), bias=False)\n",
      "        (bn1): BatchNorm2d(256, eps=1e-05, momentum=0.1, affine=True, track_running_stats=True)\n",
      "        (conv2): Conv2d(256, 256, kernel_size=(3, 3), stride=(1, 1), padding=(1, 1), bias=False)\n",
      "        (bn2): BatchNorm2d(256, eps=1e-05, momentum=0.1, affine=True, track_running_stats=True)\n",
      "        (conv3): Conv2d(256, 1024, kernel_size=(1, 1), stride=(1, 1), bias=False)\n",
      "        (bn3): BatchNorm2d(1024, eps=1e-05, momentum=0.1, affine=True, track_running_stats=True)\n",
      "        (relu): ReLU(inplace=True)\n",
      "      )\n",
      "      (18): Bottleneck(\n",
      "        (conv1): Conv2d(1024, 256, kernel_size=(1, 1), stride=(1, 1), bias=False)\n",
      "        (bn1): BatchNorm2d(256, eps=1e-05, momentum=0.1, affine=True, track_running_stats=True)\n",
      "        (conv2): Conv2d(256, 256, kernel_size=(3, 3), stride=(1, 1), padding=(1, 1), bias=False)\n",
      "        (bn2): BatchNorm2d(256, eps=1e-05, momentum=0.1, affine=True, track_running_stats=True)\n",
      "        (conv3): Conv2d(256, 1024, kernel_size=(1, 1), stride=(1, 1), bias=False)\n",
      "        (bn3): BatchNorm2d(1024, eps=1e-05, momentum=0.1, affine=True, track_running_stats=True)\n",
      "        (relu): ReLU(inplace=True)\n",
      "      )\n",
      "      (19): Bottleneck(\n",
      "        (conv1): Conv2d(1024, 256, kernel_size=(1, 1), stride=(1, 1), bias=False)\n",
      "        (bn1): BatchNorm2d(256, eps=1e-05, momentum=0.1, affine=True, track_running_stats=True)\n",
      "        (conv2): Conv2d(256, 256, kernel_size=(3, 3), stride=(1, 1), padding=(1, 1), bias=False)\n",
      "        (bn2): BatchNorm2d(256, eps=1e-05, momentum=0.1, affine=True, track_running_stats=True)\n",
      "        (conv3): Conv2d(256, 1024, kernel_size=(1, 1), stride=(1, 1), bias=False)\n",
      "        (bn3): BatchNorm2d(1024, eps=1e-05, momentum=0.1, affine=True, track_running_stats=True)\n",
      "        (relu): ReLU(inplace=True)\n",
      "      )\n",
      "      (20): Bottleneck(\n",
      "        (conv1): Conv2d(1024, 256, kernel_size=(1, 1), stride=(1, 1), bias=False)\n",
      "        (bn1): BatchNorm2d(256, eps=1e-05, momentum=0.1, affine=True, track_running_stats=True)\n",
      "        (conv2): Conv2d(256, 256, kernel_size=(3, 3), stride=(1, 1), padding=(1, 1), bias=False)\n",
      "        (bn2): BatchNorm2d(256, eps=1e-05, momentum=0.1, affine=True, track_running_stats=True)\n",
      "        (conv3): Conv2d(256, 1024, kernel_size=(1, 1), stride=(1, 1), bias=False)\n",
      "        (bn3): BatchNorm2d(1024, eps=1e-05, momentum=0.1, affine=True, track_running_stats=True)\n",
      "        (relu): ReLU(inplace=True)\n",
      "      )\n",
      "      (21): Bottleneck(\n",
      "        (conv1): Conv2d(1024, 256, kernel_size=(1, 1), stride=(1, 1), bias=False)\n",
      "        (bn1): BatchNorm2d(256, eps=1e-05, momentum=0.1, affine=True, track_running_stats=True)\n",
      "        (conv2): Conv2d(256, 256, kernel_size=(3, 3), stride=(1, 1), padding=(1, 1), bias=False)\n",
      "        (bn2): BatchNorm2d(256, eps=1e-05, momentum=0.1, affine=True, track_running_stats=True)\n",
      "        (conv3): Conv2d(256, 1024, kernel_size=(1, 1), stride=(1, 1), bias=False)\n",
      "        (bn3): BatchNorm2d(1024, eps=1e-05, momentum=0.1, affine=True, track_running_stats=True)\n",
      "        (relu): ReLU(inplace=True)\n",
      "      )\n",
      "      (22): Bottleneck(\n",
      "        (conv1): Conv2d(1024, 256, kernel_size=(1, 1), stride=(1, 1), bias=False)\n",
      "        (bn1): BatchNorm2d(256, eps=1e-05, momentum=0.1, affine=True, track_running_stats=True)\n",
      "        (conv2): Conv2d(256, 256, kernel_size=(3, 3), stride=(1, 1), padding=(1, 1), bias=False)\n",
      "        (bn2): BatchNorm2d(256, eps=1e-05, momentum=0.1, affine=True, track_running_stats=True)\n",
      "        (conv3): Conv2d(256, 1024, kernel_size=(1, 1), stride=(1, 1), bias=False)\n",
      "        (bn3): BatchNorm2d(1024, eps=1e-05, momentum=0.1, affine=True, track_running_stats=True)\n",
      "        (relu): ReLU(inplace=True)\n",
      "      )\n",
      "      (23): Bottleneck(\n",
      "        (conv1): Conv2d(1024, 256, kernel_size=(1, 1), stride=(1, 1), bias=False)\n",
      "        (bn1): BatchNorm2d(256, eps=1e-05, momentum=0.1, affine=True, track_running_stats=True)\n",
      "        (conv2): Conv2d(256, 256, kernel_size=(3, 3), stride=(1, 1), padding=(1, 1), bias=False)\n",
      "        (bn2): BatchNorm2d(256, eps=1e-05, momentum=0.1, affine=True, track_running_stats=True)\n",
      "        (conv3): Conv2d(256, 1024, kernel_size=(1, 1), stride=(1, 1), bias=False)\n",
      "        (bn3): BatchNorm2d(1024, eps=1e-05, momentum=0.1, affine=True, track_running_stats=True)\n",
      "        (relu): ReLU(inplace=True)\n",
      "      )\n",
      "      (24): Bottleneck(\n",
      "        (conv1): Conv2d(1024, 256, kernel_size=(1, 1), stride=(1, 1), bias=False)\n",
      "        (bn1): BatchNorm2d(256, eps=1e-05, momentum=0.1, affine=True, track_running_stats=True)\n",
      "        (conv2): Conv2d(256, 256, kernel_size=(3, 3), stride=(1, 1), padding=(1, 1), bias=False)\n",
      "        (bn2): BatchNorm2d(256, eps=1e-05, momentum=0.1, affine=True, track_running_stats=True)\n",
      "        (conv3): Conv2d(256, 1024, kernel_size=(1, 1), stride=(1, 1), bias=False)\n",
      "        (bn3): BatchNorm2d(1024, eps=1e-05, momentum=0.1, affine=True, track_running_stats=True)\n",
      "        (relu): ReLU(inplace=True)\n",
      "      )\n",
      "      (25): Bottleneck(\n",
      "        (conv1): Conv2d(1024, 256, kernel_size=(1, 1), stride=(1, 1), bias=False)\n",
      "        (bn1): BatchNorm2d(256, eps=1e-05, momentum=0.1, affine=True, track_running_stats=True)\n",
      "        (conv2): Conv2d(256, 256, kernel_size=(3, 3), stride=(1, 1), padding=(1, 1), bias=False)\n",
      "        (bn2): BatchNorm2d(256, eps=1e-05, momentum=0.1, affine=True, track_running_stats=True)\n",
      "        (conv3): Conv2d(256, 1024, kernel_size=(1, 1), stride=(1, 1), bias=False)\n",
      "        (bn3): BatchNorm2d(1024, eps=1e-05, momentum=0.1, affine=True, track_running_stats=True)\n",
      "        (relu): ReLU(inplace=True)\n",
      "      )\n",
      "      (26): Bottleneck(\n",
      "        (conv1): Conv2d(1024, 256, kernel_size=(1, 1), stride=(1, 1), bias=False)\n",
      "        (bn1): BatchNorm2d(256, eps=1e-05, momentum=0.1, affine=True, track_running_stats=True)\n",
      "        (conv2): Conv2d(256, 256, kernel_size=(3, 3), stride=(1, 1), padding=(1, 1), bias=False)\n",
      "        (bn2): BatchNorm2d(256, eps=1e-05, momentum=0.1, affine=True, track_running_stats=True)\n",
      "        (conv3): Conv2d(256, 1024, kernel_size=(1, 1), stride=(1, 1), bias=False)\n",
      "        (bn3): BatchNorm2d(1024, eps=1e-05, momentum=0.1, affine=True, track_running_stats=True)\n",
      "        (relu): ReLU(inplace=True)\n",
      "      )\n",
      "      (27): Bottleneck(\n",
      "        (conv1): Conv2d(1024, 256, kernel_size=(1, 1), stride=(1, 1), bias=False)\n",
      "        (bn1): BatchNorm2d(256, eps=1e-05, momentum=0.1, affine=True, track_running_stats=True)\n",
      "        (conv2): Conv2d(256, 256, kernel_size=(3, 3), stride=(1, 1), padding=(1, 1), bias=False)\n",
      "        (bn2): BatchNorm2d(256, eps=1e-05, momentum=0.1, affine=True, track_running_stats=True)\n",
      "        (conv3): Conv2d(256, 1024, kernel_size=(1, 1), stride=(1, 1), bias=False)\n",
      "        (bn3): BatchNorm2d(1024, eps=1e-05, momentum=0.1, affine=True, track_running_stats=True)\n",
      "        (relu): ReLU(inplace=True)\n",
      "      )\n",
      "      (28): Bottleneck(\n",
      "        (conv1): Conv2d(1024, 256, kernel_size=(1, 1), stride=(1, 1), bias=False)\n",
      "        (bn1): BatchNorm2d(256, eps=1e-05, momentum=0.1, affine=True, track_running_stats=True)\n",
      "        (conv2): Conv2d(256, 256, kernel_size=(3, 3), stride=(1, 1), padding=(1, 1), bias=False)\n",
      "        (bn2): BatchNorm2d(256, eps=1e-05, momentum=0.1, affine=True, track_running_stats=True)\n",
      "        (conv3): Conv2d(256, 1024, kernel_size=(1, 1), stride=(1, 1), bias=False)\n",
      "        (bn3): BatchNorm2d(1024, eps=1e-05, momentum=0.1, affine=True, track_running_stats=True)\n",
      "        (relu): ReLU(inplace=True)\n",
      "      )\n",
      "      (29): Bottleneck(\n",
      "        (conv1): Conv2d(1024, 256, kernel_size=(1, 1), stride=(1, 1), bias=False)\n",
      "        (bn1): BatchNorm2d(256, eps=1e-05, momentum=0.1, affine=True, track_running_stats=True)\n",
      "        (conv2): Conv2d(256, 256, kernel_size=(3, 3), stride=(1, 1), padding=(1, 1), bias=False)\n",
      "        (bn2): BatchNorm2d(256, eps=1e-05, momentum=0.1, affine=True, track_running_stats=True)\n",
      "        (conv3): Conv2d(256, 1024, kernel_size=(1, 1), stride=(1, 1), bias=False)\n",
      "        (bn3): BatchNorm2d(1024, eps=1e-05, momentum=0.1, affine=True, track_running_stats=True)\n",
      "        (relu): ReLU(inplace=True)\n",
      "      )\n",
      "      (30): Bottleneck(\n",
      "        (conv1): Conv2d(1024, 256, kernel_size=(1, 1), stride=(1, 1), bias=False)\n",
      "        (bn1): BatchNorm2d(256, eps=1e-05, momentum=0.1, affine=True, track_running_stats=True)\n",
      "        (conv2): Conv2d(256, 256, kernel_size=(3, 3), stride=(1, 1), padding=(1, 1), bias=False)\n",
      "        (bn2): BatchNorm2d(256, eps=1e-05, momentum=0.1, affine=True, track_running_stats=True)\n",
      "        (conv3): Conv2d(256, 1024, kernel_size=(1, 1), stride=(1, 1), bias=False)\n",
      "        (bn3): BatchNorm2d(1024, eps=1e-05, momentum=0.1, affine=True, track_running_stats=True)\n",
      "        (relu): ReLU(inplace=True)\n",
      "      )\n",
      "      (31): Bottleneck(\n",
      "        (conv1): Conv2d(1024, 256, kernel_size=(1, 1), stride=(1, 1), bias=False)\n",
      "        (bn1): BatchNorm2d(256, eps=1e-05, momentum=0.1, affine=True, track_running_stats=True)\n",
      "        (conv2): Conv2d(256, 256, kernel_size=(3, 3), stride=(1, 1), padding=(1, 1), bias=False)\n",
      "        (bn2): BatchNorm2d(256, eps=1e-05, momentum=0.1, affine=True, track_running_stats=True)\n",
      "        (conv3): Conv2d(256, 1024, kernel_size=(1, 1), stride=(1, 1), bias=False)\n",
      "        (bn3): BatchNorm2d(1024, eps=1e-05, momentum=0.1, affine=True, track_running_stats=True)\n",
      "        (relu): ReLU(inplace=True)\n",
      "      )\n",
      "      (32): Bottleneck(\n",
      "        (conv1): Conv2d(1024, 256, kernel_size=(1, 1), stride=(1, 1), bias=False)\n",
      "        (bn1): BatchNorm2d(256, eps=1e-05, momentum=0.1, affine=True, track_running_stats=True)\n",
      "        (conv2): Conv2d(256, 256, kernel_size=(3, 3), stride=(1, 1), padding=(1, 1), bias=False)\n",
      "        (bn2): BatchNorm2d(256, eps=1e-05, momentum=0.1, affine=True, track_running_stats=True)\n",
      "        (conv3): Conv2d(256, 1024, kernel_size=(1, 1), stride=(1, 1), bias=False)\n",
      "        (bn3): BatchNorm2d(1024, eps=1e-05, momentum=0.1, affine=True, track_running_stats=True)\n",
      "        (relu): ReLU(inplace=True)\n",
      "      )\n",
      "      (33): Bottleneck(\n",
      "        (conv1): Conv2d(1024, 256, kernel_size=(1, 1), stride=(1, 1), bias=False)\n",
      "        (bn1): BatchNorm2d(256, eps=1e-05, momentum=0.1, affine=True, track_running_stats=True)\n",
      "        (conv2): Conv2d(256, 256, kernel_size=(3, 3), stride=(1, 1), padding=(1, 1), bias=False)\n",
      "        (bn2): BatchNorm2d(256, eps=1e-05, momentum=0.1, affine=True, track_running_stats=True)\n",
      "        (conv3): Conv2d(256, 1024, kernel_size=(1, 1), stride=(1, 1), bias=False)\n",
      "        (bn3): BatchNorm2d(1024, eps=1e-05, momentum=0.1, affine=True, track_running_stats=True)\n",
      "        (relu): ReLU(inplace=True)\n",
      "      )\n",
      "      (34): Bottleneck(\n",
      "        (conv1): Conv2d(1024, 256, kernel_size=(1, 1), stride=(1, 1), bias=False)\n",
      "        (bn1): BatchNorm2d(256, eps=1e-05, momentum=0.1, affine=True, track_running_stats=True)\n",
      "        (conv2): Conv2d(256, 256, kernel_size=(3, 3), stride=(1, 1), padding=(1, 1), bias=False)\n",
      "        (bn2): BatchNorm2d(256, eps=1e-05, momentum=0.1, affine=True, track_running_stats=True)\n",
      "        (conv3): Conv2d(256, 1024, kernel_size=(1, 1), stride=(1, 1), bias=False)\n",
      "        (bn3): BatchNorm2d(1024, eps=1e-05, momentum=0.1, affine=True, track_running_stats=True)\n",
      "        (relu): ReLU(inplace=True)\n",
      "      )\n",
      "      (35): Bottleneck(\n",
      "        (conv1): Conv2d(1024, 256, kernel_size=(1, 1), stride=(1, 1), bias=False)\n",
      "        (bn1): BatchNorm2d(256, eps=1e-05, momentum=0.1, affine=True, track_running_stats=True)\n",
      "        (conv2): Conv2d(256, 256, kernel_size=(3, 3), stride=(1, 1), padding=(1, 1), bias=False)\n",
      "        (bn2): BatchNorm2d(256, eps=1e-05, momentum=0.1, affine=True, track_running_stats=True)\n",
      "        (conv3): Conv2d(256, 1024, kernel_size=(1, 1), stride=(1, 1), bias=False)\n",
      "        (bn3): BatchNorm2d(1024, eps=1e-05, momentum=0.1, affine=True, track_running_stats=True)\n",
      "        (relu): ReLU(inplace=True)\n",
      "      )\n",
      "    )\n",
      "    (layer4): ResLayer(\n",
      "      (0): Bottleneck(\n",
      "        (conv1): Conv2d(1024, 512, kernel_size=(1, 1), stride=(1, 1), bias=False)\n",
      "        (bn1): BatchNorm2d(512, eps=1e-05, momentum=0.1, affine=True, track_running_stats=True)\n",
      "        (conv2): Conv2d(512, 512, kernel_size=(3, 3), stride=(2, 2), padding=(1, 1), bias=False)\n",
      "        (bn2): BatchNorm2d(512, eps=1e-05, momentum=0.1, affine=True, track_running_stats=True)\n",
      "        (conv3): Conv2d(512, 2048, kernel_size=(1, 1), stride=(1, 1), bias=False)\n",
      "        (bn3): BatchNorm2d(2048, eps=1e-05, momentum=0.1, affine=True, track_running_stats=True)\n",
      "        (relu): ReLU(inplace=True)\n",
      "        (downsample): Sequential(\n",
      "          (0): Conv2d(1024, 2048, kernel_size=(1, 1), stride=(2, 2), bias=False)\n",
      "          (1): BatchNorm2d(2048, eps=1e-05, momentum=0.1, affine=True, track_running_stats=True)\n",
      "        )\n",
      "      )\n",
      "      (1): Bottleneck(\n",
      "        (conv1): Conv2d(2048, 512, kernel_size=(1, 1), stride=(1, 1), bias=False)\n",
      "        (bn1): BatchNorm2d(512, eps=1e-05, momentum=0.1, affine=True, track_running_stats=True)\n",
      "        (conv2): Conv2d(512, 512, kernel_size=(3, 3), stride=(1, 1), padding=(1, 1), bias=False)\n",
      "        (bn2): BatchNorm2d(512, eps=1e-05, momentum=0.1, affine=True, track_running_stats=True)\n",
      "        (conv3): Conv2d(512, 2048, kernel_size=(1, 1), stride=(1, 1), bias=False)\n",
      "        (bn3): BatchNorm2d(2048, eps=1e-05, momentum=0.1, affine=True, track_running_stats=True)\n",
      "        (relu): ReLU(inplace=True)\n",
      "      )\n",
      "      (2): Bottleneck(\n",
      "        (conv1): Conv2d(2048, 512, kernel_size=(1, 1), stride=(1, 1), bias=False)\n",
      "        (bn1): BatchNorm2d(512, eps=1e-05, momentum=0.1, affine=True, track_running_stats=True)\n",
      "        (conv2): Conv2d(512, 512, kernel_size=(3, 3), stride=(1, 1), padding=(1, 1), bias=False)\n",
      "        (bn2): BatchNorm2d(512, eps=1e-05, momentum=0.1, affine=True, track_running_stats=True)\n",
      "        (conv3): Conv2d(512, 2048, kernel_size=(1, 1), stride=(1, 1), bias=False)\n",
      "        (bn3): BatchNorm2d(2048, eps=1e-05, momentum=0.1, affine=True, track_running_stats=True)\n",
      "        (relu): ReLU(inplace=True)\n",
      "      )\n",
      "    )\n",
      "  )\n",
      "  (head): HeatmapHead(\n",
      "    (loss_module): KeypointMSELoss()\n",
      "    (deconv_layers): Sequential(\n",
      "      (0): ConvTranspose2d(2048, 256, kernel_size=(4, 4), stride=(2, 2), padding=(1, 1), bias=False)\n",
      "      (1): BatchNorm2d(256, eps=1e-05, momentum=0.1, affine=True, track_running_stats=True)\n",
      "      (2): ReLU(inplace=True)\n",
      "      (3): ConvTranspose2d(256, 256, kernel_size=(4, 4), stride=(2, 2), padding=(1, 1), bias=False)\n",
      "      (4): BatchNorm2d(256, eps=1e-05, momentum=0.1, affine=True, track_running_stats=True)\n",
      "      (5): ReLU(inplace=True)\n",
      "      (6): ConvTranspose2d(256, 256, kernel_size=(4, 4), stride=(2, 2), padding=(1, 1), bias=False)\n",
      "      (7): BatchNorm2d(256, eps=1e-05, momentum=0.1, affine=True, track_running_stats=True)\n",
      "      (8): ReLU(inplace=True)\n",
      "    )\n",
      "    (conv_layers): Identity()\n",
      "    (final_layer): Conv2d(256, 21, kernel_size=(1, 1), stride=(1, 1))\n",
      "  )\n",
      "  init_cfg=[{'type': 'Normal', 'layer': ['Conv2d', 'ConvTranspose2d'], 'std': 0.001}, {'type': 'Constant', 'layer': 'BatchNorm2d', 'val': 1}]\n",
      ")\n"
     ]
    }
   ],
   "source": [
    "print(pose_estimator)"
   ]
  },
  {
   "cell_type": "code",
   "execution_count": 12,
   "id": "ba29d442",
   "metadata": {},
   "outputs": [],
   "source": [
    "visualizer = VISUALIZERS.build(pose_estimator.cfg.visualizer)\n",
    "\n",
    "visualizer.set_dataset_meta(\n",
    "        pose_estimator.dataset_meta, skeleton_style=\"mmpose\")"
   ]
  },
  {
   "cell_type": "code",
   "execution_count": 2,
   "id": "df52c4e4",
   "metadata": {},
   "outputs": [
    {
     "name": "stdout",
     "output_type": "stream",
     "text": [
      "Loads checkpoint by local backend from path: D:\\mmpose\\training_log\\epoch_30.pth\n",
      "06/05 22:46:55 - mmengine - \u001b[5m\u001b[4m\u001b[33mWARNING\u001b[0m - Failed to search registry with scope \"mmpose\" in the \"function\" registry tree. As a workaround, the current \"function\" registry in \"mmengine\" is used to build instance. This may cause unexpected failure when running the built modules. Please check whether \"mmpose\" is a correct scope, or whether the registry is initialized.\n",
      "06/05 22:46:55 - mmengine - \u001b[5m\u001b[4m\u001b[33mWARNING\u001b[0m - `Visualizer` backend is not initialized because save_dir is None.\n",
      "Loads checkpoint by http backend from path: https://download.openmmlab.com/mmdetection/v3.0/rtmdet/rtmdet_m_8xb32-300e_coco/rtmdet_m_8xb32-300e_coco_20220719_112220-229f527c.pth\n",
      "The model and loaded state dict do not match exactly\n",
      "\n",
      "unexpected key in source state_dict: data_preprocessor.mean, data_preprocessor.std\n",
      "\n",
      "06/05 22:46:56 - mmengine - \u001b[5m\u001b[4m\u001b[33mWARNING\u001b[0m - Failed to search registry with scope \"mmdet\" in the \"function\" registry tree. As a workaround, the current \"function\" registry in \"mmengine\" is used to build instance. This may cause unexpected failure when running the built modules. Please check whether \"mmdet\" is a correct scope, or whether the registry is initialized.\n"
     ]
    }
   ],
   "source": [
    "\n",
    "from mmpose.apis import MMPoseInferencer\n",
    "\n",
    "inferencer = MMPoseInferencer(\n",
    "    pose2d=r\"D:\\mmpose\\configs\\body_2d_keypoint\\topdown_heatmap\\coco\\td-hm_res152_8xb32-210e_coco-384x288.py\",\n",
    "    pose2d_weights=r\"D:\\mmpose\\training_log\\epoch_30.pth\",\n",
    "#     det_model=r\"D:\\mmdetection\\configs\\faster_rcnn\\custom_model.py\",\n",
    "#     det_weights=r\"D:\\mmdetection\\work_dirs\\custom_model\\epoch_12.pth\",\n",
    "#     det_cat_ids=[0],  # the category id of 'human' class\n",
    "#     device='cuda:0'\n",
    ")\n",
    "\n"
   ]
  },
  {
   "cell_type": "code",
   "execution_count": 3,
   "id": "33ac7002",
   "metadata": {},
   "outputs": [
    {
     "data": {
      "application/vnd.jupyter.widget-view+json": {
       "model_id": "ce512a9791c4469a99b3734614a48280",
       "version_major": 2,
       "version_minor": 0
      },
      "text/plain": [
       "Output()"
      ]
     },
     "metadata": {},
     "output_type": "display_data"
    },
    {
     "name": "stdout",
     "output_type": "stream",
     "text": [
      "<generator object MMPoseInferencer.__call__ at 0x000001DB3E4C2F20>\n"
     ]
    },
    {
     "data": {
      "text/html": [
       "<pre style=\"white-space:pre;overflow-x:auto;line-height:normal;font-family:Menlo,'DejaVu Sans Mono',consolas,'Courier New',monospace\"></pre>\n"
      ],
      "text/plain": []
     },
     "metadata": {},
     "output_type": "display_data"
    },
    {
     "data": {
      "text/html": [
       "<pre style=\"white-space:pre;overflow-x:auto;line-height:normal;font-family:Menlo,'DejaVu Sans Mono',consolas,'Courier New',monospace\">\n",
       "</pre>\n"
      ],
      "text/plain": [
       "\n"
      ]
     },
     "metadata": {},
     "output_type": "display_data"
    },
    {
     "data": {
      "application/vnd.jupyter.widget-view+json": {
       "model_id": "d14660d9c8af4f76a6025ccc1d97ea68",
       "version_major": 2,
       "version_minor": 0
      },
      "text/plain": [
       "Output()"
      ]
     },
     "metadata": {},
     "output_type": "display_data"
    },
    {
     "name": "stdout",
     "output_type": "stream",
     "text": [
      "defaultdict(<class 'list'>, {'visualization': [array([[[ 37,  39,  22],\n",
      "        [ 33,  35,  18],\n",
      "        [ 34,  36,  19],\n",
      "        ...,\n",
      "        [247, 249, 244],\n",
      "        [247, 249, 244],\n",
      "        [247, 249, 244]],\n",
      "\n",
      "       [[ 37,  39,  22],\n",
      "        [ 33,  35,  18],\n",
      "        [ 34,  36,  19],\n",
      "        ...,\n",
      "        [247, 249, 244],\n",
      "        [247, 249, 244],\n",
      "        [247, 249, 244]],\n",
      "\n",
      "       [[ 37,  39,  22],\n",
      "        [ 34,  36,  19],\n",
      "        [ 34,  36,  19],\n",
      "        ...,\n",
      "        [247, 249, 244],\n",
      "        [247, 249, 244],\n",
      "        [247, 249, 244]],\n",
      "\n",
      "       ...,\n",
      "\n",
      "       [[175, 118,  76],\n",
      "        [175, 118,  76],\n",
      "        [175, 118,  76],\n",
      "        ...,\n",
      "        [214, 164, 170],\n",
      "        [212, 165, 170],\n",
      "        [212, 165, 170]],\n",
      "\n",
      "       [[174, 117,  75],\n",
      "        [174, 117,  75],\n",
      "        [174, 117,  75],\n",
      "        ...,\n",
      "        [216, 166, 174],\n",
      "        [213, 168, 174],\n",
      "        [213, 168, 174]],\n",
      "\n",
      "       [[173, 116,  74],\n",
      "        [173, 116,  74],\n",
      "        [173, 116,  74],\n",
      "        ...,\n",
      "        [216, 166, 174],\n",
      "        [213, 168, 174],\n",
      "        [213, 168, 174]]], dtype=uint8)], 'predictions': [[{'keypoints': [[173.74458821614576, 396.3216552734375], [173.74458821614576, 427.15458170572924], [192.24434407552076, 464.15409342447924], [229.24385579427076, 402.48824055989576], [290.90970865885424, 408.65482584635424], [315.5760498046875, 482.653849283854], [235.41044108072924, 470.3206787109375], [235.41044108072924, 482.653849283854], [223.0772705078125, 488.8204345703125], [223.0772705078125, 525.8199462890625], [192.24434407552076, 519.653361002604], [186.0777587890625, 556.652872721354], [377.24190266927087, 451.8209228515625], [266.24336751302087, 587.485799153646], [216.91068522135413, 655.3182373046875], [192.24434407552076, 605.985555013021], [235.41044108072924, 605.985555013021], [272.40995279947913, 612.152140299479], [186.0777587890625, 624.485310872396], [229.24385579427076, 630.651896158854], [260.0767822265625, 636.8184814453125]], 'keypoint_scores': [0.7731986045837402, 0.6087780594825745, 0.6239556074142456, 0.6605991721153259, 0.7572921514511108, 0.7700780034065247, 0.5621514916419983, 0.5699337720870972, 0.5973163843154907, 0.6565940976142883, 0.5613526105880737, 0.6099047660827637, 0.7621192932128906, 0.5593134164810181, 0.8417138457298279, 0.6424476504325867, 0.6559004187583923, 0.5668161511421204, 0.8093764185905457, 0.6749939322471619, 0.646695077419281], 'bbox': ([0.0, 5.9767913818359375, 538.6533203125, 953.164306640625],), 'bbox_score': 0.9158345}]]})\n",
      "87\n",
      "<generator object MMPoseInferencer.__call__ at 0x000001DB3E4C27B0>\n"
     ]
    },
    {
     "data": {
      "text/html": [
       "<pre style=\"white-space:pre;overflow-x:auto;line-height:normal;font-family:Menlo,'DejaVu Sans Mono',consolas,'Courier New',monospace\"></pre>\n"
      ],
      "text/plain": []
     },
     "metadata": {},
     "output_type": "display_data"
    },
    {
     "data": {
      "text/html": [
       "<pre style=\"white-space:pre;overflow-x:auto;line-height:normal;font-family:Menlo,'DejaVu Sans Mono',consolas,'Courier New',monospace\">\n",
       "</pre>\n"
      ],
      "text/plain": [
       "\n"
      ]
     },
     "metadata": {},
     "output_type": "display_data"
    },
    {
     "name": "stdout",
     "output_type": "stream",
     "text": [
      "defaultdict(<class 'list'>, {'visualization': [array([[[ 33,  39,  26],\n",
      "        [ 29,  35,  22],\n",
      "        [ 32,  35,  23],\n",
      "        ...,\n",
      "        [247, 249, 244],\n",
      "        [247, 249, 244],\n",
      "        [247, 249, 244]],\n",
      "\n",
      "       [[ 33,  39,  26],\n",
      "        [ 29,  35,  22],\n",
      "        [ 32,  35,  23],\n",
      "        ...,\n",
      "        [247, 249, 244],\n",
      "        [247, 249, 244],\n",
      "        [247, 249, 244]],\n",
      "\n",
      "       [[ 33,  39,  26],\n",
      "        [ 30,  36,  23],\n",
      "        [ 32,  35,  23],\n",
      "        ...,\n",
      "        [247, 249, 244],\n",
      "        [247, 249, 244],\n",
      "        [247, 249, 244]],\n",
      "\n",
      "       ...,\n",
      "\n",
      "       [[176, 119,  77],\n",
      "        [176, 119,  77],\n",
      "        [176, 119,  77],\n",
      "        ...,\n",
      "        [212, 162, 168],\n",
      "        [212, 162, 168],\n",
      "        [212, 162, 168]],\n",
      "\n",
      "       [[175, 118,  76],\n",
      "        [175, 118,  76],\n",
      "        [175, 118,  76],\n",
      "        ...,\n",
      "        [216, 164, 170],\n",
      "        [214, 164, 172],\n",
      "        [214, 164, 172]],\n",
      "\n",
      "       [[174, 117,  75],\n",
      "        [174, 117,  75],\n",
      "        [174, 117,  75],\n",
      "        ...,\n",
      "        [216, 164, 170],\n",
      "        [214, 164, 172],\n",
      "        [214, 164, 172]]], dtype=uint8)], 'predictions': [[{'keypoints': [[173.1122144063313, 396.39553451538086], [173.1122144063313, 427.21636835734057], [191.60471471150709, 464.20136896769213], [228.58971532185865, 402.5597012837727], [290.23138300577807, 408.7238680521648], [314.8880500793457, 482.6938692728677], [228.58971532185865, 470.365535736084], [234.75388209025073, 482.6938692728677], [222.4255485534668, 488.85803604125977], [222.4255485534668, 525.8430366516113], [197.76888147989916, 519.6788698832192], [185.44054794311523, 556.6638704935708], [376.529717763265, 451.8730354309082], [271.7388827006022, 587.4847043355308], [222.4255485534668, 655.2905387878418], [197.76888147989916, 605.9772046407065], [234.75388209025073, 605.9772046407065], [271.7388827006022, 612.1413714090982], [185.44054794311523, 624.4697049458823], [228.58971532185865, 630.6338717142739], [259.41054916381836, 636.798038482666]], 'keypoint_scores': [0.7528712749481201, 0.5878757238388062, 0.6229920983314514, 0.6444445848464966, 0.7414165139198303, 0.7650763392448425, 0.5515472292900085, 0.5719375014305115, 0.598824143409729, 0.6736987829208374, 0.5928794145584106, 0.6399053931236267, 0.7598671317100525, 0.5737302899360657, 0.8479896783828735, 0.6549584269523621, 0.6652104258537292, 0.5764660239219666, 0.8170453310012817, 0.6860170364379883, 0.6544350981712341], 'bbox': ([0.0, 6.20379638671875, 537.3135986328125, 953.019775390625],), 'bbox_score': 0.91261625}]]})"
     ]
    },
    {
     "data": {
      "application/vnd.jupyter.widget-view+json": {
       "model_id": "1ea9a886cf734460afc0d8c1e4462725",
       "version_major": 2,
       "version_minor": 0
      },
      "text/plain": [
       "Output()"
      ]
     },
     "metadata": {},
     "output_type": "display_data"
    },
    {
     "name": "stdout",
     "output_type": "stream",
     "text": [
      "\n",
      "87\n",
      "<generator object MMPoseInferencer.__call__ at 0x000001DB3E4C2120>\n"
     ]
    },
    {
     "data": {
      "text/html": [
       "<pre style=\"white-space:pre;overflow-x:auto;line-height:normal;font-family:Menlo,'DejaVu Sans Mono',consolas,'Courier New',monospace\"></pre>\n"
      ],
      "text/plain": []
     },
     "metadata": {},
     "output_type": "display_data"
    },
    {
     "data": {
      "text/html": [
       "<pre style=\"white-space:pre;overflow-x:auto;line-height:normal;font-family:Menlo,'DejaVu Sans Mono',consolas,'Courier New',monospace\">\n",
       "</pre>\n"
      ],
      "text/plain": [
       "\n"
      ]
     },
     "metadata": {},
     "output_type": "display_data"
    },
    {
     "name": "stdout",
     "output_type": "stream",
     "text": [
      "defaultdict(<class 'list'>, {'visualization': [array([[[ 35,  41,  28],\n",
      "        [ 30,  36,  23],\n",
      "        [ 31,  34,  22],\n",
      "        ...,\n",
      "        [247, 249, 244],\n",
      "        [247, 249, 244],\n",
      "        [247, 249, 244]],\n",
      "\n",
      "       [[ 35,  41,  28],\n",
      "        [ 32,  38,  25],\n",
      "        [ 31,  34,  22],\n",
      "        ...,\n",
      "        [247, 249, 244],\n",
      "        [247, 249, 244],\n",
      "        [247, 249, 244]],\n",
      "\n",
      "       [[ 34,  40,  27],\n",
      "        [ 30,  36,  23],\n",
      "        [ 32,  35,  23],\n",
      "        ...,\n",
      "        [247, 249, 244],\n",
      "        [247, 249, 244],\n",
      "        [247, 249, 244]],\n",
      "\n",
      "       ...,\n",
      "\n",
      "       [[176, 119,  77],\n",
      "        [176, 119,  77],\n",
      "        [176, 119,  77],\n",
      "        ...,\n",
      "        [216, 164, 170],\n",
      "        [212, 162, 168],\n",
      "        [212, 162, 168]],\n",
      "\n",
      "       [[175, 118,  76],\n",
      "        [175, 118,  76],\n",
      "        [175, 118,  76],\n",
      "        ...,\n",
      "        [218, 164, 173],\n",
      "        [216, 164, 172],\n",
      "        [216, 164, 172]],\n",
      "\n",
      "       [[174, 117,  75],\n",
      "        [174, 117,  75],\n",
      "        [174, 117,  75],\n",
      "        ...,\n",
      "        [218, 164, 173],\n",
      "        [216, 164, 172],\n",
      "        [216, 164, 172]]], dtype=uint8)], 'predictions': [[{'keypoints': [[173.08915117051868, 396.40334033966064], [173.08915117051868, 427.2208649317424], [191.57966528998486, 464.2018944422405], [228.5606935289171, 402.5668452580769], [290.1957405938042, 408.7303501764934], [314.84975941975915, 482.69240919748927], [234.72419823540577, 470.36539936065674], [234.72419823540577, 482.69240919748927], [222.39718882242846, 488.85591411590576], [222.39718882242846, 525.8369436264038], [197.7431699964735, 519.6734387079873], [185.4161605834961, 556.6544682184854], [376.48480648464624, 451.8748846054077], [271.70522647433813, 587.4719928105674], [222.39718882242846, 655.270546913147], [197.7431699964735, 605.9625075658164], [234.72419823540577, 605.9625075658164], [271.70522647433813, 618.2895174026489], [185.4161605834961, 624.4530223210654], [228.5606935289171, 630.6165272394815], [259.3782170613606, 636.780032157898]], 'keypoint_scores': [0.7557980418205261, 0.5932797789573669, 0.6242946982383728, 0.6439008116722107, 0.7604840397834778, 0.7551716566085815, 0.5560380220413208, 0.5721038579940796, 0.6002376079559326, 0.6751617789268494, 0.5929623246192932, 0.6371700167655945, 0.7570180892944336, 0.5766525864601135, 0.8478718996047974, 0.657145619392395, 0.6695377230644226, 0.5785263180732727, 0.8219102025032043, 0.690832793712616, 0.6567195653915405], 'bbox': ([0.0, 6.253509521484375, 537.2469482421875, 952.9678344726562],), 'bbox_score': 0.9125105}]]})\n"
     ]
    },
    {
     "data": {
      "application/vnd.jupyter.widget-view+json": {
       "model_id": "2ae1aca0e0d64e21b3b7a5046b8b0f22",
       "version_major": 2,
       "version_minor": 0
      },
      "text/plain": [
       "Output()"
      ]
     },
     "metadata": {},
     "output_type": "display_data"
    },
    {
     "name": "stdout",
     "output_type": "stream",
     "text": [
      "87\n",
      "<generator object MMPoseInferencer.__call__ at 0x000001DB3E8347B0>\n"
     ]
    },
    {
     "data": {
      "text/html": [
       "<pre style=\"white-space:pre;overflow-x:auto;line-height:normal;font-family:Menlo,'DejaVu Sans Mono',consolas,'Courier New',monospace\"></pre>\n"
      ],
      "text/plain": []
     },
     "metadata": {},
     "output_type": "display_data"
    },
    {
     "data": {
      "text/html": [
       "<pre style=\"white-space:pre;overflow-x:auto;line-height:normal;font-family:Menlo,'DejaVu Sans Mono',consolas,'Courier New',monospace\">\n",
       "</pre>\n"
      ],
      "text/plain": [
       "\n"
      ]
     },
     "metadata": {},
     "output_type": "display_data"
    },
    {
     "data": {
      "application/vnd.jupyter.widget-view+json": {
       "model_id": "4e64e295cf1f48c38cafcb36a4fffcf6",
       "version_major": 2,
       "version_minor": 0
      },
      "text/plain": [
       "Output()"
      ]
     },
     "metadata": {},
     "output_type": "display_data"
    },
    {
     "name": "stdout",
     "output_type": "stream",
     "text": [
      "defaultdict(<class 'list'>, {'visualization': [array([[[ 35,  41,  28],\n",
      "        [ 30,  36,  23],\n",
      "        [ 31,  34,  22],\n",
      "        ...,\n",
      "        [247, 249, 244],\n",
      "        [247, 249, 244],\n",
      "        [247, 249, 244]],\n",
      "\n",
      "       [[ 35,  41,  28],\n",
      "        [ 30,  36,  23],\n",
      "        [ 31,  34,  22],\n",
      "        ...,\n",
      "        [247, 249, 244],\n",
      "        [247, 249, 244],\n",
      "        [247, 249, 244]],\n",
      "\n",
      "       [[ 35,  41,  28],\n",
      "        [ 32,  38,  25],\n",
      "        [ 31,  34,  22],\n",
      "        ...,\n",
      "        [247, 249, 244],\n",
      "        [247, 249, 244],\n",
      "        [247, 249, 244]],\n",
      "\n",
      "       ...,\n",
      "\n",
      "       [[176, 119,  77],\n",
      "        [176, 119,  77],\n",
      "        [176, 119,  77],\n",
      "        ...,\n",
      "        [214, 164, 170],\n",
      "        [212, 162, 168],\n",
      "        [212, 162, 168]],\n",
      "\n",
      "       [[175, 118,  76],\n",
      "        [175, 118,  76],\n",
      "        [175, 118,  76],\n",
      "        ...,\n",
      "        [217, 165, 173],\n",
      "        [214, 164, 172],\n",
      "        [214, 164, 172]],\n",
      "\n",
      "       [[174, 117,  75],\n",
      "        [174, 117,  75],\n",
      "        [174, 117,  75],\n",
      "        ...,\n",
      "        [217, 165, 173],\n",
      "        [214, 164, 172],\n",
      "        [214, 164, 172]]], dtype=uint8)], 'predictions': [[{'keypoints': [[173.1462230682373, 396.5792598724365], [173.1462230682373, 433.5572032928467], [191.63519477844238, 464.3721561431885], [228.61313819885254, 402.7422504425049], [290.24304389953613, 408.90524101257324], [314.89500617980957, 482.86112785339355], [234.7761287689209, 470.53514671325684], [240.93911933898926, 482.86112785339355], [222.45014762878418, 489.0241184234619], [222.45014762878418, 526.0020618438721], [191.63519477844238, 519.8390712738037], [185.47220420837402, 556.8170146942139], [376.52491188049316, 452.04617500305176], [271.75407218933105, 587.6319675445557], [222.45014762878418, 655.4248638153076], [197.79818534851074, 606.1209392547607], [234.7761287689209, 606.1209392547607], [271.75407218933105, 612.2839298248291], [185.47220420837402, 624.6099109649658], [228.61313819885254, 630.7729015350342], [259.42809104919434, 636.9358921051025]], 'keypoint_scores': [0.7715277075767517, 0.5937509536743164, 0.6302005052566528, 0.6707856059074402, 0.7364464402198792, 0.7594268918037415, 0.5650495886802673, 0.5782882571220398, 0.6078282594680786, 0.674290657043457, 0.5936920642852783, 0.6332902908325195, 0.7565283179283142, 0.5659487843513489, 0.8551954030990601, 0.6378685832023621, 0.658730149269104, 0.5721327066421509, 0.8091854453086853, 0.6859133839607239, 0.6509246826171875], 'bbox': ([0.0, 6.46197509765625, 537.3451538085938, 953.0972900390625],), 'bbox_score': 0.9096977}]]})\n",
      "87\n",
      "<generator object MMPoseInferencer.__call__ at 0x000001DB3E834CF0>\n"
     ]
    },
    {
     "data": {
      "text/html": [
       "<pre style=\"white-space:pre;overflow-x:auto;line-height:normal;font-family:Menlo,'DejaVu Sans Mono',consolas,'Courier New',monospace\"></pre>\n"
      ],
      "text/plain": []
     },
     "metadata": {},
     "output_type": "display_data"
    },
    {
     "data": {
      "text/html": [
       "<pre style=\"white-space:pre;overflow-x:auto;line-height:normal;font-family:Menlo,'DejaVu Sans Mono',consolas,'Courier New',monospace\">\n",
       "</pre>\n"
      ],
      "text/plain": [
       "\n"
      ]
     },
     "metadata": {},
     "output_type": "display_data"
    },
    {
     "data": {
      "application/vnd.jupyter.widget-view+json": {
       "model_id": "ed4564754935491eafcd590867538810",
       "version_major": 2,
       "version_minor": 0
      },
      "text/plain": [
       "Output()"
      ]
     },
     "metadata": {},
     "output_type": "display_data"
    },
    {
     "data": {
      "text/html": [
       "<pre style=\"white-space:pre;overflow-x:auto;line-height:normal;font-family:Menlo,'DejaVu Sans Mono',consolas,'Courier New',monospace\"></pre>\n"
      ],
      "text/plain": []
     },
     "metadata": {},
     "output_type": "display_data"
    },
    {
     "data": {
      "text/html": [
       "<pre style=\"white-space:pre;overflow-x:auto;line-height:normal;font-family:Menlo,'DejaVu Sans Mono',consolas,'Courier New',monospace\">\n",
       "</pre>\n"
      ],
      "text/plain": [
       "\n"
      ]
     },
     "metadata": {},
     "output_type": "display_data"
    },
    {
     "name": "stdout",
     "output_type": "stream",
     "text": [
      "defaultdict(<class 'list'>, {'visualization': [array([[[ 35,  38,  26],\n",
      "        [ 32,  35,  23],\n",
      "        [ 35,  38,  26],\n",
      "        ...,\n",
      "        [247, 249, 244],\n",
      "        [247, 249, 244],\n",
      "        [247, 249, 244]],\n",
      "\n",
      "       [[ 35,  38,  26],\n",
      "        [ 32,  35,  23],\n",
      "        [ 35,  38,  26],\n",
      "        ...,\n",
      "        [247, 249, 244],\n",
      "        [247, 249, 244],\n",
      "        [247, 249, 244]],\n",
      "\n",
      "       [[ 35,  38,  26],\n",
      "        [ 32,  35,  23],\n",
      "        [ 36,  39,  27],\n",
      "        ...,\n",
      "        [247, 249, 244],\n",
      "        [247, 249, 244],\n",
      "        [247, 249, 244]],\n",
      "\n",
      "       ...,\n",
      "\n",
      "       [[176, 119,  77],\n",
      "        [176, 119,  77],\n",
      "        [176, 119,  77],\n",
      "        ...,\n",
      "        [214, 168, 170],\n",
      "        [212, 166, 166],\n",
      "        [210, 164, 164]],\n",
      "\n",
      "       [[175, 118,  76],\n",
      "        [175, 118,  76],\n",
      "        [175, 118,  76],\n",
      "        ...,\n",
      "        [218, 168, 174],\n",
      "        [213, 169, 170],\n",
      "        [211, 167, 168]],\n",
      "\n",
      "       [[175, 118,  76],\n",
      "        [175, 118,  76],\n",
      "        [175, 118,  76],\n",
      "        ...,\n",
      "        [215, 165, 171],\n",
      "        [212, 168, 169],\n",
      "        [211, 167, 168]]], dtype=uint8)], 'predictions': [[{'keypoints': [[172.757940504286, 396.43618297576904], [172.757940504286, 427.246008237203], [191.2438362969292, 464.2177985509238], [228.2156278822157, 402.5981480280558], [289.83528052435986, 408.76011308034265], [314.4831415812175, 476.5417286554971], [234.37759314643017, 470.37976360321045], [240.53955841064453, 482.70369370778394], [228.2156278822157, 488.8656587600708], [222.05366261800134, 525.8374490737915], [197.40580156114368, 519.6754840215046], [185.08187103271484, 556.6472743352253], [376.10279422336157, 451.8938684463501], [271.34938473171655, 587.4570995966594], [222.05366261800134, 655.238715171814], [197.40580156114368, 605.9429947535198], [234.37759314643017, 605.9429947535198], [271.34938473171655, 612.1049598058064], [185.08187103271484, 624.4288899103801], [228.2156278822157, 630.5908549626668], [259.0254542032877, 636.7528200149536]], 'keypoint_scores': [0.7897723317146301, 0.6107215881347656, 0.646643877029419, 0.6850538849830627, 0.7328987121582031, 0.7723736763000488, 0.5841373801231384, 0.5938675403594971, 0.6157496571540833, 0.6635058522224426, 0.5861558318138123, 0.6228170990943909, 0.7706475853919983, 0.5702680945396423, 0.8458559513092041, 0.6376584768295288, 0.6581584811210632, 0.5718721747398376, 0.8063483834266663, 0.6838408708572388, 0.6477388143539429], 'bbox': ([0.0, 6.3837890625, 536.5368041992188, 952.8616333007812],), 'bbox_score': 0.911529}]]})"
     ]
    },
    {
     "data": {
      "application/vnd.jupyter.widget-view+json": {
       "model_id": "1aececce3f2d4ebeab53e705416899d9",
       "version_major": 2,
       "version_minor": 0
      },
      "text/plain": [
       "Output()"
      ]
     },
     "metadata": {},
     "output_type": "display_data"
    },
    {
     "name": "stdout",
     "output_type": "stream",
     "text": [
      "\n",
      "87\n",
      "<generator object MMPoseInferencer.__call__ at 0x000001DB3E834BA0>\n"
     ]
    },
    {
     "data": {
      "text/html": [
       "<pre style=\"white-space:pre;overflow-x:auto;line-height:normal;font-family:Menlo,'DejaVu Sans Mono',consolas,'Courier New',monospace\"></pre>\n"
      ],
      "text/plain": []
     },
     "metadata": {},
     "output_type": "display_data"
    },
    {
     "data": {
      "text/html": [
       "<pre style=\"white-space:pre;overflow-x:auto;line-height:normal;font-family:Menlo,'DejaVu Sans Mono',consolas,'Courier New',monospace\">\n",
       "</pre>\n"
      ],
      "text/plain": [
       "\n"
      ]
     },
     "metadata": {},
     "output_type": "display_data"
    },
    {
     "data": {
      "application/vnd.jupyter.widget-view+json": {
       "model_id": "5df27f01b0124a6589018d0618cafc7d",
       "version_major": 2,
       "version_minor": 0
      },
      "text/plain": [
       "Output()"
      ]
     },
     "metadata": {},
     "output_type": "display_data"
    },
    {
     "name": "stdout",
     "output_type": "stream",
     "text": [
      "defaultdict(<class 'list'>, {'visualization': [array([[[ 31,  34,  22],\n",
      "        [ 31,  34,  22],\n",
      "        [ 40,  41,  29],\n",
      "        ...,\n",
      "        [247, 249, 244],\n",
      "        [247, 249, 244],\n",
      "        [247, 249, 244]],\n",
      "\n",
      "       [[ 31,  34,  22],\n",
      "        [ 31,  34,  22],\n",
      "        [ 40,  41,  29],\n",
      "        ...,\n",
      "        [247, 249, 244],\n",
      "        [247, 249, 244],\n",
      "        [247, 249, 244]],\n",
      "\n",
      "       [[ 31,  34,  22],\n",
      "        [ 32,  35,  23],\n",
      "        [ 40,  41,  29],\n",
      "        ...,\n",
      "        [247, 249, 244],\n",
      "        [247, 249, 244],\n",
      "        [247, 249, 244]],\n",
      "\n",
      "       ...,\n",
      "\n",
      "       [[177, 120,  78],\n",
      "        [177, 120,  78],\n",
      "        [177, 120,  78],\n",
      "        ...,\n",
      "        [214, 168, 170],\n",
      "        [212, 166, 166],\n",
      "        [210, 164, 164]],\n",
      "\n",
      "       [[176, 119,  77],\n",
      "        [176, 119,  77],\n",
      "        [176, 119,  77],\n",
      "        ...,\n",
      "        [218, 168, 174],\n",
      "        [213, 169, 170],\n",
      "        [211, 167, 168]],\n",
      "\n",
      "       [[175, 118,  76],\n",
      "        [175, 118,  76],\n",
      "        [175, 118,  76],\n",
      "        ...,\n",
      "        [215, 165, 171],\n",
      "        [212, 168, 169],\n",
      "        [211, 167, 168]]], dtype=uint8)], 'predictions': [[{'keypoints': [[172.82947794596362, 396.6161804199219], [178.990224202474, 433.5806579589844], [191.31171671549475, 464.3843892415366], [228.27619425455737, 402.77692667643225], [289.8836568196615, 408.93767293294275], [314.5266418457031, 482.86662801106763], [234.43694051106775, 470.5451354980469], [240.59768676757812, 482.86662801106763], [228.27619425455737, 489.0273742675781], [222.11544799804688, 525.9918518066406], [197.47246297200513, 519.8311055501301], [185.15097045898438, 550.6348368326824], [382.29485066731775, 452.0628967285156], [271.40141805013013, 587.5993143717449], [222.11544799804688, 655.3675231933594], [197.47246297200513, 606.0815531412761], [234.43694051106775, 606.0815531412761], [271.40141805013013, 612.2422993977864], [185.15097045898438, 624.5637919108074], [228.27619425455737, 630.7245381673176], [259.0799255371094, 636.8852844238281]], 'keypoint_scores': [0.7747716903686523, 0.6010657548904419, 0.6387696862220764, 0.6844870448112488, 0.7650824189186096, 0.7565813064575195, 0.5707418918609619, 0.5799984931945801, 0.6028854250907898, 0.6571617722511292, 0.5759418606758118, 0.6121983528137207, 0.7641817927360535, 0.5687130689620972, 0.8603001832962036, 0.6375976800918579, 0.6648541688919067, 0.5836506485939026, 0.8099632263183594, 0.694220781326294, 0.6688840389251709], 'bbox': ([0.0, 6.640960693359375, 536.64208984375, 952.9315795898438],), 'bbox_score': 0.9101069}]]})\n",
      "87\n",
      "<generator object MMPoseInferencer.__call__ at 0x000001DB3E834DD0>\n"
     ]
    },
    {
     "data": {
      "text/html": [
       "<pre style=\"white-space:pre;overflow-x:auto;line-height:normal;font-family:Menlo,'DejaVu Sans Mono',consolas,'Courier New',monospace\"></pre>\n"
      ],
      "text/plain": []
     },
     "metadata": {},
     "output_type": "display_data"
    },
    {
     "data": {
      "text/html": [
       "<pre style=\"white-space:pre;overflow-x:auto;line-height:normal;font-family:Menlo,'DejaVu Sans Mono',consolas,'Courier New',monospace\">\n",
       "</pre>\n"
      ],
      "text/plain": [
       "\n"
      ]
     },
     "metadata": {},
     "output_type": "display_data"
    },
    {
     "data": {
      "application/vnd.jupyter.widget-view+json": {
       "model_id": "aef6d2ab655c4b838977ab4b85b5bdf4",
       "version_major": 2,
       "version_minor": 0
      },
      "text/plain": [
       "Output()"
      ]
     },
     "metadata": {},
     "output_type": "display_data"
    },
    {
     "data": {
      "text/html": [
       "<pre style=\"white-space:pre;overflow-x:auto;line-height:normal;font-family:Menlo,'DejaVu Sans Mono',consolas,'Courier New',monospace\"></pre>\n"
      ],
      "text/plain": []
     },
     "metadata": {},
     "output_type": "display_data"
    },
    {
     "data": {
      "text/html": [
       "<pre style=\"white-space:pre;overflow-x:auto;line-height:normal;font-family:Menlo,'DejaVu Sans Mono',consolas,'Courier New',monospace\">\n",
       "</pre>\n"
      ],
      "text/plain": [
       "\n"
      ]
     },
     "metadata": {},
     "output_type": "display_data"
    },
    {
     "name": "stdout",
     "output_type": "stream",
     "text": [
      "defaultdict(<class 'list'>, {'visualization': [array([[[ 29,  32,  20],\n",
      "        [ 32,  35,  23],\n",
      "        [ 46,  47,  35],\n",
      "        ...,\n",
      "        [247, 249, 244],\n",
      "        [247, 249, 244],\n",
      "        [247, 249, 244]],\n",
      "\n",
      "       [[ 29,  32,  20],\n",
      "        [ 32,  35,  23],\n",
      "        [ 46,  47,  35],\n",
      "        ...,\n",
      "        [247, 249, 244],\n",
      "        [247, 249, 244],\n",
      "        [247, 249, 244]],\n",
      "\n",
      "       [[ 29,  32,  20],\n",
      "        [ 32,  35,  23],\n",
      "        [ 46,  47,  35],\n",
      "        ...,\n",
      "        [247, 249, 244],\n",
      "        [247, 249, 244],\n",
      "        [247, 249, 244]],\n",
      "\n",
      "       ...,\n",
      "\n",
      "       [[177, 120,  78],\n",
      "        [177, 120,  78],\n",
      "        [177, 120,  78],\n",
      "        ...,\n",
      "        [211, 170, 170],\n",
      "        [209, 168, 166],\n",
      "        [207, 166, 164]],\n",
      "\n",
      "       [[177, 120,  78],\n",
      "        [177, 120,  78],\n",
      "        [177, 120,  78],\n",
      "        ...,\n",
      "        [213, 171, 174],\n",
      "        [208, 171, 170],\n",
      "        [206, 169, 168]],\n",
      "\n",
      "       [[176, 119,  77],\n",
      "        [176, 119,  77],\n",
      "        [176, 119,  77],\n",
      "        ...,\n",
      "        [210, 168, 171],\n",
      "        [207, 170, 169],\n",
      "        [206, 169, 168]]], dtype=uint8)], 'predictions': [[{'keypoints': [[178.93397204081225, 396.60050773620605], [178.93397204081225, 427.40770403544116], [191.2568505605061, 458.21490033467603], [228.22548611958814, 402.761946996053], [289.83987871805834, 408.92338625590014], [314.4856357574463, 482.860657374064], [234.3869253794353, 470.5377788543701], [240.54836463928223, 482.860657374064], [228.22548611958814, 489.02209663391113], [222.0640468597412, 525.9907321929932], [197.41828982035327, 519.829292933146], [185.09541130065918, 556.797928492228], [382.2614676157633, 452.0534610748291], [271.3555609385172, 587.6051247914634], [222.0640468597412, 655.3809566497803], [197.41828982035327, 606.0894425710044], [234.3869253794353, 606.0894425710044], [271.3555609385172, 612.2508818308511], [185.09541130065918, 624.5737603505454], [228.22548611958814, 630.7351996103921], [259.03268241882324, 636.8966388702393]], 'keypoint_scores': [0.7939878702163696, 0.6198835372924805, 0.656431257724762, 0.687325119972229, 0.768488883972168, 0.7611305713653564, 0.5961989164352417, 0.6014932990074158, 0.6293284296989441, 0.6872705817222595, 0.6029156446456909, 0.6268511414527893, 0.762307345867157, 0.5580729246139526, 0.8471962809562683, 0.6142739653587341, 0.6436140537261963, 0.5612152814865112, 0.7886013388633728, 0.6718038320541382, 0.640417754650116], 'bbox': ([0.0, 6.5814056396484375, 536.5496826171875, 952.9784545898438],), 'bbox_score': 0.9107277}]]})"
     ]
    },
    {
     "data": {
      "application/vnd.jupyter.widget-view+json": {
       "model_id": "50c8adbfd2d94e8d907602d78232d102",
       "version_major": 2,
       "version_minor": 0
      },
      "text/plain": [
       "Output()"
      ]
     },
     "metadata": {},
     "output_type": "display_data"
    },
    {
     "name": "stdout",
     "output_type": "stream",
     "text": [
      "\n",
      "87\n",
      "<generator object MMPoseInferencer.__call__ at 0x000001DB3E834DD0>\n"
     ]
    },
    {
     "data": {
      "text/html": [
       "<pre style=\"white-space:pre;overflow-x:auto;line-height:normal;font-family:Menlo,'DejaVu Sans Mono',consolas,'Courier New',monospace\"></pre>\n"
      ],
      "text/plain": []
     },
     "metadata": {},
     "output_type": "display_data"
    },
    {
     "data": {
      "text/html": [
       "<pre style=\"white-space:pre;overflow-x:auto;line-height:normal;font-family:Menlo,'DejaVu Sans Mono',consolas,'Courier New',monospace\">\n",
       "</pre>\n"
      ],
      "text/plain": [
       "\n"
      ]
     },
     "metadata": {},
     "output_type": "display_data"
    },
    {
     "name": "stdout",
     "output_type": "stream",
     "text": [
      "defaultdict(<class 'list'>, {'visualization': [array([[[ 27,  33,  20],\n",
      "        [ 39,  45,  32],\n",
      "        [ 49,  52,  40],\n",
      "        ...,\n",
      "        [247, 249, 244],\n",
      "        [247, 249, 244],\n",
      "        [247, 249, 244]],\n",
      "\n",
      "       [[ 27,  33,  20],\n",
      "        [ 39,  45,  32],\n",
      "        [ 49,  52,  40],\n",
      "        ...,\n",
      "        [247, 249, 244],\n",
      "        [247, 249, 244],\n",
      "        [247, 249, 244]],\n",
      "\n",
      "       [[ 27,  33,  20],\n",
      "        [ 39,  45,  32],\n",
      "        [ 49,  52,  40],\n",
      "        ...,\n",
      "        [247, 249, 244],\n",
      "        [247, 249, 244],\n",
      "        [247, 249, 244]],\n",
      "\n",
      "       ...,\n",
      "\n",
      "       [[177, 120,  80],\n",
      "        [177, 120,  80],\n",
      "        [177, 120,  80],\n",
      "        ...,\n",
      "        [206, 168, 172],\n",
      "        [206, 168, 170],\n",
      "        [204, 166, 168]],\n",
      "\n",
      "       [[176, 119,  79],\n",
      "        [176, 119,  79],\n",
      "        [176, 119,  79],\n",
      "        ...,\n",
      "        [209, 169, 173],\n",
      "        [204, 171, 175],\n",
      "        [203, 170, 174]],\n",
      "\n",
      "       [[176, 119,  79],\n",
      "        [176, 119,  79],\n",
      "        [176, 119,  79],\n",
      "        ...,\n",
      "        [206, 166, 170],\n",
      "        [202, 169, 173],\n",
      "        [201, 168, 172]]], dtype=uint8)], 'predictions': [[{'keypoints': [[178.78926467895508, 396.5947074890137], [178.78926467895508, 427.41101455688477], [191.11578750610352, 458.22732162475586], [228.09535598754883, 402.7579689025879], [289.727970123291, 408.9212303161621], [320.5442771911621, 482.88036727905273], [234.25861740112305, 470.5538444519043], [240.42187881469727, 482.88036727905273], [228.09535598754883, 489.04362869262695], [221.9320945739746, 526.0231971740723], [197.27904891967773, 519.859935760498], [184.9525260925293, 556.8395042419434], [376.0136299133301, 452.06406021118164], [271.23818588256836, 587.6558113098145], [221.9320945739746, 655.4516868591309], [197.27904891967773, 606.1455955505371], [234.25861740112305, 606.1455955505371], [271.23818588256836, 612.3088569641113], [184.9525260925293, 624.6353797912598], [228.09535598754883, 630.798641204834], [258.9116630554199, 636.9619026184082]], 'keypoint_scores': [0.7877144813537598, 0.616362452507019, 0.657391369342804, 0.6893833875656128, 0.7454323768615723, 0.763957679271698, 0.5912788510322571, 0.5997099280357361, 0.6315027475357056, 0.6898303627967834, 0.6119261384010315, 0.6382177472114563, 0.7662618160247803, 0.5744019150733948, 0.851063072681427, 0.6288150548934937, 0.6582722067832947, 0.5772029161453247, 0.8000770807266235, 0.6846104860305786, 0.6521559357643127], 'bbox': ([0.0, 6.4602813720703125, 536.3131103515625, 953.13720703125],), 'bbox_score': 0.9086555}]]})\n"
     ]
    },
    {
     "data": {
      "application/vnd.jupyter.widget-view+json": {
       "model_id": "dc51c9db81fd415ab1059a41d527a7da",
       "version_major": 2,
       "version_minor": 0
      },
      "text/plain": [
       "Output()"
      ]
     },
     "metadata": {},
     "output_type": "display_data"
    },
    {
     "name": "stdout",
     "output_type": "stream",
     "text": [
      "87\n",
      "<generator object MMPoseInferencer.__call__ at 0x000001DB3E834270>\n"
     ]
    },
    {
     "data": {
      "text/html": [
       "<pre style=\"white-space:pre;overflow-x:auto;line-height:normal;font-family:Menlo,'DejaVu Sans Mono',consolas,'Courier New',monospace\"></pre>\n"
      ],
      "text/plain": []
     },
     "metadata": {},
     "output_type": "display_data"
    },
    {
     "data": {
      "text/html": [
       "<pre style=\"white-space:pre;overflow-x:auto;line-height:normal;font-family:Menlo,'DejaVu Sans Mono',consolas,'Courier New',monospace\">\n",
       "</pre>\n"
      ],
      "text/plain": [
       "\n"
      ]
     },
     "metadata": {},
     "output_type": "display_data"
    },
    {
     "data": {
      "application/vnd.jupyter.widget-view+json": {
       "model_id": "0e10dc603e0844eab55a9cefa90cf886",
       "version_major": 2,
       "version_minor": 0
      },
      "text/plain": [
       "Output()"
      ]
     },
     "metadata": {},
     "output_type": "display_data"
    },
    {
     "name": "stdout",
     "output_type": "stream",
     "text": [
      "defaultdict(<class 'list'>, {'visualization': [array([[[ 25,  31,  20],\n",
      "        [ 37,  43,  32],\n",
      "        [ 48,  51,  41],\n",
      "        ...,\n",
      "        [247, 249, 244],\n",
      "        [247, 249, 244],\n",
      "        [247, 249, 244]],\n",
      "\n",
      "       [[ 25,  31,  20],\n",
      "        [ 37,  43,  32],\n",
      "        [ 48,  51,  41],\n",
      "        ...,\n",
      "        [247, 249, 244],\n",
      "        [247, 249, 244],\n",
      "        [247, 249, 244]],\n",
      "\n",
      "       [[ 25,  31,  20],\n",
      "        [ 37,  43,  32],\n",
      "        [ 48,  51,  41],\n",
      "        ...,\n",
      "        [247, 249, 244],\n",
      "        [247, 249, 244],\n",
      "        [247, 249, 244]],\n",
      "\n",
      "       ...,\n",
      "\n",
      "       [[177, 120,  80],\n",
      "        [177, 120,  80],\n",
      "        [177, 120,  80],\n",
      "        ...,\n",
      "        [209, 169, 173],\n",
      "        [206, 168, 172],\n",
      "        [205, 167, 171]],\n",
      "\n",
      "       [[176, 119,  79],\n",
      "        [176, 119,  79],\n",
      "        [176, 119,  79],\n",
      "        ...,\n",
      "        [209, 167, 174],\n",
      "        [206, 168, 174],\n",
      "        [205, 167, 173]],\n",
      "\n",
      "       [[176, 119,  79],\n",
      "        [176, 119,  79],\n",
      "        [176, 119,  79],\n",
      "        ...,\n",
      "        [208, 166, 173],\n",
      "        [205, 167, 173],\n",
      "        [204, 166, 172]]], dtype=uint8)], 'predictions': [[{'keypoints': [[178.85989888509118, 390.49536641438806], [178.85989888509118, 421.3090159098307], [191.1853586832682, 458.2853953043618], [228.16173807779955, 402.82082621256507], [289.78903706868493, 402.82082621256507], [320.6026865641277, 482.93631490071607], [234.32446797688806, 470.61085510253906], [240.48719787597656, 482.93631490071607], [228.16173807779955, 489.0990447998047], [221.99900817871094, 526.0754241943359], [191.1853586832682, 519.9126942952473], [185.0226287841797, 556.8890736897786], [382.22998555501306, 452.12266540527344], [271.3008473714192, 587.7027231852214], [221.99900817871094, 655.4927520751953], [197.3480885823567, 606.190912882487], [234.32446797688806, 606.190912882487], [271.3008473714192, 612.3536427815754], [185.0226287841797, 624.6791025797527], [228.16173807779955, 630.8418324788411], [258.9753875732422, 637.0045623779297]], 'keypoint_scores': [0.7756030559539795, 0.6144695281982422, 0.6565053462982178, 0.6725110411643982, 0.7916134595870972, 0.7635236382484436, 0.6011707782745361, 0.6088916063308716, 0.6383522152900696, 0.7018828392028809, 0.6187958717346191, 0.6409912109375, 0.7604542970657349, 0.5708504319190979, 0.8574245572090149, 0.634840190410614, 0.6608404517173767, 0.5754005312919617, 0.8096502423286438, 0.6869683265686035, 0.6506286859512329], 'bbox': ([0.0, 6.5573272705078125, 536.43896484375, 953.152587890625],), 'bbox_score': 0.9064221}]]})\n",
      "87\n",
      "<generator object MMPoseInferencer.__call__ at 0x000001DB3E834DD0>\n"
     ]
    },
    {
     "data": {
      "text/html": [
       "<pre style=\"white-space:pre;overflow-x:auto;line-height:normal;font-family:Menlo,'DejaVu Sans Mono',consolas,'Courier New',monospace\"></pre>\n"
      ],
      "text/plain": []
     },
     "metadata": {},
     "output_type": "display_data"
    },
    {
     "data": {
      "text/html": [
       "<pre style=\"white-space:pre;overflow-x:auto;line-height:normal;font-family:Menlo,'DejaVu Sans Mono',consolas,'Courier New',monospace\">\n",
       "</pre>\n"
      ],
      "text/plain": [
       "\n"
      ]
     },
     "metadata": {},
     "output_type": "display_data"
    },
    {
     "name": "stdout",
     "output_type": "stream",
     "text": [
      "defaultdict(<class 'list'>, {'visualization': [array([[[ 23,  29,  18],\n",
      "        [ 34,  40,  29],\n",
      "        [ 46,  49,  39],\n",
      "        ...,\n",
      "        [247, 249, 244],\n",
      "        [247, 249, 244],\n",
      "        [247, 249, 244]],\n",
      "\n",
      "       [[ 25,  31,  20],\n",
      "        [ 35,  41,  30],\n",
      "        [ 48,  51,  41],\n",
      "        ...,\n",
      "        [247, 249, 244],\n",
      "        [247, 249, 244],\n",
      "        [247, 249, 244]],\n",
      "\n",
      "       [[ 26,  32,  21],\n",
      "        [ 36,  42,  31],\n",
      "        [ 49,  52,  42],\n",
      "        ...,\n",
      "        [247, 249, 244],\n",
      "        [247, 249, 244],\n",
      "        [247, 249, 244]],\n",
      "\n",
      "       ...,\n",
      "\n",
      "       [[177, 120,  80],\n",
      "        [177, 120,  80],\n",
      "        [177, 120,  80],\n",
      "        ...,\n",
      "        [209, 169, 173],\n",
      "        [206, 168, 172],\n",
      "        [205, 167, 171]],\n",
      "\n",
      "       [[176, 119,  79],\n",
      "        [176, 119,  79],\n",
      "        [176, 119,  79],\n",
      "        ...,\n",
      "        [209, 167, 174],\n",
      "        [206, 168, 174],\n",
      "        [205, 167, 173]],\n",
      "\n",
      "       [[176, 119,  79],\n",
      "        [176, 119,  79],\n",
      "        [176, 119,  79],\n",
      "        ...,\n",
      "        [208, 166, 173],\n",
      "        [205, 167, 173],\n",
      "        [204, 166, 172]]], dtype=uint8)], 'predictions': [[{'keypoints': [[178.8301239013672, 396.76222229003906], [178.8301239013672, 427.5765838623047], [191.15586853027344, 458.3909454345703], [228.1331024169922, 402.9250946044922], [289.76182556152344, 402.9250946044922], [320.57618713378906, 483.0424346923828], [234.2959747314453, 470.71669006347656], [240.45884704589844, 483.0424346923828], [228.1331024169922, 489.20530700683594], [221.97023010253906, 526.1825408935547], [191.15586853027344, 520.0196685791016], [184.9929962158203, 556.9969024658203], [382.2049102783203, 452.2280731201172], [271.27320861816406, 587.8112640380859], [221.97023010253906, 655.6028594970703], [197.31874084472656, 606.2998809814453], [234.2959747314453, 606.2998809814453], [271.27320861816406, 612.4627532958984], [184.9929962158203, 624.7884979248047], [228.1331024169922, 630.9513702392578], [258.9474639892578, 637.1142425537109]], 'keypoint_scores': [0.7863031029701233, 0.6164659857749939, 0.6568320393562317, 0.6698965430259705, 0.7787068486213684, 0.7653602957725525, 0.592208743095398, 0.6014389991760254, 0.627500593662262, 0.6842842698097229, 0.6019787788391113, 0.6299149990081787, 0.7618728280067444, 0.5604127049446106, 0.8687609434127808, 0.628237783908844, 0.6587024927139282, 0.573340117931366, 0.8080346584320068, 0.6959086060523987, 0.6575272679328918], 'bbox': ([0.0, 6.65240478515625, 536.383544921875, 953.2695922851562],), 'bbox_score': 0.9076024}]]})"
     ]
    },
    {
     "data": {
      "application/vnd.jupyter.widget-view+json": {
       "model_id": "2cf48deeb9654de69803555ecf016c55",
       "version_major": 2,
       "version_minor": 0
      },
      "text/plain": [
       "Output()"
      ]
     },
     "metadata": {},
     "output_type": "display_data"
    },
    {
     "name": "stdout",
     "output_type": "stream",
     "text": [
      "\n",
      "87\n",
      "<generator object MMPoseInferencer.__call__ at 0x000001DB3E834270>\n"
     ]
    },
    {
     "data": {
      "text/html": [
       "<pre style=\"white-space:pre;overflow-x:auto;line-height:normal;font-family:Menlo,'DejaVu Sans Mono',consolas,'Courier New',monospace\"></pre>\n"
      ],
      "text/plain": []
     },
     "metadata": {},
     "output_type": "display_data"
    },
    {
     "data": {
      "text/html": [
       "<pre style=\"white-space:pre;overflow-x:auto;line-height:normal;font-family:Menlo,'DejaVu Sans Mono',consolas,'Courier New',monospace\">\n",
       "</pre>\n"
      ],
      "text/plain": [
       "\n"
      ]
     },
     "metadata": {},
     "output_type": "display_data"
    },
    {
     "data": {
      "application/vnd.jupyter.widget-view+json": {
       "model_id": "8d8400cd78d044638b11cbc691caf8b3",
       "version_major": 2,
       "version_minor": 0
      },
      "text/plain": [
       "Output()"
      ]
     },
     "metadata": {},
     "output_type": "display_data"
    },
    {
     "data": {
      "text/html": [
       "<pre style=\"white-space:pre;overflow-x:auto;line-height:normal;font-family:Menlo,'DejaVu Sans Mono',consolas,'Courier New',monospace\"></pre>\n"
      ],
      "text/plain": []
     },
     "metadata": {},
     "output_type": "display_data"
    },
    {
     "data": {
      "text/html": [
       "<pre style=\"white-space:pre;overflow-x:auto;line-height:normal;font-family:Menlo,'DejaVu Sans Mono',consolas,'Courier New',monospace\">\n",
       "</pre>\n"
      ],
      "text/plain": [
       "\n"
      ]
     },
     "metadata": {},
     "output_type": "display_data"
    },
    {
     "data": {
      "application/vnd.jupyter.widget-view+json": {
       "model_id": "6b1a09ceda9a4cc39e83ab88d4dc556a",
       "version_major": 2,
       "version_minor": 0
      },
      "text/plain": [
       "Output()"
      ]
     },
     "metadata": {},
     "output_type": "display_data"
    },
    {
     "data": {
      "text/html": [
       "<pre style=\"white-space:pre;overflow-x:auto;line-height:normal;font-family:Menlo,'DejaVu Sans Mono',consolas,'Courier New',monospace\"></pre>\n"
      ],
      "text/plain": []
     },
     "metadata": {},
     "output_type": "display_data"
    },
    {
     "data": {
      "text/html": [
       "<pre style=\"white-space:pre;overflow-x:auto;line-height:normal;font-family:Menlo,'DejaVu Sans Mono',consolas,'Courier New',monospace\">\n",
       "</pre>\n"
      ],
      "text/plain": [
       "\n"
      ]
     },
     "metadata": {},
     "output_type": "display_data"
    },
    {
     "data": {
      "application/vnd.jupyter.widget-view+json": {
       "model_id": "e526c75805e74c16b5cb3cd606f6d4e5",
       "version_major": 2,
       "version_minor": 0
      },
      "text/plain": [
       "Output()"
      ]
     },
     "metadata": {},
     "output_type": "display_data"
    },
    {
     "data": {
      "text/html": [
       "<pre style=\"white-space:pre;overflow-x:auto;line-height:normal;font-family:Menlo,'DejaVu Sans Mono',consolas,'Courier New',monospace\"></pre>\n"
      ],
      "text/plain": []
     },
     "metadata": {},
     "output_type": "display_data"
    },
    {
     "data": {
      "text/html": [
       "<pre style=\"white-space:pre;overflow-x:auto;line-height:normal;font-family:Menlo,'DejaVu Sans Mono',consolas,'Courier New',monospace\">\n",
       "</pre>\n"
      ],
      "text/plain": [
       "\n"
      ]
     },
     "metadata": {},
     "output_type": "display_data"
    },
    {
     "data": {
      "application/vnd.jupyter.widget-view+json": {
       "model_id": "a73c3a170c6748df9b808a0a597f2d6d",
       "version_major": 2,
       "version_minor": 0
      },
      "text/plain": [
       "Output()"
      ]
     },
     "metadata": {},
     "output_type": "display_data"
    },
    {
     "name": "stdout",
     "output_type": "stream",
     "text": [
      "defaultdict(<class 'list'>, {'visualization': [array([[[ 30,  32,  17],\n",
      "        [ 43,  45,  30],\n",
      "        [ 61,  63,  48],\n",
      "        ...,\n",
      "        [247, 249, 244],\n",
      "        [247, 249, 244],\n",
      "        [247, 249, 244]],\n",
      "\n",
      "       [[ 31,  33,  18],\n",
      "        [ 41,  43,  28],\n",
      "        [ 60,  62,  47],\n",
      "        ...,\n",
      "        [247, 249, 244],\n",
      "        [247, 249, 244],\n",
      "        [247, 249, 244]],\n",
      "\n",
      "       [[ 32,  34,  19],\n",
      "        [ 44,  46,  31],\n",
      "        [ 57,  59,  44],\n",
      "        ...,\n",
      "        [247, 249, 244],\n",
      "        [247, 249, 244],\n",
      "        [247, 249, 244]],\n",
      "\n",
      "       ...,\n",
      "\n",
      "       [[179, 121,  84],\n",
      "        [179, 121,  84],\n",
      "        [179, 121,  84],\n",
      "        ...,\n",
      "        [207, 166, 166],\n",
      "        [206, 167, 166],\n",
      "        [206, 167, 166]],\n",
      "\n",
      "       [[179, 121,  84],\n",
      "        [179, 121,  84],\n",
      "        [179, 121,  84],\n",
      "        ...,\n",
      "        [212, 163, 166],\n",
      "        [210, 166, 165],\n",
      "        [210, 166, 165]],\n",
      "\n",
      "       [[179, 121,  84],\n",
      "        [179, 121,  84],\n",
      "        [179, 121,  84],\n",
      "        ...,\n",
      "        [212, 163, 166],\n",
      "        [210, 166, 165],\n",
      "        [210, 166, 165]]], dtype=uint8)], 'predictions': [[{'keypoints': [[180.0286593967014, 397.00976276397705], [180.0286593967014, 421.62364164988196], [192.3355984157986, 458.54445997873927], [229.25641547309033, 403.16323248545325], [290.7911105685764, 409.31670220692956], [321.55845811631946, 483.1583388646443], [235.4098849826389, 470.8513994216919], [241.5633544921875, 483.1583388646443], [229.25641547309033, 489.3118085861206], [223.10294596354174, 526.232626914978], [198.48906792534717, 520.0791571935017], [186.18212890625, 550.846505800883], [383.09315321180554, 452.3909902572632], [272.33070203993054, 587.7673241297405], [223.10294596354174, 655.455491065979], [198.48906792534717, 606.2277332941692], [235.4098849826389, 606.2277332941692], [272.33070203993054, 612.3812030156453], [186.18212890625, 624.6881424585979], [229.25641547309033, 630.841612180074], [260.02376302083326, 636.9950819015503]], 'keypoint_scores': [0.7685363292694092, 0.603873610496521, 0.6468846201896667, 0.6544726490974426, 0.7981621623039246, 0.7737577557563782, 0.5936744809150696, 0.6097769737243652, 0.6354970335960388, 0.69624924659729, 0.6134911179542542, 0.638446033000946, 0.78944331407547, 0.5836144685745239, 0.8466399908065796, 0.6552456021308899, 0.6807199716567993, 0.5952443480491638, 0.8252073526382446, 0.7004461884498596, 0.6683506369590759], 'bbox': ([0.0, 7.4951019287109375, 538.5079345703125, 952.6680908203125],), 'bbox_score': 0.90842193}]]})\n",
      "87\n",
      "<generator object MMPoseInferencer.__call__ at 0x000001DB3E834BA0>\n"
     ]
    },
    {
     "data": {
      "text/html": [
       "<pre style=\"white-space:pre;overflow-x:auto;line-height:normal;font-family:Menlo,'DejaVu Sans Mono',consolas,'Courier New',monospace\"></pre>\n"
      ],
      "text/plain": []
     },
     "metadata": {},
     "output_type": "display_data"
    },
    {
     "data": {
      "text/html": [
       "<pre style=\"white-space:pre;overflow-x:auto;line-height:normal;font-family:Menlo,'DejaVu Sans Mono',consolas,'Courier New',monospace\">\n",
       "</pre>\n"
      ],
      "text/plain": [
       "\n"
      ]
     },
     "metadata": {},
     "output_type": "display_data"
    },
    {
     "name": "stdout",
     "output_type": "stream",
     "text": [
      "defaultdict(<class 'list'>, {'visualization': [array([[[ 30,  31,  19],\n",
      "        [ 43,  44,  32],\n",
      "        [ 61,  62,  50],\n",
      "        ...,\n",
      "        [247, 249, 244],\n",
      "        [247, 249, 244],\n",
      "        [247, 249, 244]],\n",
      "\n",
      "       [[ 31,  32,  20],\n",
      "        [ 41,  42,  30],\n",
      "        [ 60,  61,  49],\n",
      "        ...,\n",
      "        [247, 249, 244],\n",
      "        [247, 249, 244],\n",
      "        [247, 249, 244]],\n",
      "\n",
      "       [[ 32,  33,  21],\n",
      "        [ 44,  45,  33],\n",
      "        [ 57,  58,  46],\n",
      "        ...,\n",
      "        [247, 249, 244],\n",
      "        [247, 249, 244],\n",
      "        [247, 249, 244]],\n",
      "\n",
      "       ...,\n",
      "\n",
      "       [[179, 121,  84],\n",
      "        [179, 121,  84],\n",
      "        [179, 121,  84],\n",
      "        ...,\n",
      "        [209, 162, 167],\n",
      "        [207, 165, 168],\n",
      "        [207, 165, 168]],\n",
      "\n",
      "       [[179, 121,  84],\n",
      "        [179, 121,  84],\n",
      "        [179, 121,  84],\n",
      "        ...,\n",
      "        [214, 160, 169],\n",
      "        [211, 164, 171],\n",
      "        [211, 164, 171]],\n",
      "\n",
      "       [[179, 121,  84],\n",
      "        [179, 121,  84],\n",
      "        [179, 121,  84],\n",
      "        ...,\n",
      "        [212, 158, 167],\n",
      "        [211, 164, 171],\n",
      "        [211, 164, 171]]], dtype=uint8)], 'predictions': [[{'keypoints': [[179.9275160895454, 397.2173910140991], [179.9275160895454, 427.9781211217245], [192.2318085564507, 458.7388512293496], [229.14468595716687, 403.36953703562415], [290.66614829169384, 409.5216830571493], [315.27473322550463, 483.34743531544996], [235.29683219061963, 471.0431432723999], [241.44897842407227, 483.34743531544996], [229.14468595716687, 489.4995813369751], [222.99253972371423, 526.4124574661255], [198.38395478990344, 520.2603114446003], [186.07966232299805, 551.0210415522258], [376.7961955600315, 452.5867052078247], [266.05756335788305, 587.9339176813762], [222.99253972371423, 655.6075239181519], [198.38395478990344, 606.3903557459514], [235.29683219061963, 606.3903557459514], [272.2097095913357, 612.5425017674763], [186.07966232299805, 624.8467938105266], [229.14468595716687, 630.9989398320515], [259.9054171244303, 637.1510858535767]], 'keypoint_scores': [0.7744526863098145, 0.6098472476005554, 0.6442790031433105, 0.655791163444519, 0.7776351571083069, 0.7676122784614563, 0.5883899331092834, 0.6000347137451172, 0.6211935877799988, 0.6697325110435486, 0.5812228322029114, 0.608453631401062, 0.8111030459403992, 0.5781862735748291, 0.8569175601005554, 0.6599015593528748, 0.6831953525543213, 0.5984928607940674, 0.8348810076713562, 0.709991455078125, 0.6809518337249756], 'bbox': ([0.0, 7.78656005859375, 538.2672729492188, 952.7561645507812],), 'bbox_score': 0.9033556}]]})"
     ]
    },
    {
     "data": {
      "application/vnd.jupyter.widget-view+json": {
       "model_id": "e9bf39f6ed5d47cb97d670fc8e689724",
       "version_major": 2,
       "version_minor": 0
      },
      "text/plain": [
       "Output()"
      ]
     },
     "metadata": {},
     "output_type": "display_data"
    },
    {
     "name": "stdout",
     "output_type": "stream",
     "text": [
      "\n",
      "87\n",
      "<generator object MMPoseInferencer.__call__ at 0x000001DB3E4C2E40>\n"
     ]
    },
    {
     "data": {
      "text/html": [
       "<pre style=\"white-space:pre;overflow-x:auto;line-height:normal;font-family:Menlo,'DejaVu Sans Mono',consolas,'Courier New',monospace\"></pre>\n"
      ],
      "text/plain": []
     },
     "metadata": {},
     "output_type": "display_data"
    },
    {
     "data": {
      "text/html": [
       "<pre style=\"white-space:pre;overflow-x:auto;line-height:normal;font-family:Menlo,'DejaVu Sans Mono',consolas,'Courier New',monospace\">\n",
       "</pre>\n"
      ],
      "text/plain": [
       "\n"
      ]
     },
     "metadata": {},
     "output_type": "display_data"
    },
    {
     "name": "stdout",
     "output_type": "stream",
     "text": [
      "defaultdict(<class 'list'>, {'visualization': [array([[[ 36,  37,  25],\n",
      "        [ 52,  53,  41],\n",
      "        [ 65,  66,  54],\n",
      "        ...,\n",
      "        [247, 249, 244],\n",
      "        [247, 249, 244],\n",
      "        [247, 249, 244]],\n",
      "\n",
      "       [[ 36,  37,  25],\n",
      "        [ 51,  52,  40],\n",
      "        [ 64,  65,  53],\n",
      "        ...,\n",
      "        [247, 249, 244],\n",
      "        [247, 249, 244],\n",
      "        [247, 249, 244]],\n",
      "\n",
      "       [[ 38,  39,  27],\n",
      "        [ 50,  51,  39],\n",
      "        [ 61,  62,  50],\n",
      "        ...,\n",
      "        [247, 249, 244],\n",
      "        [247, 249, 244],\n",
      "        [247, 249, 244]],\n",
      "\n",
      "       ...,\n",
      "\n",
      "       [[179, 121,  84],\n",
      "        [179, 121,  84],\n",
      "        [179, 121,  84],\n",
      "        ...,\n",
      "        [208, 163, 167],\n",
      "        [207, 165, 168],\n",
      "        [207, 165, 168]],\n",
      "\n",
      "       [[179, 121,  84],\n",
      "        [179, 121,  84],\n",
      "        [179, 121,  84],\n",
      "        ...,\n",
      "        [212, 162, 170],\n",
      "        [210, 165, 169],\n",
      "        [210, 165, 169]],\n",
      "\n",
      "       [[179, 121,  84],\n",
      "        [179, 121,  84],\n",
      "        [179, 121,  84],\n",
      "        ...,\n",
      "        [211, 161, 169],\n",
      "        [210, 165, 169],\n",
      "        [210, 165, 169]]], dtype=uint8)], 'predictions': [[{'keypoints': [[179.13714599609375, 396.6197814941406], [179.13714599609375, 427.4214782714844], [191.45782470703125, 458.2231750488281], [228.41986083984375, 402.7801208496094], [290.02325439453125, 408.9404602050781], [320.824951171875, 482.8645324707031], [234.5802001953125, 470.5438537597656], [240.74053955078125, 482.8645324707031], [228.41986083984375, 489.0248718261719], [222.259521484375, 525.9869079589844], [197.6181640625, 519.8265686035156], [191.45782470703125, 550.6282653808594], [382.4283447265625, 458.2231750488281], [271.542236328125, 587.5903015136719], [222.259521484375, 655.3540344238281], [203.77850341796875, 612.2316589355469], [234.5802001953125, 606.0713195800781], [271.542236328125, 618.3919982910156], [185.2974853515625, 624.5523376464844], [228.41986083984375, 630.7126770019531], [259.2215576171875, 636.8730163574219]], 'keypoint_scores': [0.7956299185752869, 0.6214436888694763, 0.6564177870750427, 0.6663650274276733, 0.807962954044342, 0.7692281603813171, 0.592054545879364, 0.6005987524986267, 0.6347202062606812, 0.6970550417900085, 0.6234058141708374, 0.6449645757675171, 0.8350633978843689, 0.5581422448158264, 0.8300161361694336, 0.6506592631340027, 0.6621708869934082, 0.5641745924949646, 0.8196171522140503, 0.6887848377227783, 0.6407525539398193], 'bbox': ([0.0, 6.6703033447265625, 536.9241333007812, 952.8984375],), 'bbox_score': 0.9086106}]]})\n"
     ]
    },
    {
     "data": {
      "application/vnd.jupyter.widget-view+json": {
       "model_id": "b5d891aadcd94bb8be06745462d43388",
       "version_major": 2,
       "version_minor": 0
      },
      "text/plain": [
       "Output()"
      ]
     },
     "metadata": {},
     "output_type": "display_data"
    },
    {
     "name": "stdout",
     "output_type": "stream",
     "text": [
      "87\n",
      "<generator object MMPoseInferencer.__call__ at 0x000001DB3E834270>\n"
     ]
    },
    {
     "data": {
      "text/html": [
       "<pre style=\"white-space:pre;overflow-x:auto;line-height:normal;font-family:Menlo,'DejaVu Sans Mono',consolas,'Courier New',monospace\"></pre>\n"
      ],
      "text/plain": []
     },
     "metadata": {},
     "output_type": "display_data"
    },
    {
     "data": {
      "text/html": [
       "<pre style=\"white-space:pre;overflow-x:auto;line-height:normal;font-family:Menlo,'DejaVu Sans Mono',consolas,'Courier New',monospace\">\n",
       "</pre>\n"
      ],
      "text/plain": [
       "\n"
      ]
     },
     "metadata": {},
     "output_type": "display_data"
    },
    {
     "data": {
      "application/vnd.jupyter.widget-view+json": {
       "model_id": "2994f5db79f743de928a10f05ee88759",
       "version_major": 2,
       "version_minor": 0
      },
      "text/plain": [
       "Output()"
      ]
     },
     "metadata": {},
     "output_type": "display_data"
    },
    {
     "name": "stdout",
     "output_type": "stream",
     "text": [
      "defaultdict(<class 'list'>, {'visualization': [array([[[ 38,  39,  27],\n",
      "        [ 54,  55,  43],\n",
      "        [ 66,  67,  55],\n",
      "        ...,\n",
      "        [247, 249, 244],\n",
      "        [247, 249, 244],\n",
      "        [247, 249, 244]],\n",
      "\n",
      "       [[ 39,  40,  28],\n",
      "        [ 53,  54,  42],\n",
      "        [ 66,  67,  55],\n",
      "        ...,\n",
      "        [247, 249, 244],\n",
      "        [247, 249, 244],\n",
      "        [247, 249, 244]],\n",
      "\n",
      "       [[ 40,  41,  29],\n",
      "        [ 52,  53,  41],\n",
      "        [ 64,  65,  53],\n",
      "        ...,\n",
      "        [247, 249, 244],\n",
      "        [247, 249, 244],\n",
      "        [247, 249, 244]],\n",
      "\n",
      "       ...,\n",
      "\n",
      "       [[178, 122,  86],\n",
      "        [178, 122,  86],\n",
      "        [178, 122,  86],\n",
      "        ...,\n",
      "        [208, 163, 167],\n",
      "        [207, 165, 168],\n",
      "        [207, 165, 168]],\n",
      "\n",
      "       [[178, 122,  86],\n",
      "        [178, 122,  86],\n",
      "        [178, 122,  86],\n",
      "        ...,\n",
      "        [209, 162, 169],\n",
      "        [207, 165, 168],\n",
      "        [207, 165, 168]],\n",
      "\n",
      "       [[178, 122,  86],\n",
      "        [178, 122,  86],\n",
      "        [178, 122,  86],\n",
      "        ...,\n",
      "        [207, 160, 167],\n",
      "        [206, 164, 167],\n",
      "        [206, 164, 167]]], dtype=uint8)], 'predictions': [[{'keypoints': [[179.91152064005541, 397.17387771606445], [179.91152064005541, 427.9253603617351], [192.2121136983235, 458.6768430074055], [229.11389287312818, 403.3241742451985], [290.6168581644695, 409.47447077433276], [321.36834081014, 483.2780291239419], [235.26418940226245, 470.9774360656738], [241.41448593139648, 483.2780291239419], [229.11389287312818, 489.4283256530762], [222.96359634399414, 526.3301048278809], [198.36241022745776, 520.1798082987466], [186.06181716918945, 557.0815874735513], [382.8713061014811, 452.5265464782715], [266.015672047933, 587.8330701192222], [222.96359634399414, 655.4863319396973], [198.36241022745776, 606.2839597066245], [235.26418940226245, 606.2839597066245], [272.165968577067, 618.5845527648926], [186.06181716918945, 624.7348492940268], [229.11389287312818, 630.8851458231607], [259.8653755187988, 637.0354423522949]], 'keypoint_scores': [0.7874493598937988, 0.6154329776763916, 0.6386167407035828, 0.6552559733390808, 0.7902732491493225, 0.7645379900932312, 0.5630310773849487, 0.5731993913650513, 0.6001758575439453, 0.6679548025131226, 0.5833288431167603, 0.614346444606781, 0.8012831807136536, 0.5810097455978394, 0.8401682376861572, 0.6598213315010071, 0.6862595081329346, 0.5972073078155518, 0.826339602470398, 0.7035048007965088, 0.6766583919525146], 'bbox': ([0.0, 7.860076904296875, 538.181640625, 952.545654296875],), 'bbox_score': 0.9117963}]]})\n",
      "87\n",
      "<generator object MMPoseInferencer.__call__ at 0x000001DB3E834BA0>\n"
     ]
    },
    {
     "data": {
      "text/html": [
       "<pre style=\"white-space:pre;overflow-x:auto;line-height:normal;font-family:Menlo,'DejaVu Sans Mono',consolas,'Courier New',monospace\"></pre>\n"
      ],
      "text/plain": []
     },
     "metadata": {},
     "output_type": "display_data"
    },
    {
     "data": {
      "text/html": [
       "<pre style=\"white-space:pre;overflow-x:auto;line-height:normal;font-family:Menlo,'DejaVu Sans Mono',consolas,'Courier New',monospace\">\n",
       "</pre>\n"
      ],
      "text/plain": [
       "\n"
      ]
     },
     "metadata": {},
     "output_type": "display_data"
    },
    {
     "name": "stdout",
     "output_type": "stream",
     "text": [
      "defaultdict(<class 'list'>, {'visualization': [array([[[ 46,  47,  35],\n",
      "        [ 60,  61,  49],\n",
      "        [ 68,  69,  57],\n",
      "        ...,\n",
      "        [247, 249, 244],\n",
      "        [247, 249, 244],\n",
      "        [247, 249, 244]],\n",
      "\n",
      "       [[ 46,  47,  35],\n",
      "        [ 59,  60,  48],\n",
      "        [ 68,  69,  57],\n",
      "        ...,\n",
      "        [247, 249, 244],\n",
      "        [247, 249, 244],\n",
      "        [247, 249, 244]],\n",
      "\n",
      "       [[ 46,  47,  35],\n",
      "        [ 58,  59,  47],\n",
      "        [ 67,  68,  56],\n",
      "        ...,\n",
      "        [247, 249, 244],\n",
      "        [247, 249, 244],\n",
      "        [247, 249, 244]],\n",
      "\n",
      "       ...,\n",
      "\n",
      "       [[180, 124,  88],\n",
      "        [180, 124,  88],\n",
      "        [180, 124,  88],\n",
      "        ...,\n",
      "        [205, 160, 164],\n",
      "        [204, 162, 165],\n",
      "        [204, 162, 165]],\n",
      "\n",
      "       [[180, 124,  88],\n",
      "        [180, 124,  88],\n",
      "        [180, 124,  88],\n",
      "        ...,\n",
      "        [206, 159, 166],\n",
      "        [204, 162, 165],\n",
      "        [204, 162, 165]],\n",
      "\n",
      "       [[180, 124,  88],\n",
      "        [180, 124,  88],\n",
      "        [180, 124,  88],\n",
      "        ...,\n",
      "        [205, 158, 165],\n",
      "        [203, 161, 164],\n",
      "        [203, 161, 164]]], dtype=uint8)], 'predictions': [[{'keypoints': [[179.87122217814135, 391.1106630961101], [179.87122217814135, 421.87145360310865], [192.17553838094068, 458.7844022115071], [229.08848698933912, 403.41497929890943], [290.61006800333666, 409.5671374003093], [321.3708585103353, 483.39303461710597], [235.240645090739, 471.08871841430664], [241.39280319213867, 483.39303461710597], [229.08848698933912, 489.54519271850586], [222.93632888793945, 526.4581413269043], [198.32769648234057, 520.3059832255044], [186.02338027954102, 557.2189318339028], [382.89243952433264, 458.7844022115071], [266.00143559773767, 587.9797223409018], [222.93632888793945, 655.6534614562988], [198.32769648234057, 606.4361966451011], [235.240645090739, 606.4361966451011], [272.15359369913733, 618.7405128479004], [186.02338027954102, 624.8926709493003], [229.08848698933912, 631.0448290506997], [259.8492774963379, 637.1969871520996]], 'keypoint_scores': [0.7869431376457214, 0.6274930834770203, 0.6563007235527039, 0.6569279432296753, 0.7991008758544922, 0.7741056680679321, 0.5865601301193237, 0.5917760729789734, 0.6213569641113281, 0.6808243989944458, 0.584916353225708, 0.608393669128418, 0.8364988565444946, 0.5645124912261963, 0.8399664163589478, 0.6465243697166443, 0.6723776459693909, 0.5840800404548645, 0.8197008371353149, 0.6933485269546509, 0.666903555393219], 'bbox': ([0.0, 7.83123779296875, 538.155029296875, 952.8026733398438],), 'bbox_score': 0.9077571}]]})"
     ]
    },
    {
     "data": {
      "application/vnd.jupyter.widget-view+json": {
       "model_id": "c1084544674d4929bf55b6d8906a571a",
       "version_major": 2,
       "version_minor": 0
      },
      "text/plain": [
       "Output()"
      ]
     },
     "metadata": {},
     "output_type": "display_data"
    },
    {
     "name": "stdout",
     "output_type": "stream",
     "text": [
      "\n",
      "87\n",
      "<generator object MMPoseInferencer.__call__ at 0x000001DB3E4C2120>\n"
     ]
    },
    {
     "data": {
      "text/html": [
       "<pre style=\"white-space:pre;overflow-x:auto;line-height:normal;font-family:Menlo,'DejaVu Sans Mono',consolas,'Courier New',monospace\"></pre>\n"
      ],
      "text/plain": []
     },
     "metadata": {},
     "output_type": "display_data"
    },
    {
     "data": {
      "text/html": [
       "<pre style=\"white-space:pre;overflow-x:auto;line-height:normal;font-family:Menlo,'DejaVu Sans Mono',consolas,'Courier New',monospace\">\n",
       "</pre>\n"
      ],
      "text/plain": [
       "\n"
      ]
     },
     "metadata": {},
     "output_type": "display_data"
    },
    {
     "name": "stdout",
     "output_type": "stream",
     "text": [
      "defaultdict(<class 'list'>, {'visualization': [array([[[ 45,  46,  34],\n",
      "        [ 62,  63,  51],\n",
      "        [ 74,  75,  63],\n",
      "        ...,\n",
      "        [247, 249, 244],\n",
      "        [247, 249, 244],\n",
      "        [247, 249, 244]],\n",
      "\n",
      "       [[ 43,  44,  32],\n",
      "        [ 59,  60,  48],\n",
      "        [ 69,  70,  58],\n",
      "        ...,\n",
      "        [247, 249, 244],\n",
      "        [247, 249, 244],\n",
      "        [247, 249, 244]],\n",
      "\n",
      "       [[ 40,  41,  29],\n",
      "        [ 53,  54,  42],\n",
      "        [ 64,  65,  53],\n",
      "        ...,\n",
      "        [247, 249, 244],\n",
      "        [247, 249, 244],\n",
      "        [247, 249, 244]],\n",
      "\n",
      "       ...,\n",
      "\n",
      "       [[180, 124,  88],\n",
      "        [180, 124,  88],\n",
      "        [180, 124,  88],\n",
      "        ...,\n",
      "        [205, 160, 164],\n",
      "        [204, 162, 165],\n",
      "        [204, 162, 165]],\n",
      "\n",
      "       [[180, 124,  88],\n",
      "        [180, 124,  88],\n",
      "        [180, 124,  88],\n",
      "        ...,\n",
      "        [206, 159, 166],\n",
      "        [204, 162, 165],\n",
      "        [204, 162, 165]],\n",
      "\n",
      "       [[180, 124,  88],\n",
      "        [180, 124,  88],\n",
      "        [180, 124,  88],\n",
      "        ...,\n",
      "        [205, 158, 165],\n",
      "        [203, 161, 164],\n",
      "        [203, 161, 164]]], dtype=uint8)], 'predictions': [[{'keypoints': [[179.7345975240072, 390.8978055318197], [179.7345975240072, 421.66060511271155], [192.0397173563639, 458.57596460978175], [228.95507685343432, 397.05036544799805], [290.48067601521814, 403.2029253641764], [321.2434755961101, 483.18620427449537], [235.10763676961267, 470.8810844421387], [241.26019668579102, 483.18620427449537], [228.95507685343432, 489.3387641906738], [222.80251693725586, 526.2541236877441], [198.19227727254224, 520.1015637715657], [185.88715744018555, 557.016923268636], [382.7690747578939, 458.57596460978175], [265.87043635050463, 587.7797228495281], [216.6499570210774, 655.4578819274902], [198.19227727254224, 606.2374025980632], [235.10763676961267, 606.2374025980632], [272.02299626668287, 618.5425224304199], [185.88715744018555, 624.6950823465984], [228.95507685343432, 630.8476422627766], [259.7178764343262, 637.0002021789551]], 'keypoint_scores': [0.777439534664154, 0.6229193806648254, 0.6623134016990662, 0.6597896814346313, 0.8089413046836853, 0.7721164226531982, 0.6051480770111084, 0.6123575568199158, 0.6432881951332092, 0.7034397125244141, 0.6050005555152893, 0.6198270320892334, 0.8206971287727356, 0.5762664079666138, 0.8311277627944946, 0.6361948251724243, 0.6651758551597595, 0.5878437757492065, 0.8102899789810181, 0.6803659200668335, 0.6638862490653992], 'bbox': ([0.0, 7.5933380126953125, 537.8934326171875, 952.6265258789062],), 'bbox_score': 0.9103148}]]})\n"
     ]
    },
    {
     "data": {
      "application/vnd.jupyter.widget-view+json": {
       "model_id": "1f676aeed8fd48b28226c298c61bab0d",
       "version_major": 2,
       "version_minor": 0
      },
      "text/plain": [
       "Output()"
      ]
     },
     "metadata": {},
     "output_type": "display_data"
    },
    {
     "name": "stdout",
     "output_type": "stream",
     "text": [
      "87\n",
      "<generator object MMPoseInferencer.__call__ at 0x000001DB3E834BA0>\n"
     ]
    },
    {
     "data": {
      "text/html": [
       "<pre style=\"white-space:pre;overflow-x:auto;line-height:normal;font-family:Menlo,'DejaVu Sans Mono',consolas,'Courier New',monospace\"></pre>\n"
      ],
      "text/plain": []
     },
     "metadata": {},
     "output_type": "display_data"
    },
    {
     "data": {
      "text/html": [
       "<pre style=\"white-space:pre;overflow-x:auto;line-height:normal;font-family:Menlo,'DejaVu Sans Mono',consolas,'Courier New',monospace\">\n",
       "</pre>\n"
      ],
      "text/plain": [
       "\n"
      ]
     },
     "metadata": {},
     "output_type": "display_data"
    },
    {
     "data": {
      "application/vnd.jupyter.widget-view+json": {
       "model_id": "bff1e1ef33344de2a127684a8281224d",
       "version_major": 2,
       "version_minor": 0
      },
      "text/plain": [
       "Output()"
      ]
     },
     "metadata": {},
     "output_type": "display_data"
    },
    {
     "name": "stdout",
     "output_type": "stream",
     "text": [
      "defaultdict(<class 'list'>, {'visualization': [array([[[ 47,  48,  36],\n",
      "        [ 67,  68,  56],\n",
      "        [ 76,  77,  65],\n",
      "        ...,\n",
      "        [247, 249, 244],\n",
      "        [247, 249, 244],\n",
      "        [247, 249, 244]],\n",
      "\n",
      "       [[ 46,  47,  35],\n",
      "        [ 64,  65,  53],\n",
      "        [ 74,  75,  63],\n",
      "        ...,\n",
      "        [247, 249, 244],\n",
      "        [247, 249, 244],\n",
      "        [247, 249, 244]],\n",
      "\n",
      "       [[ 43,  44,  32],\n",
      "        [ 58,  59,  47],\n",
      "        [ 68,  69,  57],\n",
      "        ...,\n",
      "        [247, 249, 244],\n",
      "        [247, 249, 244],\n",
      "        [247, 249, 244]],\n",
      "\n",
      "       ...,\n",
      "\n",
      "       [[180, 124,  88],\n",
      "        [180, 124,  88],\n",
      "        [180, 124,  88],\n",
      "        ...,\n",
      "        [205, 161, 162],\n",
      "        [203, 164, 163],\n",
      "        [203, 164, 163]],\n",
      "\n",
      "       [[180, 124,  88],\n",
      "        [180, 124,  88],\n",
      "        [180, 124,  88],\n",
      "        ...,\n",
      "        [205, 161, 160],\n",
      "        [202, 163, 160],\n",
      "        [202, 163, 160]],\n",
      "\n",
      "       [[180, 124,  88],\n",
      "        [180, 124,  88],\n",
      "        [180, 124,  88],\n",
      "        ...,\n",
      "        [204, 160, 159],\n",
      "        [202, 163, 160],\n",
      "        [202, 163, 160]]], dtype=uint8)], 'predictions': [[{'keypoints': [[179.2913990020752, 396.63021659851074], [179.2913990020752, 427.4176273345947], [191.6063632965088, 458.2050380706787], [228.55125617980957, 396.63021659851074], [290.12607765197754, 408.94518089294434], [320.9134883880615, 482.8349666595459], [234.70873832702637, 470.5200023651123], [240.86622047424316, 482.8349666595459], [228.55125617980957, 488.9924488067627], [222.39377403259277, 525.9373416900635], [197.7638454437256, 525.9373416900635], [191.6063632965088, 556.7247524261475], [382.4883098602295, 458.2050380706787], [271.65363121032715, 587.5121631622314], [222.39377403259277, 655.2444667816162], [203.92132759094238, 605.9846096038818], [234.70873832702637, 605.9846096038818], [271.65363121032715, 618.2995738983154], [185.448881149292, 624.4570560455322], [228.55125617980957, 630.614538192749], [259.33866691589355, 636.7720203399658]], 'keypoint_scores': [0.7896562218666077, 0.628663182258606, 0.662507176399231, 0.6589205265045166, 0.8219817876815796, 0.786876380443573, 0.6139034628868103, 0.61603182554245, 0.6486831307411194, 0.6957727074623108, 0.5907462239265442, 0.6021296977996826, 0.8273118734359741, 0.5490251183509827, 0.8331801891326904, 0.6260150671005249, 0.6461606621742249, 0.5577974319458008, 0.810665488243103, 0.6729623079299927, 0.6378416419029236], 'bbox': ([0.0, 6.8615570068359375, 537.1497802734375, 952.65087890625],), 'bbox_score': 0.9138587}]]})\n",
      "87\n",
      "<generator object MMPoseInferencer.__call__ at 0x000001DB3E834DD0>\n"
     ]
    },
    {
     "data": {
      "text/html": [
       "<pre style=\"white-space:pre;overflow-x:auto;line-height:normal;font-family:Menlo,'DejaVu Sans Mono',consolas,'Courier New',monospace\"></pre>\n"
      ],
      "text/plain": []
     },
     "metadata": {},
     "output_type": "display_data"
    },
    {
     "data": {
      "text/html": [
       "<pre style=\"white-space:pre;overflow-x:auto;line-height:normal;font-family:Menlo,'DejaVu Sans Mono',consolas,'Courier New',monospace\">\n",
       "</pre>\n"
      ],
      "text/plain": [
       "\n"
      ]
     },
     "metadata": {},
     "output_type": "display_data"
    },
    {
     "name": "stdout",
     "output_type": "stream",
     "text": [
      "defaultdict(<class 'list'>, {'visualization': [array([[[ 48,  49,  37],\n",
      "        [ 66,  67,  55],\n",
      "        [ 79,  80,  68],\n",
      "        ...,\n",
      "        [247, 249, 244],\n",
      "        [247, 249, 244],\n",
      "        [247, 249, 244]],\n",
      "\n",
      "       [[ 47,  48,  36],\n",
      "        [ 65,  66,  54],\n",
      "        [ 74,  75,  63],\n",
      "        ...,\n",
      "        [247, 249, 244],\n",
      "        [247, 249, 244],\n",
      "        [247, 249, 244]],\n",
      "\n",
      "       [[ 43,  44,  32],\n",
      "        [ 60,  61,  49],\n",
      "        [ 66,  67,  55],\n",
      "        ...,\n",
      "        [247, 249, 244],\n",
      "        [247, 249, 244],\n",
      "        [247, 249, 244]],\n",
      "\n",
      "       ...,\n",
      "\n",
      "       [[180, 124,  88],\n",
      "        [180, 124,  88],\n",
      "        [180, 124,  88],\n",
      "        ...,\n",
      "        [208, 163, 167],\n",
      "        [206, 166, 168],\n",
      "        [206, 166, 168]],\n",
      "\n",
      "       [[180, 124,  88],\n",
      "        [180, 124,  88],\n",
      "        [180, 124,  88],\n",
      "        ...,\n",
      "        [208, 164, 165],\n",
      "        [205, 166, 165],\n",
      "        [205, 166, 165]],\n",
      "\n",
      "       [[180, 124,  88],\n",
      "        [180, 124,  88],\n",
      "        [180, 124,  88],\n",
      "        ...,\n",
      "        [206, 162, 163],\n",
      "        [205, 166, 165],\n",
      "        [205, 166, 165]]], dtype=uint8)], 'predictions': [[{'keypoints': [[180.0025590260824, 397.1675205230713], [180.0025590260824, 421.774876276652], [192.30623690287268, 458.68590990702296], [229.2172705332439, 403.31935946146643], [290.7356599171957, 409.4711983998617], [321.4948546091716, 483.29326566060377], [235.36910947163904, 470.9895877838135], [241.52094841003418, 483.29326566060377], [229.2172705332439, 489.445104598999], [223.06543159484863, 526.3561382293701], [198.45807584126783, 520.2042992909749], [186.15439796447754, 557.115332921346], [383.0132439931234, 458.68590990702296], [266.128304163615, 587.874527613322], [216.91359265645337, 655.544755935669], [198.45807584126783, 606.3300444285076], [235.36910947163904, 606.3300444285076], [266.128304163615, 618.6337223052979], [186.15439796447754, 624.7855612436931], [229.2172705332439, 630.9374001820881], [259.9764652252197, 637.0892391204834]], 'keypoint_scores': [0.7640295028686523, 0.6034685373306274, 0.642428457736969, 0.6438005566596985, 0.7782617807388306, 0.7585600018501282, 0.5712923407554626, 0.590539813041687, 0.6216614842414856, 0.7067954540252686, 0.6115719079971313, 0.6233401298522949, 0.8184912800788879, 0.579094409942627, 0.8284701704978943, 0.6421849131584167, 0.66347736120224, 0.5873979926109314, 0.8118493556976318, 0.6728441715240479, 0.6607078313827515], 'bbox': ([0.0, 7.756072998046875, 538.408447265625, 952.6785888671875],), 'bbox_score': 0.91185576}]]})\n"
     ]
    },
    {
     "data": {
      "application/vnd.jupyter.widget-view+json": {
       "model_id": "a6abe1d6d53844119878ce10a18765b5",
       "version_major": 2,
       "version_minor": 0
      },
      "text/plain": [
       "Output()"
      ]
     },
     "metadata": {},
     "output_type": "display_data"
    },
    {
     "name": "stdout",
     "output_type": "stream",
     "text": [
      "87\n",
      "<generator object MMPoseInferencer.__call__ at 0x000001DB3E834270>\n"
     ]
    },
    {
     "data": {
      "text/html": [
       "<pre style=\"white-space:pre;overflow-x:auto;line-height:normal;font-family:Menlo,'DejaVu Sans Mono',consolas,'Courier New',monospace\"></pre>\n"
      ],
      "text/plain": []
     },
     "metadata": {},
     "output_type": "display_data"
    },
    {
     "data": {
      "text/html": [
       "<pre style=\"white-space:pre;overflow-x:auto;line-height:normal;font-family:Menlo,'DejaVu Sans Mono',consolas,'Courier New',monospace\">\n",
       "</pre>\n"
      ],
      "text/plain": [
       "\n"
      ]
     },
     "metadata": {},
     "output_type": "display_data"
    },
    {
     "name": "stdout",
     "output_type": "stream",
     "text": [
      "defaultdict(<class 'list'>, {'visualization': [array([[[ 54,  55,  43],\n",
      "        [ 69,  70,  58],\n",
      "        [ 75,  76,  64],\n",
      "        ...,\n",
      "        [247, 249, 244],\n",
      "        [247, 249, 244],\n",
      "        [247, 249, 244]],\n",
      "\n",
      "       [[ 54,  55,  43],\n",
      "        [ 68,  69,  57],\n",
      "        [ 73,  74,  62],\n",
      "        ...,\n",
      "        [247, 249, 244],\n",
      "        [247, 249, 244],\n",
      "        [247, 249, 244]],\n",
      "\n",
      "       [[ 51,  52,  40],\n",
      "        [ 64,  65,  53],\n",
      "        [ 66,  67,  55],\n",
      "        ...,\n",
      "        [247, 249, 244],\n",
      "        [247, 249, 244],\n",
      "        [247, 249, 244]],\n",
      "\n",
      "       ...,\n",
      "\n",
      "       [[180, 124,  88],\n",
      "        [180, 124,  88],\n",
      "        [180, 124,  88],\n",
      "        ...,\n",
      "        [209, 162, 167],\n",
      "        [207, 165, 168],\n",
      "        [207, 165, 168]],\n",
      "\n",
      "       [[180, 124,  88],\n",
      "        [180, 124,  88],\n",
      "        [180, 124,  88],\n",
      "        ...,\n",
      "        [209, 163, 165],\n",
      "        [206, 165, 165],\n",
      "        [206, 165, 165]],\n",
      "\n",
      "       [[180, 124,  88],\n",
      "        [180, 124,  88],\n",
      "        [180, 124,  88],\n",
      "        ...,\n",
      "        [207, 161, 163],\n",
      "        [206, 165, 165],\n",
      "        [206, 165, 165]]], dtype=uint8)], 'predictions': [[{'keypoints': [[179.09765116373705, 396.4503936767578], [179.09765116373705, 427.2462412516277], [197.57515970865893, 458.0420888264973], [228.37100728352857, 402.6095631917317], [289.9627024332683, 408.7687327067058], [320.75855000813806, 482.6787668863931], [234.53017679850268, 470.3604278564453], [240.68934631347656, 482.6787668863931], [228.37100728352857, 488.8379364013672], [222.2118377685547, 525.7929534912109], [197.57515970865893, 519.6337839762368], [191.41599019368482, 556.5888010660806], [382.35024515787757, 458.0420888264973], [271.4851938883463, 587.3846486409507], [222.2118377685547, 655.1355133056641], [197.57515970865893, 605.8621571858725], [234.53017679850268, 605.8621571858725], [271.4851938883463, 618.1804962158203], [185.25682067871094, 624.3396657307944], [228.37100728352857, 630.4988352457681], [259.16685485839844, 642.8171742757163]], 'keypoint_scores': [0.7927089929580688, 0.6331844329833984, 0.670405924320221, 0.6603956818580627, 0.8079255819320679, 0.7798635959625244, 0.5913517475128174, 0.6097854375839233, 0.6440488696098328, 0.7017141580581665, 0.6033486127853394, 0.6248056888580322, 0.8293396234512329, 0.5589668154716492, 0.8346149921417236, 0.6393858194351196, 0.6529426574707031, 0.5699097514152527, 0.8145407438278198, 0.6770734190940857, 0.6502726674079895], 'bbox': ([0.0, 6.574951171875, 536.8112182617188, 952.6234130859375],), 'bbox_score': 0.91442364}]]})\n"
     ]
    },
    {
     "data": {
      "application/vnd.jupyter.widget-view+json": {
       "model_id": "08c9d2b535514cefa0b0451f8e8dffa8",
       "version_major": 2,
       "version_minor": 0
      },
      "text/plain": [
       "Output()"
      ]
     },
     "metadata": {},
     "output_type": "display_data"
    },
    {
     "name": "stdout",
     "output_type": "stream",
     "text": [
      "87\n",
      "<generator object MMPoseInferencer.__call__ at 0x000001DB3E4C2EB0>\n"
     ]
    },
    {
     "data": {
      "text/html": [
       "<pre style=\"white-space:pre;overflow-x:auto;line-height:normal;font-family:Menlo,'DejaVu Sans Mono',consolas,'Courier New',monospace\"></pre>\n"
      ],
      "text/plain": []
     },
     "metadata": {},
     "output_type": "display_data"
    },
    {
     "data": {
      "text/html": [
       "<pre style=\"white-space:pre;overflow-x:auto;line-height:normal;font-family:Menlo,'DejaVu Sans Mono',consolas,'Courier New',monospace\">\n",
       "</pre>\n"
      ],
      "text/plain": [
       "\n"
      ]
     },
     "metadata": {},
     "output_type": "display_data"
    },
    {
     "name": "stdout",
     "output_type": "stream",
     "text": [
      "defaultdict(<class 'list'>, {'visualization': [array([[[ 57,  59,  54],\n",
      "        [ 71,  73,  68],\n",
      "        [ 67,  70,  62],\n",
      "        ...,\n",
      "        [247, 249, 244],\n",
      "        [247, 249, 244],\n",
      "        [247, 249, 244]],\n",
      "\n",
      "       [[ 51,  53,  48],\n",
      "        [ 67,  69,  64],\n",
      "        [ 69,  72,  64],\n",
      "        ...,\n",
      "        [247, 249, 244],\n",
      "        [247, 249, 244],\n",
      "        [247, 249, 244]],\n",
      "\n",
      "       [[ 48,  50,  45],\n",
      "        [ 64,  66,  61],\n",
      "        [ 69,  72,  64],\n",
      "        ...,\n",
      "        [247, 249, 244],\n",
      "        [247, 249, 244],\n",
      "        [247, 249, 244]],\n",
      "\n",
      "       ...,\n",
      "\n",
      "       [[181, 122,  92],\n",
      "        [181, 122,  92],\n",
      "        [182, 123,  93],\n",
      "        ...,\n",
      "        [206, 166, 170],\n",
      "        [204, 166, 170],\n",
      "        [204, 166, 170]],\n",
      "\n",
      "       [[181, 122,  92],\n",
      "        [182, 123,  93],\n",
      "        [183, 124,  94],\n",
      "        ...,\n",
      "        [210, 163, 170],\n",
      "        [206, 166, 170],\n",
      "        [206, 166, 170]],\n",
      "\n",
      "       [[182, 123,  93],\n",
      "        [182, 123,  93],\n",
      "        [183, 124,  94],\n",
      "        ...,\n",
      "        [210, 163, 170],\n",
      "        [206, 166, 170],\n",
      "        [206, 166, 170]]], dtype=uint8)], 'predictions': [[{'keypoints': [[179.9529037475586, 397.20960235595703], [179.9529037475586, 427.96346282958984], [192.25444793701172, 458.71732330322266], [229.1590805053711, 397.20960235595703], [290.6668014526367, 409.51114654541016], [321.42066192626953, 483.3204116821289], [235.30985260009766, 464.8680953979492], [241.46062469482422, 483.3204116821289], [229.1590805053711, 489.47118377685547], [223.00830841064453, 526.3758163452148], [198.40522003173828, 520.2250442504883], [192.25444793701172, 550.9789047241211], [382.92838287353516, 458.71732330322266], [266.06371307373047, 587.8835372924805], [216.85753631591797, 655.5420303344727], [198.40522003173828, 606.3358535766602], [235.30985260009766, 606.3358535766602], [266.06371307373047, 618.6373977661133], [186.10367584228516, 624.7881698608398], [229.1590805053711, 630.9389419555664], [259.9129409790039, 637.089714050293]], 'keypoint_scores': [0.7711300253868103, 0.6138037443161011, 0.6466283798217773, 0.649442195892334, 0.8303758502006531, 0.7826188206672668, 0.5857855081558228, 0.6034995913505554, 0.633879542350769, 0.7053000330924988, 0.6050055027008057, 0.6195178031921387, 0.8321000933647156, 0.5787109136581421, 0.834176778793335, 0.6435667872428894, 0.6620163917541504, 0.5826444625854492, 0.8174430727958679, 0.6755014657974243, 0.6564024686813354], 'bbox': ([0.0, 7.8657073974609375, 538.2781982421875, 952.6243286132812],), 'bbox_score': 0.9159836}]]})\n"
     ]
    },
    {
     "data": {
      "application/vnd.jupyter.widget-view+json": {
       "model_id": "bab2138b62ce47e4a1f70650aec8de2e",
       "version_major": 2,
       "version_minor": 0
      },
      "text/plain": [
       "Output()"
      ]
     },
     "metadata": {},
     "output_type": "display_data"
    },
    {
     "data": {
      "text/html": [
       "<pre style=\"white-space:pre;overflow-x:auto;line-height:normal;font-family:Menlo,'DejaVu Sans Mono',consolas,'Courier New',monospace\"></pre>\n"
      ],
      "text/plain": []
     },
     "metadata": {},
     "output_type": "display_data"
    },
    {
     "data": {
      "text/html": [
       "<pre style=\"white-space:pre;overflow-x:auto;line-height:normal;font-family:Menlo,'DejaVu Sans Mono',consolas,'Courier New',monospace\">\n",
       "</pre>\n"
      ],
      "text/plain": [
       "\n"
      ]
     },
     "metadata": {},
     "output_type": "display_data"
    },
    {
     "data": {
      "application/vnd.jupyter.widget-view+json": {
       "model_id": "bd46c887fbf94c4abbfca589b2d47d42",
       "version_major": 2,
       "version_minor": 0
      },
      "text/plain": [
       "Output()"
      ]
     },
     "metadata": {},
     "output_type": "display_data"
    },
    {
     "name": "stdout",
     "output_type": "stream",
     "text": [
      "defaultdict(<class 'list'>, {'visualization': [array([[[ 62,  64,  59],\n",
      "        [ 76,  78,  73],\n",
      "        [ 71,  74,  66],\n",
      "        ...,\n",
      "        [247, 249, 244],\n",
      "        [247, 249, 244],\n",
      "        [247, 249, 244]],\n",
      "\n",
      "       [[ 58,  60,  55],\n",
      "        [ 73,  75,  70],\n",
      "        [ 71,  74,  66],\n",
      "        ...,\n",
      "        [247, 249, 244],\n",
      "        [247, 249, 244],\n",
      "        [247, 249, 244]],\n",
      "\n",
      "       [[ 52,  54,  49],\n",
      "        [ 69,  71,  66],\n",
      "        [ 71,  74,  66],\n",
      "        ...,\n",
      "        [247, 249, 244],\n",
      "        [247, 249, 244],\n",
      "        [247, 249, 244]],\n",
      "\n",
      "       ...,\n",
      "\n",
      "       [[180, 121,  91],\n",
      "        [181, 122,  92],\n",
      "        [182, 123,  93],\n",
      "        ...,\n",
      "        [203, 163, 167],\n",
      "        [201, 163, 167],\n",
      "        [201, 163, 167]],\n",
      "\n",
      "       [[181, 122,  92],\n",
      "        [181, 122,  92],\n",
      "        [182, 123,  93],\n",
      "        ...,\n",
      "        [207, 160, 167],\n",
      "        [203, 163, 167],\n",
      "        [203, 163, 167]],\n",
      "\n",
      "       [[181, 122,  92],\n",
      "        [182, 123,  93],\n",
      "        [183, 124,  94],\n",
      "        ...,\n",
      "        [207, 160, 167],\n",
      "        [203, 163, 167],\n",
      "        [203, 163, 167]]], dtype=uint8)], 'predictions': [[{'keypoints': [[179.99496120876734, 397.1603116989136], [179.99496120876734, 427.91762129465747], [192.29788547092016, 458.67493089040113], [229.20665825737842, 397.1603116989136], [290.72127956814234, 409.4632355372112], [321.4785902235243, 483.2807785669961], [235.35812038845484, 470.97785472869873], [241.50958251953125, 483.2807785669961], [229.20665825737842, 489.432240486145], [223.05519612630212, 526.3410120010376], [198.44934760199658, 520.1895500818887], [192.29788547092016, 550.9468596776328], [382.9932115342882, 458.67493089040113], [266.1154310438368, 587.8556311925254], [216.9037339952257, 655.5217123031616], [198.44934760199658, 606.3100169499717], [235.35812038845484, 606.3100169499717], [266.1154310438368, 618.612940788269], [186.14642333984375, 624.764402707418], [229.20665825737842, 630.9158646265664], [259.9639689127604, 637.0673265457153]], 'keypoint_scores': [0.7903807163238525, 0.6344919800758362, 0.6615602374076843, 0.64956134557724, 0.8225322365760803, 0.7825260758399963, 0.5757244229316711, 0.5909803509712219, 0.617979109287262, 0.6780357360839844, 0.5850650668144226, 0.61178058385849, 0.8300846815109253, 0.5738804340362549, 0.8390392065048218, 0.6533761620521545, 0.6678446531295776, 0.5839307904243469, 0.8220436573028564, 0.6854661703109741, 0.6620362401008606], 'bbox': ([0.0, 7.7727813720703125, 538.38232421875, 952.6373291015625],), 'bbox_score': 0.9172902}]]})\n",
      "87\n",
      "<generator object MMPoseInferencer.__call__ at 0x000001DB3E4C2EB0>\n"
     ]
    },
    {
     "data": {
      "text/html": [
       "<pre style=\"white-space:pre;overflow-x:auto;line-height:normal;font-family:Menlo,'DejaVu Sans Mono',consolas,'Courier New',monospace\"></pre>\n"
      ],
      "text/plain": []
     },
     "metadata": {},
     "output_type": "display_data"
    },
    {
     "data": {
      "text/html": [
       "<pre style=\"white-space:pre;overflow-x:auto;line-height:normal;font-family:Menlo,'DejaVu Sans Mono',consolas,'Courier New',monospace\">\n",
       "</pre>\n"
      ],
      "text/plain": [
       "\n"
      ]
     },
     "metadata": {},
     "output_type": "display_data"
    },
    {
     "data": {
      "application/vnd.jupyter.widget-view+json": {
       "model_id": "e00b7ae6142b419293f1c22da1de6c73",
       "version_major": 2,
       "version_minor": 0
      },
      "text/plain": [
       "Output()"
      ]
     },
     "metadata": {},
     "output_type": "display_data"
    },
    {
     "name": "stdout",
     "output_type": "stream",
     "text": [
      "defaultdict(<class 'list'>, {'visualization': [array([[[ 67,  69,  64],\n",
      "        [ 70,  72,  67],\n",
      "        [ 66,  69,  61],\n",
      "        ...,\n",
      "        [247, 249, 244],\n",
      "        [247, 249, 244],\n",
      "        [247, 249, 244]],\n",
      "\n",
      "       [[ 62,  64,  59],\n",
      "        [ 71,  73,  68],\n",
      "        [ 70,  73,  65],\n",
      "        ...,\n",
      "        [247, 249, 244],\n",
      "        [247, 249, 244],\n",
      "        [247, 249, 244]],\n",
      "\n",
      "       [[ 57,  59,  54],\n",
      "        [ 71,  73,  68],\n",
      "        [ 72,  75,  67],\n",
      "        ...,\n",
      "        [247, 249, 244],\n",
      "        [247, 249, 244],\n",
      "        [247, 249, 244]],\n",
      "\n",
      "       ...,\n",
      "\n",
      "       [[180, 121,  91],\n",
      "        [181, 122,  92],\n",
      "        [182, 123,  93],\n",
      "        ...,\n",
      "        [203, 163, 167],\n",
      "        [201, 163, 167],\n",
      "        [201, 163, 167]],\n",
      "\n",
      "       [[181, 122,  92],\n",
      "        [181, 122,  92],\n",
      "        [182, 123,  93],\n",
      "        ...,\n",
      "        [207, 160, 167],\n",
      "        [203, 163, 167],\n",
      "        [203, 163, 167]],\n",
      "\n",
      "       [[181, 122,  92],\n",
      "        [182, 123,  93],\n",
      "        [183, 124,  94],\n",
      "        ...,\n",
      "        [207, 160, 167],\n",
      "        [203, 163, 167],\n",
      "        [203, 163, 167]]], dtype=uint8)], 'predictions': [[{'keypoints': [[179.1271540323894, 396.5788803100586], [179.1271540323894, 427.3561884562175], [197.5935389200847, 458.1334966023762], [228.3708470662434, 396.5788803100586], [289.9254633585613, 408.8898035685222], [320.7027715047201, 482.75534311930323], [234.52630869547534, 470.44441986083984], [240.68177032470703, 482.75534311930323], [228.3708470662434, 488.91080474853516], [222.21538543701172, 525.8435745239258], [197.5935389200847, 519.6881128946939], [191.4380772908528, 550.465421040853], [382.2573877970377, 458.1334966023762], [271.45907847086585, 587.3981908162436], [222.21538543701172, 655.108268737793], [197.5935389200847, 605.864575703939], [234.52630869547534, 605.864575703939], [271.45907847086585, 618.1754989624023], [185.2826156616211, 624.3309605916343], [228.3708470662434, 630.4864222208657], [259.14815521240234, 642.7973454793296]], 'keypoint_scores': [0.7892178893089294, 0.6308917999267578, 0.6674792766571045, 0.6612932085990906, 0.8179039359092712, 0.7855673432350159, 0.5821684002876282, 0.601099967956543, 0.6352007985115051, 0.6917394399642944, 0.6069889068603516, 0.630064070224762, 0.8317460417747498, 0.5645275115966797, 0.8469854593276978, 0.6620825529098511, 0.6679173707962036, 0.5750836133956909, 0.8368349671363831, 0.6949489116668701, 0.6559890508651733], 'bbox': ([0.0, 6.938140869140625, 536.7626953125, 952.4170532226562],), 'bbox_score': 0.91906935}]]})\n",
      "87\n",
      "<generator object MMPoseInferencer.__call__ at 0x000001DB3E834270>\n"
     ]
    },
    {
     "data": {
      "text/html": [
       "<pre style=\"white-space:pre;overflow-x:auto;line-height:normal;font-family:Menlo,'DejaVu Sans Mono',consolas,'Courier New',monospace\"></pre>\n"
      ],
      "text/plain": []
     },
     "metadata": {},
     "output_type": "display_data"
    },
    {
     "data": {
      "text/html": [
       "<pre style=\"white-space:pre;overflow-x:auto;line-height:normal;font-family:Menlo,'DejaVu Sans Mono',consolas,'Courier New',monospace\">\n",
       "</pre>\n"
      ],
      "text/plain": [
       "\n"
      ]
     },
     "metadata": {},
     "output_type": "display_data"
    },
    {
     "name": "stdout",
     "output_type": "stream",
     "text": [
      "defaultdict(<class 'list'>, {'visualization': [array([[[ 69,  71,  66],\n",
      "        [ 73,  75,  70],\n",
      "        [ 71,  74,  66],\n",
      "        ...,\n",
      "        [247, 249, 244],\n",
      "        [247, 249, 244],\n",
      "        [247, 249, 244]],\n",
      "\n",
      "       [[ 64,  66,  61],\n",
      "        [ 72,  74,  69],\n",
      "        [ 71,  74,  66],\n",
      "        ...,\n",
      "        [247, 249, 244],\n",
      "        [247, 249, 244],\n",
      "        [247, 249, 244]],\n",
      "\n",
      "       [[ 58,  60,  55],\n",
      "        [ 72,  74,  69],\n",
      "        [ 73,  76,  68],\n",
      "        ...,\n",
      "        [247, 249, 244],\n",
      "        [247, 249, 244],\n",
      "        [247, 249, 244]],\n",
      "\n",
      "       ...,\n",
      "\n",
      "       [[179, 120,  90],\n",
      "        [180, 121,  91],\n",
      "        [181, 122,  92],\n",
      "        ...,\n",
      "        [203, 163, 167],\n",
      "        [201, 163, 167],\n",
      "        [201, 163, 167]],\n",
      "\n",
      "       [[180, 121,  91],\n",
      "        [181, 122,  92],\n",
      "        [182, 123,  93],\n",
      "        ...,\n",
      "        [207, 160, 167],\n",
      "        [203, 163, 167],\n",
      "        [203, 163, 167]],\n",
      "\n",
      "       [[181, 122,  92],\n",
      "        [181, 122,  92],\n",
      "        [182, 123,  93],\n",
      "        ...,\n",
      "        [207, 160, 167],\n",
      "        [203, 163, 167],\n",
      "        [203, 163, 167]]], dtype=uint8)], 'predictions': [[{'keypoints': [[179.2021439870199, 396.5887851715088], [179.2021439870199, 427.367816289266], [197.66956265767408, 458.14684740702296], [228.4485937754314, 402.7445913950602], [290.0066560109457, 408.9003976186117], [320.7856871287029, 482.77007230122877], [234.60439999898279, 470.458459854126], [240.76020622253418, 482.77007230122877], [228.4485937754314, 488.9258785247803], [228.4485937754314, 525.8607158660889], [197.66956265767408, 519.7049096425374], [191.51375643412268, 550.4839407602947], [382.34374936421716, 458.14684740702296], [271.53923734029127, 587.4187781016033], [216.13698132832837, 655.132646560669], [197.66956265767408, 605.8861967722576], [234.60439999898279, 605.8861967722576], [271.53923734029127, 618.1978092193604], [185.3579502105713, 624.3536154429119], [228.4485937754314, 630.5094216664631], [259.2276248931885, 642.8210341135662]], 'keypoint_scores': [0.7957392334938049, 0.6319687366485596, 0.6657543778419495, 0.6630589962005615, 0.8046676516532898, 0.7785653471946716, 0.5709103345870972, 0.5928270220756531, 0.6285384893417358, 0.6893688440322876, 0.6037033796310425, 0.6352769732475281, 0.8279902338981628, 0.5754234194755554, 0.8442302942276001, 0.6731564402580261, 0.6771799325942993, 0.585707426071167, 0.8413269519805908, 0.6992995738983154, 0.6630818843841553], 'bbox': ([0.0, 6.9262847900390625, 536.9226684570312, 952.4580688476562],), 'bbox_score': 0.9181472}]]})\n",
      "87\n"
     ]
    },
    {
     "data": {
      "application/vnd.jupyter.widget-view+json": {
       "model_id": "21513c03a8204e80805ef5020860c595",
       "version_major": 2,
       "version_minor": 0
      },
      "text/plain": [
       "Output()"
      ]
     },
     "metadata": {},
     "output_type": "display_data"
    },
    {
     "name": "stdout",
     "output_type": "stream",
     "text": [
      "<generator object MMPoseInferencer.__call__ at 0x000001DB3E834BA0>\n"
     ]
    },
    {
     "data": {
      "text/html": [
       "<pre style=\"white-space:pre;overflow-x:auto;line-height:normal;font-family:Menlo,'DejaVu Sans Mono',consolas,'Courier New',monospace\"></pre>\n"
      ],
      "text/plain": []
     },
     "metadata": {},
     "output_type": "display_data"
    },
    {
     "data": {
      "text/html": [
       "<pre style=\"white-space:pre;overflow-x:auto;line-height:normal;font-family:Menlo,'DejaVu Sans Mono',consolas,'Courier New',monospace\">\n",
       "</pre>\n"
      ],
      "text/plain": [
       "\n"
      ]
     },
     "metadata": {},
     "output_type": "display_data"
    },
    {
     "name": "stdout",
     "output_type": "stream",
     "text": [
      "defaultdict(<class 'list'>, {'visualization': [array([[[ 67,  69,  64],\n",
      "        [ 72,  74,  69],\n",
      "        [ 70,  73,  65],\n",
      "        ...,\n",
      "        [247, 249, 244],\n",
      "        [247, 249, 244],\n",
      "        [247, 249, 244]],\n",
      "\n",
      "       [[ 63,  65,  60],\n",
      "        [ 71,  73,  68],\n",
      "        [ 70,  73,  65],\n",
      "        ...,\n",
      "        [247, 249, 244],\n",
      "        [247, 249, 244],\n",
      "        [247, 249, 244]],\n",
      "\n",
      "       [[ 59,  61,  56],\n",
      "        [ 73,  75,  70],\n",
      "        [ 74,  77,  69],\n",
      "        ...,\n",
      "        [247, 249, 244],\n",
      "        [247, 249, 244],\n",
      "        [247, 249, 244]],\n",
      "\n",
      "       ...,\n",
      "\n",
      "       [[179, 120,  90],\n",
      "        [180, 121,  91],\n",
      "        [181, 122,  92],\n",
      "        ...,\n",
      "        [203, 163, 169],\n",
      "        [201, 163, 169],\n",
      "        [201, 163, 169]],\n",
      "\n",
      "       [[180, 121,  91],\n",
      "        [181, 122,  92],\n",
      "        [182, 123,  93],\n",
      "        ...,\n",
      "        [206, 161, 169],\n",
      "        [203, 163, 169],\n",
      "        [203, 163, 169]],\n",
      "\n",
      "       [[181, 122,  92],\n",
      "        [181, 122,  92],\n",
      "        [182, 123,  93],\n",
      "        ...,\n",
      "        [206, 161, 169],\n",
      "        [203, 163, 169],\n",
      "        [203, 163, 169]]], dtype=uint8)], 'predictions': [[{'keypoints': [[180.04109255472827, 397.23438453674316], [180.04109255472827, 427.98798433939623], [198.49325243632006, 458.7415841420491], [229.2468522389729, 397.23438453674316], [290.75405184427905, 409.53582445780444], [321.507651646932, 483.3444639841714], [235.39757219950366, 471.04302406311035], [241.54829216003418, 483.3444639841714], [229.2468522389729, 489.49518394470215], [223.09613227844238, 526.3995037078857], [198.49325243632006, 520.248783747355], [192.3425324757893, 551.0023835500083], [383.0148512522379, 452.59086418151855], [266.1511720021566, 587.9067033131919], [216.94541231791175, 655.5646228790283], [198.49325243632006, 606.3588631947837], [235.39757219950366, 606.3588631947837], [266.1511720021566, 618.6603031158447], [186.1918125152588, 624.8110230763755], [229.2468522389729, 630.9617430369058], [260.000452041626, 643.2631829579673]], 'keypoint_scores': [0.799234926700592, 0.6400824189186096, 0.6746078729629517, 0.6558542251586914, 0.8195149898529053, 0.7983946800231934, 0.5995235443115234, 0.6149908304214478, 0.6504352688789368, 0.7055546641349792, 0.6025232076644897, 0.6207869052886963, 0.8359718918800354, 0.5688889026641846, 0.8361935615539551, 0.6556859612464905, 0.664134681224823, 0.5774921178817749, 0.8281590938568115, 0.6814624071121216, 0.6527366638183594], 'bbox': ([0.0, 7.8938140869140625, 538.4530639648438, 952.6444091796875],), 'bbox_score': 0.9170826}]]})"
     ]
    },
    {
     "data": {
      "application/vnd.jupyter.widget-view+json": {
       "model_id": "fe8e85ac9bcb4a98af4bb2d7d6cfe0e5",
       "version_major": 2,
       "version_minor": 0
      },
      "text/plain": [
       "Output()"
      ]
     },
     "metadata": {},
     "output_type": "display_data"
    },
    {
     "name": "stdout",
     "output_type": "stream",
     "text": [
      "\n",
      "87\n",
      "<generator object MMPoseInferencer.__call__ at 0x000001DB3E4C2E40>\n"
     ]
    },
    {
     "data": {
      "text/html": [
       "<pre style=\"white-space:pre;overflow-x:auto;line-height:normal;font-family:Menlo,'DejaVu Sans Mono',consolas,'Courier New',monospace\"></pre>\n"
      ],
      "text/plain": []
     },
     "metadata": {},
     "output_type": "display_data"
    },
    {
     "data": {
      "text/html": [
       "<pre style=\"white-space:pre;overflow-x:auto;line-height:normal;font-family:Menlo,'DejaVu Sans Mono',consolas,'Courier New',monospace\">\n",
       "</pre>\n"
      ],
      "text/plain": [
       "\n"
      ]
     },
     "metadata": {},
     "output_type": "display_data"
    },
    {
     "data": {
      "application/vnd.jupyter.widget-view+json": {
       "model_id": "6aecb6b9fbf04add90b912de47cf8136",
       "version_major": 2,
       "version_minor": 0
      },
      "text/plain": [
       "Output()"
      ]
     },
     "metadata": {},
     "output_type": "display_data"
    },
    {
     "data": {
      "text/html": [
       "<pre style=\"white-space:pre;overflow-x:auto;line-height:normal;font-family:Menlo,'DejaVu Sans Mono',consolas,'Courier New',monospace\"></pre>\n"
      ],
      "text/plain": []
     },
     "metadata": {},
     "output_type": "display_data"
    },
    {
     "data": {
      "text/html": [
       "<pre style=\"white-space:pre;overflow-x:auto;line-height:normal;font-family:Menlo,'DejaVu Sans Mono',consolas,'Courier New',monospace\">\n",
       "</pre>\n"
      ],
      "text/plain": [
       "\n"
      ]
     },
     "metadata": {},
     "output_type": "display_data"
    },
    {
     "data": {
      "application/vnd.jupyter.widget-view+json": {
       "model_id": "cffcfe2b51424fd59b08f562f8175ae1",
       "version_major": 2,
       "version_minor": 0
      },
      "text/plain": [
       "Output()"
      ]
     },
     "metadata": {},
     "output_type": "display_data"
    },
    {
     "data": {
      "text/html": [
       "<pre style=\"white-space:pre;overflow-x:auto;line-height:normal;font-family:Menlo,'DejaVu Sans Mono',consolas,'Courier New',monospace\"></pre>\n"
      ],
      "text/plain": []
     },
     "metadata": {},
     "output_type": "display_data"
    },
    {
     "data": {
      "text/html": [
       "<pre style=\"white-space:pre;overflow-x:auto;line-height:normal;font-family:Menlo,'DejaVu Sans Mono',consolas,'Courier New',monospace\">\n",
       "</pre>\n"
      ],
      "text/plain": [
       "\n"
      ]
     },
     "metadata": {},
     "output_type": "display_data"
    },
    {
     "name": "stdout",
     "output_type": "stream",
     "text": [
      "defaultdict(<class 'list'>, {'visualization': [array([[[ 58,  60,  55],\n",
      "        [ 64,  66,  61],\n",
      "        [ 69,  71,  66],\n",
      "        ...,\n",
      "        [247, 249, 244],\n",
      "        [247, 249, 244],\n",
      "        [247, 249, 244]],\n",
      "\n",
      "       [[ 58,  60,  55],\n",
      "        [ 65,  67,  62],\n",
      "        [ 71,  73,  68],\n",
      "        ...,\n",
      "        [247, 249, 244],\n",
      "        [247, 249, 244],\n",
      "        [247, 249, 244]],\n",
      "\n",
      "       [[ 57,  59,  54],\n",
      "        [ 65,  67,  62],\n",
      "        [ 73,  75,  70],\n",
      "        ...,\n",
      "        [247, 249, 244],\n",
      "        [247, 249, 244],\n",
      "        [247, 249, 244]],\n",
      "\n",
      "       ...,\n",
      "\n",
      "       [[177, 122,  91],\n",
      "        [177, 122,  91],\n",
      "        [178, 123,  92],\n",
      "        ...,\n",
      "        [200, 162, 168],\n",
      "        [200, 162, 168],\n",
      "        [200, 162, 168]],\n",
      "\n",
      "       [[177, 122,  91],\n",
      "        [177, 122,  91],\n",
      "        [179, 124,  93],\n",
      "        ...,\n",
      "        [205, 160, 168],\n",
      "        [202, 162, 168],\n",
      "        [202, 162, 168]],\n",
      "\n",
      "       [[178, 123,  92],\n",
      "        [178, 123,  92],\n",
      "        [179, 124,  93],\n",
      "        ...,\n",
      "        [204, 159, 167],\n",
      "        [201, 161, 167],\n",
      "        [201, 161, 167]]], dtype=uint8)], 'predictions': [[{'keypoints': [[179.55383046468103, 390.4808019002279], [179.55383046468103, 421.25424448649085], [198.01789601643873, 458.18237559000636], [228.7913386027019, 396.63549041748047], [290.3382237752279, 408.9448674519857], [321.11166636149096, 482.80112965901685], [234.94602711995446, 464.33706410725927], [247.2554041544596, 482.80112965901685], [228.7913386027019, 488.95581817626953], [228.7913386027019, 525.8839492797852], [204.1725845336914, 525.8839492797852], [191.86320749918616, 550.5027033487956], [382.65855153401696, 458.18237559000636], [271.87415822347, 587.4308344523113], [222.63665008544922, 655.1324081420898], [204.1725845336914, 612.0495885213215], [234.94602711995446, 612.0495885213215], [271.87415822347, 618.2042770385742], [185.7085189819336, 630.5136540730794], [228.7913386027019, 636.668342590332], [259.56478118896484, 642.8230311075847]], 'keypoint_scores': [0.7939913272857666, 0.6484507322311401, 0.6835784316062927, 0.6780902147293091, 0.8386067748069763, 0.8065546154975891, 0.5772656798362732, 0.6063985824584961, 0.6497489809989929, 0.7246585488319397, 0.6468099355697632, 0.6817073225975037, 0.8263735771179199, 0.5698508620262146, 0.8142842650413513, 0.6785315275192261, 0.6629350781440735, 0.5571334362030029, 0.8169836401939392, 0.6899757981300354, 0.6191897392272949], 'bbox': ([0.0, 7.043701171875, 537.5936279296875, 952.4038696289062],), 'bbox_score': 0.91614705}]]})"
     ]
    },
    {
     "data": {
      "application/vnd.jupyter.widget-view+json": {
       "model_id": "868fafe6646e4ccd8b8ea90d3f4353aa",
       "version_major": 2,
       "version_minor": 0
      },
      "text/plain": [
       "Output()"
      ]
     },
     "metadata": {},
     "output_type": "display_data"
    },
    {
     "name": "stdout",
     "output_type": "stream",
     "text": [
      "\n",
      "87\n",
      "<generator object MMPoseInferencer.__call__ at 0x000001DB3E4C2E40>\n"
     ]
    },
    {
     "data": {
      "text/html": [
       "<pre style=\"white-space:pre;overflow-x:auto;line-height:normal;font-family:Menlo,'DejaVu Sans Mono',consolas,'Courier New',monospace\"></pre>\n"
      ],
      "text/plain": []
     },
     "metadata": {},
     "output_type": "display_data"
    },
    {
     "data": {
      "text/html": [
       "<pre style=\"white-space:pre;overflow-x:auto;line-height:normal;font-family:Menlo,'DejaVu Sans Mono',consolas,'Courier New',monospace\">\n",
       "</pre>\n"
      ],
      "text/plain": [
       "\n"
      ]
     },
     "metadata": {},
     "output_type": "display_data"
    },
    {
     "name": "stdout",
     "output_type": "stream",
     "text": [
      "defaultdict(<class 'list'>, {'visualization': [array([[[ 56,  58,  53],\n",
      "        [ 64,  66,  61],\n",
      "        [ 71,  73,  68],\n",
      "        ...,\n",
      "        [247, 249, 244],\n",
      "        [247, 249, 244],\n",
      "        [247, 249, 244]],\n",
      "\n",
      "       [[ 56,  58,  53],\n",
      "        [ 65,  67,  62],\n",
      "        [ 73,  75,  70],\n",
      "        ...,\n",
      "        [247, 249, 244],\n",
      "        [247, 249, 244],\n",
      "        [247, 249, 244]],\n",
      "\n",
      "       [[ 56,  58,  53],\n",
      "        [ 65,  67,  62],\n",
      "        [ 74,  76,  71],\n",
      "        ...,\n",
      "        [247, 249, 244],\n",
      "        [247, 249, 244],\n",
      "        [247, 249, 244]],\n",
      "\n",
      "       ...,\n",
      "\n",
      "       [[177, 122,  91],\n",
      "        [177, 122,  91],\n",
      "        [178, 123,  92],\n",
      "        ...,\n",
      "        [200, 167, 171],\n",
      "        [200, 167, 171],\n",
      "        [200, 167, 171]],\n",
      "\n",
      "       [[177, 122,  91],\n",
      "        [177, 122,  91],\n",
      "        [178, 123,  92],\n",
      "        ...,\n",
      "        [205, 165, 171],\n",
      "        [201, 166, 171],\n",
      "        [201, 166, 171]],\n",
      "\n",
      "       [[178, 123,  92],\n",
      "        [178, 123,  92],\n",
      "        [178, 123,  92],\n",
      "        ...,\n",
      "        [203, 163, 169],\n",
      "        [199, 164, 169],\n",
      "        [199, 164, 169]]], dtype=uint8)], 'predictions': [[{'keypoints': [[179.52304924858936, 390.42081228892016], [179.52304924858936, 421.19828255971265], [197.9895307752821, 458.1312468846638], [228.76699998643664, 396.5763063430786], [290.3219384087456, 408.88729445139575], [321.09940761990015, 482.75322310129786], [234.92249382866748, 464.2867409388225], [241.07798767089844, 482.75322310129786], [228.76699998643664, 488.90871715545654], [228.76699998643664, 525.8416814804077], [197.9895307752821, 519.686187426249], [191.83403693305127, 550.463657697042], [382.6543460422092, 458.1312468846638], [271.855456882053, 587.3966220219932], [222.6115061442058, 655.1070566177368], [204.14502461751295, 612.018598238627], [234.92249382866748, 612.018598238627], [271.855456882053, 618.1740922927856], [185.6785430908203, 630.4850804011026], [228.76699998643664, 636.6405744552612], [259.54446919759107, 642.7960685094199]], 'keypoint_scores': [0.783656120300293, 0.6360358595848083, 0.6713159680366516, 0.6738787293434143, 0.8404163122177124, 0.8077670335769653, 0.565730094909668, 0.596089243888855, 0.6342319846153259, 0.7046328783035278, 0.6327974796295166, 0.6770843267440796, 0.8340218663215637, 0.5717111825942993, 0.8194344639778137, 0.688565194606781, 0.6678221225738525, 0.554799497127533, 0.8225444555282593, 0.6980499625205994, 0.6161997318267822], 'bbox': ([0.0, 6.9335174560546875, 537.555419921875, 952.4174194335938],), 'bbox_score': 0.9171668}]]})\n"
     ]
    },
    {
     "data": {
      "application/vnd.jupyter.widget-view+json": {
       "model_id": "dd5d4db184ea4a6f8451a8fb5ca68cd5",
       "version_major": 2,
       "version_minor": 0
      },
      "text/plain": [
       "Output()"
      ]
     },
     "metadata": {},
     "output_type": "display_data"
    },
    {
     "name": "stdout",
     "output_type": "stream",
     "text": [
      "87\n",
      "<generator object MMPoseInferencer.__call__ at 0x000001DB3E834E40>\n"
     ]
    },
    {
     "data": {
      "text/html": [
       "<pre style=\"white-space:pre;overflow-x:auto;line-height:normal;font-family:Menlo,'DejaVu Sans Mono',consolas,'Courier New',monospace\"></pre>\n"
      ],
      "text/plain": []
     },
     "metadata": {},
     "output_type": "display_data"
    },
    {
     "data": {
      "text/html": [
       "<pre style=\"white-space:pre;overflow-x:auto;line-height:normal;font-family:Menlo,'DejaVu Sans Mono',consolas,'Courier New',monospace\">\n",
       "</pre>\n"
      ],
      "text/plain": [
       "\n"
      ]
     },
     "metadata": {},
     "output_type": "display_data"
    },
    {
     "data": {
      "application/vnd.jupyter.widget-view+json": {
       "model_id": "b4496deab0db4c729e0f8a5641a715e1",
       "version_major": 2,
       "version_minor": 0
      },
      "text/plain": [
       "Output()"
      ]
     },
     "metadata": {},
     "output_type": "display_data"
    },
    {
     "name": "stdout",
     "output_type": "stream",
     "text": [
      "defaultdict(<class 'list'>, {'visualization': [array([[[ 56,  58,  53],\n",
      "        [ 64,  66,  61],\n",
      "        [ 71,  73,  68],\n",
      "        ...,\n",
      "        [247, 249, 244],\n",
      "        [247, 249, 244],\n",
      "        [247, 249, 244]],\n",
      "\n",
      "       [[ 56,  58,  53],\n",
      "        [ 65,  67,  62],\n",
      "        [ 73,  75,  70],\n",
      "        ...,\n",
      "        [247, 249, 244],\n",
      "        [247, 249, 244],\n",
      "        [247, 249, 244]],\n",
      "\n",
      "       [[ 56,  58,  53],\n",
      "        [ 65,  67,  62],\n",
      "        [ 74,  76,  71],\n",
      "        ...,\n",
      "        [247, 249, 244],\n",
      "        [247, 249, 244],\n",
      "        [247, 249, 244]],\n",
      "\n",
      "       ...,\n",
      "\n",
      "       [[177, 122,  91],\n",
      "        [177, 122,  91],\n",
      "        [179, 124,  93],\n",
      "        ...,\n",
      "        [198, 163, 168],\n",
      "        [197, 164, 168],\n",
      "        [197, 164, 168]],\n",
      "\n",
      "       [[177, 122,  91],\n",
      "        [178, 123,  92],\n",
      "        [179, 124,  93],\n",
      "        ...,\n",
      "        [199, 161, 167],\n",
      "        [197, 162, 167],\n",
      "        [197, 162, 167]],\n",
      "\n",
      "       [[178, 123,  92],\n",
      "        [178, 123,  92],\n",
      "        [179, 124,  93],\n",
      "        ...,\n",
      "        [199, 161, 167],\n",
      "        [197, 162, 167],\n",
      "        [197, 162, 167]]], dtype=uint8)], 'predictions': [[{'keypoints': [[180.25268512301977, 391.0288966496786], [180.25268512301977, 421.785449663798], [198.7066162957085, 458.6933132807412], [229.46316825018994, 397.18020725250244], [290.9762721591526, 409.48282845815027], [321.7328241136339, 483.29855569203687], [235.61447864108618, 470.99593448638916], [241.76578903198242, 483.29855569203687], [229.46316825018994, 489.44986629486084], [223.3118578592937, 526.3577299118042], [198.7066162957085, 520.2064193089802], [192.55530590481226, 550.9629723230998], [383.24592802259656, 458.6933132807412], [272.52234098646375, 587.8708359400432], [223.3118578592937, 655.535252571106], [204.85792668660474, 612.4760783513386], [235.61447864108618, 612.4760783513386], [272.52234098646375, 618.6273889541626], [186.40399551391602, 630.9300101598103], [229.46316825018994, 637.0813207626343], [260.21972020467115, 643.2326313654582]], 'keypoint_scores': [0.8160122036933899, 0.6562867760658264, 0.6761168837547302, 0.6859914064407349, 0.8472554087638855, 0.8009443283081055, 0.5774371027946472, 0.5949766039848328, 0.626922607421875, 0.6760175824165344, 0.6048098802566528, 0.6490226984024048, 0.8574375510215759, 0.5749489665031433, 0.8266650438308716, 0.6847175359725952, 0.677169919013977, 0.5774704813957214, 0.8317857384681702, 0.7042101621627808, 0.6489375829696655], 'bbox': ([0.0, 7.802215576171875, 538.8933715820312, 952.6435546875],), 'bbox_score': 0.9124859}]]})\n",
      "87\n",
      "<generator object MMPoseInferencer.__call__ at 0x000001DB3E834350>\n"
     ]
    },
    {
     "data": {
      "text/html": [
       "<pre style=\"white-space:pre;overflow-x:auto;line-height:normal;font-family:Menlo,'DejaVu Sans Mono',consolas,'Courier New',monospace\"></pre>\n"
      ],
      "text/plain": []
     },
     "metadata": {},
     "output_type": "display_data"
    },
    {
     "data": {
      "text/html": [
       "<pre style=\"white-space:pre;overflow-x:auto;line-height:normal;font-family:Menlo,'DejaVu Sans Mono',consolas,'Courier New',monospace\">\n",
       "</pre>\n"
      ],
      "text/plain": [
       "\n"
      ]
     },
     "metadata": {},
     "output_type": "display_data"
    },
    {
     "name": "stdout",
     "output_type": "stream",
     "text": [
      "defaultdict(<class 'list'>, {'visualization': [array([[[ 59,  61,  56],\n",
      "        [ 64,  66,  61],\n",
      "        [ 71,  73,  68],\n",
      "        ...,\n",
      "        [247, 249, 244],\n",
      "        [247, 249, 244],\n",
      "        [247, 249, 244]],\n",
      "\n",
      "       [[ 58,  60,  55],\n",
      "        [ 64,  66,  61],\n",
      "        [ 72,  74,  69],\n",
      "        ...,\n",
      "        [247, 249, 244],\n",
      "        [247, 249, 244],\n",
      "        [247, 249, 244]],\n",
      "\n",
      "       [[ 57,  59,  54],\n",
      "        [ 63,  65,  60],\n",
      "        [ 72,  74,  69],\n",
      "        ...,\n",
      "        [247, 249, 244],\n",
      "        [247, 249, 244],\n",
      "        [247, 249, 244]],\n",
      "\n",
      "       ...,\n",
      "\n",
      "       [[173, 123,  90],\n",
      "        [174, 124,  91],\n",
      "        [177, 127,  94],\n",
      "        ...,\n",
      "        [199, 163, 171],\n",
      "        [198, 164, 171],\n",
      "        [198, 164, 171]],\n",
      "\n",
      "       [[174, 124,  91],\n",
      "        [175, 125,  92],\n",
      "        [176, 126,  93],\n",
      "        ...,\n",
      "        [200, 161, 170],\n",
      "        [198, 162, 170],\n",
      "        [198, 162, 170]],\n",
      "\n",
      "       [[176, 126,  93],\n",
      "        [177, 127,  94],\n",
      "        [176, 126,  93],\n",
      "        ...,\n",
      "        [200, 161, 170],\n",
      "        [198, 162, 170],\n",
      "        [198, 162, 170]]], dtype=uint8)], 'predictions': [[{'keypoints': [[180.3614328172472, 390.88386631011963], [180.3614328172472, 421.6467580795288], [198.81916851467554, 458.5622282028198], [235.73463990953235, 397.03644466400146], [291.1078470018175, 403.1890230178833], [321.87073983086475, 483.17254161834717], [235.73463990953235, 464.71480655670166], [241.8872184753418, 483.17254161834717], [229.5820613437229, 489.325119972229], [223.42948277791345, 526.24059009552], [198.81916851467554, 520.0880117416382], [192.6665899488661, 550.8509035110474], [383.39652548895936, 458.5622282028198], [272.65011130438916, 587.7663736343384], [223.42948277791345, 655.4447355270386], [204.971747080485, 612.3766870498657], [235.73463990953235, 612.3766870498657], [272.65011130438916, 618.5292654037476], [186.51401138305664, 630.8344221115112], [229.5820613437229, 636.9870004653931], [260.34495417277014, 643.1395788192749]], 'keypoint_scores': [0.8239402174949646, 0.6580744981765747, 0.6788207292556763, 0.6810596585273743, 0.8254956007003784, 0.8201964497566223, 0.5976116061210632, 0.6311167478561401, 0.6660823225975037, 0.7248282432556152, 0.6611517667770386, 0.6850810050964355, 0.8514025211334229, 0.570289671421051, 0.8261551260948181, 0.6860603094100952, 0.6707661747932434, 0.5649234056472778, 0.8340025544166565, 0.6994759440422058, 0.6323494911193848], 'bbox': ([0.0, 7.5782318115234375, 539.1476440429688, 952.6142578125],), 'bbox_score': 0.9104882}]]})"
     ]
    },
    {
     "data": {
      "application/vnd.jupyter.widget-view+json": {
       "model_id": "0a9af3167f2f446cbfa1b9860a2e870c",
       "version_major": 2,
       "version_minor": 0
      },
      "text/plain": [
       "Output()"
      ]
     },
     "metadata": {},
     "output_type": "display_data"
    },
    {
     "name": "stdout",
     "output_type": "stream",
     "text": [
      "\n",
      "87\n",
      "<generator object MMPoseInferencer.__call__ at 0x000001DB3E4C2120>\n"
     ]
    },
    {
     "data": {
      "text/html": [
       "<pre style=\"white-space:pre;overflow-x:auto;line-height:normal;font-family:Menlo,'DejaVu Sans Mono',consolas,'Courier New',monospace\"></pre>\n"
      ],
      "text/plain": []
     },
     "metadata": {},
     "output_type": "display_data"
    },
    {
     "data": {
      "text/html": [
       "<pre style=\"white-space:pre;overflow-x:auto;line-height:normal;font-family:Menlo,'DejaVu Sans Mono',consolas,'Courier New',monospace\">\n",
       "</pre>\n"
      ],
      "text/plain": [
       "\n"
      ]
     },
     "metadata": {},
     "output_type": "display_data"
    },
    {
     "name": "stdout",
     "output_type": "stream",
     "text": [
      "defaultdict(<class 'list'>, {'visualization': [array([[[ 60,  62,  57],\n",
      "        [ 62,  64,  59],\n",
      "        [ 71,  73,  68],\n",
      "        ...,\n",
      "        [247, 249, 244],\n",
      "        [247, 249, 244],\n",
      "        [247, 249, 244]],\n",
      "\n",
      "       [[ 58,  60,  55],\n",
      "        [ 63,  65,  60],\n",
      "        [ 71,  73,  68],\n",
      "        ...,\n",
      "        [247, 249, 244],\n",
      "        [247, 249, 244],\n",
      "        [247, 249, 244]],\n",
      "\n",
      "       [[ 57,  59,  54],\n",
      "        [ 64,  66,  61],\n",
      "        [ 72,  74,  69],\n",
      "        ...,\n",
      "        [247, 249, 244],\n",
      "        [247, 249, 244],\n",
      "        [247, 249, 244]],\n",
      "\n",
      "       ...,\n",
      "\n",
      "       [[176, 126,  93],\n",
      "        [178, 128,  95],\n",
      "        [180, 130,  97],\n",
      "        ...,\n",
      "        [201, 165, 173],\n",
      "        [200, 166, 173],\n",
      "        [200, 166, 173]],\n",
      "\n",
      "       [[178, 128,  95],\n",
      "        [178, 128,  95],\n",
      "        [178, 128,  95],\n",
      "        ...,\n",
      "        [201, 162, 171],\n",
      "        [199, 163, 171],\n",
      "        [199, 163, 171]],\n",
      "\n",
      "       [[181, 131,  98],\n",
      "        [180, 130,  97],\n",
      "        [178, 128,  95],\n",
      "        ...,\n",
      "        [201, 162, 171],\n",
      "        [199, 163, 171],\n",
      "        [199, 163, 171]]], dtype=uint8)], 'predictions': [[{'keypoints': [[180.36283238728845, 390.94449742635095], [180.36283238728845, 421.69600550333655], [198.81373723347974, 458.59781519571925], [229.56524531046557, 397.09479904174805], [291.0682614644369, 403.24510065714514], [321.8197695414226, 483.19902165730787], [235.71554692586267, 464.7481168111167], [241.86584854125977, 483.19902165730787], [229.56524531046557, 489.3493232727051], [223.41494369506836, 526.2511329650879], [198.81373723347974, 520.1008313496907], [192.66343561808264, 550.8523394266765], [383.3227856953939, 458.59781519571925], [272.61735661824537, 587.7541491190593], [223.41494369506836, 655.4074668884277], [204.96403884887695, 612.3553555806477], [235.71554692586267, 612.3553555806477], [272.61735661824537, 618.5056571960449], [186.51313400268555, 630.8062604268391], [229.56524531046557, 636.9565620422363], [260.3167533874512, 643.1068636576335]], 'keypoint_scores': [0.8168154954910278, 0.6484874486923218, 0.6712731719017029, 0.6747213006019592, 0.8274472951889038, 0.8134536147117615, 0.5848615765571594, 0.6183118224143982, 0.6516847610473633, 0.7104985117912292, 0.6419563889503479, 0.6733729839324951, 0.8482748866081238, 0.5623885989189148, 0.8272898197174072, 0.6868187189102173, 0.6682863235473633, 0.5571092367172241, 0.8341452479362488, 0.6976524591445923, 0.623698353767395], 'bbox': ([0.0, 7.78070068359375, 539.0844116210938, 952.467041015625],), 'bbox_score': 0.9141185}]]})\n"
     ]
    },
    {
     "data": {
      "application/vnd.jupyter.widget-view+json": {
       "model_id": "1d1b5161e62e4a54bc4a47cd34e17b6a",
       "version_major": 2,
       "version_minor": 0
      },
      "text/plain": [
       "Output()"
      ]
     },
     "metadata": {},
     "output_type": "display_data"
    },
    {
     "name": "stdout",
     "output_type": "stream",
     "text": [
      "87\n",
      "<generator object MMPoseInferencer.__call__ at 0x000001DB3E834350>\n"
     ]
    },
    {
     "data": {
      "text/html": [
       "<pre style=\"white-space:pre;overflow-x:auto;line-height:normal;font-family:Menlo,'DejaVu Sans Mono',consolas,'Courier New',monospace\"></pre>\n"
      ],
      "text/plain": []
     },
     "metadata": {},
     "output_type": "display_data"
    },
    {
     "data": {
      "text/html": [
       "<pre style=\"white-space:pre;overflow-x:auto;line-height:normal;font-family:Menlo,'DejaVu Sans Mono',consolas,'Courier New',monospace\">\n",
       "</pre>\n"
      ],
      "text/plain": [
       "\n"
      ]
     },
     "metadata": {},
     "output_type": "display_data"
    },
    {
     "data": {
      "application/vnd.jupyter.widget-view+json": {
       "model_id": "059382cef82846bcbf6dbfa6b448bf77",
       "version_major": 2,
       "version_minor": 0
      },
      "text/plain": [
       "Output()"
      ]
     },
     "metadata": {},
     "output_type": "display_data"
    },
    {
     "data": {
      "text/html": [
       "<pre style=\"white-space:pre;overflow-x:auto;line-height:normal;font-family:Menlo,'DejaVu Sans Mono',consolas,'Courier New',monospace\"></pre>\n"
      ],
      "text/plain": []
     },
     "metadata": {},
     "output_type": "display_data"
    },
    {
     "data": {
      "text/html": [
       "<pre style=\"white-space:pre;overflow-x:auto;line-height:normal;font-family:Menlo,'DejaVu Sans Mono',consolas,'Courier New',monospace\">\n",
       "</pre>\n"
      ],
      "text/plain": [
       "\n"
      ]
     },
     "metadata": {},
     "output_type": "display_data"
    },
    {
     "name": "stdout",
     "output_type": "stream",
     "text": [
      "defaultdict(<class 'list'>, {'visualization': [array([[[ 56,  68,  61],\n",
      "        [ 68,  80,  73],\n",
      "        [ 74,  84,  76],\n",
      "        ...,\n",
      "        [247, 249, 244],\n",
      "        [247, 249, 244],\n",
      "        [247, 249, 244]],\n",
      "\n",
      "       [[ 56,  68,  61],\n",
      "        [ 66,  78,  71],\n",
      "        [ 71,  81,  73],\n",
      "        ...,\n",
      "        [247, 249, 244],\n",
      "        [247, 249, 244],\n",
      "        [247, 249, 244]],\n",
      "\n",
      "       [[ 54,  66,  59],\n",
      "        [ 63,  75,  68],\n",
      "        [ 66,  76,  68],\n",
      "        ...,\n",
      "        [247, 249, 244],\n",
      "        [247, 249, 244],\n",
      "        [247, 249, 244]],\n",
      "\n",
      "       ...,\n",
      "\n",
      "       [[178, 127,  90],\n",
      "        [179, 128,  91],\n",
      "        [182, 131,  94],\n",
      "        ...,\n",
      "        [198, 169, 174],\n",
      "        [196, 170, 174],\n",
      "        [196, 170, 174]],\n",
      "\n",
      "       [[181, 127,  91],\n",
      "        [181, 127,  91],\n",
      "        [184, 130,  94],\n",
      "        ...,\n",
      "        [207, 164, 174],\n",
      "        [202, 166, 174],\n",
      "        [202, 166, 174]],\n",
      "\n",
      "       [[184, 130,  94],\n",
      "        [184, 130,  94],\n",
      "        [184, 130,  94],\n",
      "        ...,\n",
      "        [207, 164, 174],\n",
      "        [202, 166, 174],\n",
      "        [202, 166, 174]]], dtype=uint8)], 'predictions': [[{'keypoints': [[180.18918355305993, 390.80112202962243], [180.18918355305993, 421.57021586100257], [198.65063985188795, 458.4931284586587], [235.5735524495443, 396.95494079589844], [290.9579213460287, 403.10875956217444], [321.72701517740893, 483.10840352376295], [235.5735524495443, 464.64694722493505], [241.7273712158203, 483.10840352376295], [229.4197336832683, 489.26222229003906], [223.2659149169922, 526.1851348876953], [198.65063985188795, 520.0313161214192], [192.49682108561194, 550.8004099527996], [383.2652028401693, 452.3393096923828], [272.49646504720045, 587.7233225504558], [223.2659149169922, 655.4153289794922], [204.80445861816406, 612.3385976155598], [235.5735524495443, 612.3385976155598], [272.49646504720045, 618.4924163818359], [186.34300231933594, 630.800053914388], [229.4197336832683, 636.9538726806641], [260.18882751464844, 643.1076914469402]], 'keypoint_scores': [0.8284463882446289, 0.6452317237854004, 0.6677581071853638, 0.6760492920875549, 0.8032598495483398, 0.8261007070541382, 0.5781119465827942, 0.6193545460700989, 0.6568089723587036, 0.7273870706558228, 0.6617372035980225, 0.686255156993866, 0.8586632013320923, 0.572762131690979, 0.8313131332397461, 0.6961897015571594, 0.6753146648406982, 0.5726714730262756, 0.8445910811424255, 0.708831787109375, 0.6494474411010742], 'bbox': ([0.0, 7.418243408203125, 538.839111328125, 952.644775390625],), 'bbox_score': 0.9080504}]]})"
     ]
    },
    {
     "data": {
      "application/vnd.jupyter.widget-view+json": {
       "model_id": "3bb819c9f98d4a808070967d9073ec94",
       "version_major": 2,
       "version_minor": 0
      },
      "text/plain": [
       "Output()"
      ]
     },
     "metadata": {},
     "output_type": "display_data"
    },
    {
     "name": "stdout",
     "output_type": "stream",
     "text": [
      "\n",
      "87\n",
      "<generator object MMPoseInferencer.__call__ at 0x000001DB3E4C2EB0>\n"
     ]
    },
    {
     "data": {
      "text/html": [
       "<pre style=\"white-space:pre;overflow-x:auto;line-height:normal;font-family:Menlo,'DejaVu Sans Mono',consolas,'Courier New',monospace\"></pre>\n"
      ],
      "text/plain": []
     },
     "metadata": {},
     "output_type": "display_data"
    },
    {
     "data": {
      "text/html": [
       "<pre style=\"white-space:pre;overflow-x:auto;line-height:normal;font-family:Menlo,'DejaVu Sans Mono',consolas,'Courier New',monospace\">\n",
       "</pre>\n"
      ],
      "text/plain": [
       "\n"
      ]
     },
     "metadata": {},
     "output_type": "display_data"
    },
    {
     "data": {
      "application/vnd.jupyter.widget-view+json": {
       "model_id": "58742b9973ca43c89e6bf1087bd87881",
       "version_major": 2,
       "version_minor": 0
      },
      "text/plain": [
       "Output()"
      ]
     },
     "metadata": {},
     "output_type": "display_data"
    },
    {
     "name": "stdout",
     "output_type": "stream",
     "text": [
      "defaultdict(<class 'list'>, {'visualization': [array([[[ 64,  74,  68],\n",
      "        [ 72,  82,  76],\n",
      "        [ 71,  81,  73],\n",
      "        ...,\n",
      "        [247, 249, 244],\n",
      "        [247, 249, 244],\n",
      "        [247, 249, 244]],\n",
      "\n",
      "       [[ 62,  72,  66],\n",
      "        [ 69,  79,  73],\n",
      "        [ 68,  78,  70],\n",
      "        ...,\n",
      "        [247, 249, 244],\n",
      "        [247, 249, 244],\n",
      "        [247, 249, 244]],\n",
      "\n",
      "       [[ 61,  71,  65],\n",
      "        [ 65,  75,  69],\n",
      "        [ 65,  75,  67],\n",
      "        ...,\n",
      "        [247, 249, 244],\n",
      "        [247, 249, 244],\n",
      "        [247, 249, 244]],\n",
      "\n",
      "       ...,\n",
      "\n",
      "       [[181, 130,  93],\n",
      "        [181, 130,  93],\n",
      "        [181, 130,  93],\n",
      "        ...,\n",
      "        [196, 170, 174],\n",
      "        [194, 170, 174],\n",
      "        [194, 170, 174]],\n",
      "\n",
      "       [[183, 129,  93],\n",
      "        [183, 129,  93],\n",
      "        [183, 129,  93],\n",
      "        ...,\n",
      "        [206, 165, 174],\n",
      "        [201, 167, 174],\n",
      "        [201, 167, 174]],\n",
      "\n",
      "       [[185, 131,  95],\n",
      "        [184, 130,  94],\n",
      "        [181, 127,  91],\n",
      "        ...,\n",
      "        [206, 165, 174],\n",
      "        [201, 167, 174],\n",
      "        [201, 167, 174]]], dtype=uint8)], 'predictions': [[{'keypoints': [[180.52509562174487, 390.6660257975261], [180.52509562174487, 421.4418843587239], [198.99061075846362, 458.3729146321614], [235.92164103190112, 396.8211975097656], [291.31818644205737, 402.97636922200513], [322.09404500325525, 482.99360148111964], [235.92164103190112, 464.5280863444011], [242.07681274414062, 482.99360148111964], [229.76646931966138, 489.1487731933594], [223.61129760742188, 526.0798034667969], [198.99061075846362, 519.9246317545571], [192.83543904622388, 550.7004903157554], [383.645762125651, 452.2177429199219], [272.8526713053385, 587.6315205891929], [223.61129760742188, 655.3384094238281], [205.14578247070312, 612.2522074381509], [235.92164103190112, 612.2522074381509], [272.8526713053385, 618.4073791503906], [186.68026733398438, 630.7177225748696], [229.76646931966138, 636.8728942871094], [260.5423278808594, 643.0280659993491]], 'keypoint_scores': [0.8218232989311218, 0.6351308822631836, 0.6588082313537598, 0.6650612950325012, 0.814637303352356, 0.8247790932655334, 0.5632802248001099, 0.6050717234611511, 0.6369562745094299, 0.7123824954032898, 0.6570119261741638, 0.6864904761314392, 0.8400761485099792, 0.5641897320747375, 0.8298593163490295, 0.6964243054389954, 0.6720036864280701, 0.5620715022087097, 0.8421305418014526, 0.7062874436378479, 0.6394062638282776], 'bbox': ([0.0, 7.1988372802734375, 539.5501708984375, 952.6331787109375],), 'bbox_score': 0.90697217}]]})\n",
      "87\n",
      "<generator object MMPoseInferencer.__call__ at 0x000001DB3E834270>\n"
     ]
    },
    {
     "data": {
      "text/html": [
       "<pre style=\"white-space:pre;overflow-x:auto;line-height:normal;font-family:Menlo,'DejaVu Sans Mono',consolas,'Courier New',monospace\"></pre>\n"
      ],
      "text/plain": []
     },
     "metadata": {},
     "output_type": "display_data"
    },
    {
     "data": {
      "text/html": [
       "<pre style=\"white-space:pre;overflow-x:auto;line-height:normal;font-family:Menlo,'DejaVu Sans Mono',consolas,'Courier New',monospace\">\n",
       "</pre>\n"
      ],
      "text/plain": [
       "\n"
      ]
     },
     "metadata": {},
     "output_type": "display_data"
    },
    {
     "name": "stdout",
     "output_type": "stream",
     "text": [
      "defaultdict(<class 'list'>, {'visualization': [array([[[ 67,  77,  69],\n",
      "        [ 71,  81,  73],\n",
      "        [ 69,  79,  71],\n",
      "        ...,\n",
      "        [247, 249, 244],\n",
      "        [247, 249, 244],\n",
      "        [247, 249, 244]],\n",
      "\n",
      "       [[ 66,  76,  68],\n",
      "        [ 68,  78,  70],\n",
      "        [ 66,  76,  68],\n",
      "        ...,\n",
      "        [247, 249, 244],\n",
      "        [247, 249, 244],\n",
      "        [247, 249, 244]],\n",
      "\n",
      "       [[ 62,  72,  64],\n",
      "        [ 65,  75,  67],\n",
      "        [ 62,  72,  64],\n",
      "        ...,\n",
      "        [247, 249, 244],\n",
      "        [247, 249, 244],\n",
      "        [247, 249, 244]],\n",
      "\n",
      "       ...,\n",
      "\n",
      "       [[181, 130,  93],\n",
      "        [181, 130,  93],\n",
      "        [181, 130,  93],\n",
      "        ...,\n",
      "        [197, 171, 175],\n",
      "        [195, 171, 175],\n",
      "        [195, 171, 175]],\n",
      "\n",
      "       [[181, 130,  93],\n",
      "        [181, 130,  93],\n",
      "        [181, 130,  93],\n",
      "        ...,\n",
      "        [207, 166, 175],\n",
      "        [202, 168, 175],\n",
      "        [202, 168, 175]],\n",
      "\n",
      "       [[181, 130,  93],\n",
      "        [181, 130,  93],\n",
      "        [181, 130,  93],\n",
      "        ...,\n",
      "        [207, 166, 175],\n",
      "        [202, 168, 175],\n",
      "        [202, 168, 175]]], dtype=uint8)], 'predictions': [[{'keypoints': [[180.5930705600315, 390.66557725270593], [180.5930705600315, 421.43807570139563], [199.0565689934624, 458.36507383982325], [235.98356586032446, 396.82007694244385], [291.37406116061743, 402.97457663218177], [322.14655854966907, 482.98307259877515], [235.98356586032446, 464.5195735295615], [242.13806533813477, 482.98307259877515], [229.82906638251416, 489.1375722885132], [229.82906638251416, 526.0645704269409], [199.0565689934624, 519.9100707372029], [192.9020695156521, 550.6825691858928], [383.69155332777234, 452.21057415008545], [272.9105627271864, 587.6095673243206], [223.67456690470385, 655.309063911438], [205.2110684712727, 612.2275660832722], [235.98356586032446, 612.2275660832722], [272.9105627271864, 618.3820657730103], [186.7475700378418, 630.6910651524861], [229.82906638251416, 636.8455648422241], [260.6015637715657, 643.0000645319622]], 'keypoint_scores': [0.8082085847854614, 0.6269776821136475, 0.6559687256813049, 0.6554317474365234, 0.7989476323127747, 0.8123566508293152, 0.551934540271759, 0.6030205488204956, 0.6366795301437378, 0.7237005829811096, 0.6798191070556641, 0.7071866989135742, 0.8206942677497864, 0.5815829038619995, 0.8198772072792053, 0.7086338996887207, 0.6832151412963867, 0.5749043226242065, 0.8442859649658203, 0.706681489944458, 0.6451978087425232], 'bbox': ([0.0, 7.2402191162109375, 539.6666259765625, 952.5714111328125],), 'bbox_score': 0.90591687}]]})"
     ]
    },
    {
     "data": {
      "application/vnd.jupyter.widget-view+json": {
       "model_id": "b678bd1e4a754b68b2fa93d6790f217d",
       "version_major": 2,
       "version_minor": 0
      },
      "text/plain": [
       "Output()"
      ]
     },
     "metadata": {},
     "output_type": "display_data"
    },
    {
     "name": "stdout",
     "output_type": "stream",
     "text": [
      "\n",
      "87\n",
      "<generator object MMPoseInferencer.__call__ at 0x000001DB3E4C2120>\n"
     ]
    },
    {
     "data": {
      "text/html": [
       "<pre style=\"white-space:pre;overflow-x:auto;line-height:normal;font-family:Menlo,'DejaVu Sans Mono',consolas,'Courier New',monospace\"></pre>\n"
      ],
      "text/plain": []
     },
     "metadata": {},
     "output_type": "display_data"
    },
    {
     "data": {
      "text/html": [
       "<pre style=\"white-space:pre;overflow-x:auto;line-height:normal;font-family:Menlo,'DejaVu Sans Mono',consolas,'Courier New',monospace\">\n",
       "</pre>\n"
      ],
      "text/plain": [
       "\n"
      ]
     },
     "metadata": {},
     "output_type": "display_data"
    },
    {
     "name": "stdout",
     "output_type": "stream",
     "text": [
      "defaultdict(<class 'list'>, {'visualization': [array([[[ 71,  81,  73],\n",
      "        [ 73,  83,  75],\n",
      "        [ 74,  81,  74],\n",
      "        ...,\n",
      "        [247, 249, 244],\n",
      "        [247, 249, 244],\n",
      "        [247, 249, 244]],\n",
      "\n",
      "       [[ 68,  78,  70],\n",
      "        [ 68,  78,  70],\n",
      "        [ 68,  75,  68],\n",
      "        ...,\n",
      "        [247, 249, 244],\n",
      "        [247, 249, 244],\n",
      "        [247, 249, 244]],\n",
      "\n",
      "       [[ 66,  76,  68],\n",
      "        [ 64,  74,  66],\n",
      "        [ 63,  70,  63],\n",
      "        ...,\n",
      "        [247, 249, 244],\n",
      "        [247, 249, 244],\n",
      "        [247, 249, 244]],\n",
      "\n",
      "       ...,\n",
      "\n",
      "       [[175, 133,  93],\n",
      "        [175, 133,  93],\n",
      "        [176, 134,  94],\n",
      "        ...,\n",
      "        [197, 171, 175],\n",
      "        [195, 171, 175],\n",
      "        [195, 171, 175]],\n",
      "\n",
      "       [[175, 133,  93],\n",
      "        [175, 133,  93],\n",
      "        [176, 134,  94],\n",
      "        ...,\n",
      "        [207, 166, 175],\n",
      "        [202, 168, 175],\n",
      "        [202, 168, 175]],\n",
      "\n",
      "       [[175, 133,  93],\n",
      "        [175, 133,  93],\n",
      "        [176, 134,  94],\n",
      "        ...,\n",
      "        [207, 166, 175],\n",
      "        [202, 168, 175],\n",
      "        [202, 168, 175]]], dtype=uint8)], 'predictions': [[{'keypoints': [[180.68809043036572, 390.6496718724569], [180.68809043036572, 421.42550818125403], [199.15359285142688, 458.35651175181056], [229.92943021986218, 396.8048391342163], [291.4811049567329, 402.9600063959757], [322.2569423251682, 482.9771807988484], [236.0845976935493, 464.5116790135703], [242.23976516723633, 482.9771807988484], [229.92943021986218, 489.1323480606079], [229.92943021986218, 526.0633516311646], [199.15359285142688, 519.908184369405], [192.99842537773975, 550.6840206782024], [383.8086170620388, 452.20134449005127], [273.01560253567163, 587.615024248759], [223.77426274617517, 655.3218641281128], [205.3087603251139, 612.2356932957966], [236.0845976935493, 612.2356932957966], [273.01560253567163, 618.3908605575562], [186.84325790405273, 630.701195081075], [229.92943021986218, 636.8563623428345], [260.7052675882975, 643.011529604594]], 'keypoint_scores': [0.7984123826026917, 0.6273154616355896, 0.6565672755241394, 0.6540245413780212, 0.810093343257904, 0.8073884844779968, 0.5612452030181885, 0.6121202111244202, 0.6481822729110718, 0.7320250868797302, 0.6817087531089783, 0.7033194303512573, 0.8094832301139832, 0.5993441343307495, 0.8282834887504578, 0.7062422037124634, 0.6931508779525757, 0.5953531861305237, 0.8434797525405884, 0.7132132053375244, 0.6666015982627869], 'bbox': ([0.0, 7.1827239990234375, 539.8760375976562, 952.616455078125],), 'bbox_score': 0.90932524}]]})\n"
     ]
    },
    {
     "data": {
      "application/vnd.jupyter.widget-view+json": {
       "model_id": "c71ba7faa121498bbfeec728de5b5ff9",
       "version_major": 2,
       "version_minor": 0
      },
      "text/plain": [
       "Output()"
      ]
     },
     "metadata": {},
     "output_type": "display_data"
    },
    {
     "name": "stdout",
     "output_type": "stream",
     "text": [
      "87\n",
      "<generator object MMPoseInferencer.__call__ at 0x000001DB3E834270>\n"
     ]
    },
    {
     "data": {
      "text/html": [
       "<pre style=\"white-space:pre;overflow-x:auto;line-height:normal;font-family:Menlo,'DejaVu Sans Mono',consolas,'Courier New',monospace\"></pre>\n"
      ],
      "text/plain": []
     },
     "metadata": {},
     "output_type": "display_data"
    },
    {
     "data": {
      "text/html": [
       "<pre style=\"white-space:pre;overflow-x:auto;line-height:normal;font-family:Menlo,'DejaVu Sans Mono',consolas,'Courier New',monospace\">\n",
       "</pre>\n"
      ],
      "text/plain": [
       "\n"
      ]
     },
     "metadata": {},
     "output_type": "display_data"
    },
    {
     "name": "stdout",
     "output_type": "stream",
     "text": [
      "defaultdict(<class 'list'>, {'visualization': [array([[[ 69,  79,  71],\n",
      "        [ 71,  81,  73],\n",
      "        [ 74,  82,  72],\n",
      "        ...,\n",
      "        [247, 249, 244],\n",
      "        [247, 249, 244],\n",
      "        [247, 249, 244]],\n",
      "\n",
      "       [[ 68,  78,  70],\n",
      "        [ 66,  76,  68],\n",
      "        [ 64,  72,  62],\n",
      "        ...,\n",
      "        [247, 249, 244],\n",
      "        [247, 249, 244],\n",
      "        [247, 249, 244]],\n",
      "\n",
      "       [[ 67,  77,  69],\n",
      "        [ 60,  70,  62],\n",
      "        [ 57,  65,  55],\n",
      "        ...,\n",
      "        [247, 249, 244],\n",
      "        [247, 249, 244],\n",
      "        [247, 249, 244]],\n",
      "\n",
      "       ...,\n",
      "\n",
      "       [[175, 133,  95],\n",
      "        [175, 133,  95],\n",
      "        [175, 133,  95],\n",
      "        ...,\n",
      "        [192, 173, 180],\n",
      "        [191, 174, 180],\n",
      "        [191, 174, 180]],\n",
      "\n",
      "       [[175, 133,  95],\n",
      "        [175, 133,  95],\n",
      "        [175, 133,  95],\n",
      "        ...,\n",
      "        [202, 168, 180],\n",
      "        [197, 171, 180],\n",
      "        [197, 171, 180]],\n",
      "\n",
      "       [[175, 133,  95],\n",
      "        [175, 133,  95],\n",
      "        [175, 133,  95],\n",
      "        ...,\n",
      "        [202, 168, 180],\n",
      "        [197, 171, 180],\n",
      "        [197, 171, 180]]], dtype=uint8)], 'predictions': [[{'keypoints': [[180.77284177144372, 390.68815549214685], [180.77284177144372, 421.4573828379313], [193.08053270975745, 458.38045565287257], [230.00360552469897, 396.8420009613037], [291.54206021626794, 402.9958464304606], [322.3112875620525, 476.8419920603433], [236.15745099385583, 464.5343011220298], [242.3112964630127, 482.99583752950025], [230.00360552469897, 489.1496829986572], [223.849760055542, 526.0727558135986], [199.2343781789143, 519.9189103444417], [193.08053270975745, 550.6881376902263], [383.84974225362146, 452.2266101837158], [273.0805238087971, 587.6112105051677], [217.69591458638502, 661.4573561350505], [205.3882236480713, 612.2265923817952], [236.15745099385583, 612.2265923817952], [273.0805238087971, 618.3804378509521], [186.9266872406006, 630.6881287892659], [223.849760055542, 636.8419742584229], [260.7728328704834, 642.9958197275798]], 'keypoint_scores': [0.8000938892364502, 0.639313817024231, 0.6659303307533264, 0.6692482829093933, 0.8010458946228027, 0.8196259140968323, 0.5692917704582214, 0.61529940366745, 0.6532506346702576, 0.741934597492218, 0.6843370199203491, 0.7010411024093628, 0.8166884779930115, 0.6153461933135986, 0.8120076060295105, 0.7030986547470093, 0.701009213924408, 0.6120194792747498, 0.8326173424720764, 0.7046560049057007, 0.6796095967292786], 'bbox': ([0.0, 7.3035736083984375, 540.0072021484375, 952.5342407226562],), 'bbox_score': 0.9087851}]]})\n"
     ]
    },
    {
     "data": {
      "application/vnd.jupyter.widget-view+json": {
       "model_id": "296113835a794cfa8746c98c0ea49c43",
       "version_major": 2,
       "version_minor": 0
      },
      "text/plain": [
       "Output()"
      ]
     },
     "metadata": {},
     "output_type": "display_data"
    },
    {
     "name": "stdout",
     "output_type": "stream",
     "text": [
      "87\n",
      "<generator object MMPoseInferencer.__call__ at 0x000001DB3E834E40>\n"
     ]
    },
    {
     "data": {
      "text/html": [
       "<pre style=\"white-space:pre;overflow-x:auto;line-height:normal;font-family:Menlo,'DejaVu Sans Mono',consolas,'Courier New',monospace\"></pre>\n"
      ],
      "text/plain": []
     },
     "metadata": {},
     "output_type": "display_data"
    },
    {
     "data": {
      "text/html": [
       "<pre style=\"white-space:pre;overflow-x:auto;line-height:normal;font-family:Menlo,'DejaVu Sans Mono',consolas,'Courier New',monospace\">\n",
       "</pre>\n"
      ],
      "text/plain": [
       "\n"
      ]
     },
     "metadata": {},
     "output_type": "display_data"
    },
    {
     "name": "stdout",
     "output_type": "stream",
     "text": [
      "defaultdict(<class 'list'>, {'visualization': [array([[[ 65,  79,  70],\n",
      "        [ 70,  84,  75],\n",
      "        [ 73,  88,  76],\n",
      "        ...,\n",
      "        [242, 244, 239],\n",
      "        [244, 246, 241],\n",
      "        [244, 246, 241]],\n",
      "\n",
      "       [[ 70,  84,  75],\n",
      "        [ 66,  80,  71],\n",
      "        [ 63,  78,  66],\n",
      "        ...,\n",
      "        [243, 245, 240],\n",
      "        [246, 248, 243],\n",
      "        [246, 248, 243]],\n",
      "\n",
      "       [[ 68,  82,  73],\n",
      "        [ 59,  73,  64],\n",
      "        [ 55,  70,  58],\n",
      "        ...,\n",
      "        [243, 245, 240],\n",
      "        [246, 248, 243],\n",
      "        [246, 248, 243]],\n",
      "\n",
      "       ...,\n",
      "\n",
      "       [[176, 134,  96],\n",
      "        [175, 133,  95],\n",
      "        [176, 134,  96],\n",
      "        ...,\n",
      "        [192, 172, 182],\n",
      "        [191, 173, 184],\n",
      "        [191, 173, 184]],\n",
      "\n",
      "       [[175, 133,  95],\n",
      "        [175, 133,  95],\n",
      "        [176, 134,  96],\n",
      "        ...,\n",
      "        [202, 167, 184],\n",
      "        [197, 170, 184],\n",
      "        [197, 170, 184]],\n",
      "\n",
      "       [[175, 133,  95],\n",
      "        [175, 133,  95],\n",
      "        [176, 134,  96],\n",
      "        ...,\n",
      "        [202, 167, 184],\n",
      "        [197, 170, 184],\n",
      "        [197, 170, 184]]], dtype=uint8)], 'predictions': [[{'keypoints': [[180.44646326700854, 390.73943201700854], [180.44646326700854, 421.5144131978352], [198.91145197550463, 458.4443906148274], [235.84142939249682, 396.8944282531738], [291.2363955179851, 403.0494244893391], [322.0113766988119, 483.0643755594888], [235.84142939249682, 464.5993868509929], [241.9964256286621, 483.0643755594888], [229.6864331563313, 489.2193717956543], [223.53143692016602, 526.1493492126465], [198.91145197550463, 519.994352976481], [192.75645573933912, 550.7693341573081], [383.56133906046546, 452.2893943786621], [272.7714068094889, 587.6993115743003], [223.53143692016602, 661.5592664082847], [205.06644821166992, 612.3192965189614], [235.84142939249682, 612.3192965189614], [272.7714068094889, 618.474292755127], [186.60145950317383, 630.7842852274575], [229.6864331563313, 636.939281463623], [260.4614143371582, 643.0942776997886]], 'keypoint_scores': [0.7930215001106262, 0.6328826546669006, 0.6576261520385742, 0.672053873538971, 0.8105397820472717, 0.7985554933547974, 0.5521121621131897, 0.6007270812988281, 0.6383464336395264, 0.7295669913291931, 0.6753923892974854, 0.7033986449241638, 0.8061298727989197, 0.632451057434082, 0.8331801295280457, 0.7344698309898376, 0.7240867614746094, 0.6245960593223572, 0.8547012805938721, 0.732319712638855, 0.6815807819366455], 'bbox': ([0.0, 7.2831573486328125, 539.3878173828125, 952.6906127929688],), 'bbox_score': 0.911026}]]})\n"
     ]
    },
    {
     "data": {
      "application/vnd.jupyter.widget-view+json": {
       "model_id": "e38e09d4a11c4143ad5d1d5932790d6e",
       "version_major": 2,
       "version_minor": 0
      },
      "text/plain": [
       "Output()"
      ]
     },
     "metadata": {},
     "output_type": "display_data"
    },
    {
     "name": "stdout",
     "output_type": "stream",
     "text": [
      "87\n",
      "<generator object MMPoseInferencer.__call__ at 0x000001DB3E4C2F20>\n"
     ]
    },
    {
     "data": {
      "text/html": [
       "<pre style=\"white-space:pre;overflow-x:auto;line-height:normal;font-family:Menlo,'DejaVu Sans Mono',consolas,'Courier New',monospace\"></pre>\n"
      ],
      "text/plain": []
     },
     "metadata": {},
     "output_type": "display_data"
    },
    {
     "data": {
      "text/html": [
       "<pre style=\"white-space:pre;overflow-x:auto;line-height:normal;font-family:Menlo,'DejaVu Sans Mono',consolas,'Courier New',monospace\">\n",
       "</pre>\n"
      ],
      "text/plain": [
       "\n"
      ]
     },
     "metadata": {},
     "output_type": "display_data"
    },
    {
     "name": "stdout",
     "output_type": "stream",
     "text": [
      "defaultdict(<class 'list'>, {'visualization': [array([[[ 70,  84,  77],\n",
      "        [ 73,  87,  80],\n",
      "        [ 75,  89,  82],\n",
      "        ...,\n",
      "        [243, 245, 240],\n",
      "        [243, 245, 240],\n",
      "        [243, 245, 240]],\n",
      "\n",
      "       [[ 66,  80,  73],\n",
      "        [ 63,  77,  70],\n",
      "        [ 64,  78,  71],\n",
      "        ...,\n",
      "        [243, 245, 240],\n",
      "        [243, 245, 240],\n",
      "        [243, 245, 240]],\n",
      "\n",
      "       [[ 59,  73,  66],\n",
      "        [ 55,  69,  62],\n",
      "        [ 58,  72,  65],\n",
      "        ...,\n",
      "        [243, 245, 240],\n",
      "        [243, 245, 240],\n",
      "        [243, 245, 240]],\n",
      "\n",
      "       ...,\n",
      "\n",
      "       [[175, 133,  95],\n",
      "        [175, 133,  95],\n",
      "        [177, 135,  97],\n",
      "        ...,\n",
      "        [192, 174, 183],\n",
      "        [192, 174, 185],\n",
      "        [192, 174, 185]],\n",
      "\n",
      "       [[175, 133,  95],\n",
      "        [175, 133,  95],\n",
      "        [177, 135,  97],\n",
      "        ...,\n",
      "        [200, 170, 185],\n",
      "        [196, 171, 185],\n",
      "        [196, 171, 185]],\n",
      "\n",
      "       [[175, 133,  95],\n",
      "        [175, 133,  95],\n",
      "        [177, 135,  97],\n",
      "        ...,\n",
      "        [200, 170, 185],\n",
      "        [196, 171, 185],\n",
      "        [196, 171, 185]]], dtype=uint8)], 'predictions': [[{'keypoints': [[180.55033556620288, 390.70765368143725], [180.55033556620288, 421.4730408986409], [192.85649045308423, 458.3915055592854], [229.77495511372877, 396.86073112487793], [291.30572954813647, 403.0138085683186], [322.0711167653402, 476.8507378896077], [235.92803255716967, 464.5445830027263], [242.08111000061035, 483.00381533304835], [229.77495511372877, 489.15689277648926], [223.6218776702881, 526.0753574371338], [199.00956789652514, 519.9222799936929], [192.85649045308423, 550.687667210897], [383.6018911997477, 452.2384281158447], [272.8464972178141, 587.6061318715415], [223.6218776702881, 661.4430611928306], [205.16264533996582, 612.2184416453042], [235.92803255716967, 618.3715190887451], [272.8464972178141, 618.3715190887451], [186.70341300964355, 630.6776739756265], [229.77495511372877, 636.8307514190674], [260.5403423309326, 642.9838288625083]], 'keypoint_scores': [0.8047540187835693, 0.6408756971359253, 0.6587826609611511, 0.6584645509719849, 0.804206907749176, 0.8282145857810974, 0.5810468792915344, 0.6293998956680298, 0.6655018925666809, 0.7525476217269897, 0.6805115342140198, 0.7003631591796875, 0.8255563974380493, 0.6170588135719299, 0.8282045722007751, 0.7147375345230103, 0.701302707195282, 0.597893238067627, 0.8438730835914612, 0.7116101384162903, 0.6537554264068604], 'bbox': ([0.0, 7.37091064453125, 539.5399169921875, 952.483642578125],), 'bbox_score': 0.912144}]]})\n"
     ]
    },
    {
     "data": {
      "application/vnd.jupyter.widget-view+json": {
       "model_id": "bec3f320bd4446d49f37e6f062d80d63",
       "version_major": 2,
       "version_minor": 0
      },
      "text/plain": [
       "Output()"
      ]
     },
     "metadata": {},
     "output_type": "display_data"
    },
    {
     "name": "stdout",
     "output_type": "stream",
     "text": [
      "87\n",
      "<generator object MMPoseInferencer.__call__ at 0x000001DB3E834BA0>\n"
     ]
    },
    {
     "data": {
      "text/html": [
       "<pre style=\"white-space:pre;overflow-x:auto;line-height:normal;font-family:Menlo,'DejaVu Sans Mono',consolas,'Courier New',monospace\"></pre>\n"
      ],
      "text/plain": []
     },
     "metadata": {},
     "output_type": "display_data"
    },
    {
     "data": {
      "text/html": [
       "<pre style=\"white-space:pre;overflow-x:auto;line-height:normal;font-family:Menlo,'DejaVu Sans Mono',consolas,'Courier New',monospace\">\n",
       "</pre>\n"
      ],
      "text/plain": [
       "\n"
      ]
     },
     "metadata": {},
     "output_type": "display_data"
    },
    {
     "name": "stdout",
     "output_type": "stream",
     "text": [
      "defaultdict(<class 'list'>, {'visualization': [array([[[ 70,  85,  73],\n",
      "        [ 72,  87,  75],\n",
      "        [ 75,  87,  78],\n",
      "        ...,\n",
      "        [238, 244, 245],\n",
      "        [242, 243, 246],\n",
      "        [243, 244, 247]],\n",
      "\n",
      "       [[ 64,  79,  67],\n",
      "        [ 63,  78,  66],\n",
      "        [ 70,  82,  73],\n",
      "        ...,\n",
      "        [239, 245, 246],\n",
      "        [243, 244, 247],\n",
      "        [243, 244, 247]],\n",
      "\n",
      "       [[ 58,  73,  61],\n",
      "        [ 58,  73,  61],\n",
      "        [ 65,  77,  68],\n",
      "        ...,\n",
      "        [238, 244, 245],\n",
      "        [242, 243, 246],\n",
      "        [243, 244, 247]],\n",
      "\n",
      "       ...,\n",
      "\n",
      "       [[175, 133,  95],\n",
      "        [175, 133,  95],\n",
      "        [176, 134,  96],\n",
      "        ...,\n",
      "        [192, 174, 183],\n",
      "        [192, 174, 185],\n",
      "        [192, 174, 185]],\n",
      "\n",
      "       [[176, 134,  96],\n",
      "        [175, 133,  95],\n",
      "        [177, 135,  97],\n",
      "        ...,\n",
      "        [200, 170, 185],\n",
      "        [196, 171, 185],\n",
      "        [196, 171, 185]],\n",
      "\n",
      "       [[177, 135,  97],\n",
      "        [176, 134,  96],\n",
      "        [176, 134,  96],\n",
      "        ...,\n",
      "        [200, 170, 185],\n",
      "        [196, 171, 185],\n",
      "        [196, 171, 185]]], dtype=uint8)], 'predictions': [[{'keypoints': [[174.62811660766602, 390.6365776062012], [180.7802848815918, 421.3974189758301], [193.08462142944336, 458.31042861938477], [229.99763107299805, 396.78874588012695], [291.51931381225586, 402.94091415405273], [322.28015518188477, 476.7669334411621], [236.14979934692383, 464.46259689331055], [242.3019676208496, 482.9191017150879], [229.99763107299805, 489.0712699890137], [223.84546279907227, 525.9842796325684], [199.23678970336914, 519.8321113586426], [193.08462142944336, 556.7451210021973], [383.8018379211426, 452.158260345459], [273.0628089904785, 587.5059623718262], [217.69329452514648, 661.3319816589355], [205.38895797729492, 612.1146354675293], [236.14979934692383, 612.1146354675293], [273.0628089904785, 618.2668037414551], [186.93245315551758, 630.5711402893066], [229.99763107299805, 636.7233085632324], [260.75847244262695, 642.8754768371582]], 'keypoint_scores': [0.7952659130096436, 0.6385725736618042, 0.664411187171936, 0.6669448614120483, 0.8137718439102173, 0.8134267330169678, 0.5937060713768005, 0.6358782052993774, 0.6732742190361023, 0.762734055519104, 0.6869451999664307, 0.7008703947067261, 0.8104831576347351, 0.6209682822227478, 0.8206461668014526, 0.704072117805481, 0.6983883380889893, 0.6037633419036865, 0.8380470871925354, 0.7030378580093384, 0.6598843932151794], 'bbox': ([0.0, 7.356536865234375, 539.9734497070312, 952.3295288085938],), 'bbox_score': 0.9107547}]]})\n"
     ]
    },
    {
     "data": {
      "application/vnd.jupyter.widget-view+json": {
       "model_id": "03a002cad04042ed8afe5a845d55230d",
       "version_major": 2,
       "version_minor": 0
      },
      "text/plain": [
       "Output()"
      ]
     },
     "metadata": {},
     "output_type": "display_data"
    },
    {
     "name": "stdout",
     "output_type": "stream",
     "text": [
      "87\n",
      "<generator object MMPoseInferencer.__call__ at 0x000001DB3E834120>\n"
     ]
    },
    {
     "data": {
      "text/html": [
       "<pre style=\"white-space:pre;overflow-x:auto;line-height:normal;font-family:Menlo,'DejaVu Sans Mono',consolas,'Courier New',monospace\"></pre>\n"
      ],
      "text/plain": []
     },
     "metadata": {},
     "output_type": "display_data"
    },
    {
     "data": {
      "text/html": [
       "<pre style=\"white-space:pre;overflow-x:auto;line-height:normal;font-family:Menlo,'DejaVu Sans Mono',consolas,'Courier New',monospace\">\n",
       "</pre>\n"
      ],
      "text/plain": [
       "\n"
      ]
     },
     "metadata": {},
     "output_type": "display_data"
    },
    {
     "name": "stdout",
     "output_type": "stream",
     "text": [
      "defaultdict(<class 'list'>, {'visualization': [array([[[ 70,  85,  73],\n",
      "        [ 72,  87,  75],\n",
      "        [ 75,  87,  78],\n",
      "        ...,\n",
      "        [235, 246, 245],\n",
      "        [236, 245, 245],\n",
      "        [235, 244, 244]],\n",
      "\n",
      "       [[ 64,  79,  67],\n",
      "        [ 63,  78,  66],\n",
      "        [ 70,  82,  73],\n",
      "        ...,\n",
      "        [235, 246, 245],\n",
      "        [236, 245, 245],\n",
      "        [235, 244, 244]],\n",
      "\n",
      "       [[ 58,  73,  61],\n",
      "        [ 58,  73,  61],\n",
      "        [ 65,  77,  68],\n",
      "        ...,\n",
      "        [235, 246, 245],\n",
      "        [236, 245, 245],\n",
      "        [236, 245, 245]],\n",
      "\n",
      "       ...,\n",
      "\n",
      "       [[177, 135,  97],\n",
      "        [176, 134,  96],\n",
      "        [177, 135,  97],\n",
      "        ...,\n",
      "        [193, 173, 183],\n",
      "        [193, 173, 185],\n",
      "        [193, 173, 185]],\n",
      "\n",
      "       [[178, 136,  98],\n",
      "        [177, 135,  97],\n",
      "        [177, 135,  97],\n",
      "        ...,\n",
      "        [203, 168, 185],\n",
      "        [200, 170, 185],\n",
      "        [200, 170, 185]],\n",
      "\n",
      "       [[178, 136,  98],\n",
      "        [177, 135,  97],\n",
      "        [177, 135,  97],\n",
      "        ...,\n",
      "        [203, 168, 185],\n",
      "        [200, 170, 185],\n",
      "        [200, 170, 185]]], dtype=uint8)], 'predictions': [[{'keypoints': [[180.8324462042915, 390.55434258778894], [180.8324462042915, 421.32094732920325], [193.1390885247124, 458.2408730189004], [230.05901548597546, 396.7076635360718], [291.59222708808056, 402.8609844843546], [322.35883288913305, 476.70083586374903], [236.21233664618603, 464.3941939671836], [242.36565780639648, 482.854156812032], [230.05901548597546, 489.00747776031494], [223.905694325765, 525.9274034500122], [199.29240968492297, 519.7740825017293], [193.1390885247124, 556.6940081914265], [383.89204449123804, 452.0875520706177], [273.132263607449, 593.6139338811238], [217.75237316555445, 661.3004643122356], [205.44573084513343, 612.0738967259724], [236.21233664618603, 618.2272176742554], [273.132263607449, 624.3805386225383], [186.98576736450195, 630.533859570821], [230.05901548597546, 636.687180519104], [260.82562128702796, 642.840501467387]], 'keypoint_scores': [0.8023362755775452, 0.638359010219574, 0.6638533473014832, 0.6595715284347534, 0.8124290704727173, 0.8146570920944214, 0.5786073207855225, 0.622353732585907, 0.6616246700286865, 0.7563579082489014, 0.6923542022705078, 0.7157493829727173, 0.8157995343208313, 0.6137853264808655, 0.8045490980148315, 0.6976305246353149, 0.6831345558166504, 0.5865473747253418, 0.8259215354919434, 0.6886309385299683, 0.6317527890205383], 'bbox': ([0.0, 7.20245361328125, 540.1112060546875, 952.3525390625],), 'bbox_score': 0.906377}]]})\n"
     ]
    },
    {
     "data": {
      "application/vnd.jupyter.widget-view+json": {
       "model_id": "b3a4898acd31423a9bc897847ae061d4",
       "version_major": 2,
       "version_minor": 0
      },
      "text/plain": [
       "Output()"
      ]
     },
     "metadata": {},
     "output_type": "display_data"
    },
    {
     "name": "stdout",
     "output_type": "stream",
     "text": [
      "87\n",
      "<generator object MMPoseInferencer.__call__ at 0x000001DB3E4C2E40>\n"
     ]
    },
    {
     "data": {
      "text/html": [
       "<pre style=\"white-space:pre;overflow-x:auto;line-height:normal;font-family:Menlo,'DejaVu Sans Mono',consolas,'Courier New',monospace\"></pre>\n"
      ],
      "text/plain": []
     },
     "metadata": {},
     "output_type": "display_data"
    },
    {
     "data": {
      "text/html": [
       "<pre style=\"white-space:pre;overflow-x:auto;line-height:normal;font-family:Menlo,'DejaVu Sans Mono',consolas,'Courier New',monospace\">\n",
       "</pre>\n"
      ],
      "text/plain": [
       "\n"
      ]
     },
     "metadata": {},
     "output_type": "display_data"
    },
    {
     "name": "stdout",
     "output_type": "stream",
     "text": [
      "defaultdict(<class 'list'>, {'visualization': [array([[[ 72,  84,  75],\n",
      "        [ 74,  86,  77],\n",
      "        [ 77,  89,  80],\n",
      "        ...,\n",
      "        [236, 245, 245],\n",
      "        [237, 243, 244],\n",
      "        [238, 244, 245]],\n",
      "\n",
      "       [[ 65,  77,  68],\n",
      "        [ 66,  78,  69],\n",
      "        [ 73,  85,  76],\n",
      "        ...,\n",
      "        [236, 245, 245],\n",
      "        [238, 244, 245],\n",
      "        [238, 244, 245]],\n",
      "\n",
      "       [[ 61,  73,  64],\n",
      "        [ 64,  76,  67],\n",
      "        [ 72,  84,  75],\n",
      "        ...,\n",
      "        [237, 246, 246],\n",
      "        [238, 244, 245],\n",
      "        [238, 244, 245]],\n",
      "\n",
      "       ...,\n",
      "\n",
      "       [[176, 134,  96],\n",
      "        [176, 134,  96],\n",
      "        [177, 135,  97],\n",
      "        ...,\n",
      "        [193, 172, 187],\n",
      "        [193, 172, 189],\n",
      "        [193, 172, 189]],\n",
      "\n",
      "       [[176, 134,  96],\n",
      "        [176, 134,  96],\n",
      "        [176, 134,  96],\n",
      "        ...,\n",
      "        [203, 167, 189],\n",
      "        [200, 169, 189],\n",
      "        [200, 169, 189]],\n",
      "\n",
      "       [[175, 133,  95],\n",
      "        [175, 133,  95],\n",
      "        [175, 133,  95],\n",
      "        ...,\n",
      "        [203, 167, 189],\n",
      "        [200, 169, 189],\n",
      "        [200, 169, 189]]], dtype=uint8)], 'predictions': [[{'keypoints': [[180.84261449178064, 390.49617894490564], [180.84261449178064, 421.26615015665686], [193.15060297648108, 458.1901156107583], [230.07456843058276, 396.65017318725586], [291.6145108540853, 402.8041674296061], [322.38448206583666, 482.80609258015943], [236.22856267293298, 464.3441098531089], [242.3825569152832, 482.80609258015943], [230.07456843058276, 488.96008682250977], [223.92057418823242, 525.8840522766113], [199.3045972188313, 519.730058034261], [193.15060297648108, 550.5000292460124], [377.7704302469889, 452.0361213684082], [273.15252812703443, 587.423994700114], [217.76657994588209, 655.1179313659668], [205.45859146118164, 612.0399716695149], [236.22856267293298, 612.0399716695149], [273.15252812703443, 624.3479601542156], [186.99660873413086, 630.5019543965657], [223.92057418823242, 636.655948638916], [260.844539642334, 642.8099428812664]], 'keypoint_scores': [0.7790533304214478, 0.6350910663604736, 0.6699700951576233, 0.6576637029647827, 0.8140481114387512, 0.8185276985168457, 0.5914584994316101, 0.6285800337791443, 0.6647369265556335, 0.7386820316314697, 0.6737439632415771, 0.691734790802002, 0.8153392672538757, 0.6126669049263, 0.8145948052406311, 0.6872947216033936, 0.6847562193870544, 0.5939236879348755, 0.8316981792449951, 0.6896183490753174, 0.6488697528839111], 'bbox': ([0.0, 7.1023406982421875, 540.1510620117188, 952.3558349609375],), 'bbox_score': 0.90579194}]]})\n"
     ]
    },
    {
     "data": {
      "application/vnd.jupyter.widget-view+json": {
       "model_id": "b3a5b409b74149589b5e287f2442acdd",
       "version_major": 2,
       "version_minor": 0
      },
      "text/plain": [
       "Output()"
      ]
     },
     "metadata": {},
     "output_type": "display_data"
    },
    {
     "name": "stdout",
     "output_type": "stream",
     "text": [
      "87\n",
      "<generator object MMPoseInferencer.__call__ at 0x000001DB3E834CF0>\n"
     ]
    },
    {
     "data": {
      "text/html": [
       "<pre style=\"white-space:pre;overflow-x:auto;line-height:normal;font-family:Menlo,'DejaVu Sans Mono',consolas,'Courier New',monospace\"></pre>\n"
      ],
      "text/plain": []
     },
     "metadata": {},
     "output_type": "display_data"
    },
    {
     "data": {
      "text/html": [
       "<pre style=\"white-space:pre;overflow-x:auto;line-height:normal;font-family:Menlo,'DejaVu Sans Mono',consolas,'Courier New',monospace\">\n",
       "</pre>\n"
      ],
      "text/plain": [
       "\n"
      ]
     },
     "metadata": {},
     "output_type": "display_data"
    },
    {
     "name": "stdout",
     "output_type": "stream",
     "text": [
      "defaultdict(<class 'list'>, {'visualization': [array([[[ 75,  87,  78],\n",
      "        [ 73,  85,  76],\n",
      "        [ 75,  87,  78],\n",
      "        ...,\n",
      "        [235, 246, 245],\n",
      "        [234, 245, 244],\n",
      "        [235, 246, 245]],\n",
      "\n",
      "       [[ 68,  80,  71],\n",
      "        [ 68,  80,  71],\n",
      "        [ 71,  83,  74],\n",
      "        ...,\n",
      "        [235, 246, 245],\n",
      "        [235, 246, 245],\n",
      "        [235, 246, 245]],\n",
      "\n",
      "       [[ 59,  71,  62],\n",
      "        [ 63,  75,  66],\n",
      "        [ 67,  79,  70],\n",
      "        ...,\n",
      "        [236, 247, 246],\n",
      "        [235, 246, 245],\n",
      "        [235, 246, 245]],\n",
      "\n",
      "       ...,\n",
      "\n",
      "       [[177, 135,  97],\n",
      "        [177, 135,  97],\n",
      "        [178, 136,  98],\n",
      "        ...,\n",
      "        [195, 174, 189],\n",
      "        [195, 174, 191],\n",
      "        [195, 174, 191]],\n",
      "\n",
      "       [[177, 135,  97],\n",
      "        [177, 135,  97],\n",
      "        [177, 135,  97],\n",
      "        ...,\n",
      "        [205, 169, 191],\n",
      "        [202, 171, 191],\n",
      "        [202, 171, 191]],\n",
      "\n",
      "       [[176, 134,  96],\n",
      "        [176, 134,  96],\n",
      "        [176, 134,  96],\n",
      "        ...,\n",
      "        [205, 169, 191],\n",
      "        [202, 171, 191],\n",
      "        [202, 171, 191]]], dtype=uint8)], 'predictions': [[{'keypoints': [[180.87952868143725, 390.5798765818279], [180.87952868143725, 421.339770634969], [193.1834863026936, 458.25164349873853], [230.09535916646314, 396.73185539245605], [291.61514727274584, 402.88383420308423], [322.3750413258871, 482.8595587412515], [236.24733797709155, 464.40362230936694], [242.39931678771973, 482.8595587412515], [230.09535916646314, 489.0115375518799], [223.94338035583496, 525.9234104156494], [199.33546511332202, 519.771431605021], [193.1834863026936, 550.5313256581626], [377.7428506215414, 458.25164349873853], [273.15921084086096, 587.4431985219321], [223.94338035583496, 655.1149654388428], [205.4874439239502, 612.0511137644448], [236.24733797709155, 612.0511137644448], [273.15921084086096, 624.3550713857016], [187.03150749206543, 630.5070501963296], [230.09535916646314, 636.659029006958], [260.8552532196045, 642.8110078175864]], 'keypoint_scores': [0.7819669246673584, 0.6354786157608032, 0.6674427390098572, 0.6642211675643921, 0.8396355509757996, 0.8232941627502441, 0.5817918181419373, 0.6211236119270325, 0.6567733287811279, 0.7287564873695374, 0.667651891708374, 0.6938765048980713, 0.8278483748435974, 0.6048887372016907, 0.8175995945930481, 0.6955554485321045, 0.6888651251792908, 0.5917878746986389, 0.830759584903717, 0.698754072189331, 0.652307391166687], 'bbox': ([0.0, 7.31158447265625, 540.1664428710938, 952.2555541992188],), 'bbox_score': 0.90899473}]]})\n"
     ]
    },
    {
     "data": {
      "application/vnd.jupyter.widget-view+json": {
       "model_id": "05b02d2de8c24042806e693764fce709",
       "version_major": 2,
       "version_minor": 0
      },
      "text/plain": [
       "Output()"
      ]
     },
     "metadata": {},
     "output_type": "display_data"
    },
    {
     "name": "stdout",
     "output_type": "stream",
     "text": [
      "87\n",
      "<generator object MMPoseInferencer.__call__ at 0x000001DB3E8347B0>\n"
     ]
    },
    {
     "data": {
      "text/html": [
       "<pre style=\"white-space:pre;overflow-x:auto;line-height:normal;font-family:Menlo,'DejaVu Sans Mono',consolas,'Courier New',monospace\"></pre>\n"
      ],
      "text/plain": []
     },
     "metadata": {},
     "output_type": "display_data"
    },
    {
     "data": {
      "text/html": [
       "<pre style=\"white-space:pre;overflow-x:auto;line-height:normal;font-family:Menlo,'DejaVu Sans Mono',consolas,'Courier New',monospace\">\n",
       "</pre>\n"
      ],
      "text/plain": [
       "\n"
      ]
     },
     "metadata": {},
     "output_type": "display_data"
    },
    {
     "name": "stdout",
     "output_type": "stream",
     "text": [
      "defaultdict(<class 'list'>, {'visualization': [array([[[ 81,  93,  89],\n",
      "        [ 78,  90,  86],\n",
      "        [ 79,  91,  87],\n",
      "        ...,\n",
      "        [234, 245, 244],\n",
      "        [234, 245, 244],\n",
      "        [234, 245, 244]],\n",
      "\n",
      "       [[ 73,  85,  81],\n",
      "        [ 71,  83,  79],\n",
      "        [ 73,  85,  81],\n",
      "        ...,\n",
      "        [235, 246, 245],\n",
      "        [235, 246, 245],\n",
      "        [235, 246, 245]],\n",
      "\n",
      "       [[ 64,  76,  72],\n",
      "        [ 65,  77,  73],\n",
      "        [ 67,  79,  75],\n",
      "        ...,\n",
      "        [235, 246, 245],\n",
      "        [235, 246, 245],\n",
      "        [235, 246, 245]],\n",
      "\n",
      "       ...,\n",
      "\n",
      "       [[179, 136, 101],\n",
      "        [179, 136, 101],\n",
      "        [179, 136, 101],\n",
      "        ...,\n",
      "        [198, 172, 189],\n",
      "        [197, 173, 189],\n",
      "        [197, 173, 189]],\n",
      "\n",
      "       [[179, 136, 101],\n",
      "        [179, 136, 101],\n",
      "        [179, 136, 101],\n",
      "        ...,\n",
      "        [200, 172, 189],\n",
      "        [197, 173, 189],\n",
      "        [197, 173, 189]],\n",
      "\n",
      "       [[179, 136, 101],\n",
      "        [179, 136, 101],\n",
      "        [179, 136, 101],\n",
      "        ...,\n",
      "        [200, 172, 189],\n",
      "        [197, 173, 189],\n",
      "        [197, 173, 189]]], dtype=uint8)], 'predictions': [[{'keypoints': [[175.15771314832898, 390.4041083653768], [181.31069098578564, 421.1689964930216], [193.61664666069873, 458.0868622461953], [230.53451368543836, 396.55708599090576], [292.0642920600044, 402.7100636164347], [322.82918124728735, 482.6987727483113], [236.68749152289502, 464.2398398717246], [242.84046936035156, 482.6987727483113], [230.53451368543836, 488.85175037384033], [224.3815358479818, 525.7696161270142], [199.7696244981554, 519.6166385014851], [193.61664666069873, 550.3815266291301], [384.3589596218533, 451.9338846206665], [273.6053585476345, 593.4523700078328], [218.22855801052515, 654.9821462631226], [205.92260233561194, 611.9113028844197], [236.68749152289502, 611.9113028844197], [273.6053585476345, 624.2172581354778], [187.4636688232422, 630.3702357610066], [224.3815358479818, 636.5232133865356], [261.2994028727213, 642.6761910120647]], 'keypoint_scores': [0.7920515537261963, 0.6297947764396667, 0.6656368374824524, 0.6863240003585815, 0.8084455728530884, 0.8341779708862305, 0.581780731678009, 0.6078147292137146, 0.6461831331253052, 0.7183820605278015, 0.6558218598365784, 0.6840749382972717, 0.843134343624115, 0.5847294330596924, 0.8134723901748657, 0.6820585131645203, 0.6722495555877686, 0.5742458701133728, 0.8369097113609314, 0.6862102746963501, 0.6377935409545898], 'bbox': ([0.0, 7.0735931396484375, 541.0577392578125, 952.1709594726562],), 'bbox_score': 0.9128074}]]})\n"
     ]
    },
    {
     "data": {
      "application/vnd.jupyter.widget-view+json": {
       "model_id": "e96c47c0acf14d3fa934e38b988f659e",
       "version_major": 2,
       "version_minor": 0
      },
      "text/plain": [
       "Output()"
      ]
     },
     "metadata": {},
     "output_type": "display_data"
    },
    {
     "name": "stdout",
     "output_type": "stream",
     "text": [
      "87\n",
      "<generator object MMPoseInferencer.__call__ at 0x000001DB3E4C2EB0>\n"
     ]
    },
    {
     "data": {
      "text/html": [
       "<pre style=\"white-space:pre;overflow-x:auto;line-height:normal;font-family:Menlo,'DejaVu Sans Mono',consolas,'Courier New',monospace\"></pre>\n"
      ],
      "text/plain": []
     },
     "metadata": {},
     "output_type": "display_data"
    },
    {
     "data": {
      "text/html": [
       "<pre style=\"white-space:pre;overflow-x:auto;line-height:normal;font-family:Menlo,'DejaVu Sans Mono',consolas,'Courier New',monospace\">\n",
       "</pre>\n"
      ],
      "text/plain": [
       "\n"
      ]
     },
     "metadata": {},
     "output_type": "display_data"
    },
    {
     "name": "stdout",
     "output_type": "stream",
     "text": [
      "defaultdict(<class 'list'>, {'visualization': [array([[[ 81,  93,  89],\n",
      "        [ 78,  90,  86],\n",
      "        [ 79,  91,  87],\n",
      "        ...,\n",
      "        [234, 245, 244],\n",
      "        [234, 245, 244],\n",
      "        [234, 245, 244]],\n",
      "\n",
      "       [[ 77,  89,  85],\n",
      "        [ 74,  86,  82],\n",
      "        [ 75,  87,  83],\n",
      "        ...,\n",
      "        [234, 245, 244],\n",
      "        [234, 245, 244],\n",
      "        [234, 245, 244]],\n",
      "\n",
      "       [[ 68,  80,  76],\n",
      "        [ 67,  79,  75],\n",
      "        [ 70,  82,  78],\n",
      "        ...,\n",
      "        [234, 245, 244],\n",
      "        [234, 245, 244],\n",
      "        [234, 245, 244]],\n",
      "\n",
      "       ...,\n",
      "\n",
      "       [[177, 134,  99],\n",
      "        [178, 135, 100],\n",
      "        [178, 135, 100],\n",
      "        ...,\n",
      "        [198, 172, 189],\n",
      "        [197, 173, 189],\n",
      "        [197, 173, 189]],\n",
      "\n",
      "       [[177, 134,  99],\n",
      "        [178, 135, 100],\n",
      "        [178, 135, 100],\n",
      "        ...,\n",
      "        [200, 172, 189],\n",
      "        [197, 173, 189],\n",
      "        [197, 173, 189]],\n",
      "\n",
      "       [[177, 134,  99],\n",
      "        [178, 135, 100],\n",
      "        [178, 135, 100],\n",
      "        ...,\n",
      "        [200, 172, 189],\n",
      "        [197, 173, 189],\n",
      "        [197, 173, 189]]], dtype=uint8)], 'predictions': [[{'keypoints': [[174.95918867323132, 390.469698270162], [181.11135779486767, 421.2305428187052], [193.41569603814014, 458.14355627695704], [230.3287107679579, 396.6218671798706], [291.8504019843208, 402.7740360895792], [322.6112475925022, 482.75223191579175], [236.48087988959423, 464.295725186666], [242.63304901123047, 482.75223191579175], [230.3287107679579, 488.9044008255005], [224.17654164632165, 525.8174142837524], [199.5678651597765, 519.6652453740437], [193.41569603814014, 550.4260899225872], [384.132938808865, 451.99138736724854], [273.39389461941187, 587.3391033808391], [224.17654164632165, 655.0129613876343], [205.72003428141272, 611.9477790196736], [236.48087988959423, 611.9477790196736], [273.39389461941187, 618.0999479293823], [187.2635269165039, 630.4042857487996], [230.3287107679579, 636.5564546585083], [261.0895563761393, 642.708623568217]], 'keypoint_scores': [0.8011667728424072, 0.6389137506484985, 0.6713569760322571, 0.6964390277862549, 0.8033643960952759, 0.814429759979248, 0.580490231513977, 0.6095899939537048, 0.6496819853782654, 0.7188673615455627, 0.660540759563446, 0.689063310623169, 0.8360078930854797, 0.5753458142280579, 0.8243703842163086, 0.6857013702392578, 0.667613685131073, 0.5598049759864807, 0.8406083583831787, 0.6886981129646301, 0.6253370046615601], 'bbox': ([0.0, 7.1895904541015625, 540.6356201171875, 952.1627197265625],), 'bbox_score': 0.9119876}]]})\n"
     ]
    },
    {
     "data": {
      "application/vnd.jupyter.widget-view+json": {
       "model_id": "c899762517e64976afce0427abae7b68",
       "version_major": 2,
       "version_minor": 0
      },
      "text/plain": [
       "Output()"
      ]
     },
     "metadata": {},
     "output_type": "display_data"
    },
    {
     "name": "stdout",
     "output_type": "stream",
     "text": [
      "87\n",
      "<generator object MMPoseInferencer.__call__ at 0x000001DB3E834DD0>\n"
     ]
    },
    {
     "data": {
      "text/html": [
       "<pre style=\"white-space:pre;overflow-x:auto;line-height:normal;font-family:Menlo,'DejaVu Sans Mono',consolas,'Courier New',monospace\"></pre>\n"
      ],
      "text/plain": []
     },
     "metadata": {},
     "output_type": "display_data"
    },
    {
     "data": {
      "text/html": [
       "<pre style=\"white-space:pre;overflow-x:auto;line-height:normal;font-family:Menlo,'DejaVu Sans Mono',consolas,'Courier New',monospace\">\n",
       "</pre>\n"
      ],
      "text/plain": [
       "\n"
      ]
     },
     "metadata": {},
     "output_type": "display_data"
    },
    {
     "name": "stdout",
     "output_type": "stream",
     "text": [
      "defaultdict(<class 'list'>, {'visualization': [array([[[ 83,  95,  91],\n",
      "        [ 86,  98,  94],\n",
      "        [ 81,  93,  89],\n",
      "        ...,\n",
      "        [231, 244, 243],\n",
      "        [233, 244, 243],\n",
      "        [233, 244, 243]],\n",
      "\n",
      "       [[ 80,  92,  88],\n",
      "        [ 80,  92,  88],\n",
      "        [ 79,  91,  87],\n",
      "        ...,\n",
      "        [231, 244, 243],\n",
      "        [233, 244, 243],\n",
      "        [233, 244, 243]],\n",
      "\n",
      "       [[ 73,  85,  81],\n",
      "        [ 71,  83,  79],\n",
      "        [ 72,  84,  80],\n",
      "        ...,\n",
      "        [231, 244, 243],\n",
      "        [233, 244, 243],\n",
      "        [233, 244, 243]],\n",
      "\n",
      "       ...,\n",
      "\n",
      "       [[177, 134,  99],\n",
      "        [178, 135, 100],\n",
      "        [178, 135, 100],\n",
      "        ...,\n",
      "        [197, 173, 189],\n",
      "        [195, 174, 189],\n",
      "        [195, 174, 189]],\n",
      "\n",
      "       [[177, 134,  99],\n",
      "        [178, 135, 100],\n",
      "        [178, 135, 100],\n",
      "        ...,\n",
      "        [202, 171, 189],\n",
      "        [198, 172, 189],\n",
      "        [198, 172, 189]],\n",
      "\n",
      "       [[177, 134,  99],\n",
      "        [178, 135, 100],\n",
      "        [178, 135, 100],\n",
      "        ...,\n",
      "        [202, 171, 189],\n",
      "        [198, 172, 189],\n",
      "        [198, 172, 189]]], dtype=uint8)], 'predictions': [[{'keypoints': [[174.93911531236438, 390.3612915674846], [181.0925263298882, 421.12834771474195], [193.39934836493603, 458.04881509145093], [230.31981447007922, 396.51470279693604], [291.8539246453179, 402.66811402638746], [322.62097973293726, 482.66246000925685], [236.47322548760303, 464.2022263209026], [242.62663650512695, 482.66246000925685], [230.31981447007922, 488.8158712387085], [230.31981447007922, 525.7363386154175], [199.55275938245984, 519.5829273859658], [193.39934836493603, 550.3499835332236], [384.155089908176, 451.8954038619995], [273.39369159274634, 593.4238621393838], [218.0129924350315, 661.1113856633506], [205.70617039998365, 611.8840958277383], [236.47322548760303, 611.8840958277383], [273.39369159274634, 624.1909182866416], [187.2459373474121, 630.3443295160928], [224.16640345255541, 636.4977407455444], [261.0868695576985, 642.6511519749961]], 'keypoint_scores': [0.8178954720497131, 0.6569382548332214, 0.6850350499153137, 0.7050602436065674, 0.8059769868850708, 0.8299185037612915, 0.5880029201507568, 0.6162540316581726, 0.656410813331604, 0.7224677801132202, 0.6661573052406311, 0.701399564743042, 0.8521696329116821, 0.5852012634277344, 0.8094199895858765, 0.6905499696731567, 0.674958348274231, 0.5753388404846191, 0.8295969367027283, 0.6875572204589844, 0.638887882232666], 'bbox': ([0.0, 7.0037841796875, 540.6339721679688, 952.167724609375],), 'bbox_score': 0.9106835}]]})\n"
     ]
    },
    {
     "data": {
      "application/vnd.jupyter.widget-view+json": {
       "model_id": "d6fa9e6bc1704051b3b28dcaf068a376",
       "version_major": 2,
       "version_minor": 0
      },
      "text/plain": [
       "Output()"
      ]
     },
     "metadata": {},
     "output_type": "display_data"
    },
    {
     "name": "stdout",
     "output_type": "stream",
     "text": [
      "87\n",
      "<generator object MMPoseInferencer.__call__ at 0x000001DB3E834BA0>\n"
     ]
    },
    {
     "data": {
      "text/html": [
       "<pre style=\"white-space:pre;overflow-x:auto;line-height:normal;font-family:Menlo,'DejaVu Sans Mono',consolas,'Courier New',monospace\"></pre>\n"
      ],
      "text/plain": []
     },
     "metadata": {},
     "output_type": "display_data"
    },
    {
     "data": {
      "text/html": [
       "<pre style=\"white-space:pre;overflow-x:auto;line-height:normal;font-family:Menlo,'DejaVu Sans Mono',consolas,'Courier New',monospace\">\n",
       "</pre>\n"
      ],
      "text/plain": [
       "\n"
      ]
     },
     "metadata": {},
     "output_type": "display_data"
    },
    {
     "name": "stdout",
     "output_type": "stream",
     "text": [
      "defaultdict(<class 'list'>, {'visualization': [array([[[ 83,  95,  91],\n",
      "        [ 85,  97,  93],\n",
      "        [ 83,  95,  91],\n",
      "        ...,\n",
      "        [226, 244, 241],\n",
      "        [227, 243, 241],\n",
      "        [227, 243, 241]],\n",
      "\n",
      "       [[ 80,  92,  88],\n",
      "        [ 80,  92,  88],\n",
      "        [ 80,  92,  88],\n",
      "        ...,\n",
      "        [226, 244, 241],\n",
      "        [227, 243, 241],\n",
      "        [227, 243, 241]],\n",
      "\n",
      "       [[ 73,  85,  81],\n",
      "        [ 71,  83,  79],\n",
      "        [ 71,  83,  79],\n",
      "        ...,\n",
      "        [226, 244, 241],\n",
      "        [227, 243, 241],\n",
      "        [227, 243, 241]],\n",
      "\n",
      "       ...,\n",
      "\n",
      "       [[177, 134,  99],\n",
      "        [178, 135, 100],\n",
      "        [178, 135, 100],\n",
      "        ...,\n",
      "        [197, 173, 189],\n",
      "        [195, 174, 189],\n",
      "        [195, 174, 189]],\n",
      "\n",
      "       [[177, 134,  99],\n",
      "        [178, 135, 100],\n",
      "        [178, 135, 100],\n",
      "        ...,\n",
      "        [202, 171, 189],\n",
      "        [198, 172, 189],\n",
      "        [198, 172, 189]],\n",
      "\n",
      "       [[177, 134,  99],\n",
      "        [178, 135, 100],\n",
      "        [178, 135, 100],\n",
      "        ...,\n",
      "        [202, 171, 189],\n",
      "        [198, 172, 189],\n",
      "        [198, 172, 189]]], dtype=uint8)], 'predictions': [[{'keypoints': [[181.2225070529514, 390.34176667531335], [181.2225070529514, 421.11827055613196], [193.5331081814236, 458.05007521311427], [230.46491156684033, 396.49706745147705], [292.0179172092014, 402.65236822764075], [322.79442003038196, 482.6712783177693], [236.6202121310764, 464.2053759892783], [242.7755126953125, 482.6712783177693], [230.46491156684033, 488.8265790939331], [230.46491156684033, 525.7583837509155], [199.68840874565967, 519.6030829747517], [193.5331081814236, 550.3795868555706], [378.19212510850696, 458.05007521311427], [273.55201551649304, 587.311391512553], [218.15431043836804, 661.1750008265178], [205.84370930989576, 611.9325946172078], [236.6202121310764, 611.9325946172078], [273.55201551649304, 618.0878953933716], [187.3778076171875, 630.398496945699], [224.30961100260424, 636.5537977218628], [261.24141438802076, 642.7090984980266]], 'keypoint_scores': [0.8161324262619019, 0.659552276134491, 0.6884048581123352, 0.7049926519393921, 0.7942625284194946, 0.8208577036857605, 0.5765333771705627, 0.60883629322052, 0.6518514156341553, 0.7283405065536499, 0.677206814289093, 0.7137684226036072, 0.833053469657898, 0.6047934889793396, 0.8094556927680969, 0.6970167756080627, 0.684465229511261, 0.5919312238693237, 0.8318827748298645, 0.6929709911346436, 0.6507381796836853], 'bbox': ([0.0, 6.8665008544921875, 540.94873046875, 952.3207397460938],), 'bbox_score': 0.9092135}]]})\n"
     ]
    },
    {
     "data": {
      "application/vnd.jupyter.widget-view+json": {
       "model_id": "caaaf786fa6345299ff1a907660e881f",
       "version_major": 2,
       "version_minor": 0
      },
      "text/plain": [
       "Output()"
      ]
     },
     "metadata": {},
     "output_type": "display_data"
    },
    {
     "name": "stdout",
     "output_type": "stream",
     "text": [
      "87\n",
      "<generator object MMPoseInferencer.__call__ at 0x000001DB3E4C2120>\n"
     ]
    },
    {
     "data": {
      "text/html": [
       "<pre style=\"white-space:pre;overflow-x:auto;line-height:normal;font-family:Menlo,'DejaVu Sans Mono',consolas,'Courier New',monospace\"></pre>\n"
      ],
      "text/plain": []
     },
     "metadata": {},
     "output_type": "display_data"
    },
    {
     "data": {
      "text/html": [
       "<pre style=\"white-space:pre;overflow-x:auto;line-height:normal;font-family:Menlo,'DejaVu Sans Mono',consolas,'Courier New',monospace\">\n",
       "</pre>\n"
      ],
      "text/plain": [
       "\n"
      ]
     },
     "metadata": {},
     "output_type": "display_data"
    },
    {
     "data": {
      "application/vnd.jupyter.widget-view+json": {
       "model_id": "ccc69d07b8ee4a2e97595539aa83236c",
       "version_major": 2,
       "version_minor": 0
      },
      "text/plain": [
       "Output()"
      ]
     },
     "metadata": {},
     "output_type": "display_data"
    },
    {
     "name": "stdout",
     "output_type": "stream",
     "text": [
      "defaultdict(<class 'list'>, {'visualization': [array([[[ 85,  97,  93],\n",
      "        [ 86,  98,  94],\n",
      "        [ 86,  98,  94],\n",
      "        ...,\n",
      "        [226, 244, 241],\n",
      "        [227, 243, 241],\n",
      "        [227, 243, 241]],\n",
      "\n",
      "       [[ 82,  94,  90],\n",
      "        [ 82,  94,  90],\n",
      "        [ 83,  95,  91],\n",
      "        ...,\n",
      "        [226, 244, 241],\n",
      "        [227, 243, 241],\n",
      "        [227, 243, 241]],\n",
      "\n",
      "       [[ 75,  87,  83],\n",
      "        [ 74,  86,  82],\n",
      "        [ 75,  87,  83],\n",
      "        ...,\n",
      "        [226, 244, 241],\n",
      "        [227, 243, 241],\n",
      "        [227, 243, 241]],\n",
      "\n",
      "       ...,\n",
      "\n",
      "       [[178, 135, 100],\n",
      "        [178, 135, 100],\n",
      "        [179, 136, 101],\n",
      "        ...,\n",
      "        [197, 173, 189],\n",
      "        [195, 174, 189],\n",
      "        [195, 174, 189]],\n",
      "\n",
      "       [[178, 135, 100],\n",
      "        [178, 135, 100],\n",
      "        [179, 136, 101],\n",
      "        ...,\n",
      "        [202, 171, 189],\n",
      "        [198, 172, 189],\n",
      "        [198, 172, 189]],\n",
      "\n",
      "       [[178, 135, 100],\n",
      "        [178, 135, 100],\n",
      "        [179, 136, 101],\n",
      "        ...,\n",
      "        [202, 171, 189],\n",
      "        [198, 172, 189],\n",
      "        [198, 172, 189]]], dtype=uint8)], 'predictions': [[{'keypoints': [[181.0846205817329, 390.46008141835534], [181.0846205817329, 421.2305771509806], [193.3928192986382, 458.15517203013087], [236.47151480780713, 396.61418056488037], [291.85840903388134, 402.7682797114054], [322.6289058261448, 482.7715686162312], [236.47151480780713, 464.30927117665624], [242.62561416625977, 482.7715686162312], [230.31741544935437, 488.92566776275635], [230.31741544935437, 525.8502626419067], [199.54691865709094, 519.6961634953816], [193.3928192986382, 550.4666592280071], [378.015800052219, 458.15517203013087], [273.3961109585232, 587.3912541071575], [218.00921673244898, 661.2404438654582], [205.70101801554358, 612.0076506932576], [236.47151480780713, 618.1617498397827], [273.3961109585232, 618.1617498397827], [187.23871994018555, 630.4699481328328], [224.16331609090173, 636.6240472793579], [261.0879122416178, 642.778146425883]], 'keypoint_scores': [0.8191803097724915, 0.6649888157844543, 0.6892704963684082, 0.7102272510528564, 0.7924486398696899, 0.8203948736190796, 0.5836910605430603, 0.6156413555145264, 0.6566781401634216, 0.7306480407714844, 0.6768062710762024, 0.7167295813560486, 0.8522671461105347, 0.5999616384506226, 0.8164383769035339, 0.7127779126167297, 0.690849781036377, 0.5884557366371155, 0.841961681842804, 0.7037423849105835, 0.6488381624221802], 'bbox': ([0.0, 7.059722900390625, 540.6381225585938, 952.329345703125],), 'bbox_score': 0.9132207}]]})\n",
      "87\n",
      "<generator object MMPoseInferencer.__call__ at 0x000001DB3E4C2E40>\n"
     ]
    },
    {
     "data": {
      "text/html": [
       "<pre style=\"white-space:pre;overflow-x:auto;line-height:normal;font-family:Menlo,'DejaVu Sans Mono',consolas,'Courier New',monospace\"></pre>\n"
      ],
      "text/plain": []
     },
     "metadata": {},
     "output_type": "display_data"
    },
    {
     "data": {
      "text/html": [
       "<pre style=\"white-space:pre;overflow-x:auto;line-height:normal;font-family:Menlo,'DejaVu Sans Mono',consolas,'Courier New',monospace\">\n",
       "</pre>\n"
      ],
      "text/plain": [
       "\n"
      ]
     },
     "metadata": {},
     "output_type": "display_data"
    },
    {
     "name": "stdout",
     "output_type": "stream",
     "text": [
      "defaultdict(<class 'list'>, {'visualization': [array([[[ 83,  95,  91],\n",
      "        [ 85,  97,  93],\n",
      "        [ 83,  95,  91],\n",
      "        ...,\n",
      "        [224, 245, 241],\n",
      "        [226, 244, 241],\n",
      "        [226, 244, 241]],\n",
      "\n",
      "       [[ 75,  87,  83],\n",
      "        [ 77,  89,  85],\n",
      "        [ 80,  92,  88],\n",
      "        ...,\n",
      "        [224, 245, 241],\n",
      "        [226, 244, 241],\n",
      "        [226, 244, 241]],\n",
      "\n",
      "       [[ 66,  78,  74],\n",
      "        [ 68,  80,  76],\n",
      "        [ 75,  87,  83],\n",
      "        ...,\n",
      "        [224, 245, 241],\n",
      "        [226, 244, 241],\n",
      "        [226, 244, 241]],\n",
      "\n",
      "       ...,\n",
      "\n",
      "       [[178, 135, 100],\n",
      "        [178, 135, 100],\n",
      "        [179, 136, 101],\n",
      "        ...,\n",
      "        [196, 172, 188],\n",
      "        [194, 173, 188],\n",
      "        [194, 173, 188]],\n",
      "\n",
      "       [[178, 135, 100],\n",
      "        [178, 135, 100],\n",
      "        [179, 136, 101],\n",
      "        ...,\n",
      "        [201, 170, 188],\n",
      "        [197, 171, 188],\n",
      "        [197, 171, 188]],\n",
      "\n",
      "       [[178, 135, 100],\n",
      "        [178, 135, 100],\n",
      "        [179, 136, 101],\n",
      "        ...,\n",
      "        [200, 169, 187],\n",
      "        [196, 170, 187],\n",
      "        [196, 170, 187]]], dtype=uint8)], 'predictions': [[{'keypoints': [[181.00205569797095, 390.691414197286], [181.00205569797095, 421.4489208857218], [193.30505794949, 458.35792891184474], [230.21406470404736, 396.84291553497314], [291.7290759616428, 402.9944168726603], [322.48658159044055, 476.81243292490626], [236.36556582980688, 464.5094302495322], [242.5170669555664, 482.9639342625935], [230.21406470404736, 489.11543560028076], [230.21406470404736, 526.0244436264038], [199.45655907524952, 519.8729422887166], [193.30505794949, 550.6304489771526], [377.8500917222765, 452.2064275741577], [273.27457258436414, 587.5394570032756], [217.9110624525282, 661.3574730555217], [205.60806020100904, 612.1454623540242], [236.36556582980688, 618.2969636917114], [273.27457258436414, 624.4484650293987], [187.15355682373047, 630.5999663670857], [230.21406470404736, 636.751467704773], [260.971570332845, 642.9029690424602]], 'keypoint_scores': [0.8155120611190796, 0.6622632741928101, 0.683668851852417, 0.6988065242767334, 0.7784748673439026, 0.8272031545639038, 0.5747032165527344, 0.6162418723106384, 0.6527552604675293, 0.7284457087516785, 0.6742982864379883, 0.7165711522102356, 0.8427290320396423, 0.612591028213501, 0.8253777027130127, 0.7302492260932922, 0.7066842913627625, 0.6016893982887268, 0.8548216223716736, 0.7197805643081665, 0.6629064679145813], 'bbox': ([0.0, 7.452850341796875, 540.3976440429688, 952.323486328125],), 'bbox_score': 0.9130833}]]})"
     ]
    },
    {
     "data": {
      "application/vnd.jupyter.widget-view+json": {
       "model_id": "19e8b36eede246588687d7b6772f7ca0",
       "version_major": 2,
       "version_minor": 0
      },
      "text/plain": [
       "Output()"
      ]
     },
     "metadata": {},
     "output_type": "display_data"
    },
    {
     "name": "stdout",
     "output_type": "stream",
     "text": [
      "\n",
      "87\n",
      "<generator object MMPoseInferencer.__call__ at 0x000001DB3E834E40>\n"
     ]
    },
    {
     "data": {
      "text/html": [
       "<pre style=\"white-space:pre;overflow-x:auto;line-height:normal;font-family:Menlo,'DejaVu Sans Mono',consolas,'Courier New',monospace\"></pre>\n"
      ],
      "text/plain": []
     },
     "metadata": {},
     "output_type": "display_data"
    },
    {
     "data": {
      "text/html": [
       "<pre style=\"white-space:pre;overflow-x:auto;line-height:normal;font-family:Menlo,'DejaVu Sans Mono',consolas,'Courier New',monospace\">\n",
       "</pre>\n"
      ],
      "text/plain": [
       "\n"
      ]
     },
     "metadata": {},
     "output_type": "display_data"
    },
    {
     "name": "stdout",
     "output_type": "stream",
     "text": [
      "defaultdict(<class 'list'>, {'visualization': [array([[[ 85,  97,  93],\n",
      "        [ 85,  97,  93],\n",
      "        [ 86,  98,  94],\n",
      "        ...,\n",
      "        [224, 245, 241],\n",
      "        [226, 244, 241],\n",
      "        [226, 244, 241]],\n",
      "\n",
      "       [[ 77,  89,  85],\n",
      "        [ 79,  91,  87],\n",
      "        [ 83,  95,  91],\n",
      "        ...,\n",
      "        [224, 245, 241],\n",
      "        [226, 244, 241],\n",
      "        [226, 244, 241]],\n",
      "\n",
      "       [[ 67,  79,  75],\n",
      "        [ 72,  84,  80],\n",
      "        [ 80,  92,  88],\n",
      "        ...,\n",
      "        [224, 245, 241],\n",
      "        [226, 244, 241],\n",
      "        [226, 244, 241]],\n",
      "\n",
      "       ...,\n",
      "\n",
      "       [[178, 135, 100],\n",
      "        [179, 136, 101],\n",
      "        [179, 136, 101],\n",
      "        ...,\n",
      "        [196, 172, 188],\n",
      "        [194, 173, 188],\n",
      "        [194, 173, 188]],\n",
      "\n",
      "       [[178, 135, 100],\n",
      "        [179, 136, 101],\n",
      "        [179, 136, 101],\n",
      "        ...,\n",
      "        [201, 170, 188],\n",
      "        [197, 171, 188],\n",
      "        [197, 171, 188]],\n",
      "\n",
      "       [[178, 135, 100],\n",
      "        [179, 136, 101],\n",
      "        [179, 136, 101],\n",
      "        ...,\n",
      "        [200, 169, 187],\n",
      "        [196, 170, 187],\n",
      "        [196, 170, 187]]], dtype=uint8)], 'predictions': [[{'keypoints': [[174.87716335720484, 390.7029218673706], [181.0277845594619, 421.45602893829346], [193.3290269639756, 458.3597574234009], [230.23275417751734, 396.8535432815552], [291.7389662000869, 403.00416469573975], [322.4920722113716, 476.8116216659546], [236.3833753797744, 464.51037883758545], [242.53399658203125, 482.96224308013916], [230.23275417751734, 489.11286449432373], [230.23275417751734, 526.0165929794312], [199.47964816623266, 519.8659715652466], [193.3290269639756, 550.6190786361694], [377.8476630316841, 452.2091360092163], [273.2871025933159, 587.5228071212769], [217.93151177300342, 661.3302640914917], [205.6302693684895, 612.1252927780151], [236.3833753797744, 612.1252927780151], [273.2871025933159, 618.2759141921997], [187.17840576171875, 630.5771570205688], [224.0821329752605, 636.7277784347534], [260.985860188802, 642.878399848938]], 'keypoint_scores': [0.8147748112678528, 0.6582839488983154, 0.6787354350090027, 0.70479416847229, 0.779623806476593, 0.8266968131065369, 0.5767489075660706, 0.6141388416290283, 0.645787239074707, 0.7087119221687317, 0.6550750136375427, 0.6934853196144104, 0.8513458967208862, 0.6156149506568909, 0.834440290927887, 0.7302607297897339, 0.7126070261001587, 0.6150981783866882, 0.8645911812782288, 0.7272400259971619, 0.6788098812103271], 'bbox': ([0.0, 7.51922607421875, 540.423583984375, 952.254638671875],), 'bbox_score': 0.9104295}]]})\n"
     ]
    },
    {
     "data": {
      "application/vnd.jupyter.widget-view+json": {
       "model_id": "7129f1b79d25435281a1db5f4c6c1885",
       "version_major": 2,
       "version_minor": 0
      },
      "text/plain": [
       "Output()"
      ]
     },
     "metadata": {},
     "output_type": "display_data"
    },
    {
     "name": "stdout",
     "output_type": "stream",
     "text": [
      "87\n",
      "<generator object MMPoseInferencer.__call__ at 0x000001DB3E834CF0>\n"
     ]
    },
    {
     "data": {
      "text/html": [
       "<pre style=\"white-space:pre;overflow-x:auto;line-height:normal;font-family:Menlo,'DejaVu Sans Mono',consolas,'Courier New',monospace\"></pre>\n"
      ],
      "text/plain": []
     },
     "metadata": {},
     "output_type": "display_data"
    },
    {
     "data": {
      "text/html": [
       "<pre style=\"white-space:pre;overflow-x:auto;line-height:normal;font-family:Menlo,'DejaVu Sans Mono',consolas,'Courier New',monospace\">\n",
       "</pre>\n"
      ],
      "text/plain": [
       "\n"
      ]
     },
     "metadata": {},
     "output_type": "display_data"
    },
    {
     "name": "stdout",
     "output_type": "stream",
     "text": [
      "defaultdict(<class 'list'>, {'visualization': [array([[[ 80,  94,  90],\n",
      "        [ 80,  94,  90],\n",
      "        [ 83,  97,  93],\n",
      "        ...,\n",
      "        [221, 244, 241],\n",
      "        [221, 244, 241],\n",
      "        [221, 244, 241]],\n",
      "\n",
      "       [[ 72,  86,  82],\n",
      "        [ 75,  89,  85],\n",
      "        [ 80,  94,  90],\n",
      "        ...,\n",
      "        [221, 244, 241],\n",
      "        [221, 244, 241],\n",
      "        [221, 244, 241]],\n",
      "\n",
      "       [[ 64,  78,  74],\n",
      "        [ 69,  83,  79],\n",
      "        [ 77,  91,  87],\n",
      "        ...,\n",
      "        [221, 244, 241],\n",
      "        [221, 244, 241],\n",
      "        [221, 244, 241]],\n",
      "\n",
      "       ...,\n",
      "\n",
      "       [[178, 135, 100],\n",
      "        [179, 136, 101],\n",
      "        [179, 136, 101],\n",
      "        ...,\n",
      "        [193, 174, 188],\n",
      "        [191, 175, 188],\n",
      "        [191, 175, 188]],\n",
      "\n",
      "       [[178, 135, 100],\n",
      "        [179, 136, 101],\n",
      "        [179, 136, 101],\n",
      "        ...,\n",
      "        [197, 171, 188],\n",
      "        [194, 173, 188],\n",
      "        [194, 173, 188]],\n",
      "\n",
      "       [[178, 135, 100],\n",
      "        [179, 136, 101],\n",
      "        [179, 136, 101],\n",
      "        ...,\n",
      "        [196, 170, 187],\n",
      "        [193, 172, 187],\n",
      "        [193, 172, 187]]], dtype=uint8)], 'predictions': [[{'keypoints': [[174.87427393595385, 390.5684598286947], [181.0270779927572, 421.33248011271155], [193.3326861063639, 458.24930445353175], [230.24951044718432, 396.72126388549805], [291.77755101521814, 402.8740679423014], [322.5415712992351, 482.86052068074537], [236.40231450398767, 464.40210851033544], [242.55511856079102, 482.86052068074537], [230.24951044718432, 489.0133247375488], [230.24951044718432, 525.9301490783691], [199.48549016316724, 519.7773450215657], [193.3326861063639, 550.5413653055828], [377.91680781046546, 452.0965003967285], [273.31913884480787, 587.4581896464031], [217.9439023335774, 661.2918383280437], [205.6382942199707, 612.0694058736165], [236.40231450398767, 612.0694058736165], [273.31913884480787, 618.2222099304199], [187.17988204956055, 630.5278180440266], [224.09670639038086, 636.6806221008301], [261.0135307312012, 642.8334261576335]], 'keypoint_scores': [0.7946547865867615, 0.6392689347267151, 0.6631019115447998, 0.6807488799095154, 0.7756626605987549, 0.8365630507469177, 0.5620166063308716, 0.6068093180656433, 0.6366447806358337, 0.7077918648719788, 0.653972327709198, 0.6996980905532837, 0.8610672354698181, 0.6219586133956909, 0.8316702842712402, 0.7297035455703735, 0.714541494846344, 0.6178784370422363, 0.8642569184303284, 0.7262235879898071, 0.6786308288574219], 'bbox': ([0.0, 7.248779296875, 540.4854736328125, 952.3194580078125],), 'bbox_score': 0.9060935}]]})\n",
      "87\n"
     ]
    },
    {
     "data": {
      "application/vnd.jupyter.widget-view+json": {
       "model_id": "cccc8c394d2a4ae682899f1858e804a8",
       "version_major": 2,
       "version_minor": 0
      },
      "text/plain": [
       "Output()"
      ]
     },
     "metadata": {},
     "output_type": "display_data"
    },
    {
     "name": "stdout",
     "output_type": "stream",
     "text": [
      "<generator object MMPoseInferencer.__call__ at 0x000001DB3E4C2F20>\n"
     ]
    },
    {
     "data": {
      "text/html": [
       "<pre style=\"white-space:pre;overflow-x:auto;line-height:normal;font-family:Menlo,'DejaVu Sans Mono',consolas,'Courier New',monospace\"></pre>\n"
      ],
      "text/plain": []
     },
     "metadata": {},
     "output_type": "display_data"
    },
    {
     "data": {
      "text/html": [
       "<pre style=\"white-space:pre;overflow-x:auto;line-height:normal;font-family:Menlo,'DejaVu Sans Mono',consolas,'Courier New',monospace\">\n",
       "</pre>\n"
      ],
      "text/plain": [
       "\n"
      ]
     },
     "metadata": {},
     "output_type": "display_data"
    },
    {
     "data": {
      "application/vnd.jupyter.widget-view+json": {
       "model_id": "5ce1ae11d03b43518219f7041094fddc",
       "version_major": 2,
       "version_minor": 0
      },
      "text/plain": [
       "Output()"
      ]
     },
     "metadata": {},
     "output_type": "display_data"
    },
    {
     "data": {
      "text/html": [
       "<pre style=\"white-space:pre;overflow-x:auto;line-height:normal;font-family:Menlo,'DejaVu Sans Mono',consolas,'Courier New',monospace\"></pre>\n"
      ],
      "text/plain": []
     },
     "metadata": {},
     "output_type": "display_data"
    },
    {
     "data": {
      "text/html": [
       "<pre style=\"white-space:pre;overflow-x:auto;line-height:normal;font-family:Menlo,'DejaVu Sans Mono',consolas,'Courier New',monospace\">\n",
       "</pre>\n"
      ],
      "text/plain": [
       "\n"
      ]
     },
     "metadata": {},
     "output_type": "display_data"
    },
    {
     "name": "stdout",
     "output_type": "stream",
     "text": [
      "defaultdict(<class 'list'>, {'visualization': [array([[[ 75,  88,  87],\n",
      "        [ 77,  90,  89],\n",
      "        [ 85,  98,  97],\n",
      "        ...,\n",
      "        [221, 244, 241],\n",
      "        [221, 244, 241],\n",
      "        [221, 244, 241]],\n",
      "\n",
      "       [[ 71,  84,  83],\n",
      "        [ 76,  89,  88],\n",
      "        [ 84,  97,  96],\n",
      "        ...,\n",
      "        [221, 244, 241],\n",
      "        [221, 244, 241],\n",
      "        [221, 244, 241]],\n",
      "\n",
      "       [[ 66,  79,  78],\n",
      "        [ 73,  86,  85],\n",
      "        [ 83,  96,  95],\n",
      "        ...,\n",
      "        [221, 244, 241],\n",
      "        [221, 244, 241],\n",
      "        [221, 244, 241]],\n",
      "\n",
      "       ...,\n",
      "\n",
      "       [[178, 138, 102],\n",
      "        [178, 138, 102],\n",
      "        [178, 138, 102],\n",
      "        ...,\n",
      "        [194, 175, 189],\n",
      "        [192, 176, 189],\n",
      "        [192, 176, 189]],\n",
      "\n",
      "       [[178, 138, 102],\n",
      "        [178, 138, 102],\n",
      "        [178, 138, 102],\n",
      "        ...,\n",
      "        [198, 172, 189],\n",
      "        [195, 174, 189],\n",
      "        [195, 174, 189]],\n",
      "\n",
      "       [[178, 138, 102],\n",
      "        [178, 138, 102],\n",
      "        [178, 138, 102],\n",
      "        ...,\n",
      "        [198, 172, 189],\n",
      "        [195, 174, 189],\n",
      "        [195, 174, 189]]], dtype=uint8)], 'predictions': [[{'keypoints': [[174.82764943440748, 390.3856684366863], [180.9800593058269, 421.1477177937825], [193.2848790486653, 458.0621770222981], [230.1993382771809, 396.53807830810547], [291.7234369913738, 402.69048817952466], [322.4854863484701, 476.5194066365559], [236.35174814860034, 464.2145868937175], [242.50415802001953, 482.6718165079751], [230.1993382771809, 488.82422637939453], [230.1993382771809, 525.7386856079102], [199.4372889200847, 519.5862757364907], [193.2848790486653, 550.3483250935874], [377.8571751912435, 451.9097671508789], [273.26620737711585, 587.262784322103], [217.8945185343424, 654.9392929077148], [205.5896987915039, 611.8724238077798], [236.35174814860034, 611.8724238077798], [273.26620737711585, 618.0248336791992], [187.1324691772461, 630.3296534220376], [224.04692840576172, 636.482063293457], [260.96138763427734, 642.6344731648765]], 'keypoint_scores': [0.8139378428459167, 0.6530075073242188, 0.6728143692016602, 0.7008972764015198, 0.7732473015785217, 0.8378924131393433, 0.5763203501701355, 0.6166686415672302, 0.6534096598625183, 0.7282119393348694, 0.6644212007522583, 0.6956826448440552, 0.854704737663269, 0.6042665839195251, 0.8310823440551758, 0.7119609117507935, 0.6965374946594238, 0.5941039323806763, 0.858241856098175, 0.7105943560600281, 0.6545699834823608], 'bbox': ([0.0, 7.0905303955078125, 540.3800048828125, 952.1007080078125],), 'bbox_score': 0.9047103}]]})"
     ]
    },
    {
     "data": {
      "application/vnd.jupyter.widget-view+json": {
       "model_id": "79ae3b229d984356bbf569361a9d5fec",
       "version_major": 2,
       "version_minor": 0
      },
      "text/plain": [
       "Output()"
      ]
     },
     "metadata": {},
     "output_type": "display_data"
    },
    {
     "name": "stdout",
     "output_type": "stream",
     "text": [
      "\n",
      "87\n",
      "<generator object MMPoseInferencer.__call__ at 0x000001DB3E834CF0>\n"
     ]
    },
    {
     "data": {
      "text/html": [
       "<pre style=\"white-space:pre;overflow-x:auto;line-height:normal;font-family:Menlo,'DejaVu Sans Mono',consolas,'Courier New',monospace\"></pre>\n"
      ],
      "text/plain": []
     },
     "metadata": {},
     "output_type": "display_data"
    },
    {
     "data": {
      "text/html": [
       "<pre style=\"white-space:pre;overflow-x:auto;line-height:normal;font-family:Menlo,'DejaVu Sans Mono',consolas,'Courier New',monospace\">\n",
       "</pre>\n"
      ],
      "text/plain": [
       "\n"
      ]
     },
     "metadata": {},
     "output_type": "display_data"
    },
    {
     "name": "stdout",
     "output_type": "stream",
     "text": [
      "defaultdict(<class 'list'>, {'visualization': [array([[[ 74,  90,  88],\n",
      "        [ 79,  95,  93],\n",
      "        [ 85, 101,  99],\n",
      "        ...,\n",
      "        [221, 244, 241],\n",
      "        [221, 244, 241],\n",
      "        [221, 244, 241]],\n",
      "\n",
      "       [[ 71,  87,  85],\n",
      "        [ 78,  94,  92],\n",
      "        [ 84, 100,  98],\n",
      "        ...,\n",
      "        [221, 244, 241],\n",
      "        [221, 244, 241],\n",
      "        [221, 244, 241]],\n",
      "\n",
      "       [[ 68,  84,  82],\n",
      "        [ 76,  92,  90],\n",
      "        [ 84, 100,  98],\n",
      "        ...,\n",
      "        [221, 244, 241],\n",
      "        [221, 244, 241],\n",
      "        [221, 244, 241]],\n",
      "\n",
      "       ...,\n",
      "\n",
      "       [[178, 138, 102],\n",
      "        [178, 138, 102],\n",
      "        [178, 138, 102],\n",
      "        ...,\n",
      "        [196, 177, 193],\n",
      "        [194, 178, 193],\n",
      "        [194, 178, 193]],\n",
      "\n",
      "       [[178, 138, 102],\n",
      "        [178, 138, 102],\n",
      "        [178, 138, 102],\n",
      "        ...,\n",
      "        [196, 172, 190],\n",
      "        [194, 173, 190],\n",
      "        [194, 173, 190]],\n",
      "\n",
      "       [[178, 138, 102],\n",
      "        [178, 138, 102],\n",
      "        [178, 138, 102],\n",
      "        ...,\n",
      "        [194, 170, 188],\n",
      "        [192, 171, 188],\n",
      "        [192, 171, 188]]], dtype=uint8)], 'predictions': [[{'keypoints': [[174.95759879218213, 390.3813212712606], [181.1123118930393, 421.1548878351847], [193.42173809475366, 458.08316771189357], [230.35001669989697, 396.5360345840454], [291.897147708469, 402.6907478968302], [322.670713212755, 476.54730765024806], [236.50472980075415, 464.2378810246787], [242.65944290161133, 482.70202096303296], [230.35001669989697, 488.85673427581787], [230.35001669989697, 525.7850141525269], [199.57645119561084, 519.630300839742], [193.42173809475366, 550.4038674036663], [378.06313112046985, 451.9284543991089], [273.43300840589734, 587.3321472803752], [218.0405904981825, 655.0339937210083], [205.73116429646802, 611.9510005315144], [236.50472980075415, 611.9510005315144], [273.43300840589734, 618.1057138442993], [187.26702499389648, 630.4151404698689], [224.1953035990398, 636.5698537826538], [261.12358220418287, 642.7245670954387]], 'keypoint_scores': [0.8056787848472595, 0.6476600766181946, 0.6726379990577698, 0.7055267691612244, 0.7659692168235779, 0.8449355363845825, 0.5804678201675415, 0.6236623525619507, 0.6628007292747498, 0.742160439491272, 0.6827077269554138, 0.7090188264846802, 0.8595471382141113, 0.6093102693557739, 0.8291565775871277, 0.7182966470718384, 0.7017254829406738, 0.6029171347618103, 0.8602844476699829, 0.7150830030441284, 0.664292573928833], 'bbox': ([0.0, 6.9426727294921875, 540.7113037109375, 952.306640625],), 'bbox_score': 0.90489924}]]})\n"
     ]
    },
    {
     "data": {
      "application/vnd.jupyter.widget-view+json": {
       "model_id": "5ec546b6c36f4ac2a045bc1cd2ced137",
       "version_major": 2,
       "version_minor": 0
      },
      "text/plain": [
       "Output()"
      ]
     },
     "metadata": {},
     "output_type": "display_data"
    },
    {
     "name": "stdout",
     "output_type": "stream",
     "text": [
      "87\n",
      "<generator object MMPoseInferencer.__call__ at 0x000001DB3E4C2120>\n"
     ]
    },
    {
     "data": {
      "text/html": [
       "<pre style=\"white-space:pre;overflow-x:auto;line-height:normal;font-family:Menlo,'DejaVu Sans Mono',consolas,'Courier New',monospace\"></pre>\n"
      ],
      "text/plain": []
     },
     "metadata": {},
     "output_type": "display_data"
    },
    {
     "data": {
      "text/html": [
       "<pre style=\"white-space:pre;overflow-x:auto;line-height:normal;font-family:Menlo,'DejaVu Sans Mono',consolas,'Courier New',monospace\">\n",
       "</pre>\n"
      ],
      "text/plain": [
       "\n"
      ]
     },
     "metadata": {},
     "output_type": "display_data"
    },
    {
     "name": "stdout",
     "output_type": "stream",
     "text": [
      "defaultdict(<class 'list'>, {'visualization': [array([[[ 71,  87,  85],\n",
      "        [ 82,  98,  96],\n",
      "        [ 88, 104, 102],\n",
      "        ...,\n",
      "        [221, 244, 241],\n",
      "        [221, 244, 241],\n",
      "        [221, 244, 241]],\n",
      "\n",
      "       [[ 70,  86,  84],\n",
      "        [ 79,  95,  93],\n",
      "        [ 85, 101,  99],\n",
      "        ...,\n",
      "        [221, 244, 241],\n",
      "        [221, 244, 241],\n",
      "        [221, 244, 241]],\n",
      "\n",
      "       [[ 67,  83,  81],\n",
      "        [ 77,  93,  91],\n",
      "        [ 85, 101,  99],\n",
      "        ...,\n",
      "        [221, 244, 241],\n",
      "        [221, 244, 241],\n",
      "        [221, 244, 241]],\n",
      "\n",
      "       ...,\n",
      "\n",
      "       [[178, 138, 102],\n",
      "        [178, 138, 102],\n",
      "        [178, 138, 102],\n",
      "        ...,\n",
      "        [193, 174, 190],\n",
      "        [191, 175, 190],\n",
      "        [191, 175, 190]],\n",
      "\n",
      "       [[178, 138, 102],\n",
      "        [178, 138, 102],\n",
      "        [178, 138, 102],\n",
      "        ...,\n",
      "        [196, 172, 190],\n",
      "        [194, 173, 190],\n",
      "        [194, 173, 190]],\n",
      "\n",
      "       [[178, 138, 102],\n",
      "        [178, 138, 102],\n",
      "        [178, 138, 102],\n",
      "        ...,\n",
      "        [195, 171, 189],\n",
      "        [193, 172, 189],\n",
      "        [193, 172, 189]]], dtype=uint8)], 'predictions': [[{'keypoints': [[175.0418972439236, 390.43113231658936], [181.19593641493066, 421.2013292312622], [193.50401475694434, 458.12556552886963], [230.4282497829861, 396.5851716995239], [291.96864149305566, 402.7392110824585], [316.58479817708337, 476.58768367767334], [236.58228895399316, 464.2796049118042], [242.736328125, 482.7417230606079], [230.4282497829861, 488.8957624435425], [230.4282497829861, 525.8199987411499], [199.6580539279514, 519.6659593582153], [193.50401475694434, 550.4361562728882], [378.1251898871528, 451.97152614593506], [273.5065239800347, 587.3603925704956], [218.12017144097217, 655.0548257827759], [199.6580539279514, 605.8225107192993], [236.58228895399316, 611.9765501022339], [273.5065239800347, 618.1305894851685], [187.3499755859375, 630.4386682510376], [224.27421061197924, 636.5927076339722], [261.19844563802076, 642.7467470169067]], 'keypoint_scores': [0.8252924084663391, 0.6550784111022949, 0.6758831739425659, 0.7110984325408936, 0.7502750754356384, 0.8300818800926208, 0.5740051865577698, 0.6122422218322754, 0.649324357509613, 0.71770840883255, 0.6519632339477539, 0.6835023760795593, 0.8604459762573242, 0.6017176508903503, 0.853622317314148, 0.7138190269470215, 0.7025182247161865, 0.6054181456565857, 0.8689733743667603, 0.7221534252166748, 0.6760834455490112], 'bbox': ([0.0, 7.0345001220703125, 540.8590087890625, 952.294921875],), 'bbox_score': 0.90654266}]]})\n"
     ]
    },
    {
     "data": {
      "application/vnd.jupyter.widget-view+json": {
       "model_id": "03135c0f437b44d9a23e5114ebe6beab",
       "version_major": 2,
       "version_minor": 0
      },
      "text/plain": [
       "Output()"
      ]
     },
     "metadata": {},
     "output_type": "display_data"
    },
    {
     "name": "stdout",
     "output_type": "stream",
     "text": [
      "87\n",
      "<generator object MMPoseInferencer.__call__ at 0x000001DB3E8347B0>\n"
     ]
    },
    {
     "data": {
      "text/html": [
       "<pre style=\"white-space:pre;overflow-x:auto;line-height:normal;font-family:Menlo,'DejaVu Sans Mono',consolas,'Courier New',monospace\"></pre>\n"
      ],
      "text/plain": []
     },
     "metadata": {},
     "output_type": "display_data"
    },
    {
     "data": {
      "text/html": [
       "<pre style=\"white-space:pre;overflow-x:auto;line-height:normal;font-family:Menlo,'DejaVu Sans Mono',consolas,'Courier New',monospace\">\n",
       "</pre>\n"
      ],
      "text/plain": [
       "\n"
      ]
     },
     "metadata": {},
     "output_type": "display_data"
    },
    {
     "data": {
      "application/vnd.jupyter.widget-view+json": {
       "model_id": "ba81bde5cd19440b8f1d0b52a0ab8d35",
       "version_major": 2,
       "version_minor": 0
      },
      "text/plain": [
       "Output()"
      ]
     },
     "metadata": {},
     "output_type": "display_data"
    },
    {
     "name": "stdout",
     "output_type": "stream",
     "text": [
      "defaultdict(<class 'list'>, {'visualization': [array([[[ 71,  88,  80],\n",
      "        [ 77,  94,  86],\n",
      "        [ 83, 100,  95],\n",
      "        ...,\n",
      "        [221, 244, 241],\n",
      "        [221, 244, 241],\n",
      "        [221, 244, 241]],\n",
      "\n",
      "       [[ 73,  90,  82],\n",
      "        [ 79,  96,  88],\n",
      "        [ 86, 103,  98],\n",
      "        ...,\n",
      "        [221, 244, 241],\n",
      "        [221, 244, 241],\n",
      "        [221, 244, 241]],\n",
      "\n",
      "       [[ 75,  92,  84],\n",
      "        [ 81,  98,  90],\n",
      "        [ 90, 107, 102],\n",
      "        ...,\n",
      "        [221, 244, 241],\n",
      "        [221, 244, 241],\n",
      "        [221, 244, 241]],\n",
      "\n",
      "       ...,\n",
      "\n",
      "       [[180, 142, 105],\n",
      "        [180, 142, 105],\n",
      "        [180, 142, 105],\n",
      "        ...,\n",
      "        [192, 173, 189],\n",
      "        [188, 174, 189],\n",
      "        [188, 174, 189]],\n",
      "\n",
      "       [[180, 142, 105],\n",
      "        [180, 142, 105],\n",
      "        [180, 142, 105],\n",
      "        ...,\n",
      "        [196, 170, 189],\n",
      "        [193, 172, 189],\n",
      "        [193, 172, 189]],\n",
      "\n",
      "       [[180, 142, 105],\n",
      "        [180, 142, 105],\n",
      "        [180, 142, 105],\n",
      "        ...,\n",
      "        [196, 170, 189],\n",
      "        [193, 172, 189],\n",
      "        [193, 172, 189]]], dtype=uint8)], 'predictions': [[{'keypoints': [[175.16840574476453, 389.7334884007772], [181.33013449774853, 420.5421311060587], [193.6535920037163, 457.5125023523965], [230.62396452162, 395.8952169418335], [292.24125205145947, 402.0569454828898], [316.88816706339526, 482.15941651662183], [236.785693274604, 463.6742308934531], [242.9474220275879, 482.15941651662183], [230.62396452162, 488.3211450576782], [230.62396452162, 525.2915163040161], [199.81532075670032, 519.1297877629597], [193.6535920037163, 549.9384304682414], [378.5054545932346, 457.5125023523965], [273.75606579250757, 586.9088017145793], [218.3005070156521, 654.6878156661987], [205.9770495096842, 611.5557158788044], [236.785693274604, 611.5557158788044], [267.5943370395237, 617.7174444198608], [187.49186325073242, 630.0409015019734], [224.4622357686361, 636.2026300430298], [261.4326082865397, 642.3643585840862]], 'keypoint_scores': [0.7968901991844177, 0.6387007832527161, 0.6724327802658081, 0.6986035108566284, 0.7737408876419067, 0.8163408637046814, 0.5915188789367676, 0.6190151572227478, 0.6638203263282776, 0.7331886291503906, 0.6638088822364807, 0.6839300394058228, 0.8239215612411499, 0.6039683222770691, 0.8466944098472595, 0.713252067565918, 0.7073714137077332, 0.6115975975990295, 0.8647528290748596, 0.7249794602394104, 0.681928277015686], 'bbox': ([0.0, 5.8577728271484375, 541.3504028320312, 952.29931640625],), 'bbox_score': 0.9049307}]]})\n",
      "87\n",
      "<generator object MMPoseInferencer.__call__ at 0x000001DB3E834E40>\n"
     ]
    },
    {
     "data": {
      "text/html": [
       "<pre style=\"white-space:pre;overflow-x:auto;line-height:normal;font-family:Menlo,'DejaVu Sans Mono',consolas,'Courier New',monospace\"></pre>\n"
      ],
      "text/plain": []
     },
     "metadata": {},
     "output_type": "display_data"
    },
    {
     "data": {
      "text/html": [
       "<pre style=\"white-space:pre;overflow-x:auto;line-height:normal;font-family:Menlo,'DejaVu Sans Mono',consolas,'Courier New',monospace\">\n",
       "</pre>\n"
      ],
      "text/plain": [
       "\n"
      ]
     },
     "metadata": {},
     "output_type": "display_data"
    },
    {
     "data": {
      "application/vnd.jupyter.widget-view+json": {
       "model_id": "beb361f0c9cf49df823d7a5ddbb57028",
       "version_major": 2,
       "version_minor": 0
      },
      "text/plain": [
       "Output()"
      ]
     },
     "metadata": {},
     "output_type": "display_data"
    },
    {
     "name": "stdout",
     "output_type": "stream",
     "text": [
      "defaultdict(<class 'list'>, {'visualization': [array([[[ 76,  93,  85],\n",
      "        [ 83, 100,  92],\n",
      "        [ 85, 102,  97],\n",
      "        ...,\n",
      "        [221, 244, 241],\n",
      "        [221, 244, 241],\n",
      "        [221, 244, 241]],\n",
      "\n",
      "       [[ 77,  94,  86],\n",
      "        [ 84, 101,  93],\n",
      "        [ 90, 107, 102],\n",
      "        ...,\n",
      "        [221, 244, 241],\n",
      "        [221, 244, 241],\n",
      "        [221, 244, 241]],\n",
      "\n",
      "       [[ 76,  93,  85],\n",
      "        [ 84, 101,  93],\n",
      "        [ 91, 108, 103],\n",
      "        ...,\n",
      "        [221, 244, 241],\n",
      "        [221, 244, 241],\n",
      "        [221, 244, 241]],\n",
      "\n",
      "       ...,\n",
      "\n",
      "       [[180, 142, 105],\n",
      "        [180, 142, 105],\n",
      "        [180, 142, 105],\n",
      "        ...,\n",
      "        [192, 173, 189],\n",
      "        [188, 174, 189],\n",
      "        [188, 174, 189]],\n",
      "\n",
      "       [[180, 142, 105],\n",
      "        [180, 142, 105],\n",
      "        [180, 142, 105],\n",
      "        ...,\n",
      "        [196, 170, 189],\n",
      "        [193, 172, 189],\n",
      "        [193, 172, 189]],\n",
      "\n",
      "       [[180, 142, 105],\n",
      "        [180, 142, 105],\n",
      "        [180, 142, 105],\n",
      "        ...,\n",
      "        [196, 170, 189],\n",
      "        [193, 172, 189],\n",
      "        [193, 172, 189]]], dtype=uint8)], 'predictions': [[{'keypoints': [[175.35960324605298, 390.3312613169353], [181.51580111185717, 421.1122506459553], [193.8281968434651, 458.04943784077955], [230.7653840382893, 396.48745918273926], [292.3273626963298, 402.6436570485432], [316.9521541595459, 482.6742293039956], [236.9215819040935, 464.20563570658373], [243.07777976989746, 482.6742293039956], [230.7653840382893, 488.8304271697998], [230.7653840382893, 525.767614364624], [199.98439470926928, 519.6114164988198], [193.8281968434651, 550.3924058278403], [378.5141328175863, 458.04943784077955], [273.8587690989176, 587.3295930226645], [218.45298830668128, 655.0477695465088], [199.98439470926928, 605.7981866200766], [236.9215819040935, 611.9543844858804], [267.70257123311364, 618.1105823516846], [187.67199897766113, 624.2667802174888], [224.60918617248535, 636.5791759490967], [261.54637336730957, 642.7353738149009]], 'keypoint_scores': [0.8158250451087952, 0.6469785571098328, 0.6706272959709167, 0.7004364132881165, 0.7594590783119202, 0.8124815821647644, 0.592649519443512, 0.6228136420249939, 0.664167582988739, 0.7264421582221985, 0.6684545278549194, 0.6789732575416565, 0.8229095935821533, 0.6032538414001465, 0.8436368703842163, 0.706026017665863, 0.6993977427482605, 0.6103840470314026, 0.861261248588562, 0.7191250324249268, 0.6819823384284973], 'bbox': ([0.0, 6.800079345703125, 541.5613403320312, 952.3921508789062],), 'bbox_score': 0.90733147}]]})\n",
      "87\n",
      "<generator object MMPoseInferencer.__call__ at 0x000001DB3E834120>\n"
     ]
    },
    {
     "data": {
      "text/html": [
       "<pre style=\"white-space:pre;overflow-x:auto;line-height:normal;font-family:Menlo,'DejaVu Sans Mono',consolas,'Courier New',monospace\"></pre>\n"
      ],
      "text/plain": []
     },
     "metadata": {},
     "output_type": "display_data"
    },
    {
     "data": {
      "text/html": [
       "<pre style=\"white-space:pre;overflow-x:auto;line-height:normal;font-family:Menlo,'DejaVu Sans Mono',consolas,'Courier New',monospace\">\n",
       "</pre>\n"
      ],
      "text/plain": [
       "\n"
      ]
     },
     "metadata": {},
     "output_type": "display_data"
    },
    {
     "name": "stdout",
     "output_type": "stream",
     "text": [
      "defaultdict(<class 'list'>, {'visualization': [array([[[ 76,  93,  85],\n",
      "        [ 83, 100,  92],\n",
      "        [ 85, 102,  97],\n",
      "        ...,\n",
      "        [221, 244, 241],\n",
      "        [221, 244, 241],\n",
      "        [221, 244, 241]],\n",
      "\n",
      "       [[ 77,  94,  86],\n",
      "        [ 84, 101,  93],\n",
      "        [ 88, 105, 100],\n",
      "        ...,\n",
      "        [221, 244, 241],\n",
      "        [221, 244, 241],\n",
      "        [221, 244, 241]],\n",
      "\n",
      "       [[ 77,  94,  86],\n",
      "        [ 84, 101,  93],\n",
      "        [ 91, 108, 103],\n",
      "        ...,\n",
      "        [221, 244, 241],\n",
      "        [221, 244, 241],\n",
      "        [221, 244, 241]],\n",
      "\n",
      "       ...,\n",
      "\n",
      "       [[181, 143, 106],\n",
      "        [180, 142, 105],\n",
      "        [177, 139, 102],\n",
      "        ...,\n",
      "        [192, 173, 189],\n",
      "        [188, 174, 189],\n",
      "        [188, 174, 189]],\n",
      "\n",
      "       [[181, 143, 106],\n",
      "        [180, 142, 105],\n",
      "        [177, 139, 102],\n",
      "        ...,\n",
      "        [196, 170, 189],\n",
      "        [193, 172, 189],\n",
      "        [193, 172, 189]],\n",
      "\n",
      "       [[181, 143, 106],\n",
      "        [180, 142, 105],\n",
      "        [177, 139, 102],\n",
      "        ...,\n",
      "        [196, 170, 189],\n",
      "        [193, 172, 189],\n",
      "        [193, 172, 189]]], dtype=uint8)], 'predictions': [[{'keypoints': [[175.31402397155762, 390.3536319732666], [181.47027015686035, 421.1348628997803], [193.78276252746582, 458.0723400115967], [230.72023963928223, 396.50987815856934], [292.28270149230957, 402.66612434387207], [316.9076862335205, 482.6973247528076], [236.87648582458496, 464.2285861968994], [243.0327320098877, 482.6973247528076], [230.72023963928223, 488.85357093811035], [230.72023963928223, 525.7910480499268], [199.93900871276855, 519.634801864624], [193.78276252746582, 550.4160327911377], [378.47014808654785, 458.0723400115967], [273.81396293640137, 587.3535099029541], [212.25150108337402, 661.2284641265869], [199.93900871276855, 605.8222484588623], [236.87648582458496, 611.978494644165], [267.65771675109863, 618.1347408294678], [187.6265163421631, 630.4472332000732], [224.5639934539795, 636.603479385376], [261.5014705657959, 642.7597255706787]], 'keypoint_scores': [0.8186930418014526, 0.6455133557319641, 0.669230043888092, 0.6929148435592651, 0.7565062642097473, 0.8117002844810486, 0.5889896154403687, 0.6214587092399597, 0.6657569408416748, 0.7394866943359375, 0.6795297265052795, 0.6909915804862976, 0.8319990038871765, 0.6093682050704956, 0.8384599685668945, 0.7151779532432556, 0.707267165184021, 0.6150487661361694, 0.8634622693061829, 0.7231204509735107, 0.683801531791687], 'bbox': ([0.0, 6.819488525390625, 541.4716796875, 952.4188842773438],), 'bbox_score': 0.9075337}]]})"
     ]
    },
    {
     "data": {
      "application/vnd.jupyter.widget-view+json": {
       "model_id": "793277ead48f4494b1c7d0c19fb875fc",
       "version_major": 2,
       "version_minor": 0
      },
      "text/plain": [
       "Output()"
      ]
     },
     "metadata": {},
     "output_type": "display_data"
    },
    {
     "name": "stdout",
     "output_type": "stream",
     "text": [
      "\n",
      "87\n",
      "<generator object MMPoseInferencer.__call__ at 0x000001DB3E8347B0>\n"
     ]
    },
    {
     "data": {
      "text/html": [
       "<pre style=\"white-space:pre;overflow-x:auto;line-height:normal;font-family:Menlo,'DejaVu Sans Mono',consolas,'Courier New',monospace\"></pre>\n"
      ],
      "text/plain": []
     },
     "metadata": {},
     "output_type": "display_data"
    },
    {
     "data": {
      "text/html": [
       "<pre style=\"white-space:pre;overflow-x:auto;line-height:normal;font-family:Menlo,'DejaVu Sans Mono',consolas,'Courier New',monospace\">\n",
       "</pre>\n"
      ],
      "text/plain": [
       "\n"
      ]
     },
     "metadata": {},
     "output_type": "display_data"
    },
    {
     "name": "stdout",
     "output_type": "stream",
     "text": [
      "defaultdict(<class 'list'>, {'visualization': [array([[[ 78,  95,  87],\n",
      "        [ 85, 102,  94],\n",
      "        [ 86, 103,  98],\n",
      "        ...,\n",
      "        [221, 244, 241],\n",
      "        [221, 244, 241],\n",
      "        [221, 244, 241]],\n",
      "\n",
      "       [[ 77,  94,  86],\n",
      "        [ 84, 101,  93],\n",
      "        [ 86, 103,  98],\n",
      "        ...,\n",
      "        [221, 244, 241],\n",
      "        [221, 244, 241],\n",
      "        [221, 244, 241]],\n",
      "\n",
      "       [[ 76,  93,  85],\n",
      "        [ 83, 100,  92],\n",
      "        [ 89, 106, 101],\n",
      "        ...,\n",
      "        [221, 244, 241],\n",
      "        [221, 244, 241],\n",
      "        [221, 244, 241]],\n",
      "\n",
      "       ...,\n",
      "\n",
      "       [[181, 143, 106],\n",
      "        [180, 142, 105],\n",
      "        [177, 139, 102],\n",
      "        ...,\n",
      "        [192, 173, 189],\n",
      "        [188, 174, 189],\n",
      "        [188, 174, 189]],\n",
      "\n",
      "       [[181, 143, 106],\n",
      "        [180, 142, 105],\n",
      "        [177, 139, 102],\n",
      "        ...,\n",
      "        [196, 170, 189],\n",
      "        [193, 172, 189],\n",
      "        [193, 172, 189]],\n",
      "\n",
      "       [[181, 143, 106],\n",
      "        [180, 142, 105],\n",
      "        [177, 139, 102],\n",
      "        ...,\n",
      "        [196, 170, 189],\n",
      "        [193, 172, 189],\n",
      "        [193, 172, 189]]], dtype=uint8)], 'predictions': [[{'keypoints': [[175.38336775037976, 390.3363822301229], [181.53880225287548, 421.113553682963], [193.8496712578667, 458.0461594263711], [230.7822782728407, 396.4918165206909], [292.33662329779736, 402.6472508112589], [316.95836130778, 482.6678965886433], [236.93771277533642, 464.20159371693944], [249.24858178032764, 482.6678965886433], [230.7822782728407, 488.8233308792114], [230.7822782728407, 525.7559366226196], [200.00510576036243, 519.6005023320515], [193.8496712578667, 550.3776737848918], [378.51270633273657, 458.0461594263711], [273.8703197903103, 587.3102795283], [212.31597476535376, 661.1754910151164], [200.00510576036243, 605.7765824000041], [236.93771277533642, 611.932016690572], [267.7148852878147, 618.0874509811401], [187.6942367553711, 630.3983195622761], [224.6268437703451, 636.5537538528442], [261.559450785319, 642.7091881434123]], 'keypoint_scores': [0.8160016536712646, 0.6491921544075012, 0.6774348616600037, 0.6940456032752991, 0.7490294575691223, 0.8153306245803833, 0.5868040919303894, 0.6214039325714111, 0.666994571685791, 0.7442463040351868, 0.6755020022392273, 0.6938470005989075, 0.8191032409667969, 0.6102253198623657, 0.8437920212745667, 0.7249345183372498, 0.7148478031158447, 0.6184186935424805, 0.8696638345718384, 0.7316370606422424, 0.691818118095398], 'bbox': ([0.0, 6.8528594970703125, 541.585205078125, 952.3275146484375],), 'bbox_score': 0.90833104}]]})\n"
     ]
    },
    {
     "data": {
      "application/vnd.jupyter.widget-view+json": {
       "model_id": "054c7c08568041ff9b5dc9c3eb96aa31",
       "version_major": 2,
       "version_minor": 0
      },
      "text/plain": [
       "Output()"
      ]
     },
     "metadata": {},
     "output_type": "display_data"
    },
    {
     "name": "stdout",
     "output_type": "stream",
     "text": [
      "87\n",
      "<generator object MMPoseInferencer.__call__ at 0x000001DB3E4C2EB0>\n"
     ]
    },
    {
     "data": {
      "text/html": [
       "<pre style=\"white-space:pre;overflow-x:auto;line-height:normal;font-family:Menlo,'DejaVu Sans Mono',consolas,'Courier New',monospace\"></pre>\n"
      ],
      "text/plain": []
     },
     "metadata": {},
     "output_type": "display_data"
    },
    {
     "data": {
      "text/html": [
       "<pre style=\"white-space:pre;overflow-x:auto;line-height:normal;font-family:Menlo,'DejaVu Sans Mono',consolas,'Courier New',monospace\">\n",
       "</pre>\n"
      ],
      "text/plain": [
       "\n"
      ]
     },
     "metadata": {},
     "output_type": "display_data"
    },
    {
     "name": "stdout",
     "output_type": "stream",
     "text": [
      "defaultdict(<class 'list'>, {'visualization': [array([[[ 78,  95,  87],\n",
      "        [ 85, 102,  94],\n",
      "        [ 86, 103,  98],\n",
      "        ...,\n",
      "        [221, 244, 241],\n",
      "        [221, 244, 241],\n",
      "        [221, 244, 241]],\n",
      "\n",
      "       [[ 77,  94,  86],\n",
      "        [ 84, 101,  93],\n",
      "        [ 88, 105, 100],\n",
      "        ...,\n",
      "        [221, 244, 241],\n",
      "        [221, 244, 241],\n",
      "        [221, 244, 241]],\n",
      "\n",
      "       [[ 75,  92,  84],\n",
      "        [ 82,  99,  91],\n",
      "        [ 90, 107, 102],\n",
      "        ...,\n",
      "        [221, 244, 241],\n",
      "        [221, 244, 241],\n",
      "        [221, 244, 241]],\n",
      "\n",
      "       ...,\n",
      "\n",
      "       [[181, 143, 106],\n",
      "        [179, 141, 104],\n",
      "        [179, 141, 104],\n",
      "        ...,\n",
      "        [193, 172, 189],\n",
      "        [190, 174, 189],\n",
      "        [190, 174, 189]],\n",
      "\n",
      "       [[181, 143, 106],\n",
      "        [179, 141, 104],\n",
      "        [179, 141, 104],\n",
      "        ...,\n",
      "        [200, 169, 189],\n",
      "        [195, 171, 189],\n",
      "        [195, 171, 189]],\n",
      "\n",
      "       [[181, 143, 106],\n",
      "        [179, 141, 104],\n",
      "        [179, 141, 104],\n",
      "        ...,\n",
      "        [200, 169, 189],\n",
      "        [195, 171, 189],\n",
      "        [195, 171, 189]]], dtype=uint8)], 'predictions': [[{'keypoints': [[174.9848658243816, 390.650266011556], [181.13931020100915, 421.422487894694], [193.44819895426429, 458.3491541544595], [230.37486521403002, 396.8047103881836], [291.919308980306, 402.95915476481116], [316.5370864868164, 482.96693166097], [236.5293095906576, 464.5035985310874], [242.68375396728516, 482.96693166097], [230.37486521403002, 489.12137603759766], [230.37486521403002, 526.0480422973633], [199.60264333089185, 519.8935979207356], [193.44819895426429, 550.6658198038738], [378.0815302530924, 452.19470977783203], [273.4559758504231, 587.5924860636394], [211.9115320841472, 661.4458185831706], [199.60264333089185, 606.0558191935222], [236.5293095906576, 612.2102635701497], [267.30153147379565, 618.3647079467773], [187.29375457763672, 630.6735967000325], [224.22042083740234, 636.8280410766602], [261.14708709716797, 642.9824854532878]], 'keypoint_scores': [0.7982123494148254, 0.6387968063354492, 0.6664156317710876, 0.691501259803772, 0.7492243051528931, 0.8211806416511536, 0.5694928169250488, 0.6105738878250122, 0.6526061296463013, 0.7415860295295715, 0.6813859939575195, 0.7108908295631409, 0.845599889755249, 0.6259270310401917, 0.8338433504104614, 0.7250966429710388, 0.7188654541969299, 0.6284229755401611, 0.8536249399185181, 0.7273438572883606, 0.6933432817459106], 'bbox': ([0.0, 7.228363037109375, 540.7575073242188, 952.551025390625],), 'bbox_score': 0.9120715}]]})\n"
     ]
    },
    {
     "data": {
      "application/vnd.jupyter.widget-view+json": {
       "model_id": "3e6ef54ed5fb460aa88f736beb07a2b4",
       "version_major": 2,
       "version_minor": 0
      },
      "text/plain": [
       "Output()"
      ]
     },
     "metadata": {},
     "output_type": "display_data"
    },
    {
     "name": "stdout",
     "output_type": "stream",
     "text": [
      "87\n",
      "<generator object MMPoseInferencer.__call__ at 0x000001DB3E834CF0>\n"
     ]
    },
    {
     "data": {
      "text/html": [
       "<pre style=\"white-space:pre;overflow-x:auto;line-height:normal;font-family:Menlo,'DejaVu Sans Mono',consolas,'Courier New',monospace\"></pre>\n"
      ],
      "text/plain": []
     },
     "metadata": {},
     "output_type": "display_data"
    },
    {
     "data": {
      "text/html": [
       "<pre style=\"white-space:pre;overflow-x:auto;line-height:normal;font-family:Menlo,'DejaVu Sans Mono',consolas,'Courier New',monospace\">\n",
       "</pre>\n"
      ],
      "text/plain": [
       "\n"
      ]
     },
     "metadata": {},
     "output_type": "display_data"
    },
    {
     "name": "stdout",
     "output_type": "stream",
     "text": [
      "defaultdict(<class 'list'>, {'visualization': [array([[[ 81,  98,  90],\n",
      "        [ 88, 105,  97],\n",
      "        [ 88, 105, 100],\n",
      "        ...,\n",
      "        [221, 244, 241],\n",
      "        [221, 244, 241],\n",
      "        [221, 244, 241]],\n",
      "\n",
      "       [[ 79,  96,  88],\n",
      "        [ 86, 103,  95],\n",
      "        [ 86, 103,  98],\n",
      "        ...,\n",
      "        [221, 244, 241],\n",
      "        [221, 244, 241],\n",
      "        [221, 244, 241]],\n",
      "\n",
      "       [[ 76,  93,  85],\n",
      "        [ 83, 100,  92],\n",
      "        [ 88, 105, 100],\n",
      "        ...,\n",
      "        [221, 244, 241],\n",
      "        [221, 244, 241],\n",
      "        [221, 244, 241]],\n",
      "\n",
      "       ...,\n",
      "\n",
      "       [[181, 143, 106],\n",
      "        [179, 141, 104],\n",
      "        [179, 141, 104],\n",
      "        ...,\n",
      "        [193, 172, 189],\n",
      "        [190, 174, 189],\n",
      "        [190, 174, 189]],\n",
      "\n",
      "       [[181, 143, 106],\n",
      "        [179, 141, 104],\n",
      "        [179, 141, 104],\n",
      "        ...,\n",
      "        [200, 169, 189],\n",
      "        [195, 171, 189],\n",
      "        [195, 171, 189]],\n",
      "\n",
      "       [[181, 143, 106],\n",
      "        [179, 141, 104],\n",
      "        [179, 141, 104],\n",
      "        ...,\n",
      "        [200, 169, 189],\n",
      "        [195, 171, 189],\n",
      "        [195, 171, 189]]], dtype=uint8)], 'predictions': [[{'keypoints': [[174.96963437398267, 390.59079806009936], [181.12415377298998, 421.363395055135], [193.43319257100416, 458.290511449178], [230.36030896504712, 396.74531745910645], [291.9055029551189, 402.89983685811353], [316.52358055114746, 482.90858904520655], [236.51482836405444, 464.4450308481853], [242.66934776306152, 482.90858904520655], [230.36030896504712, 489.06310844421387], [230.36030896504712, 525.9902248382568], [199.58771197001147, 519.8357054392495], [193.43319257100416, 550.6083024342856], [378.0687745412191, 452.1359920501709], [273.4419447580973, 587.5354188283286], [218.05127016703284, 655.2351322174072], [199.58771197001147, 605.9989770253501], [236.51482836405444, 612.153496424357], [267.2874253590902, 618.3080158233643], [187.27867317199707, 624.4625352223716], [224.20578956604004, 636.7715740203857], [261.132905960083, 642.926093419393]], 'keypoint_scores': [0.7938975691795349, 0.6490198373794556, 0.678930401802063, 0.6918544769287109, 0.7644537091255188, 0.8242375254631042, 0.5890277624130249, 0.6274176239967346, 0.6689818501472473, 0.7424782514572144, 0.6742486357688904, 0.7002944350242615, 0.8570546507835388, 0.611504852771759, 0.830497145652771, 0.704843282699585, 0.705017626285553, 0.6170202493667603, 0.8381155729293823, 0.7136768698692322, 0.6842923164367676], 'bbox': ([0.0, 7.1642303466796875, 540.7293701171875, 952.4984130859375],), 'bbox_score': 0.9141531}]]})\n"
     ]
    },
    {
     "data": {
      "application/vnd.jupyter.widget-view+json": {
       "model_id": "5c05c9f314374b1ab8137a9aa842ccf1",
       "version_major": 2,
       "version_minor": 0
      },
      "text/plain": [
       "Output()"
      ]
     },
     "metadata": {},
     "output_type": "display_data"
    },
    {
     "name": "stdout",
     "output_type": "stream",
     "text": [
      "87\n",
      "<generator object MMPoseInferencer.__call__ at 0x000001DB3E4C2E40>\n"
     ]
    },
    {
     "data": {
      "text/html": [
       "<pre style=\"white-space:pre;overflow-x:auto;line-height:normal;font-family:Menlo,'DejaVu Sans Mono',consolas,'Courier New',monospace\"></pre>\n"
      ],
      "text/plain": []
     },
     "metadata": {},
     "output_type": "display_data"
    },
    {
     "data": {
      "text/html": [
       "<pre style=\"white-space:pre;overflow-x:auto;line-height:normal;font-family:Menlo,'DejaVu Sans Mono',consolas,'Courier New',monospace\">\n",
       "</pre>\n"
      ],
      "text/plain": [
       "\n"
      ]
     },
     "metadata": {},
     "output_type": "display_data"
    },
    {
     "name": "stdout",
     "output_type": "stream",
     "text": [
      "defaultdict(<class 'list'>, {'visualization': [array([[[ 78,  95,  87],\n",
      "        [ 85, 102,  94],\n",
      "        [ 85, 102,  97],\n",
      "        ...,\n",
      "        [221, 244, 241],\n",
      "        [221, 244, 241],\n",
      "        [221, 244, 241]],\n",
      "\n",
      "       [[ 77,  94,  86],\n",
      "        [ 84, 101,  93],\n",
      "        [ 86, 103,  98],\n",
      "        ...,\n",
      "        [221, 244, 241],\n",
      "        [221, 244, 241],\n",
      "        [221, 244, 241]],\n",
      "\n",
      "       [[ 74,  91,  83],\n",
      "        [ 81,  98,  90],\n",
      "        [ 88, 105, 100],\n",
      "        ...,\n",
      "        [221, 244, 241],\n",
      "        [221, 244, 241],\n",
      "        [221, 244, 241]],\n",
      "\n",
      "       ...,\n",
      "\n",
      "       [[181, 143, 106],\n",
      "        [180, 142, 105],\n",
      "        [179, 141, 104],\n",
      "        ...,\n",
      "        [195, 174, 191],\n",
      "        [192, 176, 191],\n",
      "        [192, 176, 191]],\n",
      "\n",
      "       [[181, 143, 106],\n",
      "        [180, 142, 105],\n",
      "        [179, 141, 104],\n",
      "        ...,\n",
      "        [201, 170, 190],\n",
      "        [197, 173, 191],\n",
      "        [197, 173, 191]],\n",
      "\n",
      "       [[181, 143, 106],\n",
      "        [180, 142, 105],\n",
      "        [179, 141, 104],\n",
      "        ...,\n",
      "        [201, 170, 190],\n",
      "        [197, 173, 191],\n",
      "        [197, 173, 191]]], dtype=uint8)], 'predictions': [[{'keypoints': [[175.09823735555005, 390.7044817606609], [181.25105158487963, 421.46855290730787], [193.55668004353834, 458.38543828328443], [230.4735654195149, 396.85729598999023], [292.0017077128093, 403.0101102193196], [316.61296463012695, 482.99669520060206], [236.62637964884448, 464.538252512614], [248.93200810750318, 482.99669520060206], [230.4735654195149, 489.14950942993164], [230.4735654195149, 526.0663948059082], [199.70949427286791, 519.9135805765786], [193.55668004353834, 550.6776517232261], [378.14110692342126, 458.38543828328443], [267.3904507954916, 587.5945370992026], [218.16793696085608, 655.2754936218262], [199.70949427286791, 606.0529797871909], [236.62637964884448, 606.0529797871909], [267.3904507954916, 618.3586082458496], [187.40386581420898, 624.5114224751792], [224.32075119018555, 636.8170509338379], [255.08482233683276, 642.9698651631675]], 'keypoint_scores': [0.7972948551177979, 0.6481101512908936, 0.6734344363212585, 0.6902288198471069, 0.7586712837219238, 0.8203796148300171, 0.5813468098640442, 0.6190819144248962, 0.6611038446426392, 0.7424713373184204, 0.6741741895675659, 0.7007555365562439, 0.8491384983062744, 0.6041312217712402, 0.8314165472984314, 0.7114664316177368, 0.7019025087356567, 0.6083992123603821, 0.8430613875389099, 0.7095532417297363, 0.6736921072006226], 'bbox': ([0.0, 7.3841400146484375, 540.9337158203125, 952.4564208984375],), 'bbox_score': 0.91617095}]]})\n"
     ]
    },
    {
     "data": {
      "application/vnd.jupyter.widget-view+json": {
       "model_id": "2965749af45b4418b03e70064e0e8833",
       "version_major": 2,
       "version_minor": 0
      },
      "text/plain": [
       "Output()"
      ]
     },
     "metadata": {},
     "output_type": "display_data"
    },
    {
     "name": "stdout",
     "output_type": "stream",
     "text": [
      "87\n",
      "<generator object MMPoseInferencer.__call__ at 0x000001DB3E834BA0>\n"
     ]
    },
    {
     "data": {
      "text/html": [
       "<pre style=\"white-space:pre;overflow-x:auto;line-height:normal;font-family:Menlo,'DejaVu Sans Mono',consolas,'Courier New',monospace\"></pre>\n"
      ],
      "text/plain": []
     },
     "metadata": {},
     "output_type": "display_data"
    },
    {
     "data": {
      "text/html": [
       "<pre style=\"white-space:pre;overflow-x:auto;line-height:normal;font-family:Menlo,'DejaVu Sans Mono',consolas,'Courier New',monospace\">\n",
       "</pre>\n"
      ],
      "text/plain": [
       "\n"
      ]
     },
     "metadata": {},
     "output_type": "display_data"
    },
    {
     "name": "stdout",
     "output_type": "stream",
     "text": [
      "defaultdict(<class 'list'>, {'visualization': [array([[[ 75,  92,  84],\n",
      "        [ 79,  96,  88],\n",
      "        [ 84, 101,  93],\n",
      "        ...,\n",
      "        [221, 244, 241],\n",
      "        [221, 244, 241],\n",
      "        [221, 244, 241]],\n",
      "\n",
      "       [[ 74,  91,  83],\n",
      "        [ 78,  95,  87],\n",
      "        [ 84, 101,  93],\n",
      "        ...,\n",
      "        [221, 244, 241],\n",
      "        [221, 244, 241],\n",
      "        [221, 244, 241]],\n",
      "\n",
      "       [[ 70,  87,  79],\n",
      "        [ 75,  92,  84],\n",
      "        [ 83, 100,  92],\n",
      "        ...,\n",
      "        [221, 244, 241],\n",
      "        [221, 244, 241],\n",
      "        [221, 244, 241]],\n",
      "\n",
      "       ...,\n",
      "\n",
      "       [[181, 143, 106],\n",
      "        [181, 143, 106],\n",
      "        [180, 142, 105],\n",
      "        ...,\n",
      "        [197, 173, 191],\n",
      "        [194, 175, 191],\n",
      "        [194, 175, 191]],\n",
      "\n",
      "       [[181, 143, 106],\n",
      "        [181, 143, 106],\n",
      "        [180, 142, 105],\n",
      "        ...,\n",
      "        [201, 168, 189],\n",
      "        [197, 171, 190],\n",
      "        [198, 172, 191]],\n",
      "\n",
      "       [[181, 143, 106],\n",
      "        [181, 143, 106],\n",
      "        [180, 142, 105],\n",
      "        ...,\n",
      "        [200, 167, 188],\n",
      "        [197, 171, 190],\n",
      "        [198, 172, 191]]], dtype=uint8)], 'predictions': [[{'keypoints': [[181.29734505547412, 390.6891876856487], [181.29734505547412, 421.45822747548414], [193.60496054755322, 458.38107522328687], [230.52780702379016, 396.8429956436157], [292.06588448418506, 402.99680360158277], [316.68111546834314, 482.9963070551553], [236.6816147698296, 464.53488318125414], [248.9892302619087, 476.84249909718824], [230.52780702379016, 482.9963070551553], [230.52780702379016, 526.0729627609253], [199.75876829359265, 519.919154802958], [193.60496054755322, 550.6881945927939], [378.21919292873804, 458.38107522328687], [273.60446124606665, 587.6110423405967], [218.22019153171118, 655.3029298782349], [205.91257603963209, 606.072466214498], [236.6816147698296, 606.072466214498], [267.4506535000271, 618.3800821304321], [187.45115280151367, 624.5338900883994], [224.37399927775073, 636.8415060043335], [261.29684575398755, 642.9953139623008]], 'keypoint_scores': [0.7843630313873291, 0.64447420835495, 0.6757848262786865, 0.6777053475379944, 0.7427511215209961, 0.8015021681785583, 0.5759594440460205, 0.6161513328552246, 0.6609760522842407, 0.7378721237182617, 0.6794978380203247, 0.7042385339736938, 0.8408271074295044, 0.605686366558075, 0.8329408764839172, 0.702592134475708, 0.6936632990837097, 0.6068156957626343, 0.8341207504272461, 0.7026265263557434, 0.6675862073898315], 'bbox': ([0.0, 7.3069610595703125, 541.0551147460938, 952.5318603515625],), 'bbox_score': 0.913439}]]})\n"
     ]
    },
    {
     "data": {
      "application/vnd.jupyter.widget-view+json": {
       "model_id": "84e6fbe80c36424fabbb137f87fcb638",
       "version_major": 2,
       "version_minor": 0
      },
      "text/plain": [
       "Output()"
      ]
     },
     "metadata": {},
     "output_type": "display_data"
    },
    {
     "name": "stdout",
     "output_type": "stream",
     "text": [
      "87\n",
      "<generator object MMPoseInferencer.__call__ at 0x000001DB3E834120>\n"
     ]
    },
    {
     "data": {
      "text/html": [
       "<pre style=\"white-space:pre;overflow-x:auto;line-height:normal;font-family:Menlo,'DejaVu Sans Mono',consolas,'Courier New',monospace\"></pre>\n"
      ],
      "text/plain": []
     },
     "metadata": {},
     "output_type": "display_data"
    },
    {
     "data": {
      "text/html": [
       "<pre style=\"white-space:pre;overflow-x:auto;line-height:normal;font-family:Menlo,'DejaVu Sans Mono',consolas,'Courier New',monospace\">\n",
       "</pre>\n"
      ],
      "text/plain": [
       "\n"
      ]
     },
     "metadata": {},
     "output_type": "display_data"
    },
    {
     "data": {
      "application/vnd.jupyter.widget-view+json": {
       "model_id": "b347c96727d84224ac30d59216a3c8bd",
       "version_major": 2,
       "version_minor": 0
      },
      "text/plain": [
       "Output()"
      ]
     },
     "metadata": {},
     "output_type": "display_data"
    },
    {
     "name": "stdout",
     "output_type": "stream",
     "text": [
      "defaultdict(<class 'list'>, {'visualization': [array([[[ 75,  92,  87],\n",
      "        [ 82,  99,  94],\n",
      "        [ 86, 103,  98],\n",
      "        ...,\n",
      "        [221, 244, 241],\n",
      "        [221, 244, 241],\n",
      "        [221, 244, 241]],\n",
      "\n",
      "       [[ 74,  91,  86],\n",
      "        [ 81,  98,  93],\n",
      "        [ 86, 103,  98],\n",
      "        ...,\n",
      "        [221, 244, 241],\n",
      "        [221, 244, 241],\n",
      "        [221, 244, 241]],\n",
      "\n",
      "       [[ 70,  87,  82],\n",
      "        [ 77,  94,  89],\n",
      "        [ 85, 102,  97],\n",
      "        ...,\n",
      "        [221, 244, 241],\n",
      "        [221, 244, 241],\n",
      "        [221, 244, 241]],\n",
      "\n",
      "       ...,\n",
      "\n",
      "       [[181, 143, 106],\n",
      "        [181, 143, 106],\n",
      "        [180, 142, 105],\n",
      "        ...,\n",
      "        [197, 171, 190],\n",
      "        [195, 174, 191],\n",
      "        [195, 174, 191]],\n",
      "\n",
      "       [[181, 143, 106],\n",
      "        [181, 143, 106],\n",
      "        [180, 142, 105],\n",
      "        ...,\n",
      "        [202, 164, 187],\n",
      "        [201, 170, 190],\n",
      "        [202, 171, 191]],\n",
      "\n",
      "       [[181, 143, 106],\n",
      "        [181, 143, 106],\n",
      "        [180, 142, 105],\n",
      "        ...,\n",
      "        [199, 161, 184],\n",
      "        [200, 169, 189],\n",
      "        [202, 171, 191]]], dtype=uint8)], 'predictions': [[{'keypoints': [[181.19370460510254, 390.64451026916504], [181.19370460510254, 421.41490745544434], [199.65594291687012, 458.3393840789795], [236.58041954040527, 396.7985897064209], [291.967134475708, 402.95266914367676], [316.58345222473145, 476.80162239074707], [236.58041954040527, 464.49346351623535], [248.888578414917, 476.80162239074707], [230.4263401031494, 482.95570182800293], [230.4263401031494, 526.034257888794], [205.81002235412598, 519.8801784515381], [193.50186347961426, 550.6505756378174], [378.12424659729004, 452.18530464172363], [273.50489616394043, 587.5750522613525], [218.1181812286377, 655.269926071167], [205.81002235412598, 606.0372905731201], [236.58041954040527, 606.0372905731201], [267.35081672668457, 618.3454494476318], [187.3477840423584, 624.4995288848877], [224.27226066589355, 636.8076877593994], [261.1967372894287, 642.9617671966553]], 'keypoint_scores': [0.7903369665145874, 0.6454318761825562, 0.6716979146003723, 0.6699073910713196, 0.7449184060096741, 0.8129115700721741, 0.5706371068954468, 0.6102998852729797, 0.6562801599502563, 0.7318469882011414, 0.6749303340911865, 0.702427327632904, 0.86846923828125, 0.6102562546730042, 0.8369017839431763, 0.7104809284210205, 0.7056117653846741, 0.6194905042648315, 0.8340283036231995, 0.7114357352256775, 0.6815168261528015], 'bbox': ([0.0, 7.245391845703125, 540.855712890625, 952.511962890625],), 'bbox_score': 0.91537195}]]})\n",
      "87\n",
      "<generator object MMPoseInferencer.__call__ at 0x000001DB3E4C2120>\n"
     ]
    },
    {
     "data": {
      "text/html": [
       "<pre style=\"white-space:pre;overflow-x:auto;line-height:normal;font-family:Menlo,'DejaVu Sans Mono',consolas,'Courier New',monospace\"></pre>\n"
      ],
      "text/plain": []
     },
     "metadata": {},
     "output_type": "display_data"
    },
    {
     "data": {
      "text/html": [
       "<pre style=\"white-space:pre;overflow-x:auto;line-height:normal;font-family:Menlo,'DejaVu Sans Mono',consolas,'Courier New',monospace\">\n",
       "</pre>\n"
      ],
      "text/plain": [
       "\n"
      ]
     },
     "metadata": {},
     "output_type": "display_data"
    },
    {
     "name": "stdout",
     "output_type": "stream",
     "text": [
      "defaultdict(<class 'list'>, {'visualization': [array([[[ 76,  93,  88],\n",
      "        [ 79,  96,  91],\n",
      "        [ 85, 102,  97],\n",
      "        ...,\n",
      "        [221, 244, 241],\n",
      "        [221, 244, 241],\n",
      "        [221, 244, 241]],\n",
      "\n",
      "       [[ 75,  92,  87],\n",
      "        [ 78,  95,  90],\n",
      "        [ 85, 102,  97],\n",
      "        ...,\n",
      "        [221, 244, 241],\n",
      "        [221, 244, 241],\n",
      "        [221, 244, 241]],\n",
      "\n",
      "       [[ 73,  90,  85],\n",
      "        [ 76,  93,  88],\n",
      "        [ 83, 100,  95],\n",
      "        ...,\n",
      "        [221, 244, 241],\n",
      "        [221, 244, 241],\n",
      "        [221, 244, 241]],\n",
      "\n",
      "       ...,\n",
      "\n",
      "       [[181, 143, 106],\n",
      "        [181, 143, 106],\n",
      "        [181, 143, 106],\n",
      "        ...,\n",
      "        [196, 172, 190],\n",
      "        [192, 176, 191],\n",
      "        [192, 176, 191]],\n",
      "\n",
      "       [[181, 143, 106],\n",
      "        [181, 143, 106],\n",
      "        [181, 143, 106],\n",
      "        ...,\n",
      "        [201, 165, 187],\n",
      "        [196, 170, 189],\n",
      "        [198, 172, 191]],\n",
      "\n",
      "       [[181, 143, 106],\n",
      "        [181, 143, 106],\n",
      "        [181, 143, 106],\n",
      "        ...,\n",
      "        [196, 160, 182],\n",
      "        [195, 169, 188],\n",
      "        [197, 171, 190]]], dtype=uint8)], 'predictions': [[{'keypoints': [[181.29608345031738, 390.57290840148926], [181.29608345031738, 421.3424663543701], [193.60390663146973, 458.26593589782715], [236.68128776550293, 396.72681999206543], [292.0664920806885, 402.8807315826416], [316.68213844299316, 476.72767066955566], [236.68128776550293, 464.4198474884033], [242.8351993560791, 476.72767066955566], [230.52737617492676, 482.88158226013184], [230.52737617492676, 525.958963394165], [205.91172981262207, 519.8050518035889], [193.60390663146973, 544.4206981658936], [378.2212543487549, 452.112024307251], [273.60475730895996, 587.4980792999268], [218.2195529937744, 655.1911067962646], [205.91172981262207, 605.9598140716553], [236.68128776550293, 605.9598140716553], [267.4508457183838, 618.2676372528076], [187.44999504089355, 624.4215488433838], [224.3734645843506, 636.7293720245361], [261.2969341278076, 636.7293720245361]], 'keypoint_scores': [0.7951834201812744, 0.6558256149291992, 0.6791589856147766, 0.6765986680984497, 0.752576470375061, 0.8175247311592102, 0.5709626078605652, 0.607294499874115, 0.6480399370193481, 0.7119582891464233, 0.6546580791473389, 0.6847556829452515, 0.8521386981010437, 0.5981554985046387, 0.8375377058982849, 0.7037347555160522, 0.6966758966445923, 0.6055329442024231, 0.8323670625686646, 0.7025589942932129, 0.666923999786377], 'bbox': ([0.0, 7.1841888427734375, 541.0556030273438, 952.425048828125],), 'bbox_score': 0.9137928}]]})"
     ]
    },
    {
     "data": {
      "application/vnd.jupyter.widget-view+json": {
       "model_id": "03a6463695634c5187d3c660529176f3",
       "version_major": 2,
       "version_minor": 0
      },
      "text/plain": [
       "Output()"
      ]
     },
     "metadata": {},
     "output_type": "display_data"
    },
    {
     "name": "stdout",
     "output_type": "stream",
     "text": [
      "\n",
      "87\n",
      "<generator object MMPoseInferencer.__call__ at 0x000001DB3E834BA0>\n"
     ]
    },
    {
     "data": {
      "text/html": [
       "<pre style=\"white-space:pre;overflow-x:auto;line-height:normal;font-family:Menlo,'DejaVu Sans Mono',consolas,'Courier New',monospace\"></pre>\n"
      ],
      "text/plain": []
     },
     "metadata": {},
     "output_type": "display_data"
    },
    {
     "data": {
      "text/html": [
       "<pre style=\"white-space:pre;overflow-x:auto;line-height:normal;font-family:Menlo,'DejaVu Sans Mono',consolas,'Courier New',monospace\">\n",
       "</pre>\n"
      ],
      "text/plain": [
       "\n"
      ]
     },
     "metadata": {},
     "output_type": "display_data"
    },
    {
     "data": {
      "application/vnd.jupyter.widget-view+json": {
       "model_id": "cab96b8a78de493c959cc2dc85396549",
       "version_major": 2,
       "version_minor": 0
      },
      "text/plain": [
       "Output()"
      ]
     },
     "metadata": {},
     "output_type": "display_data"
    },
    {
     "name": "stdout",
     "output_type": "stream",
     "text": [
      "defaultdict(<class 'list'>, {'visualization': [array([[[ 76,  93,  88],\n",
      "        [ 79,  96,  91],\n",
      "        [ 85, 102,  97],\n",
      "        ...,\n",
      "        [221, 244, 241],\n",
      "        [221, 244, 241],\n",
      "        [221, 244, 241]],\n",
      "\n",
      "       [[ 76,  93,  88],\n",
      "        [ 79,  96,  91],\n",
      "        [ 85, 102,  97],\n",
      "        ...,\n",
      "        [221, 244, 241],\n",
      "        [221, 244, 241],\n",
      "        [221, 244, 241]],\n",
      "\n",
      "       [[ 74,  91,  86],\n",
      "        [ 77,  94,  89],\n",
      "        [ 84, 101,  96],\n",
      "        ...,\n",
      "        [221, 244, 241],\n",
      "        [221, 244, 241],\n",
      "        [221, 244, 241]],\n",
      "\n",
      "       ...,\n",
      "\n",
      "       [[179, 141, 104],\n",
      "        [180, 142, 105],\n",
      "        [180, 142, 105],\n",
      "        ...,\n",
      "        [198, 170, 189],\n",
      "        [196, 172, 190],\n",
      "        [196, 172, 190]],\n",
      "\n",
      "       [[179, 141, 104],\n",
      "        [180, 142, 105],\n",
      "        [180, 142, 105],\n",
      "        ...,\n",
      "        [201, 160, 184],\n",
      "        [199, 166, 187],\n",
      "        [201, 168, 189]],\n",
      "\n",
      "       [[179, 141, 104],\n",
      "        [180, 142, 105],\n",
      "        [180, 142, 105],\n",
      "        ...,\n",
      "        [195, 154, 178],\n",
      "        [196, 163, 184],\n",
      "        [200, 167, 188]]], dtype=uint8)], 'predictions': [[{'keypoints': [[181.3315705193413, 390.58571783701586], [181.3315705193413, 421.35491021474195], [199.79308531019421, 458.27794106801343], [236.7161148918999, 396.73955631256104], [292.1006592644585, 402.8933947881062], [322.86985058254663, 476.7394564946492], [236.7161148918999, 464.43177954355883], [249.02379141913525, 476.7394564946492], [230.56227662828235, 482.89329497019435], [230.56227662828235, 525.9701642990112], [205.94692357381177, 519.8163258234658], [193.63924704657666, 544.431679725647], [378.2543949551052, 452.12410259246826], [273.6391444736057, 587.5085490544639], [218.25460010104712, 655.2007722854614], [205.94692357381177, 605.9700644810996], [236.7161148918999, 605.9700644810996], [267.48530620998804, 618.2777414321899], [187.48540878295898, 624.4315799077353], [224.4084383646648, 636.7392568588257], [261.33146794637037, 642.8930953343711]], 'keypoint_scores': [0.7951571941375732, 0.656667947769165, 0.6798502206802368, 0.6745562553405762, 0.7389605045318604, 0.815686047077179, 0.5539134740829468, 0.5982454419136047, 0.6463091373443604, 0.730328381061554, 0.6913962960243225, 0.7140694260597229, 0.8547949194908142, 0.6090066432952881, 0.8270706534385681, 0.7158576846122742, 0.7017200589179993, 0.6058685183525085, 0.8348252773284912, 0.7068639397621155, 0.6619662046432495], 'bbox': ([0.0, 7.2015838623046875, 541.1244506835938, 952.43115234375],), 'bbox_score': 0.9126206}]]})\n",
      "87\n",
      "<generator object MMPoseInferencer.__call__ at 0x000001DB3E4C2EB0>\n"
     ]
    },
    {
     "data": {
      "text/html": [
       "<pre style=\"white-space:pre;overflow-x:auto;line-height:normal;font-family:Menlo,'DejaVu Sans Mono',consolas,'Courier New',monospace\"></pre>\n"
      ],
      "text/plain": []
     },
     "metadata": {},
     "output_type": "display_data"
    },
    {
     "data": {
      "text/html": [
       "<pre style=\"white-space:pre;overflow-x:auto;line-height:normal;font-family:Menlo,'DejaVu Sans Mono',consolas,'Courier New',monospace\">\n",
       "</pre>\n"
      ],
      "text/plain": [
       "\n"
      ]
     },
     "metadata": {},
     "output_type": "display_data"
    },
    {
     "data": {
      "application/vnd.jupyter.widget-view+json": {
       "model_id": "07ee1e6b1d28487992b75694c9d1b371",
       "version_major": 2,
       "version_minor": 0
      },
      "text/plain": [
       "Output()"
      ]
     },
     "metadata": {},
     "output_type": "display_data"
    },
    {
     "data": {
      "text/html": [
       "<pre style=\"white-space:pre;overflow-x:auto;line-height:normal;font-family:Menlo,'DejaVu Sans Mono',consolas,'Courier New',monospace\"></pre>\n"
      ],
      "text/plain": []
     },
     "metadata": {},
     "output_type": "display_data"
    },
    {
     "data": {
      "text/html": [
       "<pre style=\"white-space:pre;overflow-x:auto;line-height:normal;font-family:Menlo,'DejaVu Sans Mono',consolas,'Courier New',monospace\">\n",
       "</pre>\n"
      ],
      "text/plain": [
       "\n"
      ]
     },
     "metadata": {},
     "output_type": "display_data"
    },
    {
     "data": {
      "application/vnd.jupyter.widget-view+json": {
       "model_id": "1da62ce129b44f809e498024104baf8f",
       "version_major": 2,
       "version_minor": 0
      },
      "text/plain": [
       "Output()"
      ]
     },
     "metadata": {},
     "output_type": "display_data"
    },
    {
     "name": "stdout",
     "output_type": "stream",
     "text": [
      "defaultdict(<class 'list'>, {'visualization': [array([[[ 85, 102,  92],\n",
      "        [ 79,  96,  86],\n",
      "        [ 78,  95,  87],\n",
      "        ...,\n",
      "        [220, 243, 240],\n",
      "        [220, 243, 240],\n",
      "        [220, 243, 240]],\n",
      "\n",
      "       [[ 82,  99,  89],\n",
      "        [ 77,  94,  84],\n",
      "        [ 77,  94,  86],\n",
      "        ...,\n",
      "        [220, 243, 240],\n",
      "        [220, 243, 240],\n",
      "        [220, 243, 240]],\n",
      "\n",
      "       [[ 76,  93,  83],\n",
      "        [ 74,  91,  81],\n",
      "        [ 76,  93,  85],\n",
      "        ...,\n",
      "        [220, 243, 240],\n",
      "        [220, 243, 240],\n",
      "        [220, 243, 240]],\n",
      "\n",
      "       ...,\n",
      "\n",
      "       [[175, 137, 100],\n",
      "        [176, 138, 101],\n",
      "        [177, 139, 102],\n",
      "        ...,\n",
      "        [193, 167, 186],\n",
      "        [192, 171, 188],\n",
      "        [194, 173, 190]],\n",
      "\n",
      "       [[176, 138, 101],\n",
      "        [177, 139, 102],\n",
      "        [177, 139, 102],\n",
      "        ...,\n",
      "        [195, 154, 178],\n",
      "        [195, 162, 183],\n",
      "        [201, 168, 189]],\n",
      "\n",
      "       [[177, 139, 102],\n",
      "        [179, 141, 104],\n",
      "        [179, 141, 104],\n",
      "        ...,\n",
      "        [186, 145, 169],\n",
      "        [190, 157, 178],\n",
      "        [195, 162, 183]]], dtype=uint8)], 'predictions': [[{'keypoints': [[181.59356096055774, 390.4670076370239], [181.59356096055774, 421.24214458465576], [200.05864376491968, 458.17230892181396], [236.98880937364368, 396.6220350265503], [292.3840577867296, 402.77706241607666], [323.1591957939995, 482.79241847991943], [236.98880937364368, 458.17230892181396], [249.29886457655164, 476.63739109039307], [230.8337817721897, 482.79241847991943], [230.8337817721897, 525.877610206604], [206.21367136637366, 519.7225828170776], [193.9036161634657, 544.3426923751831], [378.55444420708557, 458.17230892181396], [273.9189749823677, 587.4278841018677], [224.67875417073571, 655.1331853866577], [206.21367136637366, 605.8929662704468], [236.98880937364368, 605.8929662704468], [273.9189749823677, 618.2030210494995], [187.74858856201172, 624.3580484390259], [230.8337817721897, 636.6681032180786], [261.6089197794596, 642.823130607605]], 'keypoint_scores': [0.749127209186554, 0.6143843531608582, 0.6567102074623108, 0.6586549282073975, 0.7410373687744141, 0.7966700792312622, 0.5404372811317444, 0.5896813869476318, 0.6374377012252808, 0.7256262302398682, 0.700681209564209, 0.7182198166847229, 0.8266005516052246, 0.6018049120903015, 0.8409758806228638, 0.7092470526695251, 0.691842257976532, 0.6009625196456909, 0.8330870270729065, 0.7079315781593323, 0.6603825092315674], 'bbox': ([0.0, 7.0087738037109375, 541.6829223632812, 952.4210205078125],), 'bbox_score': 0.91015595}]]})\n",
      "87\n",
      "<generator object MMPoseInferencer.__call__ at 0x000001DB3E834120>\n"
     ]
    },
    {
     "data": {
      "text/html": [
       "<pre style=\"white-space:pre;overflow-x:auto;line-height:normal;font-family:Menlo,'DejaVu Sans Mono',consolas,'Courier New',monospace\"></pre>\n"
      ],
      "text/plain": []
     },
     "metadata": {},
     "output_type": "display_data"
    },
    {
     "data": {
      "text/html": [
       "<pre style=\"white-space:pre;overflow-x:auto;line-height:normal;font-family:Menlo,'DejaVu Sans Mono',consolas,'Courier New',monospace\">\n",
       "</pre>\n"
      ],
      "text/plain": [
       "\n"
      ]
     },
     "metadata": {},
     "output_type": "display_data"
    },
    {
     "name": "stdout",
     "output_type": "stream",
     "text": [
      "defaultdict(<class 'list'>, {'visualization': [array([[[ 85, 102,  97],\n",
      "        [ 79,  96,  91],\n",
      "        [ 78,  95,  90],\n",
      "        ...,\n",
      "        [220, 243, 240],\n",
      "        [220, 243, 240],\n",
      "        [220, 243, 240]],\n",
      "\n",
      "       [[ 82,  99,  94],\n",
      "        [ 77,  94,  89],\n",
      "        [ 77,  94,  89],\n",
      "        ...,\n",
      "        [220, 243, 240],\n",
      "        [220, 243, 240],\n",
      "        [220, 243, 240]],\n",
      "\n",
      "       [[ 76,  93,  88],\n",
      "        [ 74,  91,  86],\n",
      "        [ 76,  93,  88],\n",
      "        ...,\n",
      "        [220, 243, 240],\n",
      "        [220, 243, 240],\n",
      "        [220, 243, 240]],\n",
      "\n",
      "       ...,\n",
      "\n",
      "       [[175, 137, 100],\n",
      "        [176, 138, 101],\n",
      "        [177, 139, 102],\n",
      "        ...,\n",
      "        [192, 168, 186],\n",
      "        [190, 171, 187],\n",
      "        [191, 172, 188]],\n",
      "\n",
      "       [[176, 138, 101],\n",
      "        [177, 139, 102],\n",
      "        [177, 139, 102],\n",
      "        ...,\n",
      "        [194, 158, 180],\n",
      "        [194, 163, 183],\n",
      "        [199, 168, 188]],\n",
      "\n",
      "       [[177, 139, 102],\n",
      "        [179, 141, 104],\n",
      "        [179, 141, 104],\n",
      "        ...,\n",
      "        [186, 150, 172],\n",
      "        [187, 156, 176],\n",
      "        [194, 163, 183]]], dtype=uint8)], 'predictions': [[{'keypoints': [[181.3090833028158, 390.47174199422204], [181.3090833028158, 421.2523180643717], [199.77742894490552, 458.1890093485513], [236.71412022908532, 396.62785720825195], [292.11915715535486, 402.78397242228186], [322.89973322550463, 476.6573549906411], [242.87023544311523, 458.1890093485513], [249.02635065714514, 476.6573549906411], [230.55800501505541, 482.81347020467115], [236.71412022908532, 525.9062767028809], [205.93354415893555, 519.7501614888508], [199.77742894490552, 544.3746223449707], [378.30477015177405, 452.0328941345215], [273.6508115132649, 587.4674288431804], [224.4018898010254, 655.1846961975098], [205.93354415893555, 605.9357744852703], [236.71412022908532, 605.9357744852703], [273.6508115132649, 618.2480049133301], [187.4651985168457, 624.4041201273601], [230.55800501505541, 636.7163505554199], [261.3385810852051, 642.87246576945]], 'keypoint_scores': [0.7545227408409119, 0.6230325102806091, 0.6672223806381226, 0.6641035676002502, 0.7281753420829773, 0.7928207516670227, 0.5397855043411255, 0.5841671824455261, 0.6366787552833557, 0.7244141101837158, 0.7030079364776611, 0.7217916250228882, 0.825452983379364, 0.6107074618339539, 0.8383999466896057, 0.7082281708717346, 0.6899996995925903, 0.6044343113899231, 0.8261170387268066, 0.7070901393890381, 0.6587300896644592], 'bbox': ([0.0, 6.94573974609375, 541.1455078125, 952.5250854492188],), 'bbox_score': 0.9114079}]]})"
     ]
    },
    {
     "data": {
      "application/vnd.jupyter.widget-view+json": {
       "model_id": "21724e627347442a89494cb271b7df36",
       "version_major": 2,
       "version_minor": 0
      },
      "text/plain": [
       "Output()"
      ]
     },
     "metadata": {},
     "output_type": "display_data"
    },
    {
     "name": "stdout",
     "output_type": "stream",
     "text": [
      "\n",
      "87\n",
      "<generator object MMPoseInferencer.__call__ at 0x000001DB3E4C2EB0>\n"
     ]
    },
    {
     "data": {
      "text/html": [
       "<pre style=\"white-space:pre;overflow-x:auto;line-height:normal;font-family:Menlo,'DejaVu Sans Mono',consolas,'Courier New',monospace\"></pre>\n"
      ],
      "text/plain": []
     },
     "metadata": {},
     "output_type": "display_data"
    },
    {
     "data": {
      "text/html": [
       "<pre style=\"white-space:pre;overflow-x:auto;line-height:normal;font-family:Menlo,'DejaVu Sans Mono',consolas,'Courier New',monospace\">\n",
       "</pre>\n"
      ],
      "text/plain": [
       "\n"
      ]
     },
     "metadata": {},
     "output_type": "display_data"
    },
    {
     "data": {
      "application/vnd.jupyter.widget-view+json": {
       "model_id": "1d0b302d002740739df56496f3bc3670",
       "version_major": 2,
       "version_minor": 0
      },
      "text/plain": [
       "Output()"
      ]
     },
     "metadata": {},
     "output_type": "display_data"
    },
    {
     "name": "stdout",
     "output_type": "stream",
     "text": [
      "defaultdict(<class 'list'>, {'visualization': [array([[[ 81,  98,  93],\n",
      "        [ 78,  95,  90],\n",
      "        [ 79,  95,  93],\n",
      "        ...,\n",
      "        [220, 243, 240],\n",
      "        [220, 243, 240],\n",
      "        [220, 243, 240]],\n",
      "\n",
      "       [[ 78,  95,  90],\n",
      "        [ 77,  94,  89],\n",
      "        [ 79,  95,  93],\n",
      "        ...,\n",
      "        [220, 243, 240],\n",
      "        [220, 243, 240],\n",
      "        [220, 243, 240]],\n",
      "\n",
      "       [[ 75,  92,  87],\n",
      "        [ 75,  92,  87],\n",
      "        [ 79,  95,  93],\n",
      "        ...,\n",
      "        [220, 243, 240],\n",
      "        [220, 243, 240],\n",
      "        [220, 243, 240]],\n",
      "\n",
      "       ...,\n",
      "\n",
      "       [[176, 138, 101],\n",
      "        [177, 139, 102],\n",
      "        [177, 139, 102],\n",
      "        ...,\n",
      "        [193, 167, 186],\n",
      "        [191, 170, 187],\n",
      "        [192, 171, 188]],\n",
      "\n",
      "       [[177, 139, 102],\n",
      "        [179, 141, 104],\n",
      "        [177, 139, 102],\n",
      "        ...,\n",
      "        [194, 156, 179],\n",
      "        [194, 161, 182],\n",
      "        [198, 165, 186]],\n",
      "\n",
      "       [[179, 141, 104],\n",
      "        [179, 141, 104],\n",
      "        [177, 139, 102],\n",
      "        ...,\n",
      "        [184, 146, 169],\n",
      "        [186, 153, 174],\n",
      "        [192, 159, 180]]], dtype=uint8)], 'predictions': [[{'keypoints': [[181.24973106384277, 390.5503902435303], [181.24973106384277, 421.3249454498291], [199.71446418762207, 458.2544116973877], [236.64393043518066, 396.70530128479004], [292.03812980651855, 402.8602123260498], [322.8126850128174, 476.719144821167], [242.79884147644043, 458.2544116973877], [248.9537525177002, 476.719144821167], [236.64393043518066, 482.87405586242676], [236.64393043518066, 525.9584331512451], [205.86937522888184, 519.8035221099854], [199.71446418762207, 544.4231662750244], [378.2068843841553, 452.09950065612793], [273.57339668273926, 587.5075435638428], [224.33410835266113, 655.2115650177002], [205.86937522888184, 605.9722766876221], [236.64393043518066, 612.1271877288818], [273.57339668273926, 618.2820987701416], [187.40464210510254, 624.4370098114014], [230.4890193939209, 636.7468318939209], [261.2635746002197, 642.9017429351807]], 'keypoint_scores': [0.7639307379722595, 0.6303302645683289, 0.6684215068817139, 0.6671628355979919, 0.7378554344177246, 0.7924473881721497, 0.5448613166809082, 0.5887123346328735, 0.641240119934082, 0.7312438488006592, 0.709883451461792, 0.7262697815895081, 0.8299545049667358, 0.6181367039680481, 0.8337899446487427, 0.717820942401886, 0.698061466217041, 0.6071047782897949, 0.8310188055038452, 0.7086437940597534, 0.6563601493835449], 'bbox': ([0.0, 7.0994110107421875, 540.9918823242188, 952.4937744140625],), 'bbox_score': 0.90989846}]]})\n",
      "87\n",
      "<generator object MMPoseInferencer.__call__ at 0x000001DB40F02EB0>\n"
     ]
    },
    {
     "data": {
      "text/html": [
       "<pre style=\"white-space:pre;overflow-x:auto;line-height:normal;font-family:Menlo,'DejaVu Sans Mono',consolas,'Courier New',monospace\"></pre>\n"
      ],
      "text/plain": []
     },
     "metadata": {},
     "output_type": "display_data"
    },
    {
     "data": {
      "text/html": [
       "<pre style=\"white-space:pre;overflow-x:auto;line-height:normal;font-family:Menlo,'DejaVu Sans Mono',consolas,'Courier New',monospace\">\n",
       "</pre>\n"
      ],
      "text/plain": [
       "\n"
      ]
     },
     "metadata": {},
     "output_type": "display_data"
    },
    {
     "name": "stdout",
     "output_type": "stream",
     "text": [
      "defaultdict(<class 'list'>, {'visualization': [array([[[ 83, 100,  95],\n",
      "        [ 81,  98,  93],\n",
      "        [ 81,  97,  95],\n",
      "        ...,\n",
      "        [221, 244, 241],\n",
      "        [221, 244, 241],\n",
      "        [220, 243, 240]],\n",
      "\n",
      "       [[ 81,  98,  93],\n",
      "        [ 78,  95,  90],\n",
      "        [ 79,  95,  93],\n",
      "        ...,\n",
      "        [221, 244, 241],\n",
      "        [221, 244, 241],\n",
      "        [220, 243, 240]],\n",
      "\n",
      "       [[ 75,  92,  87],\n",
      "        [ 75,  92,  87],\n",
      "        [ 79,  95,  93],\n",
      "        ...,\n",
      "        [221, 244, 241],\n",
      "        [221, 244, 241],\n",
      "        [220, 243, 240]],\n",
      "\n",
      "       ...,\n",
      "\n",
      "       [[176, 138, 101],\n",
      "        [177, 139, 102],\n",
      "        [177, 139, 102],\n",
      "        ...,\n",
      "        [194, 170, 188],\n",
      "        [193, 169, 187],\n",
      "        [193, 169, 187]],\n",
      "\n",
      "       [[177, 139, 102],\n",
      "        [179, 141, 104],\n",
      "        [177, 139, 102],\n",
      "        ...,\n",
      "        [196, 158, 181],\n",
      "        [196, 160, 182],\n",
      "        [198, 162, 184]],\n",
      "\n",
      "       [[179, 141, 104],\n",
      "        [179, 141, 104],\n",
      "        [177, 139, 102],\n",
      "        ...,\n",
      "        [184, 146, 169],\n",
      "        [189, 153, 175],\n",
      "        [192, 156, 178]]], dtype=uint8)], 'predictions': [[{'keypoints': [[181.36421373155383, 390.41103076934814], [181.36421373155383, 421.18654918670654], [199.8295254177517, 458.1171712875366], [236.76014879014758, 396.5661344528198], [292.15608384874133, 402.7212381362915], [322.9316033257378, 476.58248233795166], [242.91525268554688, 458.1171712875366], [249.07035658094617, 476.58248233795166], [230.6050448947483, 482.73758602142334], [236.76014879014758, 525.8233118057251], [205.984629313151, 519.6682081222534], [199.8295254177517, 550.4437265396118], [378.32753838433166, 451.96206760406494], [273.69077216254345, 587.3743486404419], [224.449940999349, 655.0804891586304], [205.984629313151, 605.8396596908569], [236.76014879014758, 611.9947633743286], [273.69077216254345, 618.1498670578003], [187.51931762695312, 624.304970741272], [230.6050448947483, 636.6151781082153], [261.38056437174475, 642.770281791687]], 'keypoint_scores': [0.7450994849205017, 0.6248940229415894, 0.6753690242767334, 0.6662169694900513, 0.7310274839401245, 0.7953843474388123, 0.544742226600647, 0.590960681438446, 0.6427206993103027, 0.7307969331741333, 0.7045055031776428, 0.7148482799530029, 0.8223316073417664, 0.6052225828170776, 0.8361778855323792, 0.7082686424255371, 0.6885901093482971, 0.5961799025535583, 0.8268048763275146, 0.7053136825561523, 0.6500999927520752], 'bbox': ([0.0, 6.9480743408203125, 541.2264404296875, 952.3720092773438],), 'bbox_score': 0.90915275}]]})"
     ]
    },
    {
     "data": {
      "application/vnd.jupyter.widget-view+json": {
       "model_id": "560bd3b9e99e436c8a2433d8466f4dff",
       "version_major": 2,
       "version_minor": 0
      },
      "text/plain": [
       "Output()"
      ]
     },
     "metadata": {},
     "output_type": "display_data"
    },
    {
     "name": "stdout",
     "output_type": "stream",
     "text": [
      "\n",
      "87\n",
      "<generator object MMPoseInferencer.__call__ at 0x000001DB3E4C2120>\n"
     ]
    },
    {
     "data": {
      "text/html": [
       "<pre style=\"white-space:pre;overflow-x:auto;line-height:normal;font-family:Menlo,'DejaVu Sans Mono',consolas,'Courier New',monospace\"></pre>\n"
      ],
      "text/plain": []
     },
     "metadata": {},
     "output_type": "display_data"
    },
    {
     "data": {
      "text/html": [
       "<pre style=\"white-space:pre;overflow-x:auto;line-height:normal;font-family:Menlo,'DejaVu Sans Mono',consolas,'Courier New',monospace\">\n",
       "</pre>\n"
      ],
      "text/plain": [
       "\n"
      ]
     },
     "metadata": {},
     "output_type": "display_data"
    },
    {
     "name": "stdout",
     "output_type": "stream",
     "text": [
      "defaultdict(<class 'list'>, {'visualization': [array([[[ 82,  98,  96],\n",
      "        [ 81,  97,  95],\n",
      "        [ 83,  99,  97],\n",
      "        ...,\n",
      "        [221, 244, 241],\n",
      "        [221, 244, 241],\n",
      "        [221, 244, 241]],\n",
      "\n",
      "       [[ 79,  95,  93],\n",
      "        [ 79,  95,  93],\n",
      "        [ 83,  99,  97],\n",
      "        ...,\n",
      "        [221, 244, 241],\n",
      "        [221, 244, 241],\n",
      "        [221, 244, 241]],\n",
      "\n",
      "       [[ 75,  91,  89],\n",
      "        [ 77,  93,  91],\n",
      "        [ 83,  99,  97],\n",
      "        ...,\n",
      "        [221, 244, 241],\n",
      "        [221, 244, 241],\n",
      "        [221, 244, 241]],\n",
      "\n",
      "       ...,\n",
      "\n",
      "       [[175, 140, 102],\n",
      "        [177, 142, 104],\n",
      "        [175, 140, 102],\n",
      "        ...,\n",
      "        [191, 172, 188],\n",
      "        [192, 171, 188],\n",
      "        [192, 171, 188]],\n",
      "\n",
      "       [[177, 142, 104],\n",
      "        [177, 142, 104],\n",
      "        [175, 140, 102],\n",
      "        ...,\n",
      "        [193, 162, 182],\n",
      "        [195, 164, 184],\n",
      "        [197, 166, 186]],\n",
      "\n",
      "       [[177, 142, 104],\n",
      "        [177, 142, 104],\n",
      "        [175, 140, 102],\n",
      "        ...,\n",
      "        [182, 151, 171],\n",
      "        [189, 158, 178],\n",
      "        [191, 160, 180]]], dtype=uint8)], 'predictions': [[{'keypoints': [[181.14303588867188, 390.6334228515625], [181.14303588867188, 421.415283203125], [199.61215209960938, 452.1971435546875], [236.55038452148438, 396.789794921875], [291.9577331542969, 402.9461669921875], [322.7395935058594, 476.8226318359375], [242.70675659179688, 458.353515625], [248.86312866210938, 476.8226318359375], [236.55038452148438, 482.97900390625], [236.55038452148438, 526.0736083984375], [205.76852416992188, 519.917236328125], [199.61215209960938, 544.542724609375], [378.1469421386719, 452.1971435546875], [273.4886169433594, 587.6373291015625], [224.23764038085938, 655.357421875], [205.76852416992188, 606.1064453125], [236.55038452148438, 612.2628173828125], [273.4886169433594, 618.419189453125], [187.29940795898438, 624.5755615234375], [230.39401245117188, 636.8883056640625], [261.1758728027344, 643.044677734375]], 'keypoint_scores': [0.7526232600212097, 0.6217135190963745, 0.6613019108772278, 0.6598347425460815, 0.7279239892959595, 0.7996530532836914, 0.5378046035766602, 0.5817607045173645, 0.6352745294570923, 0.7285776734352112, 0.7093802094459534, 0.7251789569854736, 0.8407838940620422, 0.5979340076446533, 0.8400025367736816, 0.7151563167572021, 0.6892401576042175, 0.5900702476501465, 0.8294765949249268, 0.7086868286132812, 0.6450865864753723], 'bbox': ([0.0, 7.091400146484375, 540.8208618164062, 952.710205078125],), 'bbox_score': 0.91096395}]]})\n"
     ]
    },
    {
     "data": {
      "application/vnd.jupyter.widget-view+json": {
       "model_id": "640edc5472ee474588ac12512881ccf8",
       "version_major": 2,
       "version_minor": 0
      },
      "text/plain": [
       "Output()"
      ]
     },
     "metadata": {},
     "output_type": "display_data"
    },
    {
     "name": "stdout",
     "output_type": "stream",
     "text": [
      "87\n",
      "<generator object MMPoseInferencer.__call__ at 0x000001DB40F02EB0>\n"
     ]
    },
    {
     "data": {
      "text/html": [
       "<pre style=\"white-space:pre;overflow-x:auto;line-height:normal;font-family:Menlo,'DejaVu Sans Mono',consolas,'Courier New',monospace\"></pre>\n"
      ],
      "text/plain": []
     },
     "metadata": {},
     "output_type": "display_data"
    },
    {
     "data": {
      "text/html": [
       "<pre style=\"white-space:pre;overflow-x:auto;line-height:normal;font-family:Menlo,'DejaVu Sans Mono',consolas,'Courier New',monospace\">\n",
       "</pre>\n"
      ],
      "text/plain": [
       "\n"
      ]
     },
     "metadata": {},
     "output_type": "display_data"
    },
    {
     "name": "stdout",
     "output_type": "stream",
     "text": [
      "defaultdict(<class 'list'>, {'visualization': [array([[[ 83,  99,  97],\n",
      "        [ 84, 100,  98],\n",
      "        [ 86, 102, 100],\n",
      "        ...,\n",
      "        [221, 244, 241],\n",
      "        [221, 244, 241],\n",
      "        [221, 244, 241]],\n",
      "\n",
      "       [[ 82,  98,  96],\n",
      "        [ 83,  99,  97],\n",
      "        [ 85, 101,  99],\n",
      "        ...,\n",
      "        [221, 244, 241],\n",
      "        [221, 244, 241],\n",
      "        [221, 244, 241]],\n",
      "\n",
      "       [[ 77,  93,  91],\n",
      "        [ 81,  97,  95],\n",
      "        [ 85, 101,  99],\n",
      "        ...,\n",
      "        [221, 244, 241],\n",
      "        [221, 244, 241],\n",
      "        [221, 244, 241]],\n",
      "\n",
      "       ...,\n",
      "\n",
      "       [[177, 142, 104],\n",
      "        [178, 143, 105],\n",
      "        [177, 142, 104],\n",
      "        ...,\n",
      "        [188, 172, 187],\n",
      "        [191, 170, 187],\n",
      "        [191, 170, 187]],\n",
      "\n",
      "       [[178, 143, 105],\n",
      "        [178, 143, 105],\n",
      "        [177, 142, 104],\n",
      "        ...,\n",
      "        [187, 163, 181],\n",
      "        [193, 165, 184],\n",
      "        [195, 167, 186]],\n",
      "\n",
      "       [[179, 144, 106],\n",
      "        [179, 144, 106],\n",
      "        [178, 143, 105],\n",
      "        ...,\n",
      "        [177, 153, 171],\n",
      "        [187, 159, 178],\n",
      "        [190, 162, 181]]], dtype=uint8)], 'predictions': [[{'keypoints': [[181.18056233723962, 390.6346638997396], [181.18056233723962, 421.41031901041663], [199.64595540364576, 458.341105143229], [236.57674153645837, 396.789794921875], [291.9729207356771, 402.9449259440104], [322.74857584635424, 476.80649820963527], [242.73187255859375, 458.341105143229], [248.88700358072913, 476.80649820963527], [236.57674153645837, 482.96162923177076], [236.57674153645837, 519.8924153645833], [205.80108642578125, 519.8924153645833], [199.64595540364576, 544.512939453125], [378.1447550455729, 452.18597412109375], [273.50752766927076, 587.598856608073], [224.2664794921875, 655.3052978515625], [205.80108642578125, 606.0642496744792], [236.57674153645837, 606.0642496744792], [273.50752766927076, 618.37451171875], [187.335693359375, 624.5296427408855], [230.421610514323, 636.8399047851562], [261.197265625, 636.8399047851562]], 'keypoint_scores': [0.7550128698348999, 0.6237099170684814, 0.6650512218475342, 0.6639968752861023, 0.7275591492652893, 0.7959952354431152, 0.5371131896972656, 0.580249547958374, 0.6345627307891846, 0.7232714891433716, 0.7039702534675598, 0.7226932644844055, 0.8370899558067322, 0.5989272594451904, 0.8471150398254395, 0.7144168019294739, 0.6932183504104614, 0.5957724452018738, 0.8281057476997375, 0.7126815319061279, 0.651924192905426], 'bbox': ([0.0, 7.1699981689453125, 540.8599243164062, 952.59814453125],), 'bbox_score': 0.91081095}]]})\n",
      "87\n",
      "16.479318618774414\n",
      "77\n"
     ]
    }
   ],
   "source": [
    "from mmpose.apis import MMPoseInferencer\n",
    "\n",
    "\n",
    "\n",
    "cap = cv2.VideoCapture(r\"D:\\thesis_acu\\experiment\\keypoint_experiment\\ear_reapaired_540x960\\cather\\_repaired.mp4\")\n",
    "count = 0\n",
    "start = time.time()\n",
    "while True:\n",
    "    ret, frame = cap.read()\n",
    "    result_generator = inferencer(frame, return_vis=True)\n",
    "    print(result_generator)\n",
    "    result = next(result_generator)\n",
    "    print(result)\n",
    "    out = result['visualization'][0]\n",
    "#     print(out)\n",
    "    im_rgb = cv2.cvtColor(out, cv2.COLOR_BGR2RGB)\n",
    "    cv2.imshow('OpenCV Feed', im_rgb)\n",
    "#     print(type(frame[0]))\n",
    "#     print(\"-+-----------------------------\")\n",
    "#     print(out[0])\n",
    "    print(87)\n",
    "    if cv2.waitKey(10) & 0xFF == ord('q'):\n",
    "        break\n",
    "    count += 1\n",
    "end = time.time()       \n",
    "\n",
    "        \n",
    "cap.release()\n",
    "cv2.destroyAllWindows()\n",
    "print(format(end-start))   \n",
    "print(count)"
   ]
  },
  {
   "cell_type": "code",
   "execution_count": null,
   "id": "6df59047",
   "metadata": {},
   "outputs": [],
   "source": []
  },
  {
   "cell_type": "code",
   "execution_count": 4,
   "id": "e18bee70",
   "metadata": {},
   "outputs": [
    {
     "name": "stdout",
     "output_type": "stream",
     "text": [
      "12.751576900482178\n",
      "381\n"
     ]
    }
   ],
   "source": [
    "import cv2\n",
    "import numpy as np\n",
    "import time\n",
    "# Capturing the video file 0 for videocam else you can provide the url\n",
    "capture = cv2.VideoCapture(0)\n",
    " \n",
    "# Reading the first frame\n",
    "_, frame1 = capture.read()\n",
    "# Convert to gray scale\n",
    "prvs = cv2.cvtColor(frame1, cv2.COLOR_BGR2GRAY)\n",
    "# Create mask\n",
    "hsv_mask = np.zeros_like(frame1)\n",
    "# Make image saturation to a maximum value\n",
    "hsv_mask[..., 1] = 255\n",
    "start = time.time()\n",
    "count = 0\n",
    "# Till you scan the video\n",
    "while(1):\n",
    "     \n",
    "    # Capture another frame and convert to gray scale\n",
    "    _, frame2 = capture.read()\n",
    "#     next = cv2.cvtColor(frame2, cv2.COLOR_BGR2GRAY)\n",
    " \n",
    "#     # Optical flow is now calculated\n",
    "#     flow = cv2.calcOpticalFlowFarneback(prvs, next, None, 0.5, 3, 15, 3, 5, 1.2, 0)\n",
    "#     # Compute magnite and angle of 2D vector\n",
    "#     mag, ang = cv2.cartToPolar(flow[..., 0], flow[..., 1])\n",
    "#     # Set image hue value according to the angle of optical flow\n",
    "#     hsv_mask[..., 0] = ang * 180 / np.pi / 2\n",
    "#     # Set value as per the normalized magnitude of optical flow\n",
    "#     hsv_mask[..., 2] = cv2.normalize(mag, None, 0, 255, cv2.NORM_MINMAX)\n",
    "#     # Convert to rgb\n",
    "#     rgb_representation = cv2.cvtColor(hsv_mask, cv2.COLOR_HSV2BGR)\n",
    " \n",
    "    cv2.imshow('frame2', frame2)\n",
    "    kk = cv2.waitKey(20) & 0xff\n",
    "#     # Press 'e' to exit the video\n",
    "    if kk == ord('e'):\n",
    "        break\n",
    "#     # Press 's' to save the video\n",
    "#     elif kk == ord('s'):\n",
    "#         cv2.imwrite('Optical_image.png', frame2)\n",
    "#         cv2.imwrite('HSV_converted_image.png', rgb_representation)\n",
    "    prvs = next\n",
    "    count += 1\n",
    "end = time.time()\n",
    "capture.release()\n",
    "cv2.destroyAllWindows()\n",
    "print(format(end-start))   \n",
    "print(count)"
   ]
  },
  {
   "cell_type": "code",
   "execution_count": 7,
   "id": "9d302850",
   "metadata": {},
   "outputs": [],
   "source": [
    "import cv2\n",
    "import numpy as np\n",
    "def select_point(event, x, y, flags, params):\n",
    "    global point, selected_point, old_points\n",
    "    # record coordinates of mouse click\n",
    "    if event == cv2.EVENT_LBUTTONDOWN:\n",
    "        point = (x, y)\n",
    "        selected_point = True\n",
    "        old_points = np.array([[x, y]], dtype=np.float32)\n",
    "\n",
    "\n",
    "# associate select function with window Selector\n",
    "\n",
    "\n",
    "\n",
    "# initialize variables updated by function\n",
    "selected_point = False\n",
    "point = ()\n",
    "old_points = ([[]])\n",
    "cap = cv2.VideoCapture(r\"D:\\thesis_acu\\experiment\\keypoint_experiment\\ear_reapaired_540x960\\cather\\_repaired.mp4\")\n",
    "ret, frame = cap.read()\n",
    "# cv2.namedWindow('Optical Flow')\n",
    "cv2.imshow('Optical Flow',frame)\n",
    "cv2.setMouseCallback('Optical Flow',select_point)\n",
    "cv2.waitKey(0)\n",
    "cv2.destroyAllWindows()\n"
   ]
  },
  {
   "cell_type": "code",
   "execution_count": 8,
   "id": "07e0d45d",
   "metadata": {},
   "outputs": [],
   "source": [
    "frame_gray_init = cv2.cvtColor(frame, cv2.COLOR_BGR2GRAY)"
   ]
  },
  {
   "cell_type": "code",
   "execution_count": 9,
   "id": "e38bea48",
   "metadata": {},
   "outputs": [],
   "source": [
    "parameter_lucas_kanade = dict(winSize=(15, 15), maxLevel=2, criteria=(cv2.TERM_CRITERIA_EPS | cv2.TERM_CRITERIA_COUNT, 10, 0.03))"
   ]
  },
  {
   "cell_type": "code",
   "execution_count": 10,
   "id": "c6a0000f",
   "metadata": {},
   "outputs": [],
   "source": [
    "canvas = np.zeros_like(frame)"
   ]
  },
  {
   "cell_type": "code",
   "execution_count": 11,
   "id": "6c867080",
   "metadata": {},
   "outputs": [
    {
     "name": "stdout",
     "output_type": "stream",
     "text": [
      "8.279772281646729\n",
      "573\n"
     ]
    }
   ],
   "source": [
    "import time\n",
    "\n",
    "cap = cv2.VideoCapture(r\"D:\\thesis_acu\\experiment\\keypoint_experiment\\ear_reapaired_540x960\\cather\\_repaired.mp4\")\n",
    "count = 0\n",
    "start = time.time()\n",
    "\n",
    "while True:\n",
    "    # get next frame\n",
    "    ret, frame = cap.read()\n",
    "    if frame is None:\n",
    "        break\n",
    "    # covert to grayscale\n",
    "    frame_gray = cv2.cvtColor(frame, cv2.COLOR_BGR2GRAY)\n",
    "    if selected_point is True:\n",
    "        cv2.circle(frame, point, 5, (0, 0, 255), 2)\n",
    "        # update object corners by comparing with found edges in initial frame\n",
    "        new_points, status, errors = cv2.calcOpticalFlowPyrLK(frame_gray_init, frame_gray, old_points, None,\n",
    "                                                         **parameter_lucas_kanade)\n",
    "\n",
    "        # overwrite initial frame with current before restarting the loop\n",
    "        frame_gray_init = frame_gray.copy()\n",
    "        # update to new edges before restarting the loop\n",
    "        old_points = new_points\n",
    "\n",
    "        x, y = new_points.ravel()\n",
    "        j, k = old_points.ravel()\n",
    "\n",
    "        # draw line between old and new corner point with random colour\n",
    "        canvas = cv2.line(canvas, (int(x), int(y)), (int(j), int(k)), (0, 255, 0), 3)\n",
    "        # draw circle around new position\n",
    "        frame = cv2.circle(frame, (int(x), int(y)), 5, (0, 255, 0), -1)\n",
    "\n",
    "    result = cv2.add(frame, canvas)\n",
    "    cv2.imshow('Optical Flow', result)\n",
    "    if cv2.waitKey(1) & 0xFF == ord('q'):\n",
    "        break\n",
    "    count += 1\n",
    "end = time.time()\n",
    "print(format(end-start))\n",
    "print(count)\n",
    "cap.release()\n",
    "cv2.destroyAllWindows()"
   ]
  },
  {
   "cell_type": "code",
   "execution_count": null,
   "id": "3598c6bf",
   "metadata": {},
   "outputs": [],
   "source": [
    "0:麻辣燙\n",
    "1:丫頭\n",
    "2:廣越\n",
    "3:原味屋\n",
    "4:鴨霸\n",
    "5:港記"
   ]
  },
  {
   "cell_type": "code",
   "execution_count": 4,
   "id": "1632b47f",
   "metadata": {},
   "outputs": [
    {
     "data": {
      "text/plain": [
       "array([0, 1, 0, 2, 4, 5])"
      ]
     },
     "execution_count": 4,
     "metadata": {},
     "output_type": "execute_result"
    }
   ],
   "source": [
    "import numpy as np\n",
    "np.random.randint(6, size=6)"
   ]
  },
  {
   "cell_type": "code",
   "execution_count": null,
   "id": "4871a05f",
   "metadata": {},
   "outputs": [],
   "source": []
  },
  {
   "cell_type": "code",
   "execution_count": null,
   "id": "aa8251a9",
   "metadata": {},
   "outputs": [],
   "source": []
  }
 ],
 "metadata": {
  "kernelspec": {
   "display_name": "Python 3 (ipykernel)",
   "language": "python",
   "name": "python3"
  },
  "language_info": {
   "codemirror_mode": {
    "name": "ipython",
    "version": 3
   },
   "file_extension": ".py",
   "mimetype": "text/x-python",
   "name": "python",
   "nbconvert_exporter": "python",
   "pygments_lexer": "ipython3",
   "version": "3.8.16"
  }
 },
 "nbformat": 4,
 "nbformat_minor": 5
}
