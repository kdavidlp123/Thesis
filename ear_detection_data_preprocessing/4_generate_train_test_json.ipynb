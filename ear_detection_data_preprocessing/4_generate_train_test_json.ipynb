{
 "cells": [
  {
   "cell_type": "code",
   "execution_count": 8,
   "id": "2bedfc7e",
   "metadata": {},
   "outputs": [],
   "source": [
    "import os\n",
    "import json\n",
    "import glob\n",
    "import shutil\n",
    "import cv2\n",
    "import random"
   ]
  },
  {
   "cell_type": "code",
   "execution_count": 9,
   "id": "4b527844",
   "metadata": {},
   "outputs": [],
   "source": [
    "training = {}\n",
    "test = {}"
   ]
  },
  {
   "cell_type": "code",
   "execution_count": 10,
   "id": "b68e16df",
   "metadata": {},
   "outputs": [],
   "source": [
    "training[\"info\"] = {}\n",
    "test[\"info\"] = {}"
   ]
  },
  {
   "cell_type": "code",
   "execution_count": 11,
   "id": "d672f12c",
   "metadata": {},
   "outputs": [],
   "source": [
    "training[\"info\"][\"year\"] = 2022\n",
    "training[\"info\"][\"version\"] = \"1\"\n",
    "training[\"info\"][\"description\"] = \"for resnet backbone\"\n",
    "test[\"info\"][\"year\"] = 2022\n",
    "test[\"info\"][\"version\"] = \"1\"\n",
    "test[\"info\"][\"description\"] = \"for resnet backbone\""
   ]
  },
  {
   "cell_type": "code",
   "execution_count": 12,
   "id": "15a9f5b7",
   "metadata": {},
   "outputs": [],
   "source": [
    "training[\"licenses\"] = []\n",
    "training[\"licenses\"].append({\"id\" : 0, \"name\" : \"no\", \"url\" : \"null\"})\n",
    "training[\"images\"] = []\n",
    "training[\"annotations\"] = []\n",
    "test[\"licenses\"] = []\n",
    "test[\"licenses\"].append({\"id\" : 0, \"name\" : \"no\", \"url\" : \"null\"})\n",
    "test[\"images\"] = []\n",
    "test[\"annotations\"] = []"
   ]
  },
  {
   "cell_type": "code",
   "execution_count": 13,
   "id": "81296fd7",
   "metadata": {},
   "outputs": [
    {
     "name": "stdout",
     "output_type": "stream",
     "text": [
      "{'info': {'year': 2022, 'version': '1', 'description': 'for resnet backbone'}, 'licenses': [{'id': 0, 'name': 'no', 'url': 'null'}], 'images': [], 'annotations': []}\n",
      "{'info': {'year': 2022, 'version': '1', 'description': 'for resnet backbone'}, 'licenses': [{'id': 0, 'name': 'no', 'url': 'null'}], 'images': [], 'annotations': []}\n"
     ]
    }
   ],
   "source": [
    "print(training)\n",
    "print(test)"
   ]
  },
  {
   "cell_type": "code",
   "execution_count": 14,
   "id": "a04ca33b",
   "metadata": {},
   "outputs": [],
   "source": [
    "# with open(r\"D:\\thesis_acu\\experiment\\keypoint_experiment\\training\\training.json\",\"r\") as training_file :\n",
    "\n",
    "\n",
    "\n",
    "all_data = [\"../dataset/training_set\",\"../dataset/eval_set\"]\n",
    "all_data_bbox_json = [\"../dataset/training_set_json\",\"../dataset/eval_set_json\"]\n",
    "\n",
    "# if not os.path.isdir(training_set_temp):\n",
    "#     os.makedirs(training_set_temp)\n",
    "# if not os.path.isdir(training_set_json_temp):\n",
    "#     os.makedirs(training_set_json_temp)\n",
    "\n",
    "for data in range(0,len(all_data)):\n",
    "    imgs = glob.glob(os.path.join(all_data[data], \"*.png\"))\n",
    "    imgs = sorted(imgs, key = lambda s : int(os.path.splitext(os.path.basename(s))[0]), reverse=False)\n",
    "\n",
    "\n",
    "    if data == 0:\n",
    "        with open(os.path.join(all_data_bbox_json[data], \"bbox.json\"), \"r\") as train_f:\n",
    "            train_bbox = json.load(train_f)\n",
    "        for img in imgs:\n",
    "            img_index =  int(os.path.splitext(os.path.basename(img))[0])\n",
    "\n",
    "            images_json = { \"id\" : img_index, \"width\": 540, \"height\": 900, \"file_name\": \"{file_name}.png\".format(file_name = img_index), \"license\": 0 }\n",
    "            image_annotations = {\"image_id\":img_index, \"bbox\":train_bbox[str(img_index)], \"category_id\":1, \"area\":train_bbox[str(img_index)][2]*train_bbox[str(img_index)][3],\"id\":img_index, \"iscrowd\": 0}\n",
    "\n",
    "            training[\"images\"].append(images_json)\n",
    "            training[\"annotations\"].append(image_annotations)\n",
    "    else:\n",
    "        with open(os.path.join(all_data_bbox_json[data], \"bbox.json\"), \"r\") as test_f:\n",
    "            test_bbox = json.load(test_f)\n",
    "        for img in imgs:\n",
    "            img_index =  int(os.path.splitext(os.path.basename(img))[0])\n",
    "\n",
    "            images_json = { \"id\" : img_index, \"width\": 540, \"height\": 900, \"file_name\": \"{file_name}.png\".format(file_name = img_index), \"license\": 0 }\n",
    "            image_annotations = {\"image_id\":img_index, \"bbox\":test_bbox[str(img_index)], \"category_id\":1, \"area\":train_bbox[str(img_index)][2]*train_bbox[str(img_index)][3],\"id\":img_index, \"iscrowd\": 0}\n",
    "\n",
    "            test[\"images\"].append(images_json)\n",
    "            test[\"annotations\"].append(image_annotations)\n",
    "        \n",
    "        "
   ]
  },
  {
   "cell_type": "code",
   "execution_count": 15,
   "id": "e1eb83b0",
   "metadata": {},
   "outputs": [],
   "source": [
    "training[\"categories\"] = [{\"supercategory\" : \"hand\", \"id\" : 1, \"name\" : \"ear\"}]\n",
    "test[\"categories\"] = [{\"supercategory\" : \"hand\", \"id\" : 1, \"name\" : \"ear\"}]"
   ]
  },
  {
   "cell_type": "code",
   "execution_count": 16,
   "id": "e4a34d8b",
   "metadata": {},
   "outputs": [],
   "source": [
    "with open(os.path.join(all_data_bbox_json[0],\"training.json\"), \"w\") as f_training:\n",
    "    json.dump(training, f_training, indent = 4)\n",
    "\n",
    "with open(os.path.join(all_data_bbox_json[1],\"test.json\"), \"w\") as f_test:\n",
    "    json.dump(test, f_test, indent = 4) "
   ]
  },
  {
   "cell_type": "code",
   "execution_count": 10,
   "id": "a1f7b897",
   "metadata": {},
   "outputs": [],
   "source": [
    "# training_set_temp = \"../training_set_temp\"\n",
    "# training_set_json_temp = \"../training_set_json_temp\"\n",
    "# training_set = \"../training_set\"\n",
    "# training_set_json = \"../training_set_json\"\n",
    "# if not os.path.isdir(training_set):\n",
    "#     os.makedirs(training_set)\n",
    "# if not os.path.isdir(training_set_json):\n",
    "#     os.makedirs(training_set_json)\n",
    "\n",
    "# test_set = \"../test_set\"\n",
    "# test_set_json = \"../test_set_json\"\n",
    "# if not os.path.isdir(test_set):\n",
    "#     os.makedirs(test_set)\n",
    "# if not os.path.isdir(test_set_json):\n",
    "#     os.makedirs(test_set_json)\n",
    "\n",
    "# random.seed(0)\n",
    "# shuffle_index = list(range(0,len(os.listdir(training_set_temp))))\n",
    "# random.shuffle(shuffle_index)\n",
    "\n",
    "# with open(os.path.join(training_set_json_temp,\"training_temp.json\"), \"r\") as f_training:\n",
    "#     bbox = json.load(f_training)\n",
    "\n",
    "# training_bbox_images = []\n",
    "# training_bbox_annotations = []\n",
    "# test_bbox_images = []\n",
    "# test_bbox_annotations = []\n",
    "\n",
    "# test_index = 0\n",
    "# for i in range(0, len(shuffle_index)):\n",
    "#     if i <= int(len(shuffle_index)*0.8):\n",
    "\n",
    "#         src = os.path.join(training_set_temp, \"{file_name}.png\".format(file_name = shuffle_index[i]))\n",
    "#         dst = os.path.join(training_set, \"{file_name}.png\".format(file_name = i))\n",
    "#         os.rename(src, dst)\n",
    "\n",
    "#         new_img_json = { \"id\" : i, \"width\": 540, \"height\": 900, \"file_name\": \"{file_name}.png\".format(file_name = i), \"license\": 0 }\n",
    "#         new_img_annotations = {\"image_id\":i, \"bbox\":bbox[\"annotations\"][shuffle_index[i]][\"bbox\"], \"category_id\":1, \"area\":bbox[\"annotations\"][shuffle_index[i]][\"area\"],\"id\":i, \"iscrowd\": 0}\n",
    "\n",
    "\n",
    "#         training_bbox_images.append(new_img_json)\n",
    "#         training_bbox_annotations.append(new_img_annotations)\n",
    "#     else:\n",
    "\n",
    "#         src = os.path.join(training_set_temp, \"{file_name}.png\".format(file_name = shuffle_index[i]))\n",
    "#         dst = os.path.join(test_set, \"{file_name}.png\".format(file_name = test_index))\n",
    "#         os.rename(src, dst)\n",
    "\n",
    "#         new_img_json = { \"id\" : test_index, \"width\": 540, \"height\": 900, \"file_name\": \"{file_name}.png\".format(file_name = test_index), \"license\": 0 }\n",
    "#         new_img_annotations = {\"image_id\":test_index, \"bbox\":bbox[\"annotations\"][shuffle_index[i]][\"bbox\"], \"category_id\":1, \"id\":test_index, \"area\":bbox[\"annotations\"][shuffle_index[i]][\"area\"],\"id\":i, \"iscrowd\": 0}\n",
    "\n",
    "        \n",
    "#         test_bbox_images.append(new_img_json)\n",
    "#         test_bbox_annotations.append(new_img_annotations)\n",
    "#         test_index += 1\n",
    "    \n",
    "# bbox[\"images\"] = training_bbox_images\n",
    "# bbox[\"annotations\"] = training_bbox_annotations\n",
    "# with open(os.path.join(training_set_json,\"training.json\"), \"w\") as training:\n",
    "#     json.dump(bbox, training, indent = 4)\n",
    "\n",
    "# bbox[\"images\"] = test_bbox_images\n",
    "# bbox[\"annotations\"] = test_bbox_annotations\n",
    "# with open(os.path.join(test_set_json,\"test.json\"), \"w\") as test:\n",
    "#     json.dump(bbox, test, indent = 4)\n",
    "\n",
    "    "
   ]
  },
  {
   "cell_type": "code",
   "execution_count": null,
   "id": "becda95f",
   "metadata": {},
   "outputs": [],
   "source": []
  },
  {
   "cell_type": "code",
   "execution_count": null,
   "id": "3c026437",
   "metadata": {},
   "outputs": [],
   "source": []
  }
 ],
 "metadata": {
  "kernelspec": {
   "display_name": "Python 3 (ipykernel)",
   "language": "python",
   "name": "python3"
  },
  "language_info": {
   "codemirror_mode": {
    "name": "ipython",
    "version": 3
   },
   "file_extension": ".py",
   "mimetype": "text/x-python",
   "name": "python",
   "nbconvert_exporter": "python",
   "pygments_lexer": "ipython3",
   "version": "3.7.16"
  }
 },
 "nbformat": 4,
 "nbformat_minor": 5
}
